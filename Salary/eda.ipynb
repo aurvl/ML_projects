{
 "cells": [
  {
   "cell_type": "markdown",
   "metadata": {},
   "source": [
    "# **Explanatory Data Analysis**"
   ]
  },
  {
   "cell_type": "markdown",
   "metadata": {},
   "source": [
    "## Librairies & dataset"
   ]
  },
  {
   "cell_type": "code",
   "execution_count": 27,
   "metadata": {},
   "outputs": [],
   "source": [
    "import pandas as pd\n",
    "import matplotlib.pyplot as plt\n",
    "from matplotlib.patches import Patch\n",
    "import plotly.express as px\n",
    "import geopandas as gpd\n",
    "from wordcloud import WordCloud\n",
    "from collections import Counter\n",
    "target = 'salary_in_usd'"
   ]
  },
  {
   "cell_type": "code",
   "execution_count": 28,
   "metadata": {},
   "outputs": [
    {
     "data": {
      "text/html": [
       "<div>\n",
       "<style scoped>\n",
       "    .dataframe tbody tr th:only-of-type {\n",
       "        vertical-align: middle;\n",
       "    }\n",
       "\n",
       "    .dataframe tbody tr th {\n",
       "        vertical-align: top;\n",
       "    }\n",
       "\n",
       "    .dataframe thead th {\n",
       "        text-align: right;\n",
       "    }\n",
       "</style>\n",
       "<table border=\"1\" class=\"dataframe\">\n",
       "  <thead>\n",
       "    <tr style=\"text-align: right;\">\n",
       "      <th></th>\n",
       "      <th>work_year</th>\n",
       "      <th>experience_level</th>\n",
       "      <th>employment_type</th>\n",
       "      <th>job_title</th>\n",
       "      <th>salary_in_usd</th>\n",
       "      <th>employee_residence</th>\n",
       "      <th>remote_ratio</th>\n",
       "      <th>company_location</th>\n",
       "      <th>company_size</th>\n",
       "    </tr>\n",
       "  </thead>\n",
       "  <tbody>\n",
       "    <tr>\n",
       "      <th>0</th>\n",
       "      <td>2022</td>\n",
       "      <td>SE</td>\n",
       "      <td>FT</td>\n",
       "      <td>Machine Learning Software Engineer</td>\n",
       "      <td>168000</td>\n",
       "      <td>CA</td>\n",
       "      <td>100</td>\n",
       "      <td>CA</td>\n",
       "      <td>M</td>\n",
       "    </tr>\n",
       "    <tr>\n",
       "      <th>1</th>\n",
       "      <td>2023</td>\n",
       "      <td>SE</td>\n",
       "      <td>FT</td>\n",
       "      <td>Data Analyst</td>\n",
       "      <td>179975</td>\n",
       "      <td>US</td>\n",
       "      <td>100</td>\n",
       "      <td>US</td>\n",
       "      <td>M</td>\n",
       "    </tr>\n",
       "    <tr>\n",
       "      <th>2</th>\n",
       "      <td>2022</td>\n",
       "      <td>SE</td>\n",
       "      <td>FT</td>\n",
       "      <td>Data Scientist</td>\n",
       "      <td>144000</td>\n",
       "      <td>US</td>\n",
       "      <td>100</td>\n",
       "      <td>US</td>\n",
       "      <td>M</td>\n",
       "    </tr>\n",
       "    <tr>\n",
       "      <th>3</th>\n",
       "      <td>2023</td>\n",
       "      <td>SE</td>\n",
       "      <td>FT</td>\n",
       "      <td>Applied Scientist</td>\n",
       "      <td>222200</td>\n",
       "      <td>US</td>\n",
       "      <td>0</td>\n",
       "      <td>US</td>\n",
       "      <td>L</td>\n",
       "    </tr>\n",
       "    <tr>\n",
       "      <th>4</th>\n",
       "      <td>2021</td>\n",
       "      <td>EX</td>\n",
       "      <td>FT</td>\n",
       "      <td>Head of Data</td>\n",
       "      <td>230000</td>\n",
       "      <td>RU</td>\n",
       "      <td>50</td>\n",
       "      <td>RU</td>\n",
       "      <td>L</td>\n",
       "    </tr>\n",
       "  </tbody>\n",
       "</table>\n",
       "</div>"
      ],
      "text/plain": [
       "   work_year experience_level employment_type  \\\n",
       "0       2022               SE              FT   \n",
       "1       2023               SE              FT   \n",
       "2       2022               SE              FT   \n",
       "3       2023               SE              FT   \n",
       "4       2021               EX              FT   \n",
       "\n",
       "                            job_title  salary_in_usd employee_residence  \\\n",
       "0  Machine Learning Software Engineer         168000                 CA   \n",
       "1                        Data Analyst         179975                 US   \n",
       "2                      Data Scientist         144000                 US   \n",
       "3                   Applied Scientist         222200                 US   \n",
       "4                        Head of Data         230000                 RU   \n",
       "\n",
       "   remote_ratio company_location company_size  \n",
       "0           100               CA            M  \n",
       "1           100               US            M  \n",
       "2           100               US            M  \n",
       "3             0               US            L  \n",
       "4            50               RU            L  "
      ]
     },
     "execution_count": 28,
     "metadata": {},
     "output_type": "execute_result"
    }
   ],
   "source": [
    "data = pd.read_csv('data/training.csv')\n",
    "data.drop(data.columns[0], axis=1, inplace=True)\n",
    "data.head()"
   ]
  },
  {
   "cell_type": "markdown",
   "metadata": {},
   "source": [
    "## Stats descriptives"
   ]
  },
  {
   "cell_type": "code",
   "execution_count": 3,
   "metadata": {},
   "outputs": [
    {
     "name": "stdout",
     "output_type": "stream",
     "text": [
      "<class 'pandas.core.frame.DataFrame'>\n",
      "RangeIndex: 3004 entries, 0 to 3003\n",
      "Data columns (total 9 columns):\n",
      " #   Column              Non-Null Count  Dtype \n",
      "---  ------              --------------  ----- \n",
      " 0   work_year           3004 non-null   int64 \n",
      " 1   experience_level    3004 non-null   object\n",
      " 2   employment_type     3004 non-null   object\n",
      " 3   job_title           3004 non-null   object\n",
      " 4   salary_in_usd       3004 non-null   int64 \n",
      " 5   employee_residence  3004 non-null   object\n",
      " 6   remote_ratio        3004 non-null   int64 \n",
      " 7   company_location    3004 non-null   object\n",
      " 8   company_size        3004 non-null   object\n",
      "dtypes: int64(3), object(6)\n",
      "memory usage: 211.3+ KB\n"
     ]
    }
   ],
   "source": [
    "data.info()"
   ]
  },
  {
   "cell_type": "code",
   "execution_count": 4,
   "metadata": {},
   "outputs": [
    {
     "data": {
      "text/html": [
       "<div>\n",
       "<style scoped>\n",
       "    .dataframe tbody tr th:only-of-type {\n",
       "        vertical-align: middle;\n",
       "    }\n",
       "\n",
       "    .dataframe tbody tr th {\n",
       "        vertical-align: top;\n",
       "    }\n",
       "\n",
       "    .dataframe thead th {\n",
       "        text-align: right;\n",
       "    }\n",
       "</style>\n",
       "<table border=\"1\" class=\"dataframe\">\n",
       "  <thead>\n",
       "    <tr style=\"text-align: right;\">\n",
       "      <th></th>\n",
       "      <th>work_year</th>\n",
       "      <th>experience_level</th>\n",
       "      <th>employment_type</th>\n",
       "      <th>job_title</th>\n",
       "      <th>salary_in_usd</th>\n",
       "      <th>employee_residence</th>\n",
       "      <th>remote_ratio</th>\n",
       "      <th>company_location</th>\n",
       "      <th>company_size</th>\n",
       "    </tr>\n",
       "  </thead>\n",
       "  <tbody>\n",
       "    <tr>\n",
       "      <th>count</th>\n",
       "      <td>3004.000000</td>\n",
       "      <td>3004</td>\n",
       "      <td>3004</td>\n",
       "      <td>3004</td>\n",
       "      <td>3004.000000</td>\n",
       "      <td>3004</td>\n",
       "      <td>3004.000000</td>\n",
       "      <td>3004</td>\n",
       "      <td>3004</td>\n",
       "    </tr>\n",
       "    <tr>\n",
       "      <th>unique</th>\n",
       "      <td>NaN</td>\n",
       "      <td>4</td>\n",
       "      <td>4</td>\n",
       "      <td>88</td>\n",
       "      <td>NaN</td>\n",
       "      <td>64</td>\n",
       "      <td>NaN</td>\n",
       "      <td>61</td>\n",
       "      <td>3</td>\n",
       "    </tr>\n",
       "    <tr>\n",
       "      <th>top</th>\n",
       "      <td>NaN</td>\n",
       "      <td>SE</td>\n",
       "      <td>FT</td>\n",
       "      <td>Data Engineer</td>\n",
       "      <td>NaN</td>\n",
       "      <td>US</td>\n",
       "      <td>NaN</td>\n",
       "      <td>US</td>\n",
       "      <td>M</td>\n",
       "    </tr>\n",
       "    <tr>\n",
       "      <th>freq</th>\n",
       "      <td>NaN</td>\n",
       "      <td>2033</td>\n",
       "      <td>2976</td>\n",
       "      <td>826</td>\n",
       "      <td>NaN</td>\n",
       "      <td>2409</td>\n",
       "      <td>NaN</td>\n",
       "      <td>2433</td>\n",
       "      <td>2532</td>\n",
       "    </tr>\n",
       "    <tr>\n",
       "      <th>mean</th>\n",
       "      <td>2022.382823</td>\n",
       "      <td>NaN</td>\n",
       "      <td>NaN</td>\n",
       "      <td>NaN</td>\n",
       "      <td>138602.813582</td>\n",
       "      <td>NaN</td>\n",
       "      <td>45.689081</td>\n",
       "      <td>NaN</td>\n",
       "      <td>NaN</td>\n",
       "    </tr>\n",
       "    <tr>\n",
       "      <th>std</th>\n",
       "      <td>0.684190</td>\n",
       "      <td>NaN</td>\n",
       "      <td>NaN</td>\n",
       "      <td>NaN</td>\n",
       "      <td>63171.062152</td>\n",
       "      <td>NaN</td>\n",
       "      <td>48.595573</td>\n",
       "      <td>NaN</td>\n",
       "      <td>NaN</td>\n",
       "    </tr>\n",
       "    <tr>\n",
       "      <th>min</th>\n",
       "      <td>2020.000000</td>\n",
       "      <td>NaN</td>\n",
       "      <td>NaN</td>\n",
       "      <td>NaN</td>\n",
       "      <td>5132.000000</td>\n",
       "      <td>NaN</td>\n",
       "      <td>0.000000</td>\n",
       "      <td>NaN</td>\n",
       "      <td>NaN</td>\n",
       "    </tr>\n",
       "    <tr>\n",
       "      <th>25%</th>\n",
       "      <td>2022.000000</td>\n",
       "      <td>NaN</td>\n",
       "      <td>NaN</td>\n",
       "      <td>NaN</td>\n",
       "      <td>97687.500000</td>\n",
       "      <td>NaN</td>\n",
       "      <td>0.000000</td>\n",
       "      <td>NaN</td>\n",
       "      <td>NaN</td>\n",
       "    </tr>\n",
       "    <tr>\n",
       "      <th>50%</th>\n",
       "      <td>2022.000000</td>\n",
       "      <td>NaN</td>\n",
       "      <td>NaN</td>\n",
       "      <td>NaN</td>\n",
       "      <td>135000.000000</td>\n",
       "      <td>NaN</td>\n",
       "      <td>0.000000</td>\n",
       "      <td>NaN</td>\n",
       "      <td>NaN</td>\n",
       "    </tr>\n",
       "    <tr>\n",
       "      <th>75%</th>\n",
       "      <td>2023.000000</td>\n",
       "      <td>NaN</td>\n",
       "      <td>NaN</td>\n",
       "      <td>NaN</td>\n",
       "      <td>175000.000000</td>\n",
       "      <td>NaN</td>\n",
       "      <td>100.000000</td>\n",
       "      <td>NaN</td>\n",
       "      <td>NaN</td>\n",
       "    </tr>\n",
       "    <tr>\n",
       "      <th>max</th>\n",
       "      <td>2023.000000</td>\n",
       "      <td>NaN</td>\n",
       "      <td>NaN</td>\n",
       "      <td>NaN</td>\n",
       "      <td>450000.000000</td>\n",
       "      <td>NaN</td>\n",
       "      <td>100.000000</td>\n",
       "      <td>NaN</td>\n",
       "      <td>NaN</td>\n",
       "    </tr>\n",
       "  </tbody>\n",
       "</table>\n",
       "</div>"
      ],
      "text/plain": [
       "          work_year experience_level employment_type      job_title  \\\n",
       "count   3004.000000             3004            3004           3004   \n",
       "unique          NaN                4               4             88   \n",
       "top             NaN               SE              FT  Data Engineer   \n",
       "freq            NaN             2033            2976            826   \n",
       "mean    2022.382823              NaN             NaN            NaN   \n",
       "std        0.684190              NaN             NaN            NaN   \n",
       "min     2020.000000              NaN             NaN            NaN   \n",
       "25%     2022.000000              NaN             NaN            NaN   \n",
       "50%     2022.000000              NaN             NaN            NaN   \n",
       "75%     2023.000000              NaN             NaN            NaN   \n",
       "max     2023.000000              NaN             NaN            NaN   \n",
       "\n",
       "        salary_in_usd employee_residence  remote_ratio company_location  \\\n",
       "count     3004.000000               3004   3004.000000             3004   \n",
       "unique            NaN                 64           NaN               61   \n",
       "top               NaN                 US           NaN               US   \n",
       "freq              NaN               2409           NaN             2433   \n",
       "mean    138602.813582                NaN     45.689081              NaN   \n",
       "std      63171.062152                NaN     48.595573              NaN   \n",
       "min       5132.000000                NaN      0.000000              NaN   \n",
       "25%      97687.500000                NaN      0.000000              NaN   \n",
       "50%     135000.000000                NaN      0.000000              NaN   \n",
       "75%     175000.000000                NaN    100.000000              NaN   \n",
       "max     450000.000000                NaN    100.000000              NaN   \n",
       "\n",
       "       company_size  \n",
       "count          3004  \n",
       "unique            3  \n",
       "top               M  \n",
       "freq           2532  \n",
       "mean            NaN  \n",
       "std             NaN  \n",
       "min             NaN  \n",
       "25%             NaN  \n",
       "50%             NaN  \n",
       "75%             NaN  \n",
       "max             NaN  "
      ]
     },
     "execution_count": 4,
     "metadata": {},
     "output_type": "execute_result"
    }
   ],
   "source": [
    "data.describe(include='all')"
   ]
  },
  {
   "cell_type": "code",
   "execution_count": 5,
   "metadata": {},
   "outputs": [],
   "source": [
    "num = data.select_dtypes(include=['float64']).copy()\n",
    "cat = data.select_dtypes(include=['bool', 'object']).copy()"
   ]
  },
  {
   "cell_type": "code",
   "execution_count": 6,
   "metadata": {},
   "outputs": [
    {
     "name": "stdout",
     "output_type": "stream",
     "text": [
      "work_year\n",
      "[2022 2023 2021 2020]\n",
      "\n",
      "\n",
      "experience_level\n",
      "['SE' 'EX' 'EN' 'MI']\n",
      "\n",
      "\n",
      "employment_type\n",
      "['FT' 'PT' 'FL' 'CT']\n",
      "\n",
      "\n",
      "job_title\n",
      "['Machine Learning Software Engineer' 'Data Analyst' 'Data Scientist'\n",
      " 'Applied Scientist' 'Head of Data' 'Applied Data Scientist'\n",
      " 'Machine Learning Engineer' 'ETL Developer' 'Data Engineer'\n",
      " 'Data Architect' 'Computer Vision Engineer' 'Data Science Manager'\n",
      " 'Analytics Engineer' 'Machine Learning Scientist'\n",
      " 'Data Analytics Manager' 'Power BI Developer' 'Research Scientist'\n",
      " 'Applied Machine Learning Engineer' 'Big Data Engineer'\n",
      " 'Machine Learning Developer' 'Product Data Analyst' 'AI Scientist'\n",
      " 'Head of Data Science' 'MLOps Engineer' 'ML Engineer'\n",
      " 'Data Science Consultant' 'Research Engineer' 'Data Operations Analyst'\n",
      " 'Data Scientist Lead' 'Data Science Lead' 'BI Analyst'\n",
      " 'Data Analytics Engineer' 'Machine Learning Infrastructure Engineer'\n",
      " 'Business Intelligence Engineer' 'Data Specialist'\n",
      " 'Computer Vision Software Engineer' 'ETL Engineer'\n",
      " 'Autonomous Vehicle Technician' 'BI Data Analyst' 'Data Manager'\n",
      " 'Director of Data Science' 'Financial Data Analyst'\n",
      " 'Data Infrastructure Engineer' 'Data Science Engineer'\n",
      " '3D Computer Vision Researcher' 'Staff Data Analyst'\n",
      " 'Deep Learning Researcher' 'Product Data Scientist'\n",
      " 'Machine Learning Researcher' 'Applied Machine Learning Scientist'\n",
      " 'Data Strategist' 'Business Data Analyst' 'Lead Data Scientist'\n",
      " 'AI Programmer' 'BI Developer' 'Deep Learning Engineer'\n",
      " 'Cloud Database Engineer' 'Data Science Tech Lead' 'Lead Data Engineer'\n",
      " 'AI Developer' 'Machine Learning Manager' 'Principal Data Scientist'\n",
      " 'Data Operations Engineer' 'Head of Machine Learning' 'NLP Engineer'\n",
      " 'Azure Data Engineer' 'Data Quality Analyst' 'Principal Data Analyst'\n",
      " 'Marketing Data Analyst' 'Marketing Data Engineer' 'Big Data Architect'\n",
      " 'Principal Data Architect' 'Insight Analyst'\n",
      " 'Lead Machine Learning Engineer' 'Data Lead' 'Software Data Engineer'\n",
      " 'Lead Data Analyst' 'Finance Data Analyst' 'Data Management Specialist'\n",
      " 'Data Analytics Consultant' 'Data Modeler' 'Data Analytics Lead'\n",
      " 'Data Analytics Specialist' 'Staff Data Scientist'\n",
      " 'Machine Learning Research Engineer'\n",
      " 'Principal Machine Learning Engineer' 'Cloud Data Architect'\n",
      " 'Compliance Data Analyst']\n",
      "\n",
      "\n",
      "salary_in_usd\n",
      "[168000 179975 144000 222200 230000  40000 105000 100000  29751 153090\n",
      "  52533 115000 128000  30523 128500  92000 160000 210000 153400 140000\n",
      "  99050 259000 200000 134236 170000 120250  54094 145000 143860 138000\n",
      " 216000  61300  42197   5409  10000 180180 188100 150000 130000 161311\n",
      " 205600  76814 102100  83500  68293   6072  50000 370000  99450 257000\n",
      " 109000 155000 160288  90700  40777 165000 180000 175000 134000 205300\n",
      "  75000 130760  98200 280700 195000  92250  67723 120000  89306  77684\n",
      " 220000 120402 121523 153000  65000  92700 304000 185800 110000 247500\n",
      "  12000 104500  98506 195400  90000 123400 135000 148500 252000 106020\n",
      "  54634 136000 109371 205000  95000  80000 247300  46178 183500 269600\n",
      "  62726 185000 198440  28369  63000 173000 208450 116100 169000 185900\n",
      " 260000 218500  99000 156400  76958 102500 112300 138750  66000  72914\n",
      "   5723  55000 239748 299500 116250  85066 137500 258000  45555 163800\n",
      " 122500   8050 342810 245100 190000 106000 142200 118000 102544 353200\n",
      "  94000 192564 167100 104611 225000 207000 143000 126000 176100 115360\n",
      "  60000 121500 147000 241871  41689 186000 129000  73880 152000  40663\n",
      "  52008 385000 112900  79000 125976 133300  70000  85000 131000 129400\n",
      " 156600 113750  48289 180560 125000  84000 104663  20000 154000 250000\n",
      "  79833 323300 187000 122600  51508 221484 137141  15000 123405 138784\n",
      " 141525 127000 240500  57872  61566   8000 128280 138900 165220 297300\n",
      " 178500  87000 139000 226700  25000 107250 131300 203500  90734 113900\n",
      "  78000 204500 258750 280100 167500  73546 255000 115573  82528 110820\n",
      "  42026   6359  31795  47280 214200 241000 194500 110925 270703 138600\n",
      "  72000 153600  85847 110500 102772 109400 175308  20670 198800  46000\n",
      " 228000 236900  92350 129300  85500 206699 213120 125600  84053  12888\n",
      " 193750 115100 116704 243225  29944 181000  36773  70500 103691 127500\n",
      "  65062 139500  49268 215000 235000  90320  82000 105200 122700 132320\n",
      "  59020 130800  86193 184700 115092  45600  49253 176000 149600 143200\n",
      " 206000  51000  94500 375000  84900 174000 106900 161000 116150 197000\n",
      "   7000 127221 177000 288000 203000 149850  54000 107309  64385 189650\n",
      "  28016 249500  81666 227000 151800 170550 275300 249300 140250 300000\n",
      "  37824 166000 293000  37558  97750  99100  69741 139860  27317 127075\n",
      " 113000 262500  45050 146000 122000 172200 174500  61800  68318 117000\n",
      " 214000 276000  94665  38631 141288  78990  59102 109280 106500  54685\n",
      "  35093 141846 108000  33000 147100  17022 191475 182500  72946 140700\n",
      " 236000 106800 121700  82920 178750 113476 104000  75648 116450 256000\n",
      "  46759 208049 237000  58000  39925 104650  51716 106250 164996 216200\n",
      " 430967  60400 208000 221000 219000  82280  58331  83171  95746 145885\n",
      " 110680  21669  63040 202800 245000 201450 105700 253200  24000 105500\n",
      "  48000 145900 189110 212800  67597 160080  80036 423834  42533 275000\n",
      "   9466  33511  61200  54742 227200 183600 423000  17805 119059  81500\n",
      " 115934 121600  59888 150900 193000  76309 195700 159100  69133  93800\n",
      " 300240 222640 159000 124234  75020 116000 291500 115500  62000  51081\n",
      " 262000 127599 148750 188700 183000   9272 114047 103432 154600  55800\n",
      " 136600  64980 149040 142127  57000 184000  82744  69000 132000 185100\n",
      " 136994  74178 112872 167875 119300  82365   7799  50180 167580 112000\n",
      " 134500 175100 102839 213580 224000 172386  18314 162500 242000 243900\n",
      "  79197 286000  60761 135446 110600 168400 149500  20171  70186  88654\n",
      " 162000 119000  22611  89200 191765 128750  53368 350000 158677 118208\n",
      " 107000  77364 250500 195895 101228 123648 146200  98000 123900  24823\n",
      " 261500 193500  74130 143100  75050  66970 188000 132300  99703  45390\n",
      " 187500 229998 136620 193900  10354  45760  76833  70139  74000  48609\n",
      " 148700 164000  75116  76000 289800 104300  38154 110037 121904 340000\n",
      " 201000 114000  97000  50432  51039 309400  42028  69751 231250  20984\n",
      " 124190 138938 125686 310000 177500  83864 140400   5882 110446 284310\n",
      " 240000 133200  82900 202353  77262  51519 124000  31520  52500 172000\n",
      "  45896  49646  75774 124740 154545  80481 290000  69344 144854  13000\n",
      "  29453 195800  13400 200160 265000 376080  56256 220110 253750 202900\n",
      " 179305  60795  77300 104890 125404  94192 178800 183310 160395 198000\n",
      " 161800 123000  24165  55410 318300 138350 109024 159832  83270 126100\n",
      " 171250   5707 105236 144100  87980 182160  96578 106260  60093 158000\n",
      " 141300   5679 210914 107500 123700 232200  36940 152500  30428 152380\n",
      " 270000  12901 324000 222000  96282  81000  91118 246000  33246 137400\n",
      "  40570 216100  65666  56100  88100 170730 151902  94564  93000  97218\n",
      "  30000 133800 199000  51321  43096 179000 412000 133832 141600  30469\n",
      " 186300 102640 117100  54365 219535  63192  80041 190200  65257  71786\n",
      " 126500 120600 214618  53654 149076 182000 133766  16414 149000  57723\n",
      " 157000 103200  74540 201036  40038  83000 239000   9727 100500  37825\n",
      "  96100  61896 139600  96000 146115  73900 142000  34672 104697 205920\n",
      " 148800 126080 128875 213660 229000  33808  66531 100800 158200 181940\n",
      "  38000 102000 172800 141000  64000 179170  79178 283200 136260  21013\n",
      "  28609 345600 121093 159200 269000 171000 148261 189750 101943 289076\n",
      "   5132  17684 165750  95550 151000  63831 315000 124270 109006  93700\n",
      " 105066  43809 161342 130050 198200 103160  15806 209450  60938  12877\n",
      " 111000  64200 147800 215050  46597 103000  67141 249260 105380 150260\n",
      " 187200  25500  15897 199098 182750 136956  56723  42000  66837  56000\n",
      "  68428  17779 136100 450000 223250  16904 105400  66022 179820  18238\n",
      "  93150  40189 161500 130001 211500  65488 108800  12767 156868 111775\n",
      " 215300  72200 120160 209100 416000 217000 155850 405000  87738  23000\n",
      " 175950 191200 179775 192500 134760  46809  91237  82500  45391  91000\n",
      "  95386  36000  67000 159500 192000 210550 171600 203100 188800  51753\n",
      " 248100 209300 192400 188500 203300  51064 196000 150450 148000 115447\n",
      "  28368 204100 132100 157750  21844 119500  71897  73742  15966  65013\n",
      "  36643 150075 167000  94560  72500 153088 218000 178600 182200  65141\n",
      "  58837 169200 200100 140800  63810  35735  53416  47899 168100  96113\n",
      " 272550 145828  97500 153667 166700 206500 133000 248700 102663 172600\n",
      " 280000 329500 122900 116976  22800 155499 173762 179400  19609 221300\n",
      " 192600 170500 151410 123600  28399  93918  94300 184100 172309 189500\n",
      " 231500 100706 136850 204620 194000 297500 284000  18053 102200  66265\n",
      "  64090  66100  88256  55685  68400 285800 243000 223800 140100 130240\n",
      " 172500  60757 380000  35610  99750 272000 156000 127467 314100  17509\n",
      " 163625  63900  59303   7500 197430 342300 103294 153300 124500]\n",
      "\n",
      "\n",
      "employee_residence\n",
      "['CA' 'US' 'RU' 'AU' 'IN' 'GR' 'GB' 'PR' 'FR' 'NG' 'JE' 'IE' 'ES' 'AT'\n",
      " 'CH' 'MX' 'NL' 'HR' 'MT' 'AS' 'JP' 'BE' 'BR' 'DE' 'PT' 'CO' 'DO' 'PK'\n",
      " 'TH' 'HK' 'GH' 'TR' 'UA' 'AR' 'LV' 'UZ' 'CF' 'IT' 'AE' 'BO' 'IL' 'SG'\n",
      " 'FI' 'KE' 'PL' 'NZ' 'SI' 'VN' 'PH' 'RO' 'SE' 'LT' 'DK' 'CN' 'ID' 'TN'\n",
      " 'CL' 'CZ' 'HU' 'HN' 'MA' 'EG' 'MY' 'KW']\n",
      "\n",
      "\n",
      "remote_ratio\n",
      "[100   0  50]\n",
      "\n",
      "\n",
      "company_location\n",
      "['CA' 'US' 'RU' 'PK' 'IN' 'GR' 'GB' 'PR' 'FR' 'NG' 'CN' 'IE' 'ES' 'AT'\n",
      " 'CH' 'NL' 'HR' 'LU' 'MT' 'AU' 'BS' 'JP' 'BE' 'DE' 'AS' 'SG' 'MX' 'PT'\n",
      " 'CO' 'TH' 'HK' 'GH' 'TR' 'UA' 'FI' 'LV' 'CF' 'AE' 'IT' 'IL' 'BR' 'CR'\n",
      " 'KE' 'NZ' 'SI' 'MY' 'DK' 'RO' 'SE' 'LT' 'AR' 'AL' 'ID' 'CZ' 'CL' 'HU'\n",
      " 'PL' 'HN' 'MA' 'EG' 'BO']\n",
      "\n",
      "\n",
      "company_size\n",
      "['M' 'L' 'S']\n",
      "\n",
      "\n"
     ]
    }
   ],
   "source": [
    "for i in data.columns:\n",
    "    print(i)\n",
    "    print(data[i].unique())\n",
    "    print(\"\\n\")"
   ]
  },
  {
   "cell_type": "markdown",
   "metadata": {},
   "source": [
    "## Visualization"
   ]
  },
  {
   "cell_type": "code",
   "execution_count": 7,
   "metadata": {},
   "outputs": [
    {
     "data": {
      "text/plain": [
       "Index(['work_year', 'experience_level', 'employment_type', 'job_title',\n",
       "       'salary_in_usd', 'employee_residence', 'remote_ratio',\n",
       "       'company_location', 'company_size'],\n",
       "      dtype='object')"
      ]
     },
     "execution_count": 7,
     "metadata": {},
     "output_type": "execute_result"
    }
   ],
   "source": [
    "data.columns"
   ]
  },
  {
   "cell_type": "code",
   "execution_count": 8,
   "metadata": {},
   "outputs": [
    {
     "data": {
      "application/vnd.plotly.v1+json": {
       "config": {
        "plotlyServerURL": "https://plot.ly"
       },
       "data": [
        {
         "alignmentgroup": "True",
         "hovertemplate": "company_size=%{x}<br>salary_in_usd=%{y}<extra></extra>",
         "legendgroup": "M",
         "marker": {
          "color": "#636efa"
         },
         "name": "M",
         "notched": false,
         "offsetgroup": "M",
         "orientation": "v",
         "showlegend": true,
         "type": "box",
         "x": [
          "M",
          "M",
          "M",
          "M",
          "M",
          "M",
          "M",
          "M",
          "M",
          "M",
          "M",
          "M",
          "M",
          "M",
          "M",
          "M",
          "M",
          "M",
          "M",
          "M",
          "M",
          "M",
          "M",
          "M",
          "M",
          "M",
          "M",
          "M",
          "M",
          "M",
          "M",
          "M",
          "M",
          "M",
          "M",
          "M",
          "M",
          "M",
          "M",
          "M",
          "M",
          "M",
          "M",
          "M",
          "M",
          "M",
          "M",
          "M",
          "M",
          "M",
          "M",
          "M",
          "M",
          "M",
          "M",
          "M",
          "M",
          "M",
          "M",
          "M",
          "M",
          "M",
          "M",
          "M",
          "M",
          "M",
          "M",
          "M",
          "M",
          "M",
          "M",
          "M",
          "M",
          "M",
          "M",
          "M",
          "M",
          "M",
          "M",
          "M",
          "M",
          "M",
          "M",
          "M",
          "M",
          "M",
          "M",
          "M",
          "M",
          "M",
          "M",
          "M",
          "M",
          "M",
          "M",
          "M",
          "M",
          "M",
          "M",
          "M",
          "M",
          "M",
          "M",
          "M",
          "M",
          "M",
          "M",
          "M",
          "M",
          "M",
          "M",
          "M",
          "M",
          "M",
          "M",
          "M",
          "M",
          "M",
          "M",
          "M",
          "M",
          "M",
          "M",
          "M",
          "M",
          "M",
          "M",
          "M",
          "M",
          "M",
          "M",
          "M",
          "M",
          "M",
          "M",
          "M",
          "M",
          "M",
          "M",
          "M",
          "M",
          "M",
          "M",
          "M",
          "M",
          "M",
          "M",
          "M",
          "M",
          "M",
          "M",
          "M",
          "M",
          "M",
          "M",
          "M",
          "M",
          "M",
          "M",
          "M",
          "M",
          "M",
          "M",
          "M",
          "M",
          "M",
          "M",
          "M",
          "M",
          "M",
          "M",
          "M",
          "M",
          "M",
          "M",
          "M",
          "M",
          "M",
          "M",
          "M",
          "M",
          "M",
          "M",
          "M",
          "M",
          "M",
          "M",
          "M",
          "M",
          "M",
          "M",
          "M",
          "M",
          "M",
          "M",
          "M",
          "M",
          "M",
          "M",
          "M",
          "M",
          "M",
          "M",
          "M",
          "M",
          "M",
          "M",
          "M",
          "M",
          "M",
          "M",
          "M",
          "M",
          "M",
          "M",
          "M",
          "M",
          "M",
          "M",
          "M",
          "M",
          "M",
          "M",
          "M",
          "M",
          "M",
          "M",
          "M",
          "M",
          "M",
          "M",
          "M",
          "M",
          "M",
          "M",
          "M",
          "M",
          "M",
          "M",
          "M",
          "M",
          "M",
          "M",
          "M",
          "M",
          "M",
          "M",
          "M",
          "M",
          "M",
          "M",
          "M",
          "M",
          "M",
          "M",
          "M",
          "M",
          "M",
          "M",
          "M",
          "M",
          "M",
          "M",
          "M",
          "M",
          "M",
          "M",
          "M",
          "M",
          "M",
          "M",
          "M",
          "M",
          "M",
          "M",
          "M",
          "M",
          "M",
          "M",
          "M",
          "M",
          "M",
          "M",
          "M",
          "M",
          "M",
          "M",
          "M",
          "M",
          "M",
          "M",
          "M",
          "M",
          "M",
          "M",
          "M",
          "M",
          "M",
          "M",
          "M",
          "M",
          "M",
          "M",
          "M",
          "M",
          "M",
          "M",
          "M",
          "M",
          "M",
          "M",
          "M",
          "M",
          "M",
          "M",
          "M",
          "M",
          "M",
          "M",
          "M",
          "M",
          "M",
          "M",
          "M",
          "M",
          "M",
          "M",
          "M",
          "M",
          "M",
          "M",
          "M",
          "M",
          "M",
          "M",
          "M",
          "M",
          "M",
          "M",
          "M",
          "M",
          "M",
          "M",
          "M",
          "M",
          "M",
          "M",
          "M",
          "M",
          "M",
          "M",
          "M",
          "M",
          "M",
          "M",
          "M",
          "M",
          "M",
          "M",
          "M",
          "M",
          "M",
          "M",
          "M",
          "M",
          "M",
          "M",
          "M",
          "M",
          "M",
          "M",
          "M",
          "M",
          "M",
          "M",
          "M",
          "M",
          "M",
          "M",
          "M",
          "M",
          "M",
          "M",
          "M",
          "M",
          "M",
          "M",
          "M",
          "M",
          "M",
          "M",
          "M",
          "M",
          "M",
          "M",
          "M",
          "M",
          "M",
          "M",
          "M",
          "M",
          "M",
          "M",
          "M",
          "M",
          "M",
          "M",
          "M",
          "M",
          "M",
          "M",
          "M",
          "M",
          "M",
          "M",
          "M",
          "M",
          "M",
          "M",
          "M",
          "M",
          "M",
          "M",
          "M",
          "M",
          "M",
          "M",
          "M",
          "M",
          "M",
          "M",
          "M",
          "M",
          "M",
          "M",
          "M",
          "M",
          "M",
          "M",
          "M",
          "M",
          "M",
          "M",
          "M",
          "M",
          "M",
          "M",
          "M",
          "M",
          "M",
          "M",
          "M",
          "M",
          "M",
          "M",
          "M",
          "M",
          "M",
          "M",
          "M",
          "M",
          "M",
          "M",
          "M",
          "M",
          "M",
          "M",
          "M",
          "M",
          "M",
          "M",
          "M",
          "M",
          "M",
          "M",
          "M",
          "M",
          "M",
          "M",
          "M",
          "M",
          "M",
          "M",
          "M",
          "M",
          "M",
          "M",
          "M",
          "M",
          "M",
          "M",
          "M",
          "M",
          "M",
          "M",
          "M",
          "M",
          "M",
          "M",
          "M",
          "M",
          "M",
          "M",
          "M",
          "M",
          "M",
          "M",
          "M",
          "M",
          "M",
          "M",
          "M",
          "M",
          "M",
          "M",
          "M",
          "M",
          "M",
          "M",
          "M",
          "M",
          "M",
          "M",
          "M",
          "M",
          "M",
          "M",
          "M",
          "M",
          "M",
          "M",
          "M",
          "M",
          "M",
          "M",
          "M",
          "M",
          "M",
          "M",
          "M",
          "M",
          "M",
          "M",
          "M",
          "M",
          "M",
          "M",
          "M",
          "M",
          "M",
          "M",
          "M",
          "M",
          "M",
          "M",
          "M",
          "M",
          "M",
          "M",
          "M",
          "M",
          "M",
          "M",
          "M",
          "M",
          "M",
          "M",
          "M",
          "M",
          "M",
          "M",
          "M",
          "M",
          "M",
          "M",
          "M",
          "M",
          "M",
          "M",
          "M",
          "M",
          "M",
          "M",
          "M",
          "M",
          "M",
          "M",
          "M",
          "M",
          "M",
          "M",
          "M",
          "M",
          "M",
          "M",
          "M",
          "M",
          "M",
          "M",
          "M",
          "M",
          "M",
          "M",
          "M",
          "M",
          "M",
          "M",
          "M",
          "M",
          "M",
          "M",
          "M",
          "M",
          "M",
          "M",
          "M",
          "M",
          "M",
          "M",
          "M",
          "M",
          "M",
          "M",
          "M",
          "M",
          "M",
          "M",
          "M",
          "M",
          "M",
          "M",
          "M",
          "M",
          "M",
          "M",
          "M",
          "M",
          "M",
          "M",
          "M",
          "M",
          "M",
          "M",
          "M",
          "M",
          "M",
          "M",
          "M",
          "M",
          "M",
          "M",
          "M",
          "M",
          "M",
          "M",
          "M",
          "M",
          "M",
          "M",
          "M",
          "M",
          "M",
          "M",
          "M",
          "M",
          "M",
          "M",
          "M",
          "M",
          "M",
          "M",
          "M",
          "M",
          "M",
          "M",
          "M",
          "M",
          "M",
          "M",
          "M",
          "M",
          "M",
          "M",
          "M",
          "M",
          "M",
          "M",
          "M",
          "M",
          "M",
          "M",
          "M",
          "M",
          "M",
          "M",
          "M",
          "M",
          "M",
          "M",
          "M",
          "M",
          "M",
          "M",
          "M",
          "M",
          "M",
          "M",
          "M",
          "M",
          "M",
          "M",
          "M",
          "M",
          "M",
          "M",
          "M",
          "M",
          "M",
          "M",
          "M",
          "M",
          "M",
          "M",
          "M",
          "M",
          "M",
          "M",
          "M",
          "M",
          "M",
          "M",
          "M",
          "M",
          "M",
          "M",
          "M",
          "M",
          "M",
          "M",
          "M",
          "M",
          "M",
          "M",
          "M",
          "M",
          "M",
          "M",
          "M",
          "M",
          "M",
          "M",
          "M",
          "M",
          "M",
          "M",
          "M",
          "M",
          "M",
          "M",
          "M",
          "M",
          "M",
          "M",
          "M",
          "M",
          "M",
          "M",
          "M",
          "M",
          "M",
          "M",
          "M",
          "M",
          "M",
          "M",
          "M",
          "M",
          "M",
          "M",
          "M",
          "M",
          "M",
          "M",
          "M",
          "M",
          "M",
          "M",
          "M",
          "M",
          "M",
          "M",
          "M",
          "M",
          "M",
          "M",
          "M",
          "M",
          "M",
          "M",
          "M",
          "M",
          "M",
          "M",
          "M",
          "M",
          "M",
          "M",
          "M",
          "M",
          "M",
          "M",
          "M",
          "M",
          "M",
          "M",
          "M",
          "M",
          "M",
          "M",
          "M",
          "M",
          "M",
          "M",
          "M",
          "M",
          "M",
          "M",
          "M",
          "M",
          "M",
          "M",
          "M",
          "M",
          "M",
          "M",
          "M",
          "M",
          "M",
          "M",
          "M",
          "M",
          "M",
          "M",
          "M",
          "M",
          "M",
          "M",
          "M",
          "M",
          "M",
          "M",
          "M",
          "M",
          "M",
          "M",
          "M",
          "M",
          "M",
          "M",
          "M",
          "M",
          "M",
          "M",
          "M",
          "M",
          "M",
          "M",
          "M",
          "M",
          "M",
          "M",
          "M",
          "M",
          "M",
          "M",
          "M",
          "M",
          "M",
          "M",
          "M",
          "M",
          "M",
          "M",
          "M",
          "M",
          "M",
          "M",
          "M",
          "M",
          "M",
          "M",
          "M",
          "M",
          "M",
          "M",
          "M",
          "M",
          "M",
          "M",
          "M",
          "M",
          "M",
          "M",
          "M",
          "M",
          "M",
          "M",
          "M",
          "M",
          "M",
          "M",
          "M",
          "M",
          "M",
          "M",
          "M",
          "M",
          "M",
          "M",
          "M",
          "M",
          "M",
          "M",
          "M",
          "M",
          "M",
          "M",
          "M",
          "M",
          "M",
          "M",
          "M",
          "M",
          "M",
          "M",
          "M",
          "M",
          "M",
          "M",
          "M",
          "M",
          "M",
          "M",
          "M",
          "M",
          "M",
          "M",
          "M",
          "M",
          "M",
          "M",
          "M",
          "M",
          "M",
          "M",
          "M",
          "M",
          "M",
          "M",
          "M",
          "M",
          "M",
          "M",
          "M",
          "M",
          "M",
          "M",
          "M",
          "M",
          "M",
          "M",
          "M",
          "M",
          "M",
          "M",
          "M",
          "M",
          "M",
          "M",
          "M",
          "M",
          "M",
          "M",
          "M",
          "M",
          "M",
          "M",
          "M",
          "M",
          "M",
          "M",
          "M",
          "M",
          "M",
          "M",
          "M",
          "M",
          "M",
          "M",
          "M",
          "M",
          "M",
          "M",
          "M",
          "M",
          "M",
          "M",
          "M",
          "M",
          "M",
          "M",
          "M",
          "M",
          "M",
          "M",
          "M",
          "M",
          "M",
          "M",
          "M",
          "M",
          "M",
          "M",
          "M",
          "M",
          "M",
          "M",
          "M",
          "M",
          "M",
          "M",
          "M",
          "M",
          "M",
          "M",
          "M",
          "M",
          "M",
          "M",
          "M",
          "M",
          "M",
          "M",
          "M",
          "M",
          "M",
          "M",
          "M",
          "M",
          "M",
          "M",
          "M",
          "M",
          "M",
          "M",
          "M",
          "M",
          "M",
          "M",
          "M",
          "M",
          "M",
          "M",
          "M",
          "M",
          "M",
          "M",
          "M",
          "M",
          "M",
          "M",
          "M",
          "M",
          "M",
          "M",
          "M",
          "M",
          "M",
          "M",
          "M",
          "M",
          "M",
          "M",
          "M",
          "M",
          "M",
          "M",
          "M",
          "M",
          "M",
          "M",
          "M",
          "M",
          "M",
          "M",
          "M",
          "M",
          "M",
          "M",
          "M",
          "M",
          "M",
          "M",
          "M",
          "M",
          "M",
          "M",
          "M",
          "M",
          "M",
          "M",
          "M",
          "M",
          "M",
          "M",
          "M",
          "M",
          "M",
          "M",
          "M",
          "M",
          "M",
          "M",
          "M",
          "M",
          "M",
          "M",
          "M",
          "M",
          "M",
          "M",
          "M",
          "M",
          "M",
          "M",
          "M",
          "M",
          "M",
          "M",
          "M",
          "M",
          "M",
          "M",
          "M",
          "M",
          "M",
          "M",
          "M",
          "M",
          "M",
          "M",
          "M",
          "M",
          "M",
          "M",
          "M",
          "M",
          "M",
          "M",
          "M",
          "M",
          "M",
          "M",
          "M",
          "M",
          "M",
          "M",
          "M",
          "M",
          "M",
          "M",
          "M",
          "M",
          "M",
          "M",
          "M",
          "M",
          "M",
          "M",
          "M",
          "M",
          "M",
          "M",
          "M",
          "M",
          "M",
          "M",
          "M",
          "M",
          "M",
          "M",
          "M",
          "M",
          "M",
          "M",
          "M",
          "M",
          "M",
          "M",
          "M",
          "M",
          "M",
          "M",
          "M",
          "M",
          "M",
          "M",
          "M",
          "M",
          "M",
          "M",
          "M",
          "M",
          "M",
          "M",
          "M",
          "M",
          "M",
          "M",
          "M",
          "M",
          "M",
          "M",
          "M",
          "M",
          "M",
          "M",
          "M",
          "M",
          "M",
          "M",
          "M",
          "M",
          "M",
          "M",
          "M",
          "M",
          "M",
          "M",
          "M",
          "M",
          "M",
          "M",
          "M",
          "M",
          "M",
          "M",
          "M",
          "M",
          "M",
          "M",
          "M",
          "M",
          "M",
          "M",
          "M",
          "M",
          "M",
          "M",
          "M",
          "M",
          "M",
          "M",
          "M",
          "M",
          "M",
          "M",
          "M",
          "M",
          "M",
          "M",
          "M",
          "M",
          "M",
          "M",
          "M",
          "M",
          "M",
          "M",
          "M",
          "M",
          "M",
          "M",
          "M",
          "M",
          "M",
          "M",
          "M",
          "M",
          "M",
          "M",
          "M",
          "M",
          "M",
          "M",
          "M",
          "M",
          "M",
          "M",
          "M",
          "M",
          "M",
          "M",
          "M",
          "M",
          "M",
          "M",
          "M",
          "M",
          "M",
          "M",
          "M",
          "M",
          "M",
          "M",
          "M",
          "M",
          "M",
          "M",
          "M",
          "M",
          "M",
          "M",
          "M",
          "M",
          "M",
          "M",
          "M",
          "M",
          "M",
          "M",
          "M",
          "M",
          "M",
          "M",
          "M",
          "M",
          "M",
          "M",
          "M",
          "M",
          "M",
          "M",
          "M",
          "M",
          "M",
          "M",
          "M",
          "M",
          "M",
          "M",
          "M",
          "M",
          "M",
          "M",
          "M",
          "M",
          "M",
          "M",
          "M",
          "M",
          "M",
          "M",
          "M",
          "M",
          "M",
          "M",
          "M",
          "M",
          "M",
          "M",
          "M",
          "M",
          "M",
          "M",
          "M",
          "M",
          "M",
          "M",
          "M",
          "M",
          "M",
          "M",
          "M",
          "M",
          "M",
          "M",
          "M",
          "M",
          "M",
          "M",
          "M",
          "M",
          "M",
          "M",
          "M",
          "M",
          "M",
          "M",
          "M",
          "M",
          "M",
          "M",
          "M",
          "M",
          "M",
          "M",
          "M",
          "M",
          "M",
          "M",
          "M",
          "M",
          "M",
          "M",
          "M",
          "M",
          "M",
          "M",
          "M",
          "M",
          "M",
          "M",
          "M",
          "M",
          "M",
          "M",
          "M",
          "M",
          "M",
          "M",
          "M",
          "M",
          "M",
          "M",
          "M",
          "M",
          "M",
          "M",
          "M",
          "M",
          "M",
          "M",
          "M",
          "M",
          "M",
          "M",
          "M",
          "M",
          "M",
          "M",
          "M",
          "M",
          "M",
          "M",
          "M",
          "M",
          "M",
          "M",
          "M",
          "M",
          "M",
          "M",
          "M",
          "M",
          "M",
          "M",
          "M",
          "M",
          "M",
          "M",
          "M",
          "M",
          "M",
          "M",
          "M",
          "M",
          "M",
          "M",
          "M",
          "M",
          "M",
          "M",
          "M",
          "M",
          "M",
          "M",
          "M",
          "M",
          "M",
          "M",
          "M",
          "M",
          "M",
          "M",
          "M",
          "M",
          "M",
          "M",
          "M",
          "M",
          "M",
          "M",
          "M",
          "M",
          "M",
          "M",
          "M",
          "M",
          "M",
          "M",
          "M",
          "M",
          "M",
          "M",
          "M",
          "M",
          "M",
          "M",
          "M",
          "M",
          "M",
          "M",
          "M",
          "M",
          "M",
          "M",
          "M",
          "M",
          "M",
          "M",
          "M",
          "M",
          "M",
          "M",
          "M",
          "M",
          "M",
          "M",
          "M",
          "M",
          "M",
          "M",
          "M",
          "M",
          "M",
          "M",
          "M",
          "M",
          "M",
          "M",
          "M",
          "M",
          "M",
          "M",
          "M",
          "M",
          "M",
          "M",
          "M",
          "M",
          "M",
          "M",
          "M",
          "M",
          "M",
          "M",
          "M",
          "M",
          "M",
          "M",
          "M",
          "M",
          "M",
          "M",
          "M",
          "M",
          "M",
          "M",
          "M",
          "M",
          "M",
          "M",
          "M",
          "M",
          "M",
          "M",
          "M",
          "M",
          "M",
          "M",
          "M",
          "M",
          "M",
          "M",
          "M",
          "M",
          "M",
          "M",
          "M",
          "M",
          "M",
          "M",
          "M",
          "M",
          "M",
          "M",
          "M",
          "M",
          "M",
          "M",
          "M",
          "M",
          "M",
          "M",
          "M",
          "M",
          "M",
          "M",
          "M",
          "M",
          "M",
          "M",
          "M",
          "M",
          "M",
          "M",
          "M",
          "M",
          "M",
          "M",
          "M",
          "M",
          "M",
          "M",
          "M",
          "M",
          "M",
          "M",
          "M",
          "M",
          "M",
          "M",
          "M",
          "M",
          "M",
          "M",
          "M",
          "M",
          "M",
          "M",
          "M",
          "M",
          "M",
          "M",
          "M",
          "M",
          "M",
          "M",
          "M",
          "M",
          "M",
          "M",
          "M",
          "M",
          "M",
          "M",
          "M",
          "M",
          "M",
          "M",
          "M",
          "M",
          "M",
          "M",
          "M",
          "M",
          "M",
          "M",
          "M",
          "M",
          "M",
          "M",
          "M",
          "M",
          "M",
          "M",
          "M",
          "M",
          "M",
          "M",
          "M",
          "M",
          "M",
          "M",
          "M",
          "M",
          "M",
          "M",
          "M",
          "M",
          "M",
          "M",
          "M",
          "M",
          "M",
          "M",
          "M",
          "M",
          "M",
          "M",
          "M",
          "M",
          "M",
          "M",
          "M",
          "M",
          "M",
          "M",
          "M",
          "M",
          "M",
          "M",
          "M",
          "M",
          "M",
          "M",
          "M",
          "M",
          "M",
          "M",
          "M",
          "M",
          "M",
          "M",
          "M",
          "M",
          "M",
          "M",
          "M",
          "M",
          "M",
          "M",
          "M",
          "M",
          "M",
          "M",
          "M",
          "M",
          "M",
          "M",
          "M",
          "M",
          "M",
          "M",
          "M",
          "M",
          "M",
          "M",
          "M",
          "M",
          "M",
          "M",
          "M",
          "M",
          "M",
          "M",
          "M",
          "M",
          "M",
          "M",
          "M",
          "M",
          "M",
          "M",
          "M",
          "M",
          "M",
          "M",
          "M",
          "M",
          "M",
          "M",
          "M",
          "M",
          "M",
          "M",
          "M",
          "M",
          "M",
          "M",
          "M",
          "M",
          "M",
          "M",
          "M",
          "M",
          "M",
          "M",
          "M",
          "M",
          "M",
          "M",
          "M",
          "M",
          "M",
          "M",
          "M",
          "M",
          "M",
          "M",
          "M",
          "M",
          "M",
          "M",
          "M",
          "M",
          "M",
          "M",
          "M",
          "M",
          "M",
          "M",
          "M",
          "M",
          "M",
          "M",
          "M",
          "M",
          "M",
          "M",
          "M",
          "M",
          "M",
          "M",
          "M",
          "M",
          "M",
          "M",
          "M",
          "M",
          "M",
          "M",
          "M",
          "M",
          "M",
          "M",
          "M",
          "M",
          "M",
          "M",
          "M",
          "M",
          "M",
          "M",
          "M",
          "M",
          "M",
          "M",
          "M",
          "M",
          "M",
          "M",
          "M",
          "M",
          "M",
          "M",
          "M",
          "M",
          "M",
          "M",
          "M",
          "M",
          "M",
          "M",
          "M",
          "M",
          "M",
          "M",
          "M",
          "M",
          "M",
          "M",
          "M",
          "M",
          "M",
          "M",
          "M",
          "M",
          "M",
          "M",
          "M",
          "M",
          "M",
          "M",
          "M",
          "M",
          "M",
          "M",
          "M",
          "M",
          "M",
          "M",
          "M",
          "M",
          "M",
          "M",
          "M",
          "M",
          "M",
          "M",
          "M",
          "M",
          "M",
          "M",
          "M",
          "M",
          "M",
          "M",
          "M",
          "M",
          "M",
          "M",
          "M",
          "M",
          "M",
          "M",
          "M",
          "M",
          "M",
          "M",
          "M",
          "M",
          "M",
          "M",
          "M",
          "M",
          "M",
          "M",
          "M",
          "M",
          "M",
          "M",
          "M",
          "M",
          "M",
          "M",
          "M",
          "M",
          "M",
          "M",
          "M",
          "M",
          "M",
          "M",
          "M",
          "M",
          "M",
          "M",
          "M",
          "M",
          "M",
          "M",
          "M",
          "M",
          "M",
          "M",
          "M",
          "M",
          "M",
          "M",
          "M",
          "M",
          "M",
          "M",
          "M",
          "M",
          "M",
          "M",
          "M",
          "M",
          "M",
          "M",
          "M",
          "M",
          "M",
          "M",
          "M",
          "M",
          "M",
          "M",
          "M",
          "M",
          "M",
          "M",
          "M",
          "M",
          "M",
          "M",
          "M",
          "M",
          "M",
          "M",
          "M",
          "M",
          "M",
          "M",
          "M",
          "M",
          "M",
          "M",
          "M",
          "M",
          "M",
          "M",
          "M",
          "M",
          "M",
          "M",
          "M",
          "M",
          "M",
          "M",
          "M",
          "M",
          "M",
          "M",
          "M",
          "M",
          "M",
          "M",
          "M",
          "M",
          "M",
          "M",
          "M",
          "M",
          "M",
          "M",
          "M",
          "M",
          "M",
          "M",
          "M",
          "M",
          "M",
          "M",
          "M",
          "M",
          "M",
          "M",
          "M",
          "M",
          "M",
          "M",
          "M",
          "M",
          "M",
          "M",
          "M",
          "M",
          "M",
          "M",
          "M",
          "M",
          "M",
          "M",
          "M",
          "M",
          "M",
          "M",
          "M",
          "M",
          "M",
          "M",
          "M",
          "M",
          "M",
          "M",
          "M",
          "M",
          "M",
          "M",
          "M",
          "M",
          "M",
          "M",
          "M",
          "M",
          "M",
          "M",
          "M",
          "M",
          "M",
          "M",
          "M",
          "M",
          "M",
          "M",
          "M",
          "M",
          "M",
          "M",
          "M",
          "M",
          "M",
          "M",
          "M",
          "M",
          "M",
          "M",
          "M",
          "M",
          "M",
          "M",
          "M",
          "M",
          "M",
          "M",
          "M",
          "M",
          "M",
          "M",
          "M",
          "M",
          "M",
          "M",
          "M",
          "M",
          "M",
          "M",
          "M",
          "M",
          "M",
          "M",
          "M",
          "M",
          "M",
          "M",
          "M",
          "M",
          "M",
          "M",
          "M",
          "M",
          "M",
          "M",
          "M",
          "M",
          "M",
          "M",
          "M",
          "M",
          "M",
          "M",
          "M",
          "M",
          "M",
          "M",
          "M",
          "M",
          "M",
          "M",
          "M",
          "M",
          "M",
          "M",
          "M",
          "M",
          "M",
          "M",
          "M",
          "M",
          "M",
          "M",
          "M",
          "M",
          "M",
          "M",
          "M",
          "M",
          "M",
          "M",
          "M",
          "M",
          "M",
          "M",
          "M",
          "M",
          "M",
          "M",
          "M",
          "M",
          "M",
          "M",
          "M",
          "M",
          "M",
          "M",
          "M",
          "M",
          "M",
          "M",
          "M",
          "M",
          "M",
          "M",
          "M",
          "M",
          "M",
          "M",
          "M",
          "M",
          "M",
          "M",
          "M",
          "M",
          "M",
          "M",
          "M",
          "M",
          "M",
          "M",
          "M",
          "M",
          "M",
          "M",
          "M",
          "M",
          "M",
          "M",
          "M",
          "M",
          "M",
          "M",
          "M",
          "M",
          "M",
          "M",
          "M",
          "M",
          "M",
          "M",
          "M",
          "M",
          "M",
          "M",
          "M",
          "M",
          "M",
          "M",
          "M",
          "M",
          "M",
          "M",
          "M",
          "M",
          "M",
          "M",
          "M",
          "M",
          "M",
          "M",
          "M",
          "M",
          "M",
          "M",
          "M",
          "M",
          "M",
          "M",
          "M",
          "M",
          "M",
          "M",
          "M",
          "M",
          "M",
          "M",
          "M",
          "M",
          "M",
          "M",
          "M",
          "M",
          "M",
          "M",
          "M",
          "M",
          "M",
          "M",
          "M",
          "M",
          "M",
          "M",
          "M",
          "M",
          "M",
          "M",
          "M",
          "M",
          "M",
          "M",
          "M",
          "M",
          "M",
          "M",
          "M",
          "M",
          "M",
          "M",
          "M",
          "M",
          "M",
          "M",
          "M",
          "M",
          "M",
          "M",
          "M",
          "M",
          "M",
          "M",
          "M",
          "M",
          "M",
          "M",
          "M",
          "M",
          "M",
          "M",
          "M",
          "M",
          "M",
          "M",
          "M",
          "M",
          "M",
          "M",
          "M",
          "M",
          "M",
          "M",
          "M",
          "M",
          "M",
          "M",
          "M",
          "M",
          "M",
          "M",
          "M",
          "M",
          "M",
          "M",
          "M",
          "M",
          "M",
          "M",
          "M",
          "M",
          "M",
          "M",
          "M",
          "M",
          "M",
          "M",
          "M",
          "M",
          "M",
          "M",
          "M",
          "M",
          "M",
          "M",
          "M",
          "M",
          "M",
          "M",
          "M",
          "M",
          "M",
          "M",
          "M",
          "M",
          "M",
          "M",
          "M",
          "M",
          "M",
          "M",
          "M",
          "M",
          "M",
          "M",
          "M",
          "M",
          "M",
          "M",
          "M",
          "M",
          "M",
          "M",
          "M",
          "M",
          "M",
          "M",
          "M",
          "M",
          "M",
          "M",
          "M",
          "M",
          "M",
          "M",
          "M",
          "M",
          "M",
          "M",
          "M",
          "M",
          "M",
          "M",
          "M",
          "M",
          "M",
          "M",
          "M",
          "M",
          "M",
          "M",
          "M",
          "M",
          "M",
          "M",
          "M",
          "M",
          "M",
          "M",
          "M",
          "M",
          "M",
          "M",
          "M",
          "M",
          "M",
          "M",
          "M",
          "M",
          "M",
          "M",
          "M",
          "M",
          "M",
          "M",
          "M",
          "M",
          "M",
          "M",
          "M",
          "M",
          "M",
          "M",
          "M",
          "M",
          "M",
          "M",
          "M",
          "M",
          "M",
          "M",
          "M",
          "M",
          "M",
          "M",
          "M",
          "M",
          "M",
          "M",
          "M",
          "M",
          "M",
          "M",
          "M",
          "M",
          "M",
          "M",
          "M",
          "M",
          "M",
          "M",
          "M",
          "M",
          "M",
          "M",
          "M",
          "M",
          "M",
          "M",
          "M",
          "M",
          "M",
          "M",
          "M",
          "M",
          "M",
          "M",
          "M",
          "M",
          "M",
          "M",
          "M",
          "M",
          "M",
          "M",
          "M",
          "M",
          "M",
          "M",
          "M",
          "M",
          "M",
          "M",
          "M",
          "M",
          "M",
          "M",
          "M",
          "M",
          "M",
          "M",
          "M"
         ],
         "x0": " ",
         "xaxis": "x",
         "y": [
          168000,
          179975,
          144000,
          40000,
          105000,
          100000,
          153090,
          52533,
          115000,
          128000,
          128500,
          92000,
          160000,
          168000,
          210000,
          153400,
          140000,
          99050,
          259000,
          200000,
          134236,
          170000,
          120250,
          145000,
          143860,
          138000,
          216000,
          61300,
          140000,
          180180,
          188100,
          150000,
          130000,
          161311,
          140000,
          76814,
          102100,
          83500,
          50000,
          370000,
          99450,
          257000,
          109000,
          155000,
          230000,
          160288,
          90700,
          150000,
          40777,
          165000,
          175000,
          134000,
          180000,
          140000,
          75000,
          105000,
          280700,
          195000,
          128000,
          230000,
          92250,
          67723,
          140000,
          230000,
          120000,
          77684,
          130000,
          220000,
          150000,
          121523,
          130000,
          65000,
          170000,
          115000,
          170000,
          92700,
          304000,
          170000,
          145000,
          185800,
          110000,
          247500,
          104500,
          98506,
          90000,
          123400,
          165000,
          148500,
          252000,
          106020,
          65000,
          200000,
          136000,
          109371,
          205000,
          100000,
          95000,
          80000,
          247300,
          220000,
          46178,
          247500,
          183500,
          269600,
          195000,
          185000,
          198440,
          63000,
          130000,
          173000,
          208450,
          116100,
          230000,
          205300,
          169000,
          185900,
          260000,
          218500,
          99000,
          156400,
          150000,
          102500,
          115000,
          200000,
          120000,
          138750,
          153400,
          136000,
          66000,
          72914,
          55000,
          260000,
          239748,
          220000,
          299500,
          116250,
          85066,
          137500,
          130000,
          150000,
          258000,
          45555,
          163800,
          185900,
          122500,
          8050,
          120000,
          68293,
          342810,
          150000,
          245100,
          190000,
          140000,
          106000,
          142200,
          118000,
          102544,
          353200,
          185900,
          94000,
          192564,
          167100,
          160000,
          104611,
          225000,
          207000,
          143000,
          126000,
          155000,
          115000,
          115360,
          220000,
          175000,
          120000,
          121500,
          95000,
          140000,
          147000,
          241871,
          186000,
          129000,
          73880,
          210000,
          152000,
          100000,
          100000,
          385000,
          112900,
          100000,
          120000,
          100000,
          79000,
          163800,
          133300,
          70000,
          160000,
          131000,
          129400,
          100000,
          170000,
          150000,
          156600,
          169000,
          143860,
          169000,
          144000,
          170000,
          100000,
          65000,
          113750,
          183500,
          185000,
          48289,
          168000,
          185900,
          100000,
          207000,
          130000,
          180560,
          125000,
          84000,
          75000,
          104663,
          150000,
          20000,
          154000,
          95000,
          175000,
          250000,
          165000,
          323300,
          112900,
          135000,
          187000,
          160000,
          122600,
          51508,
          221484,
          137141,
          15000,
          135000,
          200000,
          115000,
          138784,
          141525,
          127000,
          57872,
          61566,
          128280,
          185900,
          160000,
          138900,
          165220,
          100000,
          225000,
          153000,
          297300,
          200000,
          160000,
          63000,
          90700,
          178500,
          65000,
          67723,
          87000,
          175000,
          100000,
          139000,
          110000,
          226700,
          150000,
          128000,
          25000,
          107250,
          203500,
          150000,
          170000,
          129000,
          122500,
          113900,
          70000,
          78000,
          204500,
          48289,
          258750,
          280100,
          167500,
          73546,
          255000,
          115000,
          115573,
          110820,
          106020,
          42026,
          31795,
          120000,
          127000,
          47280,
          214200,
          210000,
          241000,
          109000,
          230000,
          42026,
          194500,
          110925,
          270703,
          173000,
          150000,
          138600,
          175000,
          47280,
          120000,
          72000,
          153600,
          220000,
          220000,
          110500,
          145000,
          102772,
          109400,
          175308,
          170000,
          129000,
          198800,
          228000,
          95000,
          141525,
          92350,
          129300,
          135000,
          150000,
          85500,
          206699,
          163800,
          213120,
          170000,
          63000,
          125600,
          110000,
          51508,
          40000,
          193750,
          115100,
          190000,
          79000,
          99000,
          135000,
          90000,
          180000,
          116704,
          190000,
          105000,
          250000,
          243225,
          75000,
          120000,
          181000,
          36773,
          152000,
          129300,
          100000,
          120000,
          70500,
          145000,
          153600,
          136000,
          160000,
          145000,
          127500,
          139500,
          204500,
          129300,
          215000,
          40000,
          134000,
          120000,
          235000,
          185000,
          90320,
          130000,
          105200,
          122700,
          120000,
          132320,
          130000,
          59020,
          130800,
          86193,
          150000,
          130000,
          250000,
          85000,
          70000,
          160000,
          63000,
          184700,
          110820,
          190000,
          115092,
          180000,
          115000,
          45600,
          142200,
          170000,
          160000,
          150000,
          49253,
          80000,
          85066,
          120000,
          130000,
          165000,
          176000,
          205300,
          220000,
          46178,
          110000,
          154000,
          149600,
          143200,
          206000,
          70000,
          51000,
          65000,
          70000,
          250000,
          160000,
          203500,
          130000,
          94500,
          84900,
          174000,
          185900,
          252000,
          140000,
          150000,
          51508,
          130000,
          106900,
          161000,
          130000,
          100000,
          116150,
          110000,
          135000,
          150000,
          197000,
          47280,
          100000,
          130000,
          140000,
          129000,
          135000,
          135000,
          204500,
          94000,
          160000,
          135000,
          70000,
          288000,
          129300,
          203000,
          149850,
          160000,
          54000,
          49253,
          107309,
          205000,
          180000,
          120000,
          155000,
          64385,
          189650,
          95000,
          28016,
          249500,
          81666,
          95000,
          227000,
          151800,
          115000,
          170550,
          185000,
          120000,
          130000,
          275300,
          249300,
          121523,
          75000,
          92350,
          127000,
          140250,
          300000,
          160000,
          128000,
          141525,
          37824,
          216000,
          245100,
          85000,
          166000,
          135000,
          293000,
          112900,
          165000,
          60000,
          140000,
          37558,
          120000,
          160000,
          97750,
          175000,
          135000,
          200000,
          99100,
          100000,
          135000,
          170000,
          210000,
          110000,
          120250,
          139860,
          81666,
          127075,
          175000,
          120000,
          90000,
          113000,
          130000,
          146000,
          150000,
          122000,
          172200,
          109400,
          92350,
          75000,
          174500,
          85500,
          275300,
          153600,
          150000,
          61800,
          100000,
          68318,
          117000,
          214000,
          85066,
          132320,
          125000,
          110000,
          150000,
          38631,
          125000,
          141525,
          141288,
          78990,
          190000,
          59102,
          125000,
          109280,
          143000,
          190000,
          276000,
          80000,
          95000,
          38631,
          153600,
          190000,
          203500,
          106500,
          49253,
          213120,
          200000,
          90000,
          200000,
          54685,
          130000,
          249500,
          126000,
          147100,
          145000,
          100000,
          125000,
          191475,
          225000,
          90000,
          95000,
          60000,
          75000,
          182500,
          85000,
          120000,
          72946,
          140700,
          135000,
          60000,
          130000,
          200000,
          198800,
          100000,
          236000,
          106800,
          135000,
          121700,
          82920,
          100000,
          178750,
          61566,
          134236,
          113476,
          247500,
          104000,
          70000,
          180000,
          61566,
          116450,
          299500,
          135000,
          135000,
          208049,
          250000,
          150000,
          237000,
          105000,
          141525,
          58000,
          36773,
          39925,
          36773,
          151800,
          100000,
          156600,
          175000,
          220000,
          104650,
          51716,
          90000,
          140000,
          100000,
          106250,
          215000,
          135000,
          164996,
          216200,
          100000,
          430967,
          60400,
          125000,
          208000,
          221000,
          185900,
          175000,
          219000,
          82280,
          58331,
          66000,
          150000,
          75000,
          130000,
          100000,
          145000,
          180000,
          230000,
          145885,
          204500,
          63040,
          130000,
          225000,
          130000,
          225000,
          110000,
          106020,
          170000,
          110000,
          140000,
          170000,
          245000,
          133300,
          5409,
          150000,
          201450,
          73880,
          142200,
          100000,
          129300,
          253200,
          24000,
          76814,
          135000,
          140000,
          170000,
          105500,
          120000,
          147000,
          115000,
          150000,
          48000,
          195000,
          130000,
          172200,
          145900,
          189110,
          212800,
          210000,
          182500,
          67597,
          145000,
          140000,
          160080,
          150000,
          80036,
          42533,
          47280,
          70000,
          75000,
          161000,
          275000,
          150000,
          175000,
          170000,
          147100,
          166000,
          83171,
          61200,
          80000,
          241000,
          113000,
          153000,
          227200,
          150000,
          183600,
          147000,
          75000,
          84000,
          130000,
          17805,
          165000,
          119059,
          75000,
          81500,
          115934,
          129000,
          180000,
          121600,
          150900,
          146000,
          193000,
          138750,
          195700,
          133300,
          145000,
          170000,
          165000,
          149600,
          247500,
          130000,
          78000,
          93800,
          300240,
          140000,
          130000,
          122700,
          190000,
          115000,
          222640,
          159000,
          109400,
          80000,
          124234,
          153400,
          142200,
          252000,
          185000,
          65000,
          105200,
          120000,
          75020,
          163800,
          245100,
          230000,
          175000,
          288000,
          116000,
          142200,
          167500,
          291500,
          120000,
          170000,
          115500,
          100000,
          120000,
          172200,
          127000,
          180000,
          62000,
          100000,
          105000,
          109400,
          165000,
          136000,
          160000,
          190000,
          100000,
          140000,
          145000,
          201450,
          95000,
          262000,
          127599,
          148750,
          188700,
          65000,
          183000,
          117000,
          133300,
          130000,
          90000,
          103432,
          81500,
          154600,
          86193,
          55800,
          120000,
          300000,
          141525,
          102100,
          136600,
          80000,
          64980,
          149040,
          113000,
          142127,
          95000,
          205000,
          120000,
          175000,
          148500,
          155000,
          125000,
          150000,
          95000,
          184000,
          90000,
          82744,
          160000,
          10000,
          69000,
          90000,
          180000,
          140000,
          250000,
          132000,
          185100,
          160000,
          136994,
          86193,
          100000,
          74178,
          252000,
          167875,
          120000,
          139500,
          235000,
          210000,
          82365,
          160000,
          204500,
          220000,
          170000,
          134000,
          185000,
          170000,
          115000,
          50180,
          59020,
          175000,
          167580,
          160000,
          112000,
          100000,
          220000,
          120000,
          175100,
          150000,
          75000,
          200000,
          70000,
          213580,
          150000,
          185000,
          180000,
          145000,
          224000,
          210000,
          142200,
          172386,
          65000,
          150000,
          235000,
          275300,
          112000,
          92700,
          162500,
          85000,
          242000,
          205000,
          106800,
          203000,
          185900,
          243900,
          90700,
          286000,
          60000,
          60761,
          135446,
          150000,
          100000,
          116250,
          110600,
          117000,
          174000,
          180000,
          162500,
          81666,
          168400,
          125000,
          120000,
          130000,
          185000,
          225000,
          149500,
          129300,
          70186,
          259000,
          172200,
          185900,
          183000,
          65000,
          200000,
          120000,
          130000,
          162000,
          119000,
          120000,
          200000,
          163800,
          153600,
          144000,
          89200,
          125000,
          81666,
          162500,
          191765,
          128750,
          53368,
          138750,
          175000,
          191475,
          170000,
          125000,
          174500,
          221000,
          158677,
          95000,
          118208,
          107000,
          153600,
          300000,
          159000,
          156400,
          80000,
          250000,
          140000,
          130000,
          200000,
          90000,
          190000,
          81666,
          250500,
          84053,
          180000,
          195895,
          200000,
          193000,
          110000,
          101228,
          123648,
          192564,
          146200,
          113750,
          185000,
          200000,
          90000,
          95000,
          119000,
          200000,
          160000,
          241000,
          98000,
          123900,
          150000,
          24823,
          191475,
          162500,
          80000,
          105000,
          106800,
          73546,
          193500,
          145000,
          115000,
          102100,
          250000,
          110000,
          129300,
          81666,
          80000,
          210000,
          143100,
          162000,
          140000,
          180000,
          75000,
          250000,
          132300,
          80036,
          145000,
          120000,
          99703,
          165000,
          174500,
          155000,
          116100,
          375000,
          250000,
          100000,
          187500,
          50000,
          169000,
          60000,
          121700,
          135000,
          136620,
          193900,
          136000,
          75000,
          10354,
          172200,
          80000,
          63000,
          139500,
          140000,
          48609,
          148700,
          85000,
          200000,
          165000,
          98000,
          90320,
          120250,
          164000,
          75116,
          129300,
          80000,
          289800,
          260000,
          60000,
          128000,
          125000,
          230000,
          164000,
          170000,
          169000,
          105200,
          191475,
          113900,
          110000,
          160000,
          180000,
          84053,
          112000,
          129000,
          100000,
          100000,
          155000,
          120000,
          205000,
          121904,
          160000,
          70000,
          75000,
          184000,
          113000,
          80036,
          130000,
          191475,
          230000,
          340000,
          132000,
          201000,
          154000,
          81500,
          114000,
          140000,
          97000,
          50432,
          115934,
          110600,
          118000,
          51039,
          73546,
          160000,
          120000,
          145000,
          141525,
          150000,
          144000,
          144000,
          185900,
          160000,
          135000,
          90000,
          129300,
          69751,
          175000,
          120000,
          120000,
          130000,
          63000,
          183000,
          55000,
          231250,
          106000,
          85000,
          235000,
          120000,
          160000,
          65000,
          115000,
          105200,
          124190,
          138938,
          237000,
          150000,
          125686,
          310000,
          160000,
          145000,
          177500,
          204500,
          215000,
          191475,
          135000,
          122000,
          85000,
          100000,
          37824,
          230000,
          122000,
          160000,
          142200,
          247500,
          72000,
          167500,
          185900,
          141525,
          110446,
          128000,
          37824,
          145000,
          284310,
          160080,
          240000,
          190000,
          133200,
          250000,
          135000,
          100000,
          150000,
          82900,
          202353,
          78000,
          247500,
          129000,
          77262,
          205000,
          163800,
          124000,
          170000,
          184000,
          52533,
          31520,
          145000,
          149850,
          80000,
          52500,
          172000,
          141525,
          225000,
          49646,
          350000,
          139000,
          128000,
          200000,
          135000,
          124740,
          200000,
          185900,
          135000,
          110000,
          122700,
          80481,
          200000,
          225000,
          75000,
          290000,
          226700,
          180180,
          237000,
          85000,
          297300,
          129000,
          153400,
          145000,
          144854,
          145000,
          200000,
          210000,
          140400,
          185900,
          29453,
          136000,
          130000,
          195800,
          153000,
          169000,
          145000,
          200160,
          265000,
          78000,
          376080,
          88654,
          109000,
          146000,
          108000,
          220110,
          150000,
          253750,
          297300,
          179305,
          31520,
          135000,
          50000,
          77300,
          144854,
          50000,
          226700,
          90000,
          104890,
          184000,
          245000,
          146000,
          247500,
          85500,
          94192,
          180000,
          110600,
          120000,
          129300,
          115360,
          124234,
          102100,
          165000,
          140000,
          129300,
          40777,
          183310,
          160395,
          156400,
          180000,
          198000,
          94000,
          161800,
          123000,
          250000,
          153000,
          24165,
          210000,
          260000,
          183600,
          129300,
          104000,
          129300,
          175000,
          318300,
          138350,
          204500,
          153600,
          168400,
          130000,
          150000,
          220000,
          37824,
          109024,
          168000,
          139500,
          204500,
          245000,
          95000,
          185900,
          133300,
          159832,
          170000,
          83270,
          126000,
          122500,
          205000,
          129300,
          180000,
          126000,
          125000,
          106800,
          75000,
          130000,
          110000,
          106800,
          171250,
          113900,
          257000,
          170000,
          5707,
          130000,
          128000,
          50432,
          100000,
          144100,
          61566,
          160000,
          185900,
          87980,
          184000,
          116000,
          182160,
          155000,
          78000,
          191475,
          120000,
          130000,
          260000,
          191475,
          106260,
          175000,
          115934,
          92350,
          175000,
          175000,
          120000,
          100000,
          60093,
          99000,
          78990,
          135000,
          300240,
          158000,
          120000,
          205000,
          94000,
          98000,
          141300,
          210914,
          106020,
          63000,
          135000,
          107500,
          150000,
          232200,
          108000,
          190000,
          200000,
          36940,
          145000,
          106500,
          152500,
          55000,
          51039,
          63000,
          299500,
          110600,
          100000,
          105500,
          200000,
          135000,
          152380,
          92350,
          48289,
          136994,
          130000,
          148750,
          120000,
          155000,
          324000,
          222000,
          204500,
          122600,
          105000,
          150000,
          175000,
          115934,
          78000,
          91118,
          160000,
          60000,
          185900,
          246000,
          125000,
          150000,
          120000,
          172200,
          129000,
          220000,
          137400,
          144000,
          122000,
          160000,
          156400,
          180000,
          200000,
          160000,
          216100,
          113000,
          205000,
          56100,
          60000,
          120000,
          110000,
          231250,
          60000,
          172000,
          88100,
          160000,
          201000,
          165000,
          47280,
          100000,
          110000,
          170730,
          175000,
          100000,
          80036,
          156400,
          236000,
          135000,
          141525,
          153600,
          214000,
          275000,
          93000,
          184000,
          130000,
          97218,
          191475,
          30000,
          133800,
          185000,
          105000,
          237000,
          199000,
          130000,
          116000,
          43096,
          179000,
          84053,
          164996,
          165000,
          31520,
          82365,
          105000,
          160000,
          31520,
          130000,
          210000,
          133832,
          141600,
          141300,
          30469,
          150000,
          186300,
          145000,
          102640,
          117100,
          226700,
          54365,
          119000,
          219535,
          63192,
          80041,
          210000,
          190200,
          160000,
          145000,
          231250,
          65257,
          231250,
          140000,
          176000,
          71786,
          201000,
          86193,
          126500,
          120000,
          120600,
          200000,
          100000,
          230000,
          240000,
          120000,
          200000,
          180000,
          109000,
          110000,
          175000,
          150000,
          120000,
          175000,
          135000,
          156400,
          135000,
          225000,
          75000,
          225000,
          205000,
          149076,
          182000,
          121500,
          130000,
          216000,
          149000,
          169000,
          102500,
          231250,
          57723,
          184000,
          129300,
          63192,
          160000,
          103200,
          90000,
          63000,
          74540,
          226700,
          100000,
          135000,
          160000,
          85000,
          150000,
          201036,
          220000,
          135000,
          230000,
          134000,
          300000,
          145000,
          129300,
          113900,
          100000,
          135000,
          230000,
          42533,
          150000,
          239000,
          150000,
          130000,
          201000,
          100000,
          170000,
          100500,
          165000,
          100000,
          140000,
          96100,
          139600,
          105200,
          110000,
          106500,
          236000,
          100000,
          96000,
          170000,
          100000,
          245000,
          146115,
          73900,
          142000,
          207000,
          100000,
          141525,
          146000,
          94000,
          156400,
          175000,
          115000,
          135000,
          205920,
          150000,
          129300,
          148800,
          128875,
          125000,
          109400,
          229000,
          160000,
          47280,
          150000,
          33808,
          252000,
          125000,
          66531,
          180180,
          200000,
          61800,
          106000,
          113000,
          150000,
          60000,
          181940,
          110000,
          115000,
          50432,
          38000,
          63040,
          106800,
          102000,
          128000,
          252000,
          172800,
          36940,
          141000,
          145000,
          159832,
          115000,
          109280,
          54685,
          170000,
          179170,
          79178,
          70000,
          283200,
          136260,
          225000,
          120000,
          170000,
          85000,
          150000,
          100000,
          150000,
          85000,
          47280,
          95000,
          140250,
          175000,
          145000,
          38000,
          100000,
          98506,
          175000,
          345600,
          48289,
          169000,
          70000,
          24000,
          145000,
          150000,
          90000,
          120000,
          275000,
          224000,
          126000,
          240000,
          185900,
          117000,
          120000,
          124000,
          62000,
          160000,
          250000,
          54000,
          52500,
          140000,
          100000,
          162500,
          150000,
          81500,
          184000,
          231250,
          269000,
          38631,
          85066,
          132300,
          171000,
          191475,
          80000,
          148261,
          48000,
          150000,
          189750,
          160000,
          250000,
          101943,
          191475,
          310000,
          180000,
          180180,
          75116,
          200000,
          136000,
          185900,
          289076,
          5132,
          245100,
          17684,
          100000,
          130000,
          156400,
          165750,
          149076,
          235000,
          275300,
          245000,
          110000,
          104000,
          95550,
          182000,
          129000,
          185000,
          130000,
          315000,
          140000,
          75000,
          105000,
          124270,
          148800,
          105000,
          110000,
          134000,
          109006,
          160000,
          200160,
          145000,
          153600,
          191475,
          120000,
          80000,
          87000,
          110000,
          93700,
          155000,
          105066,
          141525,
          142200,
          48000,
          98506,
          140000,
          140000,
          130000,
          73546,
          191475,
          100000,
          43809,
          161342,
          130050,
          180000,
          198200,
          140000,
          135000,
          250000,
          100000,
          209450,
          185900,
          260000,
          120000,
          109371,
          70000,
          310000,
          130000,
          115000,
          132320,
          145000,
          89200,
          203500,
          100000,
          160000,
          253750,
          210000,
          55410,
          111000,
          185900,
          135000,
          64200,
          175000,
          147800,
          95000,
          136000,
          160000,
          176000,
          197000,
          215050,
          170000,
          78000,
          210000,
          135000,
          162500,
          205000,
          142200,
          152500,
          185000,
          220000,
          128875,
          37824,
          123400,
          228000,
          85000,
          67141,
          249260,
          72914,
          116000,
          100000,
          204500,
          75000,
          105380,
          220000,
          155000,
          134000,
          210000,
          275300,
          150260,
          150000,
          142200,
          135000,
          126000,
          240000,
          187200,
          106000,
          110000,
          150000,
          239000,
          78990,
          100000,
          252000,
          110000,
          145000,
          250000,
          100000,
          15897,
          174500,
          184000,
          106800,
          156400,
          144000,
          199098,
          75000,
          160000,
          200000,
          110500,
          182750,
          100000,
          160000,
          135000,
          130000,
          136956,
          230000,
          42000,
          66837,
          140000,
          200000,
          184700,
          197000,
          160000,
          56000,
          150000,
          90000,
          85000,
          125000,
          199000,
          318300,
          156400,
          128000,
          141525,
          135000,
          120000,
          38631,
          136100,
          142200,
          113000,
          105200,
          145000,
          450000,
          223250,
          135000,
          129300,
          70000,
          142000,
          105400,
          170000,
          140000,
          85000,
          179820,
          198800,
          299500,
          139000,
          93150,
          147100,
          90700,
          100000,
          129300,
          140000,
          54685,
          156400,
          138750,
          190000,
          40189,
          75000,
          128875,
          115000,
          168400,
          179820,
          153600,
          150000,
          120000,
          75000,
          161500,
          125000,
          70000,
          120000,
          130001,
          145000,
          211500,
          130000,
          154000,
          95000,
          65488,
          130000,
          108800,
          151800,
          175000,
          95000,
          141525,
          185900,
          120000,
          80000,
          175000,
          120000,
          210000,
          206699,
          105000,
          145000,
          145000,
          152500,
          129300,
          200000,
          240000,
          201000,
          160000,
          110000,
          111775,
          72200,
          80000,
          160000,
          220000,
          170000,
          153000,
          200000,
          120160,
          185900,
          155000,
          169000,
          216000,
          217000,
          155850,
          160000,
          120000,
          50000,
          75000,
          130000,
          198440,
          90700,
          126500,
          175950,
          182000,
          225000,
          54685,
          70000,
          191200,
          135000,
          165000,
          162500,
          149040,
          43096,
          140000,
          185000,
          150000,
          144000,
          240500,
          179775,
          129000,
          65000,
          190000,
          225000,
          81500,
          90000,
          192500,
          100000,
          183000,
          134760,
          73546,
          116704,
          46809,
          204500,
          55000,
          85000,
          80000,
          186000,
          57723,
          90320,
          210914,
          78000,
          135000,
          200000,
          150000,
          67000,
          190000,
          153000,
          10000,
          129000,
          159500,
          192000,
          115934,
          126000,
          210550,
          171600,
          66837,
          90000,
          203100,
          370000,
          48000,
          130000,
          188800,
          248100,
          180000,
          187000,
          52533,
          125000,
          105000,
          209300,
          154000,
          192400,
          154600,
          120000,
          73546,
          74540,
          163800,
          188500,
          203300,
          175000,
          90000,
          137500,
          132000,
          142200,
          137500,
          48289,
          135000,
          160000,
          130000,
          196000,
          216000,
          70000,
          106500,
          124000,
          200000,
          125000,
          70000,
          150450,
          129000,
          289076,
          148000,
          65000,
          95000,
          81000,
          122700,
          150000,
          191200,
          95000,
          104000,
          28368,
          204100,
          119000,
          140000,
          80000,
          143200,
          85000,
          52500,
          191475,
          102000,
          150000,
          225000,
          247500,
          12000,
          157750,
          250000,
          141525,
          185900,
          129300,
          85000,
          67723,
          191200,
          21844,
          145900,
          120000,
          106800,
          128500,
          183500,
          160000,
          130000,
          100000,
          170000,
          50000,
          120000,
          156400,
          75000,
          247500,
          145000,
          129300,
          88100,
          180000,
          129300,
          119500,
          197000,
          71897,
          160000,
          123000,
          104000,
          130000,
          135000,
          175000,
          105000,
          185000,
          90700,
          73880,
          149040,
          145000,
          299500,
          70000,
          155000,
          129300,
          65013,
          148000,
          142200,
          150075,
          310000,
          191475,
          150000,
          167000,
          120000,
          94560,
          168400,
          109371,
          167500,
          153088,
          130000,
          155000,
          170000,
          218000,
          178600,
          220000,
          185900,
          141525,
          175000,
          182200,
          85000,
          140000,
          65141,
          60938,
          127000,
          216000,
          169200,
          191475,
          200100,
          120000,
          150000,
          120000,
          235000,
          95000,
          125000,
          140800,
          63810,
          142200,
          155000,
          161800,
          168100,
          173000,
          275300,
          185000,
          250000,
          180000,
          150000,
          272550,
          145828,
          48000,
          170000,
          129300,
          160000,
          120000,
          120000,
          110820,
          110600,
          38631,
          120000,
          20000,
          115934,
          135000,
          250000,
          139000,
          95000,
          24000,
          110000,
          140000,
          160000,
          175000,
          191475,
          110000,
          145000,
          135000,
          166700,
          65000,
          122000,
          237000,
          140000,
          206500,
          160000,
          106800,
          206000,
          133000,
          180000,
          145000,
          55000,
          248700,
          189650,
          228000,
          93800,
          102663,
          89306,
          300000,
          99000,
          150000,
          186000,
          220000,
          122000,
          204500,
          60000,
          150000,
          87000,
          289800,
          172600,
          95000,
          175000,
          280000,
          150000,
          195000,
          63000,
          110000,
          38000,
          329500,
          171600,
          155000,
          116976,
          120000,
          22800,
          215000,
          225000,
          135000,
          300000,
          155499,
          173762,
          63000,
          141525,
          175000,
          130000,
          141525,
          225000,
          210000,
          140000,
          140000,
          150000,
          220110,
          185000,
          90000,
          120000,
          133800,
          120000,
          179400,
          225000,
          105000,
          250000,
          237000,
          100000,
          73546,
          120000,
          185900,
          230000,
          65488,
          150000,
          73546,
          153600,
          210000,
          80000,
          192600,
          154000,
          189650,
          235000,
          206000,
          180000,
          114000,
          139500,
          170500,
          185900,
          151410,
          141525,
          200000,
          110000,
          95000,
          200000,
          207000,
          250000,
          183500,
          123600,
          132300,
          175000,
          191475,
          116000,
          105000,
          28399,
          109400,
          120000,
          48000,
          42533,
          93918,
          185000,
          94300,
          134000,
          163800,
          104000,
          165000,
          160000,
          152000,
          177000,
          175000,
          150000,
          175000,
          249500,
          100000,
          167500,
          239000,
          210000,
          239000,
          184100,
          150000,
          183500,
          191475,
          231500,
          200000,
          38631,
          81666,
          155000,
          205000,
          100706,
          199000,
          129300,
          95000,
          100000,
          115000,
          136850,
          165000,
          43096,
          194000,
          205000,
          138750,
          70000,
          65000,
          144000,
          297500,
          186000,
          145000,
          85000,
          140000,
          140250,
          110600,
          173000,
          92350,
          190000,
          112000,
          248100,
          184000,
          166700,
          225000,
          134000,
          110000,
          284000,
          102200,
          64090,
          120000,
          100000,
          154000,
          17805,
          169000,
          175000,
          109400,
          140000,
          145000,
          66100,
          101228,
          110600,
          171250,
          206000,
          191200,
          145000,
          152000,
          180000,
          110820,
          84053,
          95000,
          160000,
          297300,
          63000,
          102100,
          190000,
          192000,
          172200,
          86193,
          68400,
          285800,
          130000,
          80000,
          191475,
          130000,
          80000,
          185000,
          105500,
          160000,
          243000,
          223800,
          70000,
          245100,
          130240,
          124000,
          172500,
          185900,
          200000,
          63000,
          170000,
          81500,
          160000,
          250000,
          153600,
          90320,
          61566,
          99100,
          50000,
          147100,
          100000,
          190000,
          145000,
          145000,
          185000,
          95000,
          43809,
          200000,
          183310,
          154000,
          73880,
          123000,
          146000,
          206000,
          170000,
          250000,
          146000,
          67723,
          130000,
          99750,
          130000,
          272000,
          85000,
          80000,
          175000,
          156000,
          120000,
          100000,
          36773,
          140000,
          127467,
          75000,
          80000,
          314100,
          123000,
          17509,
          163625,
          52533,
          63900,
          169200,
          140000,
          120000,
          100000,
          7500,
          139000,
          109400,
          153600,
          63000,
          155000,
          167000,
          197430,
          90000,
          103294,
          200000,
          153300,
          252000,
          108000,
          124500,
          172200,
          135000,
          130000,
          120000,
          225000,
          120000
         ],
         "y0": " ",
         "yaxis": "y"
        },
        {
         "alignmentgroup": "True",
         "hovertemplate": "company_size=%{x}<br>salary_in_usd=%{y}<extra></extra>",
         "legendgroup": "L",
         "marker": {
          "color": "#EF553B"
         },
         "name": "L",
         "notched": false,
         "offsetgroup": "L",
         "orientation": "v",
         "showlegend": true,
         "type": "box",
         "x": [
          "L",
          "L",
          "L",
          "L",
          "L",
          "L",
          "L",
          "L",
          "L",
          "L",
          "L",
          "L",
          "L",
          "L",
          "L",
          "L",
          "L",
          "L",
          "L",
          "L",
          "L",
          "L",
          "L",
          "L",
          "L",
          "L",
          "L",
          "L",
          "L",
          "L",
          "L",
          "L",
          "L",
          "L",
          "L",
          "L",
          "L",
          "L",
          "L",
          "L",
          "L",
          "L",
          "L",
          "L",
          "L",
          "L",
          "L",
          "L",
          "L",
          "L",
          "L",
          "L",
          "L",
          "L",
          "L",
          "L",
          "L",
          "L",
          "L",
          "L",
          "L",
          "L",
          "L",
          "L",
          "L",
          "L",
          "L",
          "L",
          "L",
          "L",
          "L",
          "L",
          "L",
          "L",
          "L",
          "L",
          "L",
          "L",
          "L",
          "L",
          "L",
          "L",
          "L",
          "L",
          "L",
          "L",
          "L",
          "L",
          "L",
          "L",
          "L",
          "L",
          "L",
          "L",
          "L",
          "L",
          "L",
          "L",
          "L",
          "L",
          "L",
          "L",
          "L",
          "L",
          "L",
          "L",
          "L",
          "L",
          "L",
          "L",
          "L",
          "L",
          "L",
          "L",
          "L",
          "L",
          "L",
          "L",
          "L",
          "L",
          "L",
          "L",
          "L",
          "L",
          "L",
          "L",
          "L",
          "L",
          "L",
          "L",
          "L",
          "L",
          "L",
          "L",
          "L",
          "L",
          "L",
          "L",
          "L",
          "L",
          "L",
          "L",
          "L",
          "L",
          "L",
          "L",
          "L",
          "L",
          "L",
          "L",
          "L",
          "L",
          "L",
          "L",
          "L",
          "L",
          "L",
          "L",
          "L",
          "L",
          "L",
          "L",
          "L",
          "L",
          "L",
          "L",
          "L",
          "L",
          "L",
          "L",
          "L",
          "L",
          "L",
          "L",
          "L",
          "L",
          "L",
          "L",
          "L",
          "L",
          "L",
          "L",
          "L",
          "L",
          "L",
          "L",
          "L",
          "L",
          "L",
          "L",
          "L",
          "L",
          "L",
          "L",
          "L",
          "L",
          "L",
          "L",
          "L",
          "L",
          "L",
          "L",
          "L",
          "L",
          "L",
          "L",
          "L",
          "L",
          "L",
          "L",
          "L",
          "L",
          "L",
          "L",
          "L",
          "L",
          "L",
          "L",
          "L",
          "L",
          "L",
          "L",
          "L",
          "L",
          "L",
          "L",
          "L",
          "L",
          "L",
          "L",
          "L",
          "L",
          "L",
          "L",
          "L",
          "L",
          "L",
          "L",
          "L",
          "L",
          "L",
          "L",
          "L",
          "L",
          "L",
          "L",
          "L",
          "L",
          "L",
          "L",
          "L",
          "L",
          "L",
          "L",
          "L",
          "L",
          "L",
          "L",
          "L",
          "L",
          "L",
          "L",
          "L",
          "L",
          "L",
          "L",
          "L",
          "L",
          "L",
          "L",
          "L",
          "L",
          "L",
          "L",
          "L",
          "L",
          "L",
          "L",
          "L",
          "L",
          "L",
          "L",
          "L",
          "L",
          "L",
          "L",
          "L",
          "L",
          "L",
          "L",
          "L",
          "L",
          "L",
          "L",
          "L",
          "L",
          "L",
          "L",
          "L",
          "L",
          "L",
          "L",
          "L",
          "L",
          "L",
          "L",
          "L",
          "L",
          "L",
          "L",
          "L",
          "L",
          "L",
          "L",
          "L",
          "L",
          "L",
          "L",
          "L",
          "L",
          "L",
          "L",
          "L",
          "L",
          "L",
          "L",
          "L",
          "L",
          "L",
          "L",
          "L",
          "L",
          "L",
          "L",
          "L",
          "L",
          "L",
          "L",
          "L",
          "L",
          "L",
          "L",
          "L",
          "L",
          "L",
          "L",
          "L",
          "L",
          "L",
          "L",
          "L",
          "L",
          "L",
          "L",
          "L",
          "L",
          "L",
          "L",
          "L",
          "L"
         ],
         "x0": " ",
         "xaxis": "x",
         "y": [
          222200,
          230000,
          29751,
          30523,
          54094,
          5409,
          100000,
          205600,
          6072,
          160000,
          180000,
          54094,
          205300,
          130760,
          98200,
          89306,
          120402,
          153000,
          12000,
          195400,
          135000,
          200000,
          28369,
          165000,
          112300,
          135000,
          100000,
          176100,
          40663,
          125976,
          106000,
          80000,
          79833,
          123405,
          240500,
          8000,
          131300,
          90734,
          82528,
          6359,
          125000,
          20670,
          46000,
          236900,
          84053,
          15000,
          129000,
          150000,
          103691,
          65062,
          136000,
          82000,
          225000,
          80000,
          89306,
          136000,
          50000,
          131300,
          70000,
          375000,
          160000,
          120000,
          127221,
          177000,
          140000,
          222200,
          130000,
          110000,
          60000,
          69741,
          27317,
          262500,
          45050,
          136000,
          100000,
          276000,
          94665,
          85847,
          70000,
          100000,
          35093,
          141846,
          108000,
          17022,
          200000,
          109000,
          131300,
          46759,
          83171,
          79833,
          113000,
          110680,
          202800,
          150000,
          105700,
          423834,
          198440,
          54742,
          423000,
          38631,
          59888,
          76309,
          159100,
          69133,
          160000,
          51081,
          100000,
          195400,
          159000,
          174000,
          57000,
          215000,
          112872,
          119300,
          131300,
          40000,
          7799,
          134500,
          102839,
          40000,
          84053,
          18314,
          154600,
          79197,
          112000,
          20171,
          88654,
          180000,
          180000,
          20000,
          22611,
          115000,
          350000,
          120000,
          260000,
          260000,
          115000,
          261500,
          74130,
          75050,
          200000,
          66970,
          188000,
          45390,
          229998,
          183000,
          70139,
          76000,
          104300,
          135000,
          38154,
          110037,
          135000,
          150000,
          309400,
          42028,
          20984,
          240500,
          83864,
          140400,
          165000,
          5882,
          51519,
          62000,
          75774,
          154545,
          50000,
          69344,
          160000,
          13400,
          235000,
          136000,
          56256,
          185000,
          90000,
          105700,
          202900,
          60795,
          170000,
          178800,
          50000,
          130760,
          150000,
          140000,
          88654,
          150000,
          200000,
          126100,
          105236,
          96578,
          131300,
          15000,
          131300,
          12000,
          82528,
          123700,
          30428,
          270000,
          96282,
          140400,
          220000,
          50000,
          33246,
          40570,
          151902,
          94564,
          153000,
          105000,
          412000,
          92000,
          205600,
          214618,
          53654,
          202800,
          133766,
          16414,
          157000,
          40038,
          83000,
          9727,
          37825,
          61896,
          104697,
          213660,
          165000,
          100800,
          136000,
          158200,
          144000,
          64000,
          105000,
          21013,
          110000,
          121093,
          159200,
          68293,
          90000,
          136000,
          76833,
          90734,
          240000,
          52533,
          148500,
          113000,
          213660,
          151000,
          63831,
          300000,
          53654,
          75116,
          136000,
          222200,
          12877,
          46597,
          200000,
          103000,
          106000,
          100000,
          100000,
          110000,
          56723,
          68428,
          250000,
          200000,
          17779,
          152000,
          16904,
          18238,
          63831,
          60000,
          12767,
          55000,
          150000,
          156868,
          75000,
          80000,
          215300,
          171000,
          183600,
          209100,
          405000,
          144000,
          23000,
          222200,
          145000,
          140000,
          260000,
          215300,
          17022,
          150000,
          110000,
          45391,
          91000,
          119300,
          95386,
          159100,
          51753,
          51064,
          250000,
          144000,
          113000,
          115447,
          202900,
          154600,
          144000,
          132100,
          160000,
          100000,
          132100,
          154600,
          73742,
          36643,
          72500,
          154545,
          93000,
          35735,
          53416,
          47899,
          96113,
          30000,
          97500,
          153667,
          190000,
          24823,
          222200,
          122900,
          205600,
          39925,
          160000,
          19609,
          221300,
          250000,
          131300,
          75000,
          172309,
          189500,
          204620,
          309400,
          192000,
          60938,
          66265,
          42000,
          174000,
          120000,
          123700,
          88256,
          55685,
          160000,
          108000,
          140100,
          60757,
          380000,
          50000,
          35610,
          30000,
          195400,
          180000,
          105700,
          229998,
          342300
         ],
         "y0": " ",
         "yaxis": "y"
        },
        {
         "alignmentgroup": "True",
         "hovertemplate": "company_size=%{x}<br>salary_in_usd=%{y}<extra></extra>",
         "legendgroup": "S",
         "marker": {
          "color": "#00cc96"
         },
         "name": "S",
         "notched": false,
         "offsetgroup": "S",
         "orientation": "v",
         "showlegend": true,
         "type": "box",
         "x": [
          "S",
          "S",
          "S",
          "S",
          "S",
          "S",
          "S",
          "S",
          "S",
          "S",
          "S",
          "S",
          "S",
          "S",
          "S",
          "S",
          "S",
          "S",
          "S",
          "S",
          "S",
          "S",
          "S",
          "S",
          "S",
          "S",
          "S",
          "S",
          "S",
          "S",
          "S",
          "S",
          "S",
          "S",
          "S",
          "S",
          "S",
          "S",
          "S",
          "S",
          "S",
          "S",
          "S",
          "S",
          "S",
          "S",
          "S",
          "S",
          "S",
          "S",
          "S",
          "S",
          "S",
          "S",
          "S",
          "S",
          "S",
          "S",
          "S",
          "S",
          "S",
          "S",
          "S",
          "S",
          "S",
          "S",
          "S",
          "S",
          "S",
          "S",
          "S",
          "S",
          "S",
          "S",
          "S",
          "S",
          "S",
          "S",
          "S",
          "S",
          "S",
          "S",
          "S",
          "S",
          "S",
          "S",
          "S",
          "S",
          "S",
          "S",
          "S",
          "S",
          "S",
          "S",
          "S",
          "S",
          "S",
          "S",
          "S",
          "S",
          "S",
          "S",
          "S",
          "S",
          "S",
          "S",
          "S",
          "S",
          "S",
          "S",
          "S",
          "S"
         ],
         "x0": " ",
         "xaxis": "x",
         "y": [
          200000,
          42197,
          10000,
          68293,
          105000,
          54634,
          62726,
          76958,
          5723,
          150000,
          60000,
          41689,
          52008,
          85000,
          110000,
          85847,
          30523,
          12888,
          29944,
          49268,
          110000,
          50000,
          84053,
          7000,
          160000,
          50000,
          107309,
          260000,
          33000,
          115000,
          65000,
          125000,
          75648,
          256000,
          120000,
          95746,
          21669,
          55000,
          9466,
          33511,
          180000,
          50000,
          60000,
          9272,
          114047,
          75000,
          125000,
          120000,
          77364,
          100000,
          80000,
          55000,
          45760,
          76833,
          200000,
          20000,
          74000,
          168000,
          115000,
          200000,
          130000,
          45896,
          13000,
          110000,
          125404,
          10000,
          200000,
          55410,
          275000,
          5679,
          120000,
          12901,
          81000,
          65666,
          51321,
          108000,
          120000,
          34672,
          126080,
          28609,
          80000,
          60000,
          103160,
          15806,
          60938,
          138000,
          25500,
          30000,
          66022,
          416000,
          87738,
          90000,
          61566,
          91237,
          82500,
          36000,
          48000,
          20000,
          15966,
          58837,
          69741,
          30000,
          125000,
          10000,
          20000,
          50000,
          18053,
          69751,
          58000,
          50432,
          59303,
          62726
         ],
         "y0": " ",
         "yaxis": "y"
        }
       ],
       "layout": {
        "boxmode": "overlay",
        "legend": {
         "title": {
          "text": "company_size"
         },
         "tracegroupgap": 0
        },
        "template": {
         "data": {
          "bar": [
           {
            "error_x": {
             "color": "#2a3f5f"
            },
            "error_y": {
             "color": "#2a3f5f"
            },
            "marker": {
             "line": {
              "color": "#E5ECF6",
              "width": 0.5
             },
             "pattern": {
              "fillmode": "overlay",
              "size": 10,
              "solidity": 0.2
             }
            },
            "type": "bar"
           }
          ],
          "barpolar": [
           {
            "marker": {
             "line": {
              "color": "#E5ECF6",
              "width": 0.5
             },
             "pattern": {
              "fillmode": "overlay",
              "size": 10,
              "solidity": 0.2
             }
            },
            "type": "barpolar"
           }
          ],
          "carpet": [
           {
            "aaxis": {
             "endlinecolor": "#2a3f5f",
             "gridcolor": "white",
             "linecolor": "white",
             "minorgridcolor": "white",
             "startlinecolor": "#2a3f5f"
            },
            "baxis": {
             "endlinecolor": "#2a3f5f",
             "gridcolor": "white",
             "linecolor": "white",
             "minorgridcolor": "white",
             "startlinecolor": "#2a3f5f"
            },
            "type": "carpet"
           }
          ],
          "choropleth": [
           {
            "colorbar": {
             "outlinewidth": 0,
             "ticks": ""
            },
            "type": "choropleth"
           }
          ],
          "contour": [
           {
            "colorbar": {
             "outlinewidth": 0,
             "ticks": ""
            },
            "colorscale": [
             [
              0,
              "#0d0887"
             ],
             [
              0.1111111111111111,
              "#46039f"
             ],
             [
              0.2222222222222222,
              "#7201a8"
             ],
             [
              0.3333333333333333,
              "#9c179e"
             ],
             [
              0.4444444444444444,
              "#bd3786"
             ],
             [
              0.5555555555555556,
              "#d8576b"
             ],
             [
              0.6666666666666666,
              "#ed7953"
             ],
             [
              0.7777777777777778,
              "#fb9f3a"
             ],
             [
              0.8888888888888888,
              "#fdca26"
             ],
             [
              1,
              "#f0f921"
             ]
            ],
            "type": "contour"
           }
          ],
          "contourcarpet": [
           {
            "colorbar": {
             "outlinewidth": 0,
             "ticks": ""
            },
            "type": "contourcarpet"
           }
          ],
          "heatmap": [
           {
            "colorbar": {
             "outlinewidth": 0,
             "ticks": ""
            },
            "colorscale": [
             [
              0,
              "#0d0887"
             ],
             [
              0.1111111111111111,
              "#46039f"
             ],
             [
              0.2222222222222222,
              "#7201a8"
             ],
             [
              0.3333333333333333,
              "#9c179e"
             ],
             [
              0.4444444444444444,
              "#bd3786"
             ],
             [
              0.5555555555555556,
              "#d8576b"
             ],
             [
              0.6666666666666666,
              "#ed7953"
             ],
             [
              0.7777777777777778,
              "#fb9f3a"
             ],
             [
              0.8888888888888888,
              "#fdca26"
             ],
             [
              1,
              "#f0f921"
             ]
            ],
            "type": "heatmap"
           }
          ],
          "heatmapgl": [
           {
            "colorbar": {
             "outlinewidth": 0,
             "ticks": ""
            },
            "colorscale": [
             [
              0,
              "#0d0887"
             ],
             [
              0.1111111111111111,
              "#46039f"
             ],
             [
              0.2222222222222222,
              "#7201a8"
             ],
             [
              0.3333333333333333,
              "#9c179e"
             ],
             [
              0.4444444444444444,
              "#bd3786"
             ],
             [
              0.5555555555555556,
              "#d8576b"
             ],
             [
              0.6666666666666666,
              "#ed7953"
             ],
             [
              0.7777777777777778,
              "#fb9f3a"
             ],
             [
              0.8888888888888888,
              "#fdca26"
             ],
             [
              1,
              "#f0f921"
             ]
            ],
            "type": "heatmapgl"
           }
          ],
          "histogram": [
           {
            "marker": {
             "pattern": {
              "fillmode": "overlay",
              "size": 10,
              "solidity": 0.2
             }
            },
            "type": "histogram"
           }
          ],
          "histogram2d": [
           {
            "colorbar": {
             "outlinewidth": 0,
             "ticks": ""
            },
            "colorscale": [
             [
              0,
              "#0d0887"
             ],
             [
              0.1111111111111111,
              "#46039f"
             ],
             [
              0.2222222222222222,
              "#7201a8"
             ],
             [
              0.3333333333333333,
              "#9c179e"
             ],
             [
              0.4444444444444444,
              "#bd3786"
             ],
             [
              0.5555555555555556,
              "#d8576b"
             ],
             [
              0.6666666666666666,
              "#ed7953"
             ],
             [
              0.7777777777777778,
              "#fb9f3a"
             ],
             [
              0.8888888888888888,
              "#fdca26"
             ],
             [
              1,
              "#f0f921"
             ]
            ],
            "type": "histogram2d"
           }
          ],
          "histogram2dcontour": [
           {
            "colorbar": {
             "outlinewidth": 0,
             "ticks": ""
            },
            "colorscale": [
             [
              0,
              "#0d0887"
             ],
             [
              0.1111111111111111,
              "#46039f"
             ],
             [
              0.2222222222222222,
              "#7201a8"
             ],
             [
              0.3333333333333333,
              "#9c179e"
             ],
             [
              0.4444444444444444,
              "#bd3786"
             ],
             [
              0.5555555555555556,
              "#d8576b"
             ],
             [
              0.6666666666666666,
              "#ed7953"
             ],
             [
              0.7777777777777778,
              "#fb9f3a"
             ],
             [
              0.8888888888888888,
              "#fdca26"
             ],
             [
              1,
              "#f0f921"
             ]
            ],
            "type": "histogram2dcontour"
           }
          ],
          "mesh3d": [
           {
            "colorbar": {
             "outlinewidth": 0,
             "ticks": ""
            },
            "type": "mesh3d"
           }
          ],
          "parcoords": [
           {
            "line": {
             "colorbar": {
              "outlinewidth": 0,
              "ticks": ""
             }
            },
            "type": "parcoords"
           }
          ],
          "pie": [
           {
            "automargin": true,
            "type": "pie"
           }
          ],
          "scatter": [
           {
            "fillpattern": {
             "fillmode": "overlay",
             "size": 10,
             "solidity": 0.2
            },
            "type": "scatter"
           }
          ],
          "scatter3d": [
           {
            "line": {
             "colorbar": {
              "outlinewidth": 0,
              "ticks": ""
             }
            },
            "marker": {
             "colorbar": {
              "outlinewidth": 0,
              "ticks": ""
             }
            },
            "type": "scatter3d"
           }
          ],
          "scattercarpet": [
           {
            "marker": {
             "colorbar": {
              "outlinewidth": 0,
              "ticks": ""
             }
            },
            "type": "scattercarpet"
           }
          ],
          "scattergeo": [
           {
            "marker": {
             "colorbar": {
              "outlinewidth": 0,
              "ticks": ""
             }
            },
            "type": "scattergeo"
           }
          ],
          "scattergl": [
           {
            "marker": {
             "colorbar": {
              "outlinewidth": 0,
              "ticks": ""
             }
            },
            "type": "scattergl"
           }
          ],
          "scattermapbox": [
           {
            "marker": {
             "colorbar": {
              "outlinewidth": 0,
              "ticks": ""
             }
            },
            "type": "scattermapbox"
           }
          ],
          "scatterpolar": [
           {
            "marker": {
             "colorbar": {
              "outlinewidth": 0,
              "ticks": ""
             }
            },
            "type": "scatterpolar"
           }
          ],
          "scatterpolargl": [
           {
            "marker": {
             "colorbar": {
              "outlinewidth": 0,
              "ticks": ""
             }
            },
            "type": "scatterpolargl"
           }
          ],
          "scatterternary": [
           {
            "marker": {
             "colorbar": {
              "outlinewidth": 0,
              "ticks": ""
             }
            },
            "type": "scatterternary"
           }
          ],
          "surface": [
           {
            "colorbar": {
             "outlinewidth": 0,
             "ticks": ""
            },
            "colorscale": [
             [
              0,
              "#0d0887"
             ],
             [
              0.1111111111111111,
              "#46039f"
             ],
             [
              0.2222222222222222,
              "#7201a8"
             ],
             [
              0.3333333333333333,
              "#9c179e"
             ],
             [
              0.4444444444444444,
              "#bd3786"
             ],
             [
              0.5555555555555556,
              "#d8576b"
             ],
             [
              0.6666666666666666,
              "#ed7953"
             ],
             [
              0.7777777777777778,
              "#fb9f3a"
             ],
             [
              0.8888888888888888,
              "#fdca26"
             ],
             [
              1,
              "#f0f921"
             ]
            ],
            "type": "surface"
           }
          ],
          "table": [
           {
            "cells": {
             "fill": {
              "color": "#EBF0F8"
             },
             "line": {
              "color": "white"
             }
            },
            "header": {
             "fill": {
              "color": "#C8D4E3"
             },
             "line": {
              "color": "white"
             }
            },
            "type": "table"
           }
          ]
         },
         "layout": {
          "annotationdefaults": {
           "arrowcolor": "#2a3f5f",
           "arrowhead": 0,
           "arrowwidth": 1
          },
          "autotypenumbers": "strict",
          "coloraxis": {
           "colorbar": {
            "outlinewidth": 0,
            "ticks": ""
           }
          },
          "colorscale": {
           "diverging": [
            [
             0,
             "#8e0152"
            ],
            [
             0.1,
             "#c51b7d"
            ],
            [
             0.2,
             "#de77ae"
            ],
            [
             0.3,
             "#f1b6da"
            ],
            [
             0.4,
             "#fde0ef"
            ],
            [
             0.5,
             "#f7f7f7"
            ],
            [
             0.6,
             "#e6f5d0"
            ],
            [
             0.7,
             "#b8e186"
            ],
            [
             0.8,
             "#7fbc41"
            ],
            [
             0.9,
             "#4d9221"
            ],
            [
             1,
             "#276419"
            ]
           ],
           "sequential": [
            [
             0,
             "#0d0887"
            ],
            [
             0.1111111111111111,
             "#46039f"
            ],
            [
             0.2222222222222222,
             "#7201a8"
            ],
            [
             0.3333333333333333,
             "#9c179e"
            ],
            [
             0.4444444444444444,
             "#bd3786"
            ],
            [
             0.5555555555555556,
             "#d8576b"
            ],
            [
             0.6666666666666666,
             "#ed7953"
            ],
            [
             0.7777777777777778,
             "#fb9f3a"
            ],
            [
             0.8888888888888888,
             "#fdca26"
            ],
            [
             1,
             "#f0f921"
            ]
           ],
           "sequentialminus": [
            [
             0,
             "#0d0887"
            ],
            [
             0.1111111111111111,
             "#46039f"
            ],
            [
             0.2222222222222222,
             "#7201a8"
            ],
            [
             0.3333333333333333,
             "#9c179e"
            ],
            [
             0.4444444444444444,
             "#bd3786"
            ],
            [
             0.5555555555555556,
             "#d8576b"
            ],
            [
             0.6666666666666666,
             "#ed7953"
            ],
            [
             0.7777777777777778,
             "#fb9f3a"
            ],
            [
             0.8888888888888888,
             "#fdca26"
            ],
            [
             1,
             "#f0f921"
            ]
           ]
          },
          "colorway": [
           "#636efa",
           "#EF553B",
           "#00cc96",
           "#ab63fa",
           "#FFA15A",
           "#19d3f3",
           "#FF6692",
           "#B6E880",
           "#FF97FF",
           "#FECB52"
          ],
          "font": {
           "color": "#2a3f5f"
          },
          "geo": {
           "bgcolor": "white",
           "lakecolor": "white",
           "landcolor": "#E5ECF6",
           "showlakes": true,
           "showland": true,
           "subunitcolor": "white"
          },
          "hoverlabel": {
           "align": "left"
          },
          "hovermode": "closest",
          "mapbox": {
           "style": "light"
          },
          "paper_bgcolor": "white",
          "plot_bgcolor": "#E5ECF6",
          "polar": {
           "angularaxis": {
            "gridcolor": "white",
            "linecolor": "white",
            "ticks": ""
           },
           "bgcolor": "#E5ECF6",
           "radialaxis": {
            "gridcolor": "white",
            "linecolor": "white",
            "ticks": ""
           }
          },
          "scene": {
           "xaxis": {
            "backgroundcolor": "#E5ECF6",
            "gridcolor": "white",
            "gridwidth": 2,
            "linecolor": "white",
            "showbackground": true,
            "ticks": "",
            "zerolinecolor": "white"
           },
           "yaxis": {
            "backgroundcolor": "#E5ECF6",
            "gridcolor": "white",
            "gridwidth": 2,
            "linecolor": "white",
            "showbackground": true,
            "ticks": "",
            "zerolinecolor": "white"
           },
           "zaxis": {
            "backgroundcolor": "#E5ECF6",
            "gridcolor": "white",
            "gridwidth": 2,
            "linecolor": "white",
            "showbackground": true,
            "ticks": "",
            "zerolinecolor": "white"
           }
          },
          "shapedefaults": {
           "line": {
            "color": "#2a3f5f"
           }
          },
          "ternary": {
           "aaxis": {
            "gridcolor": "white",
            "linecolor": "white",
            "ticks": ""
           },
           "baxis": {
            "gridcolor": "white",
            "linecolor": "white",
            "ticks": ""
           },
           "bgcolor": "#E5ECF6",
           "caxis": {
            "gridcolor": "white",
            "linecolor": "white",
            "ticks": ""
           }
          },
          "title": {
           "x": 0.05
          },
          "xaxis": {
           "automargin": true,
           "gridcolor": "white",
           "linecolor": "white",
           "ticks": "",
           "title": {
            "standoff": 15
           },
           "zerolinecolor": "white",
           "zerolinewidth": 2
          },
          "yaxis": {
           "automargin": true,
           "gridcolor": "white",
           "linecolor": "white",
           "ticks": "",
           "title": {
            "standoff": 15
           },
           "zerolinecolor": "white",
           "zerolinewidth": 2
          }
         }
        },
        "title": {
         "text": "Salary distribution by company_size"
        },
        "xaxis": {
         "anchor": "y",
         "categoryarray": [
          "M",
          "L",
          "S"
         ],
         "categoryorder": "array",
         "domain": [
          0,
          1
         ],
         "title": {
          "text": "company_size"
         }
        },
        "yaxis": {
         "anchor": "x",
         "domain": [
          0,
          1
         ],
         "title": {
          "text": "salary_in_usd"
         }
        }
       }
      }
     },
     "metadata": {},
     "output_type": "display_data"
    }
   ],
   "source": [
    "fig = px.box(data, x='company_size', y='salary_in_usd', color='company_size', title='Salary distribution by company_size')\n",
    "fig.show()"
   ]
  },
  {
   "cell_type": "code",
   "execution_count": 9,
   "metadata": {},
   "outputs": [
    {
     "data": {
      "application/vnd.plotly.v1+json": {
       "config": {
        "plotlyServerURL": "https://plot.ly"
       },
       "data": [
        {
         "alignmentgroup": "True",
         "hovertemplate": "company_size=%{x}<br>salary_in_usd=%{y}<extra></extra>",
         "legendgroup": "M",
         "marker": {
          "color": "#636efa",
          "pattern": {
           "shape": ""
          }
         },
         "name": "M",
         "offsetgroup": "M",
         "orientation": "v",
         "showlegend": true,
         "textposition": "auto",
         "type": "bar",
         "x": [
          "M"
         ],
         "xaxis": "x",
         "y": [
          143503.1583728278
         ],
         "yaxis": "y"
        },
        {
         "alignmentgroup": "True",
         "hovertemplate": "company_size=%{x}<br>salary_in_usd=%{y}<extra></extra>",
         "legendgroup": "L",
         "marker": {
          "color": "#EF553B",
          "pattern": {
           "shape": ""
          }
         },
         "name": "L",
         "offsetgroup": "L",
         "orientation": "v",
         "showlegend": true,
         "textposition": "auto",
         "type": "bar",
         "x": [
          "L"
         ],
         "xaxis": "x",
         "y": [
          122146.01388888889
         ],
         "yaxis": "y"
        },
        {
         "alignmentgroup": "True",
         "hovertemplate": "company_size=%{x}<br>salary_in_usd=%{y}<extra></extra>",
         "legendgroup": "S",
         "marker": {
          "color": "#00cc96",
          "pattern": {
           "shape": ""
          }
         },
         "name": "S",
         "offsetgroup": "S",
         "orientation": "v",
         "showlegend": true,
         "textposition": "auto",
         "type": "bar",
         "x": [
          "S"
         ],
         "xaxis": "x",
         "y": [
          80716.875
         ],
         "yaxis": "y"
        }
       ],
       "layout": {
        "barmode": "relative",
        "legend": {
         "title": {
          "text": "company_size"
         },
         "tracegroupgap": 0
        },
        "template": {
         "data": {
          "bar": [
           {
            "error_x": {
             "color": "#2a3f5f"
            },
            "error_y": {
             "color": "#2a3f5f"
            },
            "marker": {
             "line": {
              "color": "#E5ECF6",
              "width": 0.5
             },
             "pattern": {
              "fillmode": "overlay",
              "size": 10,
              "solidity": 0.2
             }
            },
            "type": "bar"
           }
          ],
          "barpolar": [
           {
            "marker": {
             "line": {
              "color": "#E5ECF6",
              "width": 0.5
             },
             "pattern": {
              "fillmode": "overlay",
              "size": 10,
              "solidity": 0.2
             }
            },
            "type": "barpolar"
           }
          ],
          "carpet": [
           {
            "aaxis": {
             "endlinecolor": "#2a3f5f",
             "gridcolor": "white",
             "linecolor": "white",
             "minorgridcolor": "white",
             "startlinecolor": "#2a3f5f"
            },
            "baxis": {
             "endlinecolor": "#2a3f5f",
             "gridcolor": "white",
             "linecolor": "white",
             "minorgridcolor": "white",
             "startlinecolor": "#2a3f5f"
            },
            "type": "carpet"
           }
          ],
          "choropleth": [
           {
            "colorbar": {
             "outlinewidth": 0,
             "ticks": ""
            },
            "type": "choropleth"
           }
          ],
          "contour": [
           {
            "colorbar": {
             "outlinewidth": 0,
             "ticks": ""
            },
            "colorscale": [
             [
              0,
              "#0d0887"
             ],
             [
              0.1111111111111111,
              "#46039f"
             ],
             [
              0.2222222222222222,
              "#7201a8"
             ],
             [
              0.3333333333333333,
              "#9c179e"
             ],
             [
              0.4444444444444444,
              "#bd3786"
             ],
             [
              0.5555555555555556,
              "#d8576b"
             ],
             [
              0.6666666666666666,
              "#ed7953"
             ],
             [
              0.7777777777777778,
              "#fb9f3a"
             ],
             [
              0.8888888888888888,
              "#fdca26"
             ],
             [
              1,
              "#f0f921"
             ]
            ],
            "type": "contour"
           }
          ],
          "contourcarpet": [
           {
            "colorbar": {
             "outlinewidth": 0,
             "ticks": ""
            },
            "type": "contourcarpet"
           }
          ],
          "heatmap": [
           {
            "colorbar": {
             "outlinewidth": 0,
             "ticks": ""
            },
            "colorscale": [
             [
              0,
              "#0d0887"
             ],
             [
              0.1111111111111111,
              "#46039f"
             ],
             [
              0.2222222222222222,
              "#7201a8"
             ],
             [
              0.3333333333333333,
              "#9c179e"
             ],
             [
              0.4444444444444444,
              "#bd3786"
             ],
             [
              0.5555555555555556,
              "#d8576b"
             ],
             [
              0.6666666666666666,
              "#ed7953"
             ],
             [
              0.7777777777777778,
              "#fb9f3a"
             ],
             [
              0.8888888888888888,
              "#fdca26"
             ],
             [
              1,
              "#f0f921"
             ]
            ],
            "type": "heatmap"
           }
          ],
          "heatmapgl": [
           {
            "colorbar": {
             "outlinewidth": 0,
             "ticks": ""
            },
            "colorscale": [
             [
              0,
              "#0d0887"
             ],
             [
              0.1111111111111111,
              "#46039f"
             ],
             [
              0.2222222222222222,
              "#7201a8"
             ],
             [
              0.3333333333333333,
              "#9c179e"
             ],
             [
              0.4444444444444444,
              "#bd3786"
             ],
             [
              0.5555555555555556,
              "#d8576b"
             ],
             [
              0.6666666666666666,
              "#ed7953"
             ],
             [
              0.7777777777777778,
              "#fb9f3a"
             ],
             [
              0.8888888888888888,
              "#fdca26"
             ],
             [
              1,
              "#f0f921"
             ]
            ],
            "type": "heatmapgl"
           }
          ],
          "histogram": [
           {
            "marker": {
             "pattern": {
              "fillmode": "overlay",
              "size": 10,
              "solidity": 0.2
             }
            },
            "type": "histogram"
           }
          ],
          "histogram2d": [
           {
            "colorbar": {
             "outlinewidth": 0,
             "ticks": ""
            },
            "colorscale": [
             [
              0,
              "#0d0887"
             ],
             [
              0.1111111111111111,
              "#46039f"
             ],
             [
              0.2222222222222222,
              "#7201a8"
             ],
             [
              0.3333333333333333,
              "#9c179e"
             ],
             [
              0.4444444444444444,
              "#bd3786"
             ],
             [
              0.5555555555555556,
              "#d8576b"
             ],
             [
              0.6666666666666666,
              "#ed7953"
             ],
             [
              0.7777777777777778,
              "#fb9f3a"
             ],
             [
              0.8888888888888888,
              "#fdca26"
             ],
             [
              1,
              "#f0f921"
             ]
            ],
            "type": "histogram2d"
           }
          ],
          "histogram2dcontour": [
           {
            "colorbar": {
             "outlinewidth": 0,
             "ticks": ""
            },
            "colorscale": [
             [
              0,
              "#0d0887"
             ],
             [
              0.1111111111111111,
              "#46039f"
             ],
             [
              0.2222222222222222,
              "#7201a8"
             ],
             [
              0.3333333333333333,
              "#9c179e"
             ],
             [
              0.4444444444444444,
              "#bd3786"
             ],
             [
              0.5555555555555556,
              "#d8576b"
             ],
             [
              0.6666666666666666,
              "#ed7953"
             ],
             [
              0.7777777777777778,
              "#fb9f3a"
             ],
             [
              0.8888888888888888,
              "#fdca26"
             ],
             [
              1,
              "#f0f921"
             ]
            ],
            "type": "histogram2dcontour"
           }
          ],
          "mesh3d": [
           {
            "colorbar": {
             "outlinewidth": 0,
             "ticks": ""
            },
            "type": "mesh3d"
           }
          ],
          "parcoords": [
           {
            "line": {
             "colorbar": {
              "outlinewidth": 0,
              "ticks": ""
             }
            },
            "type": "parcoords"
           }
          ],
          "pie": [
           {
            "automargin": true,
            "type": "pie"
           }
          ],
          "scatter": [
           {
            "fillpattern": {
             "fillmode": "overlay",
             "size": 10,
             "solidity": 0.2
            },
            "type": "scatter"
           }
          ],
          "scatter3d": [
           {
            "line": {
             "colorbar": {
              "outlinewidth": 0,
              "ticks": ""
             }
            },
            "marker": {
             "colorbar": {
              "outlinewidth": 0,
              "ticks": ""
             }
            },
            "type": "scatter3d"
           }
          ],
          "scattercarpet": [
           {
            "marker": {
             "colorbar": {
              "outlinewidth": 0,
              "ticks": ""
             }
            },
            "type": "scattercarpet"
           }
          ],
          "scattergeo": [
           {
            "marker": {
             "colorbar": {
              "outlinewidth": 0,
              "ticks": ""
             }
            },
            "type": "scattergeo"
           }
          ],
          "scattergl": [
           {
            "marker": {
             "colorbar": {
              "outlinewidth": 0,
              "ticks": ""
             }
            },
            "type": "scattergl"
           }
          ],
          "scattermapbox": [
           {
            "marker": {
             "colorbar": {
              "outlinewidth": 0,
              "ticks": ""
             }
            },
            "type": "scattermapbox"
           }
          ],
          "scatterpolar": [
           {
            "marker": {
             "colorbar": {
              "outlinewidth": 0,
              "ticks": ""
             }
            },
            "type": "scatterpolar"
           }
          ],
          "scatterpolargl": [
           {
            "marker": {
             "colorbar": {
              "outlinewidth": 0,
              "ticks": ""
             }
            },
            "type": "scatterpolargl"
           }
          ],
          "scatterternary": [
           {
            "marker": {
             "colorbar": {
              "outlinewidth": 0,
              "ticks": ""
             }
            },
            "type": "scatterternary"
           }
          ],
          "surface": [
           {
            "colorbar": {
             "outlinewidth": 0,
             "ticks": ""
            },
            "colorscale": [
             [
              0,
              "#0d0887"
             ],
             [
              0.1111111111111111,
              "#46039f"
             ],
             [
              0.2222222222222222,
              "#7201a8"
             ],
             [
              0.3333333333333333,
              "#9c179e"
             ],
             [
              0.4444444444444444,
              "#bd3786"
             ],
             [
              0.5555555555555556,
              "#d8576b"
             ],
             [
              0.6666666666666666,
              "#ed7953"
             ],
             [
              0.7777777777777778,
              "#fb9f3a"
             ],
             [
              0.8888888888888888,
              "#fdca26"
             ],
             [
              1,
              "#f0f921"
             ]
            ],
            "type": "surface"
           }
          ],
          "table": [
           {
            "cells": {
             "fill": {
              "color": "#EBF0F8"
             },
             "line": {
              "color": "white"
             }
            },
            "header": {
             "fill": {
              "color": "#C8D4E3"
             },
             "line": {
              "color": "white"
             }
            },
            "type": "table"
           }
          ]
         },
         "layout": {
          "annotationdefaults": {
           "arrowcolor": "#2a3f5f",
           "arrowhead": 0,
           "arrowwidth": 1
          },
          "autotypenumbers": "strict",
          "coloraxis": {
           "colorbar": {
            "outlinewidth": 0,
            "ticks": ""
           }
          },
          "colorscale": {
           "diverging": [
            [
             0,
             "#8e0152"
            ],
            [
             0.1,
             "#c51b7d"
            ],
            [
             0.2,
             "#de77ae"
            ],
            [
             0.3,
             "#f1b6da"
            ],
            [
             0.4,
             "#fde0ef"
            ],
            [
             0.5,
             "#f7f7f7"
            ],
            [
             0.6,
             "#e6f5d0"
            ],
            [
             0.7,
             "#b8e186"
            ],
            [
             0.8,
             "#7fbc41"
            ],
            [
             0.9,
             "#4d9221"
            ],
            [
             1,
             "#276419"
            ]
           ],
           "sequential": [
            [
             0,
             "#0d0887"
            ],
            [
             0.1111111111111111,
             "#46039f"
            ],
            [
             0.2222222222222222,
             "#7201a8"
            ],
            [
             0.3333333333333333,
             "#9c179e"
            ],
            [
             0.4444444444444444,
             "#bd3786"
            ],
            [
             0.5555555555555556,
             "#d8576b"
            ],
            [
             0.6666666666666666,
             "#ed7953"
            ],
            [
             0.7777777777777778,
             "#fb9f3a"
            ],
            [
             0.8888888888888888,
             "#fdca26"
            ],
            [
             1,
             "#f0f921"
            ]
           ],
           "sequentialminus": [
            [
             0,
             "#0d0887"
            ],
            [
             0.1111111111111111,
             "#46039f"
            ],
            [
             0.2222222222222222,
             "#7201a8"
            ],
            [
             0.3333333333333333,
             "#9c179e"
            ],
            [
             0.4444444444444444,
             "#bd3786"
            ],
            [
             0.5555555555555556,
             "#d8576b"
            ],
            [
             0.6666666666666666,
             "#ed7953"
            ],
            [
             0.7777777777777778,
             "#fb9f3a"
            ],
            [
             0.8888888888888888,
             "#fdca26"
            ],
            [
             1,
             "#f0f921"
            ]
           ]
          },
          "colorway": [
           "#636efa",
           "#EF553B",
           "#00cc96",
           "#ab63fa",
           "#FFA15A",
           "#19d3f3",
           "#FF6692",
           "#B6E880",
           "#FF97FF",
           "#FECB52"
          ],
          "font": {
           "color": "#2a3f5f"
          },
          "geo": {
           "bgcolor": "white",
           "lakecolor": "white",
           "landcolor": "#E5ECF6",
           "showlakes": true,
           "showland": true,
           "subunitcolor": "white"
          },
          "hoverlabel": {
           "align": "left"
          },
          "hovermode": "closest",
          "mapbox": {
           "style": "light"
          },
          "paper_bgcolor": "white",
          "plot_bgcolor": "#E5ECF6",
          "polar": {
           "angularaxis": {
            "gridcolor": "white",
            "linecolor": "white",
            "ticks": ""
           },
           "bgcolor": "#E5ECF6",
           "radialaxis": {
            "gridcolor": "white",
            "linecolor": "white",
            "ticks": ""
           }
          },
          "scene": {
           "xaxis": {
            "backgroundcolor": "#E5ECF6",
            "gridcolor": "white",
            "gridwidth": 2,
            "linecolor": "white",
            "showbackground": true,
            "ticks": "",
            "zerolinecolor": "white"
           },
           "yaxis": {
            "backgroundcolor": "#E5ECF6",
            "gridcolor": "white",
            "gridwidth": 2,
            "linecolor": "white",
            "showbackground": true,
            "ticks": "",
            "zerolinecolor": "white"
           },
           "zaxis": {
            "backgroundcolor": "#E5ECF6",
            "gridcolor": "white",
            "gridwidth": 2,
            "linecolor": "white",
            "showbackground": true,
            "ticks": "",
            "zerolinecolor": "white"
           }
          },
          "shapedefaults": {
           "line": {
            "color": "#2a3f5f"
           }
          },
          "ternary": {
           "aaxis": {
            "gridcolor": "white",
            "linecolor": "white",
            "ticks": ""
           },
           "baxis": {
            "gridcolor": "white",
            "linecolor": "white",
            "ticks": ""
           },
           "bgcolor": "#E5ECF6",
           "caxis": {
            "gridcolor": "white",
            "linecolor": "white",
            "ticks": ""
           }
          },
          "title": {
           "x": 0.05
          },
          "xaxis": {
           "automargin": true,
           "gridcolor": "white",
           "linecolor": "white",
           "ticks": "",
           "title": {
            "standoff": 15
           },
           "zerolinecolor": "white",
           "zerolinewidth": 2
          },
          "yaxis": {
           "automargin": true,
           "gridcolor": "white",
           "linecolor": "white",
           "ticks": "",
           "title": {
            "standoff": 15
           },
           "zerolinecolor": "white",
           "zerolinewidth": 2
          }
         }
        },
        "title": {
         "text": "Salary distribution by company_size"
        },
        "xaxis": {
         "anchor": "y",
         "categoryarray": [
          "M",
          "L",
          "S"
         ],
         "categoryorder": "array",
         "domain": [
          0,
          1
         ],
         "title": {
          "text": "company_size"
         }
        },
        "yaxis": {
         "anchor": "x",
         "domain": [
          0,
          1
         ],
         "title": {
          "text": "salary_in_usd"
         }
        }
       }
      }
     },
     "metadata": {},
     "output_type": "display_data"
    }
   ],
   "source": [
    "comp_by_sal = data.groupby('company_size')[target].mean().sort_values(ascending=False).reset_index()\n",
    "fig = px.bar(comp_by_sal, x='company_size', y='salary_in_usd', color='company_size', title='Salary distribution by company_size')\n",
    "fig.show()"
   ]
  },
  {
   "cell_type": "markdown",
   "metadata": {},
   "source": [
    "Les salaires dans les entreprises de taille moyenne et grande sont plus élevés et plus variés que dans les petites entreprises. Les petites entreprises semblent offrir des salaires plus bas mais plus homogènes."
   ]
  },
  {
   "cell_type": "code",
   "execution_count": 10,
   "metadata": {},
   "outputs": [
    {
     "data": {
      "application/vnd.plotly.v1+json": {
       "config": {
        "plotlyServerURL": "https://plot.ly"
       },
       "data": [
        {
         "alignmentgroup": "True",
         "hovertemplate": "experience_level=%{x}<br>salary_in_usd=%{y}<extra></extra>",
         "legendgroup": "EX",
         "marker": {
          "color": "#636efa",
          "pattern": {
           "shape": ""
          }
         },
         "name": "EX",
         "offsetgroup": "EX",
         "orientation": "v",
         "showlegend": true,
         "textposition": "auto",
         "type": "bar",
         "x": [
          "EX"
         ],
         "xaxis": "x",
         "y": [
          193029.90526315788
         ],
         "yaxis": "y"
        },
        {
         "alignmentgroup": "True",
         "hovertemplate": "experience_level=%{x}<br>salary_in_usd=%{y}<extra></extra>",
         "legendgroup": "SE",
         "marker": {
          "color": "#EF553B",
          "pattern": {
           "shape": ""
          }
         },
         "name": "SE",
         "offsetgroup": "SE",
         "orientation": "v",
         "showlegend": true,
         "textposition": "auto",
         "type": "bar",
         "x": [
          "SE"
         ],
         "xaxis": "x",
         "y": [
          153182.75602557795
         ],
         "yaxis": "y"
        },
        {
         "alignmentgroup": "True",
         "hovertemplate": "experience_level=%{x}<br>salary_in_usd=%{y}<extra></extra>",
         "legendgroup": "MI",
         "marker": {
          "color": "#00cc96",
          "pattern": {
           "shape": ""
          }
         },
         "name": "MI",
         "offsetgroup": "MI",
         "orientation": "v",
         "showlegend": true,
         "textposition": "auto",
         "type": "bar",
         "x": [
          "MI"
         ],
         "xaxis": "x",
         "y": [
          106109.37539432176
         ],
         "yaxis": "y"
        },
        {
         "alignmentgroup": "True",
         "hovertemplate": "experience_level=%{x}<br>salary_in_usd=%{y}<extra></extra>",
         "legendgroup": "EN",
         "marker": {
          "color": "#ab63fa",
          "pattern": {
           "shape": ""
          }
         },
         "name": "EN",
         "offsetgroup": "EN",
         "orientation": "v",
         "showlegend": true,
         "textposition": "auto",
         "type": "bar",
         "x": [
          "EN"
         ],
         "xaxis": "x",
         "y": [
          79880.67768595042
         ],
         "yaxis": "y"
        }
       ],
       "layout": {
        "barmode": "relative",
        "legend": {
         "title": {
          "text": "experience_level"
         },
         "tracegroupgap": 0
        },
        "template": {
         "data": {
          "bar": [
           {
            "error_x": {
             "color": "#2a3f5f"
            },
            "error_y": {
             "color": "#2a3f5f"
            },
            "marker": {
             "line": {
              "color": "#E5ECF6",
              "width": 0.5
             },
             "pattern": {
              "fillmode": "overlay",
              "size": 10,
              "solidity": 0.2
             }
            },
            "type": "bar"
           }
          ],
          "barpolar": [
           {
            "marker": {
             "line": {
              "color": "#E5ECF6",
              "width": 0.5
             },
             "pattern": {
              "fillmode": "overlay",
              "size": 10,
              "solidity": 0.2
             }
            },
            "type": "barpolar"
           }
          ],
          "carpet": [
           {
            "aaxis": {
             "endlinecolor": "#2a3f5f",
             "gridcolor": "white",
             "linecolor": "white",
             "minorgridcolor": "white",
             "startlinecolor": "#2a3f5f"
            },
            "baxis": {
             "endlinecolor": "#2a3f5f",
             "gridcolor": "white",
             "linecolor": "white",
             "minorgridcolor": "white",
             "startlinecolor": "#2a3f5f"
            },
            "type": "carpet"
           }
          ],
          "choropleth": [
           {
            "colorbar": {
             "outlinewidth": 0,
             "ticks": ""
            },
            "type": "choropleth"
           }
          ],
          "contour": [
           {
            "colorbar": {
             "outlinewidth": 0,
             "ticks": ""
            },
            "colorscale": [
             [
              0,
              "#0d0887"
             ],
             [
              0.1111111111111111,
              "#46039f"
             ],
             [
              0.2222222222222222,
              "#7201a8"
             ],
             [
              0.3333333333333333,
              "#9c179e"
             ],
             [
              0.4444444444444444,
              "#bd3786"
             ],
             [
              0.5555555555555556,
              "#d8576b"
             ],
             [
              0.6666666666666666,
              "#ed7953"
             ],
             [
              0.7777777777777778,
              "#fb9f3a"
             ],
             [
              0.8888888888888888,
              "#fdca26"
             ],
             [
              1,
              "#f0f921"
             ]
            ],
            "type": "contour"
           }
          ],
          "contourcarpet": [
           {
            "colorbar": {
             "outlinewidth": 0,
             "ticks": ""
            },
            "type": "contourcarpet"
           }
          ],
          "heatmap": [
           {
            "colorbar": {
             "outlinewidth": 0,
             "ticks": ""
            },
            "colorscale": [
             [
              0,
              "#0d0887"
             ],
             [
              0.1111111111111111,
              "#46039f"
             ],
             [
              0.2222222222222222,
              "#7201a8"
             ],
             [
              0.3333333333333333,
              "#9c179e"
             ],
             [
              0.4444444444444444,
              "#bd3786"
             ],
             [
              0.5555555555555556,
              "#d8576b"
             ],
             [
              0.6666666666666666,
              "#ed7953"
             ],
             [
              0.7777777777777778,
              "#fb9f3a"
             ],
             [
              0.8888888888888888,
              "#fdca26"
             ],
             [
              1,
              "#f0f921"
             ]
            ],
            "type": "heatmap"
           }
          ],
          "heatmapgl": [
           {
            "colorbar": {
             "outlinewidth": 0,
             "ticks": ""
            },
            "colorscale": [
             [
              0,
              "#0d0887"
             ],
             [
              0.1111111111111111,
              "#46039f"
             ],
             [
              0.2222222222222222,
              "#7201a8"
             ],
             [
              0.3333333333333333,
              "#9c179e"
             ],
             [
              0.4444444444444444,
              "#bd3786"
             ],
             [
              0.5555555555555556,
              "#d8576b"
             ],
             [
              0.6666666666666666,
              "#ed7953"
             ],
             [
              0.7777777777777778,
              "#fb9f3a"
             ],
             [
              0.8888888888888888,
              "#fdca26"
             ],
             [
              1,
              "#f0f921"
             ]
            ],
            "type": "heatmapgl"
           }
          ],
          "histogram": [
           {
            "marker": {
             "pattern": {
              "fillmode": "overlay",
              "size": 10,
              "solidity": 0.2
             }
            },
            "type": "histogram"
           }
          ],
          "histogram2d": [
           {
            "colorbar": {
             "outlinewidth": 0,
             "ticks": ""
            },
            "colorscale": [
             [
              0,
              "#0d0887"
             ],
             [
              0.1111111111111111,
              "#46039f"
             ],
             [
              0.2222222222222222,
              "#7201a8"
             ],
             [
              0.3333333333333333,
              "#9c179e"
             ],
             [
              0.4444444444444444,
              "#bd3786"
             ],
             [
              0.5555555555555556,
              "#d8576b"
             ],
             [
              0.6666666666666666,
              "#ed7953"
             ],
             [
              0.7777777777777778,
              "#fb9f3a"
             ],
             [
              0.8888888888888888,
              "#fdca26"
             ],
             [
              1,
              "#f0f921"
             ]
            ],
            "type": "histogram2d"
           }
          ],
          "histogram2dcontour": [
           {
            "colorbar": {
             "outlinewidth": 0,
             "ticks": ""
            },
            "colorscale": [
             [
              0,
              "#0d0887"
             ],
             [
              0.1111111111111111,
              "#46039f"
             ],
             [
              0.2222222222222222,
              "#7201a8"
             ],
             [
              0.3333333333333333,
              "#9c179e"
             ],
             [
              0.4444444444444444,
              "#bd3786"
             ],
             [
              0.5555555555555556,
              "#d8576b"
             ],
             [
              0.6666666666666666,
              "#ed7953"
             ],
             [
              0.7777777777777778,
              "#fb9f3a"
             ],
             [
              0.8888888888888888,
              "#fdca26"
             ],
             [
              1,
              "#f0f921"
             ]
            ],
            "type": "histogram2dcontour"
           }
          ],
          "mesh3d": [
           {
            "colorbar": {
             "outlinewidth": 0,
             "ticks": ""
            },
            "type": "mesh3d"
           }
          ],
          "parcoords": [
           {
            "line": {
             "colorbar": {
              "outlinewidth": 0,
              "ticks": ""
             }
            },
            "type": "parcoords"
           }
          ],
          "pie": [
           {
            "automargin": true,
            "type": "pie"
           }
          ],
          "scatter": [
           {
            "fillpattern": {
             "fillmode": "overlay",
             "size": 10,
             "solidity": 0.2
            },
            "type": "scatter"
           }
          ],
          "scatter3d": [
           {
            "line": {
             "colorbar": {
              "outlinewidth": 0,
              "ticks": ""
             }
            },
            "marker": {
             "colorbar": {
              "outlinewidth": 0,
              "ticks": ""
             }
            },
            "type": "scatter3d"
           }
          ],
          "scattercarpet": [
           {
            "marker": {
             "colorbar": {
              "outlinewidth": 0,
              "ticks": ""
             }
            },
            "type": "scattercarpet"
           }
          ],
          "scattergeo": [
           {
            "marker": {
             "colorbar": {
              "outlinewidth": 0,
              "ticks": ""
             }
            },
            "type": "scattergeo"
           }
          ],
          "scattergl": [
           {
            "marker": {
             "colorbar": {
              "outlinewidth": 0,
              "ticks": ""
             }
            },
            "type": "scattergl"
           }
          ],
          "scattermapbox": [
           {
            "marker": {
             "colorbar": {
              "outlinewidth": 0,
              "ticks": ""
             }
            },
            "type": "scattermapbox"
           }
          ],
          "scatterpolar": [
           {
            "marker": {
             "colorbar": {
              "outlinewidth": 0,
              "ticks": ""
             }
            },
            "type": "scatterpolar"
           }
          ],
          "scatterpolargl": [
           {
            "marker": {
             "colorbar": {
              "outlinewidth": 0,
              "ticks": ""
             }
            },
            "type": "scatterpolargl"
           }
          ],
          "scatterternary": [
           {
            "marker": {
             "colorbar": {
              "outlinewidth": 0,
              "ticks": ""
             }
            },
            "type": "scatterternary"
           }
          ],
          "surface": [
           {
            "colorbar": {
             "outlinewidth": 0,
             "ticks": ""
            },
            "colorscale": [
             [
              0,
              "#0d0887"
             ],
             [
              0.1111111111111111,
              "#46039f"
             ],
             [
              0.2222222222222222,
              "#7201a8"
             ],
             [
              0.3333333333333333,
              "#9c179e"
             ],
             [
              0.4444444444444444,
              "#bd3786"
             ],
             [
              0.5555555555555556,
              "#d8576b"
             ],
             [
              0.6666666666666666,
              "#ed7953"
             ],
             [
              0.7777777777777778,
              "#fb9f3a"
             ],
             [
              0.8888888888888888,
              "#fdca26"
             ],
             [
              1,
              "#f0f921"
             ]
            ],
            "type": "surface"
           }
          ],
          "table": [
           {
            "cells": {
             "fill": {
              "color": "#EBF0F8"
             },
             "line": {
              "color": "white"
             }
            },
            "header": {
             "fill": {
              "color": "#C8D4E3"
             },
             "line": {
              "color": "white"
             }
            },
            "type": "table"
           }
          ]
         },
         "layout": {
          "annotationdefaults": {
           "arrowcolor": "#2a3f5f",
           "arrowhead": 0,
           "arrowwidth": 1
          },
          "autotypenumbers": "strict",
          "coloraxis": {
           "colorbar": {
            "outlinewidth": 0,
            "ticks": ""
           }
          },
          "colorscale": {
           "diverging": [
            [
             0,
             "#8e0152"
            ],
            [
             0.1,
             "#c51b7d"
            ],
            [
             0.2,
             "#de77ae"
            ],
            [
             0.3,
             "#f1b6da"
            ],
            [
             0.4,
             "#fde0ef"
            ],
            [
             0.5,
             "#f7f7f7"
            ],
            [
             0.6,
             "#e6f5d0"
            ],
            [
             0.7,
             "#b8e186"
            ],
            [
             0.8,
             "#7fbc41"
            ],
            [
             0.9,
             "#4d9221"
            ],
            [
             1,
             "#276419"
            ]
           ],
           "sequential": [
            [
             0,
             "#0d0887"
            ],
            [
             0.1111111111111111,
             "#46039f"
            ],
            [
             0.2222222222222222,
             "#7201a8"
            ],
            [
             0.3333333333333333,
             "#9c179e"
            ],
            [
             0.4444444444444444,
             "#bd3786"
            ],
            [
             0.5555555555555556,
             "#d8576b"
            ],
            [
             0.6666666666666666,
             "#ed7953"
            ],
            [
             0.7777777777777778,
             "#fb9f3a"
            ],
            [
             0.8888888888888888,
             "#fdca26"
            ],
            [
             1,
             "#f0f921"
            ]
           ],
           "sequentialminus": [
            [
             0,
             "#0d0887"
            ],
            [
             0.1111111111111111,
             "#46039f"
            ],
            [
             0.2222222222222222,
             "#7201a8"
            ],
            [
             0.3333333333333333,
             "#9c179e"
            ],
            [
             0.4444444444444444,
             "#bd3786"
            ],
            [
             0.5555555555555556,
             "#d8576b"
            ],
            [
             0.6666666666666666,
             "#ed7953"
            ],
            [
             0.7777777777777778,
             "#fb9f3a"
            ],
            [
             0.8888888888888888,
             "#fdca26"
            ],
            [
             1,
             "#f0f921"
            ]
           ]
          },
          "colorway": [
           "#636efa",
           "#EF553B",
           "#00cc96",
           "#ab63fa",
           "#FFA15A",
           "#19d3f3",
           "#FF6692",
           "#B6E880",
           "#FF97FF",
           "#FECB52"
          ],
          "font": {
           "color": "#2a3f5f"
          },
          "geo": {
           "bgcolor": "white",
           "lakecolor": "white",
           "landcolor": "#E5ECF6",
           "showlakes": true,
           "showland": true,
           "subunitcolor": "white"
          },
          "hoverlabel": {
           "align": "left"
          },
          "hovermode": "closest",
          "mapbox": {
           "style": "light"
          },
          "paper_bgcolor": "white",
          "plot_bgcolor": "#E5ECF6",
          "polar": {
           "angularaxis": {
            "gridcolor": "white",
            "linecolor": "white",
            "ticks": ""
           },
           "bgcolor": "#E5ECF6",
           "radialaxis": {
            "gridcolor": "white",
            "linecolor": "white",
            "ticks": ""
           }
          },
          "scene": {
           "xaxis": {
            "backgroundcolor": "#E5ECF6",
            "gridcolor": "white",
            "gridwidth": 2,
            "linecolor": "white",
            "showbackground": true,
            "ticks": "",
            "zerolinecolor": "white"
           },
           "yaxis": {
            "backgroundcolor": "#E5ECF6",
            "gridcolor": "white",
            "gridwidth": 2,
            "linecolor": "white",
            "showbackground": true,
            "ticks": "",
            "zerolinecolor": "white"
           },
           "zaxis": {
            "backgroundcolor": "#E5ECF6",
            "gridcolor": "white",
            "gridwidth": 2,
            "linecolor": "white",
            "showbackground": true,
            "ticks": "",
            "zerolinecolor": "white"
           }
          },
          "shapedefaults": {
           "line": {
            "color": "#2a3f5f"
           }
          },
          "ternary": {
           "aaxis": {
            "gridcolor": "white",
            "linecolor": "white",
            "ticks": ""
           },
           "baxis": {
            "gridcolor": "white",
            "linecolor": "white",
            "ticks": ""
           },
           "bgcolor": "#E5ECF6",
           "caxis": {
            "gridcolor": "white",
            "linecolor": "white",
            "ticks": ""
           }
          },
          "title": {
           "x": 0.05
          },
          "xaxis": {
           "automargin": true,
           "gridcolor": "white",
           "linecolor": "white",
           "ticks": "",
           "title": {
            "standoff": 15
           },
           "zerolinecolor": "white",
           "zerolinewidth": 2
          },
          "yaxis": {
           "automargin": true,
           "gridcolor": "white",
           "linecolor": "white",
           "ticks": "",
           "title": {
            "standoff": 15
           },
           "zerolinecolor": "white",
           "zerolinewidth": 2
          }
         }
        },
        "title": {
         "text": "Salary distribution by experience_level"
        },
        "xaxis": {
         "anchor": "y",
         "categoryarray": [
          "EX",
          "SE",
          "MI",
          "EN"
         ],
         "categoryorder": "array",
         "domain": [
          0,
          1
         ],
         "title": {
          "text": "experience_level"
         }
        },
        "yaxis": {
         "anchor": "x",
         "domain": [
          0,
          1
         ],
         "title": {
          "text": "salary_in_usd"
         }
        }
       }
      }
     },
     "metadata": {},
     "output_type": "display_data"
    }
   ],
   "source": [
    "exp_by_sal = data.groupby('experience_level')[target].mean().sort_values(ascending=False).reset_index()\n",
    "fig = px.bar(exp_by_sal, x='experience_level', y='salary_in_usd', color='experience_level', title='Salary distribution by experience_level')\n",
    "fig.show()"
   ]
  },
  {
   "cell_type": "code",
   "execution_count": 11,
   "metadata": {},
   "outputs": [
    {
     "data": {
      "application/vnd.plotly.v1+json": {
       "config": {
        "plotlyServerURL": "https://plot.ly"
       },
       "data": [
        {
         "alignmentgroup": "True",
         "hovertemplate": "employment_type=%{x}<br>salary_in_usd=%{y}<extra></extra>",
         "legendgroup": "FT",
         "marker": {
          "color": "#636efa",
          "pattern": {
           "shape": ""
          }
         },
         "name": "FT",
         "offsetgroup": "FT",
         "orientation": "v",
         "showlegend": true,
         "textposition": "auto",
         "type": "bar",
         "x": [
          "FT"
         ],
         "xaxis": "x",
         "y": [
          139271.11592741936
         ],
         "yaxis": "y"
        },
        {
         "alignmentgroup": "True",
         "hovertemplate": "employment_type=%{x}<br>salary_in_usd=%{y}<extra></extra>",
         "legendgroup": "CT",
         "marker": {
          "color": "#EF553B",
          "pattern": {
           "shape": ""
          }
         },
         "name": "CT",
         "offsetgroup": "CT",
         "orientation": "v",
         "showlegend": true,
         "textposition": "auto",
         "type": "bar",
         "x": [
          "CT"
         ],
         "xaxis": "x",
         "y": [
          125558.625
         ],
         "yaxis": "y"
        },
        {
         "alignmentgroup": "True",
         "hovertemplate": "employment_type=%{x}<br>salary_in_usd=%{y}<extra></extra>",
         "legendgroup": "FL",
         "marker": {
          "color": "#00cc96",
          "pattern": {
           "shape": ""
          }
         },
         "name": "FL",
         "offsetgroup": "FL",
         "orientation": "v",
         "showlegend": true,
         "textposition": "auto",
         "type": "bar",
         "x": [
          "FL"
         ],
         "xaxis": "x",
         "y": [
          46453.11111111111
         ],
         "yaxis": "y"
        },
        {
         "alignmentgroup": "True",
         "hovertemplate": "employment_type=%{x}<br>salary_in_usd=%{y}<extra></extra>",
         "legendgroup": "PT",
         "marker": {
          "color": "#ab63fa",
          "pattern": {
           "shape": ""
          }
         },
         "name": "PT",
         "offsetgroup": "PT",
         "orientation": "v",
         "showlegend": true,
         "textposition": "auto",
         "type": "bar",
         "x": [
          "PT"
         ],
         "xaxis": "x",
         "y": [
          42678.545454545456
         ],
         "yaxis": "y"
        }
       ],
       "layout": {
        "barmode": "relative",
        "legend": {
         "title": {
          "text": "employment_type"
         },
         "tracegroupgap": 0
        },
        "template": {
         "data": {
          "bar": [
           {
            "error_x": {
             "color": "#2a3f5f"
            },
            "error_y": {
             "color": "#2a3f5f"
            },
            "marker": {
             "line": {
              "color": "#E5ECF6",
              "width": 0.5
             },
             "pattern": {
              "fillmode": "overlay",
              "size": 10,
              "solidity": 0.2
             }
            },
            "type": "bar"
           }
          ],
          "barpolar": [
           {
            "marker": {
             "line": {
              "color": "#E5ECF6",
              "width": 0.5
             },
             "pattern": {
              "fillmode": "overlay",
              "size": 10,
              "solidity": 0.2
             }
            },
            "type": "barpolar"
           }
          ],
          "carpet": [
           {
            "aaxis": {
             "endlinecolor": "#2a3f5f",
             "gridcolor": "white",
             "linecolor": "white",
             "minorgridcolor": "white",
             "startlinecolor": "#2a3f5f"
            },
            "baxis": {
             "endlinecolor": "#2a3f5f",
             "gridcolor": "white",
             "linecolor": "white",
             "minorgridcolor": "white",
             "startlinecolor": "#2a3f5f"
            },
            "type": "carpet"
           }
          ],
          "choropleth": [
           {
            "colorbar": {
             "outlinewidth": 0,
             "ticks": ""
            },
            "type": "choropleth"
           }
          ],
          "contour": [
           {
            "colorbar": {
             "outlinewidth": 0,
             "ticks": ""
            },
            "colorscale": [
             [
              0,
              "#0d0887"
             ],
             [
              0.1111111111111111,
              "#46039f"
             ],
             [
              0.2222222222222222,
              "#7201a8"
             ],
             [
              0.3333333333333333,
              "#9c179e"
             ],
             [
              0.4444444444444444,
              "#bd3786"
             ],
             [
              0.5555555555555556,
              "#d8576b"
             ],
             [
              0.6666666666666666,
              "#ed7953"
             ],
             [
              0.7777777777777778,
              "#fb9f3a"
             ],
             [
              0.8888888888888888,
              "#fdca26"
             ],
             [
              1,
              "#f0f921"
             ]
            ],
            "type": "contour"
           }
          ],
          "contourcarpet": [
           {
            "colorbar": {
             "outlinewidth": 0,
             "ticks": ""
            },
            "type": "contourcarpet"
           }
          ],
          "heatmap": [
           {
            "colorbar": {
             "outlinewidth": 0,
             "ticks": ""
            },
            "colorscale": [
             [
              0,
              "#0d0887"
             ],
             [
              0.1111111111111111,
              "#46039f"
             ],
             [
              0.2222222222222222,
              "#7201a8"
             ],
             [
              0.3333333333333333,
              "#9c179e"
             ],
             [
              0.4444444444444444,
              "#bd3786"
             ],
             [
              0.5555555555555556,
              "#d8576b"
             ],
             [
              0.6666666666666666,
              "#ed7953"
             ],
             [
              0.7777777777777778,
              "#fb9f3a"
             ],
             [
              0.8888888888888888,
              "#fdca26"
             ],
             [
              1,
              "#f0f921"
             ]
            ],
            "type": "heatmap"
           }
          ],
          "heatmapgl": [
           {
            "colorbar": {
             "outlinewidth": 0,
             "ticks": ""
            },
            "colorscale": [
             [
              0,
              "#0d0887"
             ],
             [
              0.1111111111111111,
              "#46039f"
             ],
             [
              0.2222222222222222,
              "#7201a8"
             ],
             [
              0.3333333333333333,
              "#9c179e"
             ],
             [
              0.4444444444444444,
              "#bd3786"
             ],
             [
              0.5555555555555556,
              "#d8576b"
             ],
             [
              0.6666666666666666,
              "#ed7953"
             ],
             [
              0.7777777777777778,
              "#fb9f3a"
             ],
             [
              0.8888888888888888,
              "#fdca26"
             ],
             [
              1,
              "#f0f921"
             ]
            ],
            "type": "heatmapgl"
           }
          ],
          "histogram": [
           {
            "marker": {
             "pattern": {
              "fillmode": "overlay",
              "size": 10,
              "solidity": 0.2
             }
            },
            "type": "histogram"
           }
          ],
          "histogram2d": [
           {
            "colorbar": {
             "outlinewidth": 0,
             "ticks": ""
            },
            "colorscale": [
             [
              0,
              "#0d0887"
             ],
             [
              0.1111111111111111,
              "#46039f"
             ],
             [
              0.2222222222222222,
              "#7201a8"
             ],
             [
              0.3333333333333333,
              "#9c179e"
             ],
             [
              0.4444444444444444,
              "#bd3786"
             ],
             [
              0.5555555555555556,
              "#d8576b"
             ],
             [
              0.6666666666666666,
              "#ed7953"
             ],
             [
              0.7777777777777778,
              "#fb9f3a"
             ],
             [
              0.8888888888888888,
              "#fdca26"
             ],
             [
              1,
              "#f0f921"
             ]
            ],
            "type": "histogram2d"
           }
          ],
          "histogram2dcontour": [
           {
            "colorbar": {
             "outlinewidth": 0,
             "ticks": ""
            },
            "colorscale": [
             [
              0,
              "#0d0887"
             ],
             [
              0.1111111111111111,
              "#46039f"
             ],
             [
              0.2222222222222222,
              "#7201a8"
             ],
             [
              0.3333333333333333,
              "#9c179e"
             ],
             [
              0.4444444444444444,
              "#bd3786"
             ],
             [
              0.5555555555555556,
              "#d8576b"
             ],
             [
              0.6666666666666666,
              "#ed7953"
             ],
             [
              0.7777777777777778,
              "#fb9f3a"
             ],
             [
              0.8888888888888888,
              "#fdca26"
             ],
             [
              1,
              "#f0f921"
             ]
            ],
            "type": "histogram2dcontour"
           }
          ],
          "mesh3d": [
           {
            "colorbar": {
             "outlinewidth": 0,
             "ticks": ""
            },
            "type": "mesh3d"
           }
          ],
          "parcoords": [
           {
            "line": {
             "colorbar": {
              "outlinewidth": 0,
              "ticks": ""
             }
            },
            "type": "parcoords"
           }
          ],
          "pie": [
           {
            "automargin": true,
            "type": "pie"
           }
          ],
          "scatter": [
           {
            "fillpattern": {
             "fillmode": "overlay",
             "size": 10,
             "solidity": 0.2
            },
            "type": "scatter"
           }
          ],
          "scatter3d": [
           {
            "line": {
             "colorbar": {
              "outlinewidth": 0,
              "ticks": ""
             }
            },
            "marker": {
             "colorbar": {
              "outlinewidth": 0,
              "ticks": ""
             }
            },
            "type": "scatter3d"
           }
          ],
          "scattercarpet": [
           {
            "marker": {
             "colorbar": {
              "outlinewidth": 0,
              "ticks": ""
             }
            },
            "type": "scattercarpet"
           }
          ],
          "scattergeo": [
           {
            "marker": {
             "colorbar": {
              "outlinewidth": 0,
              "ticks": ""
             }
            },
            "type": "scattergeo"
           }
          ],
          "scattergl": [
           {
            "marker": {
             "colorbar": {
              "outlinewidth": 0,
              "ticks": ""
             }
            },
            "type": "scattergl"
           }
          ],
          "scattermapbox": [
           {
            "marker": {
             "colorbar": {
              "outlinewidth": 0,
              "ticks": ""
             }
            },
            "type": "scattermapbox"
           }
          ],
          "scatterpolar": [
           {
            "marker": {
             "colorbar": {
              "outlinewidth": 0,
              "ticks": ""
             }
            },
            "type": "scatterpolar"
           }
          ],
          "scatterpolargl": [
           {
            "marker": {
             "colorbar": {
              "outlinewidth": 0,
              "ticks": ""
             }
            },
            "type": "scatterpolargl"
           }
          ],
          "scatterternary": [
           {
            "marker": {
             "colorbar": {
              "outlinewidth": 0,
              "ticks": ""
             }
            },
            "type": "scatterternary"
           }
          ],
          "surface": [
           {
            "colorbar": {
             "outlinewidth": 0,
             "ticks": ""
            },
            "colorscale": [
             [
              0,
              "#0d0887"
             ],
             [
              0.1111111111111111,
              "#46039f"
             ],
             [
              0.2222222222222222,
              "#7201a8"
             ],
             [
              0.3333333333333333,
              "#9c179e"
             ],
             [
              0.4444444444444444,
              "#bd3786"
             ],
             [
              0.5555555555555556,
              "#d8576b"
             ],
             [
              0.6666666666666666,
              "#ed7953"
             ],
             [
              0.7777777777777778,
              "#fb9f3a"
             ],
             [
              0.8888888888888888,
              "#fdca26"
             ],
             [
              1,
              "#f0f921"
             ]
            ],
            "type": "surface"
           }
          ],
          "table": [
           {
            "cells": {
             "fill": {
              "color": "#EBF0F8"
             },
             "line": {
              "color": "white"
             }
            },
            "header": {
             "fill": {
              "color": "#C8D4E3"
             },
             "line": {
              "color": "white"
             }
            },
            "type": "table"
           }
          ]
         },
         "layout": {
          "annotationdefaults": {
           "arrowcolor": "#2a3f5f",
           "arrowhead": 0,
           "arrowwidth": 1
          },
          "autotypenumbers": "strict",
          "coloraxis": {
           "colorbar": {
            "outlinewidth": 0,
            "ticks": ""
           }
          },
          "colorscale": {
           "diverging": [
            [
             0,
             "#8e0152"
            ],
            [
             0.1,
             "#c51b7d"
            ],
            [
             0.2,
             "#de77ae"
            ],
            [
             0.3,
             "#f1b6da"
            ],
            [
             0.4,
             "#fde0ef"
            ],
            [
             0.5,
             "#f7f7f7"
            ],
            [
             0.6,
             "#e6f5d0"
            ],
            [
             0.7,
             "#b8e186"
            ],
            [
             0.8,
             "#7fbc41"
            ],
            [
             0.9,
             "#4d9221"
            ],
            [
             1,
             "#276419"
            ]
           ],
           "sequential": [
            [
             0,
             "#0d0887"
            ],
            [
             0.1111111111111111,
             "#46039f"
            ],
            [
             0.2222222222222222,
             "#7201a8"
            ],
            [
             0.3333333333333333,
             "#9c179e"
            ],
            [
             0.4444444444444444,
             "#bd3786"
            ],
            [
             0.5555555555555556,
             "#d8576b"
            ],
            [
             0.6666666666666666,
             "#ed7953"
            ],
            [
             0.7777777777777778,
             "#fb9f3a"
            ],
            [
             0.8888888888888888,
             "#fdca26"
            ],
            [
             1,
             "#f0f921"
            ]
           ],
           "sequentialminus": [
            [
             0,
             "#0d0887"
            ],
            [
             0.1111111111111111,
             "#46039f"
            ],
            [
             0.2222222222222222,
             "#7201a8"
            ],
            [
             0.3333333333333333,
             "#9c179e"
            ],
            [
             0.4444444444444444,
             "#bd3786"
            ],
            [
             0.5555555555555556,
             "#d8576b"
            ],
            [
             0.6666666666666666,
             "#ed7953"
            ],
            [
             0.7777777777777778,
             "#fb9f3a"
            ],
            [
             0.8888888888888888,
             "#fdca26"
            ],
            [
             1,
             "#f0f921"
            ]
           ]
          },
          "colorway": [
           "#636efa",
           "#EF553B",
           "#00cc96",
           "#ab63fa",
           "#FFA15A",
           "#19d3f3",
           "#FF6692",
           "#B6E880",
           "#FF97FF",
           "#FECB52"
          ],
          "font": {
           "color": "#2a3f5f"
          },
          "geo": {
           "bgcolor": "white",
           "lakecolor": "white",
           "landcolor": "#E5ECF6",
           "showlakes": true,
           "showland": true,
           "subunitcolor": "white"
          },
          "hoverlabel": {
           "align": "left"
          },
          "hovermode": "closest",
          "mapbox": {
           "style": "light"
          },
          "paper_bgcolor": "white",
          "plot_bgcolor": "#E5ECF6",
          "polar": {
           "angularaxis": {
            "gridcolor": "white",
            "linecolor": "white",
            "ticks": ""
           },
           "bgcolor": "#E5ECF6",
           "radialaxis": {
            "gridcolor": "white",
            "linecolor": "white",
            "ticks": ""
           }
          },
          "scene": {
           "xaxis": {
            "backgroundcolor": "#E5ECF6",
            "gridcolor": "white",
            "gridwidth": 2,
            "linecolor": "white",
            "showbackground": true,
            "ticks": "",
            "zerolinecolor": "white"
           },
           "yaxis": {
            "backgroundcolor": "#E5ECF6",
            "gridcolor": "white",
            "gridwidth": 2,
            "linecolor": "white",
            "showbackground": true,
            "ticks": "",
            "zerolinecolor": "white"
           },
           "zaxis": {
            "backgroundcolor": "#E5ECF6",
            "gridcolor": "white",
            "gridwidth": 2,
            "linecolor": "white",
            "showbackground": true,
            "ticks": "",
            "zerolinecolor": "white"
           }
          },
          "shapedefaults": {
           "line": {
            "color": "#2a3f5f"
           }
          },
          "ternary": {
           "aaxis": {
            "gridcolor": "white",
            "linecolor": "white",
            "ticks": ""
           },
           "baxis": {
            "gridcolor": "white",
            "linecolor": "white",
            "ticks": ""
           },
           "bgcolor": "#E5ECF6",
           "caxis": {
            "gridcolor": "white",
            "linecolor": "white",
            "ticks": ""
           }
          },
          "title": {
           "x": 0.05
          },
          "xaxis": {
           "automargin": true,
           "gridcolor": "white",
           "linecolor": "white",
           "ticks": "",
           "title": {
            "standoff": 15
           },
           "zerolinecolor": "white",
           "zerolinewidth": 2
          },
          "yaxis": {
           "automargin": true,
           "gridcolor": "white",
           "linecolor": "white",
           "ticks": "",
           "title": {
            "standoff": 15
           },
           "zerolinecolor": "white",
           "zerolinewidth": 2
          }
         }
        },
        "title": {
         "text": "Avg salary by employment_type"
        },
        "xaxis": {
         "anchor": "y",
         "categoryarray": [
          "FT",
          "CT",
          "FL",
          "PT"
         ],
         "categoryorder": "array",
         "domain": [
          0,
          1
         ],
         "title": {
          "text": "employment_type"
         }
        },
        "yaxis": {
         "anchor": "x",
         "domain": [
          0,
          1
         ],
         "title": {
          "text": "salary_in_usd"
         }
        }
       }
      }
     },
     "metadata": {},
     "output_type": "display_data"
    }
   ],
   "source": [
    "bar = data.groupby('employment_type')[target].mean().sort_values(ascending=False).reset_index()\n",
    "fig = px.bar(bar, x='employment_type', y=target, color='employment_type', title='Avg salary by employment_type')\n",
    "fig.show()"
   ]
  },
  {
   "cell_type": "markdown",
   "metadata": {},
   "source": [
    "Les employés en Full-time (FT) ont un salaire moyen nettement plus élevé que ceux en Part-time (PT), Freelance (FL) et Contract (CT). Les FT bénéficient généralement de meilleurs salaires."
   ]
  },
  {
   "cell_type": "code",
   "execution_count": 12,
   "metadata": {},
   "outputs": [
    {
     "data": {
      "application/vnd.plotly.v1+json": {
       "config": {
        "plotlyServerURL": "https://plot.ly"
       },
       "data": [
        {
         "alignmentgroup": "True",
         "hovertemplate": "company_location=%{x}<br>salary_in_usd=%{y}<extra></extra>",
         "legendgroup": "IL",
         "marker": {
          "color": "#636efa",
          "pattern": {
           "shape": ""
          }
         },
         "name": "IL",
         "offsetgroup": "IL",
         "orientation": "v",
         "showlegend": true,
         "textposition": "auto",
         "type": "bar",
         "x": [
          "IL"
         ],
         "xaxis": "x",
         "y": [
          271446.5
         ],
         "yaxis": "y"
        },
        {
         "alignmentgroup": "True",
         "hovertemplate": "company_location=%{x}<br>salary_in_usd=%{y}<extra></extra>",
         "legendgroup": "PR",
         "marker": {
          "color": "#EF553B",
          "pattern": {
           "shape": ""
          }
         },
         "name": "PR",
         "offsetgroup": "PR",
         "orientation": "v",
         "showlegend": true,
         "textposition": "auto",
         "type": "bar",
         "x": [
          "PR"
         ],
         "xaxis": "x",
         "y": [
          167500
         ],
         "yaxis": "y"
        },
        {
         "alignmentgroup": "True",
         "hovertemplate": "company_location=%{x}<br>salary_in_usd=%{y}<extra></extra>",
         "legendgroup": "US",
         "marker": {
          "color": "#00cc96",
          "pattern": {
           "shape": ""
          }
         },
         "name": "US",
         "offsetgroup": "US",
         "orientation": "v",
         "showlegend": true,
         "textposition": "auto",
         "type": "bar",
         "x": [
          "US"
         ],
         "xaxis": "x",
         "y": [
          152578.41553637484
         ],
         "yaxis": "y"
        },
        {
         "alignmentgroup": "True",
         "hovertemplate": "company_location=%{x}<br>salary_in_usd=%{y}<extra></extra>",
         "legendgroup": "RU",
         "marker": {
          "color": "#ab63fa",
          "pattern": {
           "shape": ""
          }
         },
         "name": "RU",
         "offsetgroup": "RU",
         "orientation": "v",
         "showlegend": true,
         "textposition": "auto",
         "type": "bar",
         "x": [
          "RU"
         ],
         "xaxis": "x",
         "y": [
          140333.33333333334
         ],
         "yaxis": "y"
        },
        {
         "alignmentgroup": "True",
         "hovertemplate": "company_location=%{x}<br>salary_in_usd=%{y}<extra></extra>",
         "legendgroup": "CA",
         "marker": {
          "color": "#FFA15A",
          "pattern": {
           "shape": ""
          }
         },
         "name": "CA",
         "offsetgroup": "CA",
         "orientation": "v",
         "showlegend": true,
         "textposition": "auto",
         "type": "bar",
         "x": [
          "CA"
         ],
         "xaxis": "x",
         "y": [
          129083.50684931508
         ],
         "yaxis": "y"
        },
        {
         "alignmentgroup": "True",
         "hovertemplate": "company_location=%{x}<br>salary_in_usd=%{y}<extra></extra>",
         "legendgroup": "NZ",
         "marker": {
          "color": "#19d3f3",
          "pattern": {
           "shape": ""
          }
         },
         "name": "NZ",
         "offsetgroup": "NZ",
         "orientation": "v",
         "showlegend": true,
         "textposition": "auto",
         "type": "bar",
         "x": [
          "NZ"
         ],
         "xaxis": "x",
         "y": [
          125000
         ],
         "yaxis": "y"
        },
        {
         "alignmentgroup": "True",
         "hovertemplate": "company_location=%{x}<br>salary_in_usd=%{y}<extra></extra>",
         "legendgroup": "JP",
         "marker": {
          "color": "#FF6692",
          "pattern": {
           "shape": ""
          }
         },
         "name": "JP",
         "offsetgroup": "JP",
         "orientation": "v",
         "showlegend": true,
         "textposition": "auto",
         "type": "bar",
         "x": [
          "JP"
         ],
         "xaxis": "x",
         "y": [
          124210.6
         ],
         "yaxis": "y"
        },
        {
         "alignmentgroup": "True",
         "hovertemplate": "company_location=%{x}<br>salary_in_usd=%{y}<extra></extra>",
         "legendgroup": "IE",
         "marker": {
          "color": "#B6E880",
          "pattern": {
           "shape": ""
          }
         },
         "name": "IE",
         "offsetgroup": "IE",
         "orientation": "v",
         "showlegend": true,
         "textposition": "auto",
         "type": "bar",
         "x": [
          "IE"
         ],
         "xaxis": "x",
         "y": [
          118004.33333333333
         ],
         "yaxis": "y"
        },
        {
         "alignmentgroup": "True",
         "hovertemplate": "company_location=%{x}<br>salary_in_usd=%{y}<extra></extra>",
         "legendgroup": "MX",
         "marker": {
          "color": "#FF97FF",
          "pattern": {
           "shape": ""
          }
         },
         "name": "MX",
         "offsetgroup": "MX",
         "orientation": "v",
         "showlegend": true,
         "textposition": "auto",
         "type": "bar",
         "x": [
          "MX"
         ],
         "xaxis": "x",
         "y": [
          111358.71428571429
         ],
         "yaxis": "y"
        },
        {
         "alignmentgroup": "True",
         "hovertemplate": "company_location=%{x}<br>salary_in_usd=%{y}<extra></extra>",
         "legendgroup": "SE",
         "marker": {
          "color": "#FECB52",
          "pattern": {
           "shape": ""
          }
         },
         "name": "SE",
         "offsetgroup": "SE",
         "orientation": "v",
         "showlegend": true,
         "textposition": "auto",
         "type": "bar",
         "x": [
          "SE"
         ],
         "xaxis": "x",
         "y": [
          105000
         ],
         "yaxis": "y"
        }
       ],
       "layout": {
        "barmode": "relative",
        "legend": {
         "title": {
          "text": "company_location"
         },
         "tracegroupgap": 0
        },
        "template": {
         "data": {
          "bar": [
           {
            "error_x": {
             "color": "#2a3f5f"
            },
            "error_y": {
             "color": "#2a3f5f"
            },
            "marker": {
             "line": {
              "color": "#E5ECF6",
              "width": 0.5
             },
             "pattern": {
              "fillmode": "overlay",
              "size": 10,
              "solidity": 0.2
             }
            },
            "type": "bar"
           }
          ],
          "barpolar": [
           {
            "marker": {
             "line": {
              "color": "#E5ECF6",
              "width": 0.5
             },
             "pattern": {
              "fillmode": "overlay",
              "size": 10,
              "solidity": 0.2
             }
            },
            "type": "barpolar"
           }
          ],
          "carpet": [
           {
            "aaxis": {
             "endlinecolor": "#2a3f5f",
             "gridcolor": "white",
             "linecolor": "white",
             "minorgridcolor": "white",
             "startlinecolor": "#2a3f5f"
            },
            "baxis": {
             "endlinecolor": "#2a3f5f",
             "gridcolor": "white",
             "linecolor": "white",
             "minorgridcolor": "white",
             "startlinecolor": "#2a3f5f"
            },
            "type": "carpet"
           }
          ],
          "choropleth": [
           {
            "colorbar": {
             "outlinewidth": 0,
             "ticks": ""
            },
            "type": "choropleth"
           }
          ],
          "contour": [
           {
            "colorbar": {
             "outlinewidth": 0,
             "ticks": ""
            },
            "colorscale": [
             [
              0,
              "#0d0887"
             ],
             [
              0.1111111111111111,
              "#46039f"
             ],
             [
              0.2222222222222222,
              "#7201a8"
             ],
             [
              0.3333333333333333,
              "#9c179e"
             ],
             [
              0.4444444444444444,
              "#bd3786"
             ],
             [
              0.5555555555555556,
              "#d8576b"
             ],
             [
              0.6666666666666666,
              "#ed7953"
             ],
             [
              0.7777777777777778,
              "#fb9f3a"
             ],
             [
              0.8888888888888888,
              "#fdca26"
             ],
             [
              1,
              "#f0f921"
             ]
            ],
            "type": "contour"
           }
          ],
          "contourcarpet": [
           {
            "colorbar": {
             "outlinewidth": 0,
             "ticks": ""
            },
            "type": "contourcarpet"
           }
          ],
          "heatmap": [
           {
            "colorbar": {
             "outlinewidth": 0,
             "ticks": ""
            },
            "colorscale": [
             [
              0,
              "#0d0887"
             ],
             [
              0.1111111111111111,
              "#46039f"
             ],
             [
              0.2222222222222222,
              "#7201a8"
             ],
             [
              0.3333333333333333,
              "#9c179e"
             ],
             [
              0.4444444444444444,
              "#bd3786"
             ],
             [
              0.5555555555555556,
              "#d8576b"
             ],
             [
              0.6666666666666666,
              "#ed7953"
             ],
             [
              0.7777777777777778,
              "#fb9f3a"
             ],
             [
              0.8888888888888888,
              "#fdca26"
             ],
             [
              1,
              "#f0f921"
             ]
            ],
            "type": "heatmap"
           }
          ],
          "heatmapgl": [
           {
            "colorbar": {
             "outlinewidth": 0,
             "ticks": ""
            },
            "colorscale": [
             [
              0,
              "#0d0887"
             ],
             [
              0.1111111111111111,
              "#46039f"
             ],
             [
              0.2222222222222222,
              "#7201a8"
             ],
             [
              0.3333333333333333,
              "#9c179e"
             ],
             [
              0.4444444444444444,
              "#bd3786"
             ],
             [
              0.5555555555555556,
              "#d8576b"
             ],
             [
              0.6666666666666666,
              "#ed7953"
             ],
             [
              0.7777777777777778,
              "#fb9f3a"
             ],
             [
              0.8888888888888888,
              "#fdca26"
             ],
             [
              1,
              "#f0f921"
             ]
            ],
            "type": "heatmapgl"
           }
          ],
          "histogram": [
           {
            "marker": {
             "pattern": {
              "fillmode": "overlay",
              "size": 10,
              "solidity": 0.2
             }
            },
            "type": "histogram"
           }
          ],
          "histogram2d": [
           {
            "colorbar": {
             "outlinewidth": 0,
             "ticks": ""
            },
            "colorscale": [
             [
              0,
              "#0d0887"
             ],
             [
              0.1111111111111111,
              "#46039f"
             ],
             [
              0.2222222222222222,
              "#7201a8"
             ],
             [
              0.3333333333333333,
              "#9c179e"
             ],
             [
              0.4444444444444444,
              "#bd3786"
             ],
             [
              0.5555555555555556,
              "#d8576b"
             ],
             [
              0.6666666666666666,
              "#ed7953"
             ],
             [
              0.7777777777777778,
              "#fb9f3a"
             ],
             [
              0.8888888888888888,
              "#fdca26"
             ],
             [
              1,
              "#f0f921"
             ]
            ],
            "type": "histogram2d"
           }
          ],
          "histogram2dcontour": [
           {
            "colorbar": {
             "outlinewidth": 0,
             "ticks": ""
            },
            "colorscale": [
             [
              0,
              "#0d0887"
             ],
             [
              0.1111111111111111,
              "#46039f"
             ],
             [
              0.2222222222222222,
              "#7201a8"
             ],
             [
              0.3333333333333333,
              "#9c179e"
             ],
             [
              0.4444444444444444,
              "#bd3786"
             ],
             [
              0.5555555555555556,
              "#d8576b"
             ],
             [
              0.6666666666666666,
              "#ed7953"
             ],
             [
              0.7777777777777778,
              "#fb9f3a"
             ],
             [
              0.8888888888888888,
              "#fdca26"
             ],
             [
              1,
              "#f0f921"
             ]
            ],
            "type": "histogram2dcontour"
           }
          ],
          "mesh3d": [
           {
            "colorbar": {
             "outlinewidth": 0,
             "ticks": ""
            },
            "type": "mesh3d"
           }
          ],
          "parcoords": [
           {
            "line": {
             "colorbar": {
              "outlinewidth": 0,
              "ticks": ""
             }
            },
            "type": "parcoords"
           }
          ],
          "pie": [
           {
            "automargin": true,
            "type": "pie"
           }
          ],
          "scatter": [
           {
            "fillpattern": {
             "fillmode": "overlay",
             "size": 10,
             "solidity": 0.2
            },
            "type": "scatter"
           }
          ],
          "scatter3d": [
           {
            "line": {
             "colorbar": {
              "outlinewidth": 0,
              "ticks": ""
             }
            },
            "marker": {
             "colorbar": {
              "outlinewidth": 0,
              "ticks": ""
             }
            },
            "type": "scatter3d"
           }
          ],
          "scattercarpet": [
           {
            "marker": {
             "colorbar": {
              "outlinewidth": 0,
              "ticks": ""
             }
            },
            "type": "scattercarpet"
           }
          ],
          "scattergeo": [
           {
            "marker": {
             "colorbar": {
              "outlinewidth": 0,
              "ticks": ""
             }
            },
            "type": "scattergeo"
           }
          ],
          "scattergl": [
           {
            "marker": {
             "colorbar": {
              "outlinewidth": 0,
              "ticks": ""
             }
            },
            "type": "scattergl"
           }
          ],
          "scattermapbox": [
           {
            "marker": {
             "colorbar": {
              "outlinewidth": 0,
              "ticks": ""
             }
            },
            "type": "scattermapbox"
           }
          ],
          "scatterpolar": [
           {
            "marker": {
             "colorbar": {
              "outlinewidth": 0,
              "ticks": ""
             }
            },
            "type": "scatterpolar"
           }
          ],
          "scatterpolargl": [
           {
            "marker": {
             "colorbar": {
              "outlinewidth": 0,
              "ticks": ""
             }
            },
            "type": "scatterpolargl"
           }
          ],
          "scatterternary": [
           {
            "marker": {
             "colorbar": {
              "outlinewidth": 0,
              "ticks": ""
             }
            },
            "type": "scatterternary"
           }
          ],
          "surface": [
           {
            "colorbar": {
             "outlinewidth": 0,
             "ticks": ""
            },
            "colorscale": [
             [
              0,
              "#0d0887"
             ],
             [
              0.1111111111111111,
              "#46039f"
             ],
             [
              0.2222222222222222,
              "#7201a8"
             ],
             [
              0.3333333333333333,
              "#9c179e"
             ],
             [
              0.4444444444444444,
              "#bd3786"
             ],
             [
              0.5555555555555556,
              "#d8576b"
             ],
             [
              0.6666666666666666,
              "#ed7953"
             ],
             [
              0.7777777777777778,
              "#fb9f3a"
             ],
             [
              0.8888888888888888,
              "#fdca26"
             ],
             [
              1,
              "#f0f921"
             ]
            ],
            "type": "surface"
           }
          ],
          "table": [
           {
            "cells": {
             "fill": {
              "color": "#EBF0F8"
             },
             "line": {
              "color": "white"
             }
            },
            "header": {
             "fill": {
              "color": "#C8D4E3"
             },
             "line": {
              "color": "white"
             }
            },
            "type": "table"
           }
          ]
         },
         "layout": {
          "annotationdefaults": {
           "arrowcolor": "#2a3f5f",
           "arrowhead": 0,
           "arrowwidth": 1
          },
          "autotypenumbers": "strict",
          "coloraxis": {
           "colorbar": {
            "outlinewidth": 0,
            "ticks": ""
           }
          },
          "colorscale": {
           "diverging": [
            [
             0,
             "#8e0152"
            ],
            [
             0.1,
             "#c51b7d"
            ],
            [
             0.2,
             "#de77ae"
            ],
            [
             0.3,
             "#f1b6da"
            ],
            [
             0.4,
             "#fde0ef"
            ],
            [
             0.5,
             "#f7f7f7"
            ],
            [
             0.6,
             "#e6f5d0"
            ],
            [
             0.7,
             "#b8e186"
            ],
            [
             0.8,
             "#7fbc41"
            ],
            [
             0.9,
             "#4d9221"
            ],
            [
             1,
             "#276419"
            ]
           ],
           "sequential": [
            [
             0,
             "#0d0887"
            ],
            [
             0.1111111111111111,
             "#46039f"
            ],
            [
             0.2222222222222222,
             "#7201a8"
            ],
            [
             0.3333333333333333,
             "#9c179e"
            ],
            [
             0.4444444444444444,
             "#bd3786"
            ],
            [
             0.5555555555555556,
             "#d8576b"
            ],
            [
             0.6666666666666666,
             "#ed7953"
            ],
            [
             0.7777777777777778,
             "#fb9f3a"
            ],
            [
             0.8888888888888888,
             "#fdca26"
            ],
            [
             1,
             "#f0f921"
            ]
           ],
           "sequentialminus": [
            [
             0,
             "#0d0887"
            ],
            [
             0.1111111111111111,
             "#46039f"
            ],
            [
             0.2222222222222222,
             "#7201a8"
            ],
            [
             0.3333333333333333,
             "#9c179e"
            ],
            [
             0.4444444444444444,
             "#bd3786"
            ],
            [
             0.5555555555555556,
             "#d8576b"
            ],
            [
             0.6666666666666666,
             "#ed7953"
            ],
            [
             0.7777777777777778,
             "#fb9f3a"
            ],
            [
             0.8888888888888888,
             "#fdca26"
            ],
            [
             1,
             "#f0f921"
            ]
           ]
          },
          "colorway": [
           "#636efa",
           "#EF553B",
           "#00cc96",
           "#ab63fa",
           "#FFA15A",
           "#19d3f3",
           "#FF6692",
           "#B6E880",
           "#FF97FF",
           "#FECB52"
          ],
          "font": {
           "color": "#2a3f5f"
          },
          "geo": {
           "bgcolor": "white",
           "lakecolor": "white",
           "landcolor": "#E5ECF6",
           "showlakes": true,
           "showland": true,
           "subunitcolor": "white"
          },
          "hoverlabel": {
           "align": "left"
          },
          "hovermode": "closest",
          "mapbox": {
           "style": "light"
          },
          "paper_bgcolor": "white",
          "plot_bgcolor": "#E5ECF6",
          "polar": {
           "angularaxis": {
            "gridcolor": "white",
            "linecolor": "white",
            "ticks": ""
           },
           "bgcolor": "#E5ECF6",
           "radialaxis": {
            "gridcolor": "white",
            "linecolor": "white",
            "ticks": ""
           }
          },
          "scene": {
           "xaxis": {
            "backgroundcolor": "#E5ECF6",
            "gridcolor": "white",
            "gridwidth": 2,
            "linecolor": "white",
            "showbackground": true,
            "ticks": "",
            "zerolinecolor": "white"
           },
           "yaxis": {
            "backgroundcolor": "#E5ECF6",
            "gridcolor": "white",
            "gridwidth": 2,
            "linecolor": "white",
            "showbackground": true,
            "ticks": "",
            "zerolinecolor": "white"
           },
           "zaxis": {
            "backgroundcolor": "#E5ECF6",
            "gridcolor": "white",
            "gridwidth": 2,
            "linecolor": "white",
            "showbackground": true,
            "ticks": "",
            "zerolinecolor": "white"
           }
          },
          "shapedefaults": {
           "line": {
            "color": "#2a3f5f"
           }
          },
          "ternary": {
           "aaxis": {
            "gridcolor": "white",
            "linecolor": "white",
            "ticks": ""
           },
           "baxis": {
            "gridcolor": "white",
            "linecolor": "white",
            "ticks": ""
           },
           "bgcolor": "#E5ECF6",
           "caxis": {
            "gridcolor": "white",
            "linecolor": "white",
            "ticks": ""
           }
          },
          "title": {
           "x": 0.05
          },
          "xaxis": {
           "automargin": true,
           "gridcolor": "white",
           "linecolor": "white",
           "ticks": "",
           "title": {
            "standoff": 15
           },
           "zerolinecolor": "white",
           "zerolinewidth": 2
          },
          "yaxis": {
           "automargin": true,
           "gridcolor": "white",
           "linecolor": "white",
           "ticks": "",
           "title": {
            "standoff": 15
           },
           "zerolinecolor": "white",
           "zerolinewidth": 2
          }
         }
        },
        "title": {
         "text": "Avg salary by company_location"
        },
        "xaxis": {
         "anchor": "y",
         "categoryarray": [
          "IL",
          "PR",
          "US",
          "RU",
          "CA",
          "NZ",
          "JP",
          "IE",
          "MX",
          "SE"
         ],
         "categoryorder": "array",
         "domain": [
          0,
          1
         ],
         "title": {
          "text": "company_location"
         }
        },
        "yaxis": {
         "anchor": "x",
         "domain": [
          0,
          1
         ],
         "title": {
          "text": "salary_in_usd"
         }
        }
       }
      }
     },
     "metadata": {},
     "output_type": "display_data"
    }
   ],
   "source": [
    "bar = data.groupby('company_location')[target].mean().reset_index().sort_values(by=target, ascending=False)\n",
    "fig = px.bar(bar.head(10), x='company_location', y=target, color='company_location', title='Avg salary by company_location')\n",
    "fig.show()"
   ]
  },
  {
   "cell_type": "code",
   "execution_count": 13,
   "metadata": {},
   "outputs": [
    {
     "data": {
      "application/vnd.plotly.v1+json": {
       "config": {
        "plotlyServerURL": "https://plot.ly"
       },
       "data": [
        {
         "alignmentgroup": "True",
         "hovertemplate": "remote_ratio=%{marker.color}<br>y=%{y}<extra></extra>",
         "legendgroup": "",
         "marker": {
          "color": [
           0,
           50,
           100
          ],
          "coloraxis": "coloraxis",
          "pattern": {
           "shape": ""
          }
         },
         "name": "",
         "offsetgroup": "",
         "orientation": "v",
         "showlegend": false,
         "textposition": "auto",
         "type": "bar",
         "x": [
          0,
          50,
          100
         ],
         "xaxis": "x",
         "y": [
          145246.4964720975,
          78942.06206896552,
          137289.97307692308
         ],
         "yaxis": "y"
        }
       ],
       "layout": {
        "barmode": "relative",
        "coloraxis": {
         "colorbar": {
          "title": {
           "text": "remote_ratio"
          }
         },
         "colorscale": [
          [
           0,
           "#0d0887"
          ],
          [
           0.1111111111111111,
           "#46039f"
          ],
          [
           0.2222222222222222,
           "#7201a8"
          ],
          [
           0.3333333333333333,
           "#9c179e"
          ],
          [
           0.4444444444444444,
           "#bd3786"
          ],
          [
           0.5555555555555556,
           "#d8576b"
          ],
          [
           0.6666666666666666,
           "#ed7953"
          ],
          [
           0.7777777777777778,
           "#fb9f3a"
          ],
          [
           0.8888888888888888,
           "#fdca26"
          ],
          [
           1,
           "#f0f921"
          ]
         ]
        },
        "legend": {
         "tracegroupgap": 0
        },
        "template": {
         "data": {
          "bar": [
           {
            "error_x": {
             "color": "#2a3f5f"
            },
            "error_y": {
             "color": "#2a3f5f"
            },
            "marker": {
             "line": {
              "color": "#E5ECF6",
              "width": 0.5
             },
             "pattern": {
              "fillmode": "overlay",
              "size": 10,
              "solidity": 0.2
             }
            },
            "type": "bar"
           }
          ],
          "barpolar": [
           {
            "marker": {
             "line": {
              "color": "#E5ECF6",
              "width": 0.5
             },
             "pattern": {
              "fillmode": "overlay",
              "size": 10,
              "solidity": 0.2
             }
            },
            "type": "barpolar"
           }
          ],
          "carpet": [
           {
            "aaxis": {
             "endlinecolor": "#2a3f5f",
             "gridcolor": "white",
             "linecolor": "white",
             "minorgridcolor": "white",
             "startlinecolor": "#2a3f5f"
            },
            "baxis": {
             "endlinecolor": "#2a3f5f",
             "gridcolor": "white",
             "linecolor": "white",
             "minorgridcolor": "white",
             "startlinecolor": "#2a3f5f"
            },
            "type": "carpet"
           }
          ],
          "choropleth": [
           {
            "colorbar": {
             "outlinewidth": 0,
             "ticks": ""
            },
            "type": "choropleth"
           }
          ],
          "contour": [
           {
            "colorbar": {
             "outlinewidth": 0,
             "ticks": ""
            },
            "colorscale": [
             [
              0,
              "#0d0887"
             ],
             [
              0.1111111111111111,
              "#46039f"
             ],
             [
              0.2222222222222222,
              "#7201a8"
             ],
             [
              0.3333333333333333,
              "#9c179e"
             ],
             [
              0.4444444444444444,
              "#bd3786"
             ],
             [
              0.5555555555555556,
              "#d8576b"
             ],
             [
              0.6666666666666666,
              "#ed7953"
             ],
             [
              0.7777777777777778,
              "#fb9f3a"
             ],
             [
              0.8888888888888888,
              "#fdca26"
             ],
             [
              1,
              "#f0f921"
             ]
            ],
            "type": "contour"
           }
          ],
          "contourcarpet": [
           {
            "colorbar": {
             "outlinewidth": 0,
             "ticks": ""
            },
            "type": "contourcarpet"
           }
          ],
          "heatmap": [
           {
            "colorbar": {
             "outlinewidth": 0,
             "ticks": ""
            },
            "colorscale": [
             [
              0,
              "#0d0887"
             ],
             [
              0.1111111111111111,
              "#46039f"
             ],
             [
              0.2222222222222222,
              "#7201a8"
             ],
             [
              0.3333333333333333,
              "#9c179e"
             ],
             [
              0.4444444444444444,
              "#bd3786"
             ],
             [
              0.5555555555555556,
              "#d8576b"
             ],
             [
              0.6666666666666666,
              "#ed7953"
             ],
             [
              0.7777777777777778,
              "#fb9f3a"
             ],
             [
              0.8888888888888888,
              "#fdca26"
             ],
             [
              1,
              "#f0f921"
             ]
            ],
            "type": "heatmap"
           }
          ],
          "heatmapgl": [
           {
            "colorbar": {
             "outlinewidth": 0,
             "ticks": ""
            },
            "colorscale": [
             [
              0,
              "#0d0887"
             ],
             [
              0.1111111111111111,
              "#46039f"
             ],
             [
              0.2222222222222222,
              "#7201a8"
             ],
             [
              0.3333333333333333,
              "#9c179e"
             ],
             [
              0.4444444444444444,
              "#bd3786"
             ],
             [
              0.5555555555555556,
              "#d8576b"
             ],
             [
              0.6666666666666666,
              "#ed7953"
             ],
             [
              0.7777777777777778,
              "#fb9f3a"
             ],
             [
              0.8888888888888888,
              "#fdca26"
             ],
             [
              1,
              "#f0f921"
             ]
            ],
            "type": "heatmapgl"
           }
          ],
          "histogram": [
           {
            "marker": {
             "pattern": {
              "fillmode": "overlay",
              "size": 10,
              "solidity": 0.2
             }
            },
            "type": "histogram"
           }
          ],
          "histogram2d": [
           {
            "colorbar": {
             "outlinewidth": 0,
             "ticks": ""
            },
            "colorscale": [
             [
              0,
              "#0d0887"
             ],
             [
              0.1111111111111111,
              "#46039f"
             ],
             [
              0.2222222222222222,
              "#7201a8"
             ],
             [
              0.3333333333333333,
              "#9c179e"
             ],
             [
              0.4444444444444444,
              "#bd3786"
             ],
             [
              0.5555555555555556,
              "#d8576b"
             ],
             [
              0.6666666666666666,
              "#ed7953"
             ],
             [
              0.7777777777777778,
              "#fb9f3a"
             ],
             [
              0.8888888888888888,
              "#fdca26"
             ],
             [
              1,
              "#f0f921"
             ]
            ],
            "type": "histogram2d"
           }
          ],
          "histogram2dcontour": [
           {
            "colorbar": {
             "outlinewidth": 0,
             "ticks": ""
            },
            "colorscale": [
             [
              0,
              "#0d0887"
             ],
             [
              0.1111111111111111,
              "#46039f"
             ],
             [
              0.2222222222222222,
              "#7201a8"
             ],
             [
              0.3333333333333333,
              "#9c179e"
             ],
             [
              0.4444444444444444,
              "#bd3786"
             ],
             [
              0.5555555555555556,
              "#d8576b"
             ],
             [
              0.6666666666666666,
              "#ed7953"
             ],
             [
              0.7777777777777778,
              "#fb9f3a"
             ],
             [
              0.8888888888888888,
              "#fdca26"
             ],
             [
              1,
              "#f0f921"
             ]
            ],
            "type": "histogram2dcontour"
           }
          ],
          "mesh3d": [
           {
            "colorbar": {
             "outlinewidth": 0,
             "ticks": ""
            },
            "type": "mesh3d"
           }
          ],
          "parcoords": [
           {
            "line": {
             "colorbar": {
              "outlinewidth": 0,
              "ticks": ""
             }
            },
            "type": "parcoords"
           }
          ],
          "pie": [
           {
            "automargin": true,
            "type": "pie"
           }
          ],
          "scatter": [
           {
            "fillpattern": {
             "fillmode": "overlay",
             "size": 10,
             "solidity": 0.2
            },
            "type": "scatter"
           }
          ],
          "scatter3d": [
           {
            "line": {
             "colorbar": {
              "outlinewidth": 0,
              "ticks": ""
             }
            },
            "marker": {
             "colorbar": {
              "outlinewidth": 0,
              "ticks": ""
             }
            },
            "type": "scatter3d"
           }
          ],
          "scattercarpet": [
           {
            "marker": {
             "colorbar": {
              "outlinewidth": 0,
              "ticks": ""
             }
            },
            "type": "scattercarpet"
           }
          ],
          "scattergeo": [
           {
            "marker": {
             "colorbar": {
              "outlinewidth": 0,
              "ticks": ""
             }
            },
            "type": "scattergeo"
           }
          ],
          "scattergl": [
           {
            "marker": {
             "colorbar": {
              "outlinewidth": 0,
              "ticks": ""
             }
            },
            "type": "scattergl"
           }
          ],
          "scattermapbox": [
           {
            "marker": {
             "colorbar": {
              "outlinewidth": 0,
              "ticks": ""
             }
            },
            "type": "scattermapbox"
           }
          ],
          "scatterpolar": [
           {
            "marker": {
             "colorbar": {
              "outlinewidth": 0,
              "ticks": ""
             }
            },
            "type": "scatterpolar"
           }
          ],
          "scatterpolargl": [
           {
            "marker": {
             "colorbar": {
              "outlinewidth": 0,
              "ticks": ""
             }
            },
            "type": "scatterpolargl"
           }
          ],
          "scatterternary": [
           {
            "marker": {
             "colorbar": {
              "outlinewidth": 0,
              "ticks": ""
             }
            },
            "type": "scatterternary"
           }
          ],
          "surface": [
           {
            "colorbar": {
             "outlinewidth": 0,
             "ticks": ""
            },
            "colorscale": [
             [
              0,
              "#0d0887"
             ],
             [
              0.1111111111111111,
              "#46039f"
             ],
             [
              0.2222222222222222,
              "#7201a8"
             ],
             [
              0.3333333333333333,
              "#9c179e"
             ],
             [
              0.4444444444444444,
              "#bd3786"
             ],
             [
              0.5555555555555556,
              "#d8576b"
             ],
             [
              0.6666666666666666,
              "#ed7953"
             ],
             [
              0.7777777777777778,
              "#fb9f3a"
             ],
             [
              0.8888888888888888,
              "#fdca26"
             ],
             [
              1,
              "#f0f921"
             ]
            ],
            "type": "surface"
           }
          ],
          "table": [
           {
            "cells": {
             "fill": {
              "color": "#EBF0F8"
             },
             "line": {
              "color": "white"
             }
            },
            "header": {
             "fill": {
              "color": "#C8D4E3"
             },
             "line": {
              "color": "white"
             }
            },
            "type": "table"
           }
          ]
         },
         "layout": {
          "annotationdefaults": {
           "arrowcolor": "#2a3f5f",
           "arrowhead": 0,
           "arrowwidth": 1
          },
          "autotypenumbers": "strict",
          "coloraxis": {
           "colorbar": {
            "outlinewidth": 0,
            "ticks": ""
           }
          },
          "colorscale": {
           "diverging": [
            [
             0,
             "#8e0152"
            ],
            [
             0.1,
             "#c51b7d"
            ],
            [
             0.2,
             "#de77ae"
            ],
            [
             0.3,
             "#f1b6da"
            ],
            [
             0.4,
             "#fde0ef"
            ],
            [
             0.5,
             "#f7f7f7"
            ],
            [
             0.6,
             "#e6f5d0"
            ],
            [
             0.7,
             "#b8e186"
            ],
            [
             0.8,
             "#7fbc41"
            ],
            [
             0.9,
             "#4d9221"
            ],
            [
             1,
             "#276419"
            ]
           ],
           "sequential": [
            [
             0,
             "#0d0887"
            ],
            [
             0.1111111111111111,
             "#46039f"
            ],
            [
             0.2222222222222222,
             "#7201a8"
            ],
            [
             0.3333333333333333,
             "#9c179e"
            ],
            [
             0.4444444444444444,
             "#bd3786"
            ],
            [
             0.5555555555555556,
             "#d8576b"
            ],
            [
             0.6666666666666666,
             "#ed7953"
            ],
            [
             0.7777777777777778,
             "#fb9f3a"
            ],
            [
             0.8888888888888888,
             "#fdca26"
            ],
            [
             1,
             "#f0f921"
            ]
           ],
           "sequentialminus": [
            [
             0,
             "#0d0887"
            ],
            [
             0.1111111111111111,
             "#46039f"
            ],
            [
             0.2222222222222222,
             "#7201a8"
            ],
            [
             0.3333333333333333,
             "#9c179e"
            ],
            [
             0.4444444444444444,
             "#bd3786"
            ],
            [
             0.5555555555555556,
             "#d8576b"
            ],
            [
             0.6666666666666666,
             "#ed7953"
            ],
            [
             0.7777777777777778,
             "#fb9f3a"
            ],
            [
             0.8888888888888888,
             "#fdca26"
            ],
            [
             1,
             "#f0f921"
            ]
           ]
          },
          "colorway": [
           "#636efa",
           "#EF553B",
           "#00cc96",
           "#ab63fa",
           "#FFA15A",
           "#19d3f3",
           "#FF6692",
           "#B6E880",
           "#FF97FF",
           "#FECB52"
          ],
          "font": {
           "color": "#2a3f5f"
          },
          "geo": {
           "bgcolor": "white",
           "lakecolor": "white",
           "landcolor": "#E5ECF6",
           "showlakes": true,
           "showland": true,
           "subunitcolor": "white"
          },
          "hoverlabel": {
           "align": "left"
          },
          "hovermode": "closest",
          "mapbox": {
           "style": "light"
          },
          "paper_bgcolor": "white",
          "plot_bgcolor": "#E5ECF6",
          "polar": {
           "angularaxis": {
            "gridcolor": "white",
            "linecolor": "white",
            "ticks": ""
           },
           "bgcolor": "#E5ECF6",
           "radialaxis": {
            "gridcolor": "white",
            "linecolor": "white",
            "ticks": ""
           }
          },
          "scene": {
           "xaxis": {
            "backgroundcolor": "#E5ECF6",
            "gridcolor": "white",
            "gridwidth": 2,
            "linecolor": "white",
            "showbackground": true,
            "ticks": "",
            "zerolinecolor": "white"
           },
           "yaxis": {
            "backgroundcolor": "#E5ECF6",
            "gridcolor": "white",
            "gridwidth": 2,
            "linecolor": "white",
            "showbackground": true,
            "ticks": "",
            "zerolinecolor": "white"
           },
           "zaxis": {
            "backgroundcolor": "#E5ECF6",
            "gridcolor": "white",
            "gridwidth": 2,
            "linecolor": "white",
            "showbackground": true,
            "ticks": "",
            "zerolinecolor": "white"
           }
          },
          "shapedefaults": {
           "line": {
            "color": "#2a3f5f"
           }
          },
          "ternary": {
           "aaxis": {
            "gridcolor": "white",
            "linecolor": "white",
            "ticks": ""
           },
           "baxis": {
            "gridcolor": "white",
            "linecolor": "white",
            "ticks": ""
           },
           "bgcolor": "#E5ECF6",
           "caxis": {
            "gridcolor": "white",
            "linecolor": "white",
            "ticks": ""
           }
          },
          "title": {
           "x": 0.05
          },
          "xaxis": {
           "automargin": true,
           "gridcolor": "white",
           "linecolor": "white",
           "ticks": "",
           "title": {
            "standoff": 15
           },
           "zerolinecolor": "white",
           "zerolinewidth": 2
          },
          "yaxis": {
           "automargin": true,
           "gridcolor": "white",
           "linecolor": "white",
           "ticks": "",
           "title": {
            "standoff": 15
           },
           "zerolinecolor": "white",
           "zerolinewidth": 2
          }
         }
        },
        "title": {
         "text": "Avg salary by remote_ratio"
        },
        "xaxis": {
         "anchor": "y",
         "domain": [
          0,
          1
         ],
         "title": {
          "text": "remote_ratio"
         }
        },
        "yaxis": {
         "anchor": "x",
         "domain": [
          0,
          1
         ],
         "title": {
          "text": "y"
         }
        }
       }
      }
     },
     "metadata": {},
     "output_type": "display_data"
    }
   ],
   "source": [
    "group_df = data.groupby('remote_ratio')[target].mean()\n",
    "fig = px.bar(group_df, x=group_df.index, y=group_df.values, \n",
    "             color=group_df.index, title='Avg salary by remote_ratio')\n",
    "fig.show()"
   ]
  },
  {
   "cell_type": "markdown",
   "metadata": {},
   "source": [
    "Les employés ayant un ratio de télétravail (TT) très élevé (100%) ont des salaires moyens moins élevés, tandis que ceux travaillant moins à distance (20%) ont des salaires plus haut. En gros, une plus grande flexibilité de TT pourrait être associée à de plus bas salaires"
   ]
  },
  {
   "cell_type": "code",
   "execution_count": 14,
   "metadata": {},
   "outputs": [
    {
     "data": {
      "application/vnd.plotly.v1+json": {
       "config": {
        "plotlyServerURL": "https://plot.ly"
       },
       "data": [
        {
         "alignmentgroup": "True",
         "bingroup": "x",
         "hovertemplate": "Salaire en $=%{x}<br>count=%{y}<extra></extra>",
         "legendgroup": "",
         "marker": {
          "color": "#636efa",
          "pattern": {
           "shape": ""
          }
         },
         "name": "",
         "offsetgroup": "",
         "orientation": "v",
         "showlegend": false,
         "type": "histogram",
         "x": [
          168000,
          179975,
          144000,
          222200,
          230000,
          40000,
          105000,
          100000,
          29751,
          153090,
          52533,
          115000,
          128000,
          30523,
          128500,
          92000,
          160000,
          168000,
          210000,
          153400,
          140000,
          99050,
          259000,
          200000,
          134236,
          170000,
          200000,
          120250,
          54094,
          145000,
          143860,
          138000,
          216000,
          61300,
          42197,
          140000,
          5409,
          10000,
          180180,
          188100,
          150000,
          100000,
          130000,
          161311,
          205600,
          140000,
          76814,
          102100,
          83500,
          68293,
          6072,
          50000,
          370000,
          99450,
          257000,
          160000,
          109000,
          155000,
          230000,
          160288,
          90700,
          150000,
          40777,
          165000,
          180000,
          54094,
          175000,
          134000,
          180000,
          140000,
          205300,
          75000,
          130760,
          105000,
          98200,
          280700,
          195000,
          128000,
          230000,
          92250,
          67723,
          140000,
          230000,
          120000,
          89306,
          77684,
          130000,
          220000,
          120402,
          150000,
          121523,
          153000,
          130000,
          65000,
          170000,
          115000,
          170000,
          92700,
          304000,
          170000,
          145000,
          185800,
          110000,
          247500,
          12000,
          104500,
          98506,
          195400,
          90000,
          123400,
          135000,
          165000,
          148500,
          252000,
          106020,
          105000,
          65000,
          54634,
          200000,
          136000,
          109371,
          205000,
          100000,
          95000,
          80000,
          247300,
          200000,
          220000,
          46178,
          247500,
          183500,
          269600,
          62726,
          195000,
          185000,
          198440,
          28369,
          63000,
          130000,
          173000,
          208450,
          116100,
          230000,
          205300,
          169000,
          185900,
          260000,
          218500,
          99000,
          156400,
          150000,
          165000,
          76958,
          102500,
          115000,
          200000,
          120000,
          112300,
          138750,
          153400,
          136000,
          66000,
          72914,
          5723,
          55000,
          260000,
          239748,
          220000,
          150000,
          299500,
          116250,
          135000,
          85066,
          137500,
          130000,
          150000,
          258000,
          45555,
          163800,
          185900,
          122500,
          8050,
          120000,
          68293,
          342810,
          150000,
          245100,
          190000,
          140000,
          106000,
          142200,
          118000,
          102544,
          353200,
          185900,
          94000,
          192564,
          167100,
          160000,
          104611,
          225000,
          207000,
          100000,
          143000,
          126000,
          176100,
          155000,
          115000,
          115360,
          220000,
          175000,
          60000,
          120000,
          121500,
          95000,
          140000,
          147000,
          241871,
          41689,
          186000,
          129000,
          73880,
          210000,
          152000,
          40663,
          52008,
          100000,
          100000,
          385000,
          112900,
          100000,
          120000,
          100000,
          79000,
          163800,
          125976,
          133300,
          70000,
          85000,
          160000,
          131000,
          129400,
          100000,
          170000,
          150000,
          156600,
          169000,
          143860,
          169000,
          144000,
          106000,
          170000,
          100000,
          65000,
          113750,
          183500,
          80000,
          185000,
          48289,
          168000,
          185900,
          100000,
          207000,
          130000,
          180560,
          125000,
          84000,
          75000,
          104663,
          150000,
          20000,
          154000,
          95000,
          175000,
          250000,
          165000,
          79833,
          323300,
          112900,
          135000,
          187000,
          160000,
          122600,
          51508,
          221484,
          137141,
          15000,
          135000,
          123405,
          200000,
          115000,
          138784,
          141525,
          127000,
          240500,
          57872,
          61566,
          8000,
          128280,
          185900,
          160000,
          138900,
          165220,
          100000,
          225000,
          153000,
          297300,
          200000,
          160000,
          63000,
          90700,
          178500,
          65000,
          67723,
          87000,
          175000,
          100000,
          139000,
          110000,
          226700,
          150000,
          128000,
          25000,
          107250,
          131300,
          110000,
          203500,
          150000,
          90734,
          170000,
          129000,
          122500,
          113900,
          70000,
          78000,
          204500,
          48289,
          258750,
          280100,
          167500,
          73546,
          255000,
          115000,
          115573,
          82528,
          110820,
          106020,
          42026,
          6359,
          31795,
          120000,
          127000,
          47280,
          214200,
          210000,
          241000,
          109000,
          230000,
          42026,
          125000,
          194500,
          110925,
          270703,
          173000,
          150000,
          138600,
          175000,
          47280,
          120000,
          72000,
          153600,
          220000,
          220000,
          85847,
          30523,
          110500,
          145000,
          102772,
          109400,
          175308,
          170000,
          20670,
          129000,
          198800,
          46000,
          228000,
          95000,
          141525,
          236900,
          92350,
          129300,
          135000,
          150000,
          85500,
          206699,
          163800,
          213120,
          170000,
          63000,
          125600,
          110000,
          84053,
          12888,
          51508,
          40000,
          193750,
          115100,
          190000,
          79000,
          99000,
          15000,
          135000,
          90000,
          180000,
          116704,
          190000,
          105000,
          129000,
          150000,
          250000,
          243225,
          75000,
          29944,
          120000,
          181000,
          36773,
          152000,
          129300,
          100000,
          120000,
          70500,
          103691,
          145000,
          153600,
          136000,
          160000,
          145000,
          127500,
          65062,
          139500,
          136000,
          49268,
          204500,
          129300,
          215000,
          40000,
          134000,
          120000,
          235000,
          110000,
          185000,
          90320,
          82000,
          130000,
          105200,
          122700,
          120000,
          132320,
          130000,
          59020,
          130800,
          86193,
          225000,
          150000,
          130000,
          250000,
          85000,
          70000,
          160000,
          63000,
          184700,
          110820,
          80000,
          50000,
          190000,
          89306,
          84053,
          115092,
          180000,
          115000,
          45600,
          142200,
          170000,
          160000,
          150000,
          49253,
          80000,
          85066,
          120000,
          130000,
          165000,
          136000,
          50000,
          176000,
          205300,
          220000,
          46178,
          110000,
          154000,
          149600,
          143200,
          206000,
          131300,
          70000,
          51000,
          65000,
          70000,
          250000,
          160000,
          203500,
          130000,
          94500,
          70000,
          375000,
          84900,
          174000,
          185900,
          160000,
          252000,
          140000,
          150000,
          51508,
          130000,
          106900,
          161000,
          130000,
          100000,
          116150,
          110000,
          135000,
          150000,
          197000,
          47280,
          100000,
          120000,
          130000,
          140000,
          129000,
          7000,
          135000,
          127221,
          135000,
          204500,
          160000,
          94000,
          160000,
          135000,
          70000,
          177000,
          288000,
          129300,
          203000,
          140000,
          149850,
          160000,
          54000,
          49253,
          107309,
          205000,
          180000,
          120000,
          155000,
          64385,
          189650,
          95000,
          28016,
          249500,
          81666,
          95000,
          227000,
          222200,
          151800,
          115000,
          130000,
          170550,
          185000,
          120000,
          130000,
          275300,
          249300,
          121523,
          75000,
          92350,
          110000,
          127000,
          140250,
          300000,
          50000,
          160000,
          128000,
          141525,
          37824,
          216000,
          245100,
          85000,
          166000,
          135000,
          107309,
          293000,
          112900,
          165000,
          60000,
          140000,
          37558,
          120000,
          160000,
          97750,
          175000,
          135000,
          200000,
          99100,
          100000,
          135000,
          170000,
          60000,
          210000,
          110000,
          69741,
          120250,
          139860,
          27317,
          81666,
          127075,
          175000,
          120000,
          90000,
          113000,
          262500,
          130000,
          45050,
          146000,
          150000,
          122000,
          172200,
          109400,
          92350,
          75000,
          174500,
          85500,
          275300,
          153600,
          150000,
          61800,
          136000,
          100000,
          68318,
          117000,
          100000,
          214000,
          85066,
          276000,
          132320,
          94665,
          125000,
          110000,
          150000,
          38631,
          125000,
          141525,
          141288,
          78990,
          190000,
          59102,
          125000,
          109280,
          143000,
          190000,
          276000,
          85847,
          70000,
          80000,
          260000,
          95000,
          38631,
          153600,
          190000,
          203500,
          106500,
          49253,
          100000,
          213120,
          200000,
          90000,
          200000,
          54685,
          130000,
          35093,
          141846,
          249500,
          108000,
          33000,
          126000,
          147100,
          115000,
          145000,
          65000,
          17022,
          100000,
          125000,
          191475,
          225000,
          90000,
          95000,
          60000,
          75000,
          182500,
          85000,
          120000,
          200000,
          72946,
          140700,
          135000,
          60000,
          130000,
          200000,
          198800,
          125000,
          100000,
          236000,
          106800,
          135000,
          121700,
          82920,
          100000,
          178750,
          61566,
          109000,
          134236,
          113476,
          247500,
          104000,
          70000,
          131300,
          180000,
          61566,
          75648,
          116450,
          256000,
          299500,
          135000,
          135000,
          46759,
          208049,
          250000,
          150000,
          237000,
          105000,
          141525,
          58000,
          36773,
          39925,
          36773,
          151800,
          100000,
          156600,
          175000,
          220000,
          104650,
          51716,
          90000,
          140000,
          100000,
          106250,
          215000,
          135000,
          164996,
          216200,
          100000,
          430967,
          60400,
          125000,
          208000,
          221000,
          185900,
          175000,
          219000,
          120000,
          82280,
          58331,
          66000,
          150000,
          75000,
          83171,
          95746,
          79833,
          130000,
          100000,
          145000,
          113000,
          180000,
          230000,
          145885,
          110680,
          21669,
          204500,
          63040,
          130000,
          225000,
          130000,
          225000,
          110000,
          106020,
          170000,
          202800,
          110000,
          140000,
          170000,
          245000,
          133300,
          5409,
          150000,
          150000,
          201450,
          73880,
          142200,
          105700,
          100000,
          129300,
          253200,
          24000,
          76814,
          135000,
          140000,
          170000,
          105500,
          120000,
          147000,
          115000,
          150000,
          48000,
          195000,
          130000,
          55000,
          172200,
          145900,
          189110,
          212800,
          210000,
          182500,
          67597,
          145000,
          140000,
          160080,
          150000,
          80036,
          423834,
          42533,
          47280,
          70000,
          75000,
          161000,
          275000,
          150000,
          9466,
          175000,
          33511,
          198440,
          170000,
          147100,
          166000,
          83171,
          61200,
          80000,
          241000,
          113000,
          153000,
          54742,
          227200,
          180000,
          150000,
          183600,
          423000,
          147000,
          75000,
          84000,
          50000,
          130000,
          17805,
          38631,
          165000,
          119059,
          75000,
          81500,
          115934,
          129000,
          180000,
          121600,
          59888,
          150900,
          146000,
          193000,
          138750,
          76309,
          195700,
          159100,
          133300,
          145000,
          170000,
          165000,
          69133,
          149600,
          247500,
          130000,
          78000,
          93800,
          300240,
          140000,
          130000,
          122700,
          190000,
          115000,
          222640,
          159000,
          109400,
          80000,
          124234,
          153400,
          142200,
          252000,
          185000,
          65000,
          105200,
          120000,
          75020,
          163800,
          245100,
          230000,
          175000,
          288000,
          116000,
          142200,
          167500,
          291500,
          160000,
          120000,
          170000,
          115500,
          100000,
          120000,
          60000,
          172200,
          127000,
          180000,
          62000,
          100000,
          105000,
          51081,
          100000,
          195400,
          109400,
          165000,
          136000,
          160000,
          190000,
          100000,
          140000,
          145000,
          201450,
          95000,
          262000,
          127599,
          148750,
          188700,
          65000,
          183000,
          117000,
          9272,
          114047,
          133300,
          130000,
          90000,
          159000,
          103432,
          174000,
          81500,
          154600,
          86193,
          55800,
          120000,
          300000,
          141525,
          102100,
          136600,
          80000,
          64980,
          149040,
          113000,
          142127,
          95000,
          205000,
          120000,
          175000,
          148500,
          155000,
          125000,
          150000,
          95000,
          57000,
          184000,
          90000,
          82744,
          160000,
          10000,
          215000,
          69000,
          90000,
          180000,
          75000,
          140000,
          250000,
          132000,
          185100,
          160000,
          136994,
          86193,
          100000,
          74178,
          252000,
          112872,
          167875,
          120000,
          139500,
          119300,
          131300,
          235000,
          210000,
          82365,
          160000,
          40000,
          7799,
          204500,
          220000,
          170000,
          134000,
          185000,
          170000,
          115000,
          125000,
          50180,
          59020,
          175000,
          167580,
          160000,
          112000,
          100000,
          220000,
          120000,
          134500,
          175100,
          150000,
          75000,
          200000,
          70000,
          102839,
          213580,
          40000,
          150000,
          185000,
          180000,
          145000,
          224000,
          84053,
          210000,
          142200,
          172386,
          18314,
          65000,
          150000,
          235000,
          275300,
          112000,
          92700,
          162500,
          85000,
          242000,
          205000,
          106800,
          203000,
          154600,
          185900,
          243900,
          90700,
          79197,
          286000,
          60000,
          60761,
          112000,
          135446,
          150000,
          100000,
          116250,
          110600,
          117000,
          174000,
          180000,
          162500,
          81666,
          168400,
          125000,
          120000,
          130000,
          185000,
          225000,
          149500,
          129300,
          20171,
          70186,
          88654,
          259000,
          172200,
          185900,
          180000,
          183000,
          65000,
          200000,
          120000,
          180000,
          130000,
          20000,
          162000,
          119000,
          120000,
          22611,
          200000,
          163800,
          115000,
          153600,
          144000,
          89200,
          125000,
          81666,
          162500,
          191765,
          128750,
          53368,
          138750,
          175000,
          191475,
          350000,
          120000,
          260000,
          120000,
          170000,
          125000,
          174500,
          221000,
          158677,
          95000,
          118208,
          107000,
          153600,
          300000,
          159000,
          77364,
          156400,
          80000,
          250000,
          140000,
          130000,
          100000,
          200000,
          90000,
          190000,
          81666,
          250500,
          84053,
          180000,
          195895,
          200000,
          193000,
          110000,
          80000,
          101228,
          123648,
          192564,
          146200,
          113750,
          185000,
          200000,
          90000,
          95000,
          260000,
          119000,
          200000,
          160000,
          241000,
          115000,
          98000,
          123900,
          150000,
          24823,
          191475,
          162500,
          261500,
          80000,
          105000,
          106800,
          73546,
          193500,
          145000,
          115000,
          102100,
          74130,
          250000,
          110000,
          129300,
          81666,
          80000,
          210000,
          143100,
          75050,
          200000,
          162000,
          140000,
          55000,
          66970,
          188000,
          180000,
          75000,
          250000,
          132300,
          80036,
          145000,
          120000,
          99703,
          165000,
          174500,
          155000,
          45390,
          116100,
          375000,
          250000,
          100000,
          187500,
          50000,
          169000,
          229998,
          60000,
          121700,
          135000,
          136620,
          183000,
          193900,
          136000,
          75000,
          10354,
          45760,
          172200,
          80000,
          76833,
          200000,
          63000,
          70139,
          139500,
          20000,
          74000,
          140000,
          48609,
          148700,
          85000,
          200000,
          165000,
          98000,
          90320,
          120250,
          164000,
          75116,
          76000,
          129300,
          80000,
          289800,
          260000,
          60000,
          128000,
          125000,
          104300,
          230000,
          135000,
          164000,
          170000,
          169000,
          105200,
          191475,
          113900,
          110000,
          160000,
          180000,
          84053,
          112000,
          129000,
          100000,
          100000,
          38154,
          155000,
          110037,
          120000,
          205000,
          121904,
          160000,
          168000,
          70000,
          75000,
          184000,
          135000,
          113000,
          80036,
          130000,
          191475,
          230000,
          340000,
          132000,
          201000,
          154000,
          81500,
          114000,
          140000,
          97000,
          50432,
          115934,
          150000,
          110600,
          118000,
          51039,
          73546,
          160000,
          120000,
          115000,
          145000,
          141525,
          150000,
          144000,
          144000,
          185900,
          309400,
          42028,
          160000,
          135000,
          90000,
          129300,
          69751,
          175000,
          120000,
          120000,
          130000,
          63000,
          183000,
          55000,
          231250,
          106000,
          85000,
          235000,
          120000,
          160000,
          65000,
          20984,
          115000,
          105200,
          124190,
          138938,
          237000,
          150000,
          125686,
          310000,
          160000,
          200000,
          145000,
          130000,
          177500,
          204500,
          215000,
          191475,
          240500,
          135000,
          122000,
          85000,
          83864,
          100000,
          37824,
          230000,
          122000,
          160000,
          142200,
          247500,
          140400,
          72000,
          165000,
          5882,
          167500,
          185900,
          141525,
          110446,
          128000,
          37824,
          145000,
          284310,
          160080,
          240000,
          190000,
          133200,
          250000,
          135000,
          100000,
          150000,
          82900,
          202353,
          78000,
          247500,
          129000,
          77262,
          205000,
          163800,
          51519,
          62000,
          124000,
          170000,
          184000,
          52533,
          31520,
          145000,
          149850,
          80000,
          52500,
          172000,
          141525,
          45896,
          225000,
          49646,
          350000,
          75774,
          139000,
          128000,
          200000,
          135000,
          124740,
          200000,
          185900,
          135000,
          154545,
          110000,
          50000,
          122700,
          80481,
          200000,
          225000,
          75000,
          290000,
          226700,
          180180,
          237000,
          85000,
          297300,
          129000,
          153400,
          145000,
          69344,
          144854,
          145000,
          200000,
          210000,
          140400,
          13000,
          185900,
          29453,
          160000,
          136000,
          130000,
          195800,
          13400,
          153000,
          235000,
          110000,
          169000,
          136000,
          145000,
          200160,
          265000,
          78000,
          376080,
          88654,
          56256,
          109000,
          185000,
          146000,
          108000,
          220110,
          90000,
          105700,
          150000,
          253750,
          202900,
          297300,
          179305,
          31520,
          135000,
          60795,
          50000,
          77300,
          144854,
          50000,
          226700,
          90000,
          104890,
          184000,
          125404,
          245000,
          146000,
          247500,
          170000,
          85500,
          94192,
          180000,
          110600,
          178800,
          120000,
          129300,
          115360,
          124234,
          102100,
          165000,
          10000,
          140000,
          200000,
          129300,
          40777,
          183310,
          160395,
          156400,
          180000,
          198000,
          50000,
          94000,
          161800,
          123000,
          250000,
          153000,
          24165,
          210000,
          55410,
          260000,
          183600,
          129300,
          104000,
          129300,
          175000,
          318300,
          138350,
          130760,
          204500,
          150000,
          153600,
          168400,
          130000,
          150000,
          220000,
          37824,
          109024,
          168000,
          139500,
          204500,
          140000,
          245000,
          95000,
          185900,
          133300,
          159832,
          170000,
          83270,
          126000,
          275000,
          122500,
          205000,
          88654,
          129300,
          150000,
          180000,
          200000,
          126100,
          126000,
          125000,
          106800,
          75000,
          130000,
          110000,
          106800,
          171250,
          113900,
          257000,
          170000,
          5707,
          130000,
          128000,
          105236,
          50432,
          100000,
          144100,
          61566,
          160000,
          185900,
          87980,
          184000,
          116000,
          182160,
          155000,
          78000,
          96578,
          191475,
          120000,
          130000,
          260000,
          191475,
          106260,
          175000,
          115934,
          92350,
          175000,
          131300,
          175000,
          120000,
          15000,
          100000,
          60093,
          99000,
          78990,
          135000,
          131300,
          300240,
          158000,
          120000,
          205000,
          12000,
          94000,
          98000,
          82528,
          141300,
          5679,
          210914,
          106020,
          63000,
          135000,
          107500,
          123700,
          150000,
          232200,
          108000,
          190000,
          200000,
          36940,
          145000,
          106500,
          152500,
          30428,
          55000,
          51039,
          63000,
          299500,
          110600,
          100000,
          105500,
          200000,
          135000,
          152380,
          270000,
          92350,
          48289,
          136994,
          120000,
          130000,
          148750,
          12901,
          120000,
          155000,
          324000,
          222000,
          204500,
          122600,
          105000,
          96282,
          150000,
          140400,
          81000,
          220000,
          175000,
          50000,
          115934,
          78000,
          91118,
          160000,
          60000,
          185900,
          246000,
          33246,
          125000,
          150000,
          120000,
          172200,
          129000,
          220000,
          137400,
          144000,
          122000,
          160000,
          156400,
          180000,
          40570,
          200000,
          160000,
          216100,
          113000,
          65666,
          205000,
          56100,
          60000,
          120000,
          110000,
          231250,
          60000,
          172000,
          88100,
          160000,
          201000,
          165000,
          47280,
          100000,
          110000,
          170730,
          175000,
          151902,
          100000,
          80036,
          156400,
          236000,
          135000,
          141525,
          94564,
          153600,
          214000,
          275000,
          93000,
          184000,
          130000,
          97218,
          191475,
          30000,
          133800,
          185000,
          153000,
          105000,
          237000,
          199000,
          130000,
          105000,
          51321,
          116000,
          43096,
          179000,
          84053,
          164996,
          165000,
          412000,
          31520,
          82365,
          105000,
          160000,
          92000,
          31520,
          130000,
          210000,
          133832,
          141600,
          141300,
          30469,
          150000,
          186300,
          145000,
          102640,
          117100,
          205600,
          226700,
          54365,
          119000,
          219535,
          63192,
          80041,
          210000,
          190200,
          160000,
          145000,
          231250,
          65257,
          231250,
          140000,
          176000,
          71786,
          201000,
          86193,
          126500,
          120000,
          120600,
          200000,
          100000,
          230000,
          240000,
          108000,
          120000,
          200000,
          180000,
          109000,
          110000,
          214618,
          175000,
          150000,
          120000,
          175000,
          135000,
          156400,
          53654,
          135000,
          225000,
          75000,
          202800,
          225000,
          205000,
          149076,
          182000,
          121500,
          133766,
          130000,
          216000,
          16414,
          149000,
          169000,
          102500,
          231250,
          57723,
          184000,
          157000,
          129300,
          63192,
          160000,
          103200,
          90000,
          63000,
          74540,
          226700,
          100000,
          135000,
          160000,
          85000,
          150000,
          201036,
          220000,
          135000,
          40038,
          230000,
          134000,
          300000,
          145000,
          129300,
          113900,
          100000,
          135000,
          120000,
          230000,
          83000,
          42533,
          150000,
          239000,
          150000,
          130000,
          201000,
          100000,
          9727,
          170000,
          100500,
          37825,
          165000,
          100000,
          140000,
          96100,
          61896,
          139600,
          105200,
          110000,
          106500,
          236000,
          100000,
          96000,
          170000,
          100000,
          245000,
          146115,
          73900,
          142000,
          207000,
          100000,
          141525,
          34672,
          146000,
          94000,
          156400,
          175000,
          115000,
          104697,
          135000,
          205920,
          150000,
          129300,
          148800,
          126080,
          128875,
          125000,
          213660,
          109400,
          229000,
          160000,
          47280,
          150000,
          33808,
          252000,
          125000,
          66531,
          180180,
          165000,
          200000,
          100800,
          61800,
          136000,
          106000,
          113000,
          150000,
          158200,
          60000,
          181940,
          110000,
          115000,
          50432,
          38000,
          63040,
          106800,
          102000,
          144000,
          128000,
          252000,
          172800,
          36940,
          141000,
          145000,
          159832,
          115000,
          109280,
          54685,
          170000,
          64000,
          179170,
          79178,
          70000,
          283200,
          136260,
          225000,
          105000,
          120000,
          170000,
          85000,
          150000,
          100000,
          150000,
          85000,
          47280,
          95000,
          140250,
          175000,
          145000,
          21013,
          38000,
          28609,
          100000,
          98506,
          110000,
          175000,
          345600,
          48289,
          80000,
          169000,
          121093,
          70000,
          24000,
          145000,
          150000,
          159200,
          68293,
          90000,
          120000,
          275000,
          224000,
          126000,
          90000,
          240000,
          185900,
          117000,
          120000,
          124000,
          62000,
          160000,
          250000,
          54000,
          52500,
          140000,
          100000,
          162500,
          136000,
          150000,
          81500,
          184000,
          231250,
          269000,
          38631,
          85066,
          76833,
          90734,
          240000,
          132300,
          171000,
          191475,
          80000,
          148261,
          52533,
          48000,
          150000,
          189750,
          160000,
          250000,
          101943,
          191475,
          310000,
          148500,
          180000,
          180180,
          75116,
          200000,
          113000,
          136000,
          185900,
          289076,
          5132,
          245100,
          17684,
          100000,
          130000,
          213660,
          156400,
          165750,
          149076,
          235000,
          275300,
          245000,
          110000,
          104000,
          95550,
          151000,
          182000,
          63831,
          129000,
          185000,
          130000,
          315000,
          140000,
          75000,
          105000,
          124270,
          148800,
          300000,
          105000,
          110000,
          134000,
          53654,
          75116,
          109006,
          160000,
          200160,
          145000,
          153600,
          191475,
          120000,
          80000,
          87000,
          110000,
          93700,
          155000,
          105066,
          141525,
          142200,
          48000,
          98506,
          140000,
          140000,
          130000,
          73546,
          191475,
          60000,
          100000,
          43809,
          161342,
          130050,
          180000,
          198200,
          140000,
          103160,
          136000,
          15806,
          135000,
          250000,
          100000,
          209450,
          185900,
          260000,
          120000,
          109371,
          70000,
          310000,
          130000,
          115000,
          132320,
          145000,
          89200,
          203500,
          100000,
          160000,
          60938,
          253750,
          210000,
          222200,
          12877,
          55410,
          111000,
          185900,
          135000,
          64200,
          175000,
          147800,
          95000,
          136000,
          160000,
          176000,
          197000,
          215050,
          170000,
          78000,
          210000,
          46597,
          135000,
          162500,
          205000,
          142200,
          200000,
          152500,
          185000,
          220000,
          128875,
          37824,
          123400,
          228000,
          85000,
          103000,
          138000,
          67141,
          249260,
          72914,
          116000,
          100000,
          204500,
          75000,
          105380,
          106000,
          220000,
          155000,
          134000,
          210000,
          100000,
          275300,
          150260,
          150000,
          142200,
          135000,
          126000,
          240000,
          187200,
          106000,
          110000,
          150000,
          239000,
          78990,
          100000,
          252000,
          110000,
          145000,
          25500,
          100000,
          250000,
          100000,
          15897,
          174500,
          184000,
          106800,
          156400,
          144000,
          199098,
          110000,
          75000,
          160000,
          200000,
          110500,
          182750,
          100000,
          160000,
          135000,
          130000,
          136956,
          56723,
          230000,
          42000,
          66837,
          30000,
          140000,
          200000,
          184700,
          197000,
          160000,
          56000,
          150000,
          90000,
          68428,
          85000,
          125000,
          199000,
          250000,
          318300,
          200000,
          156400,
          17779,
          128000,
          141525,
          135000,
          120000,
          38631,
          136100,
          142200,
          113000,
          105200,
          152000,
          145000,
          450000,
          223250,
          16904,
          135000,
          129300,
          70000,
          142000,
          105400,
          66022,
          170000,
          140000,
          85000,
          179820,
          18238,
          198800,
          299500,
          139000,
          93150,
          147100,
          90700,
          100000,
          129300,
          140000,
          54685,
          156400,
          138750,
          190000,
          40189,
          75000,
          128875,
          115000,
          168400,
          179820,
          153600,
          150000,
          120000,
          75000,
          161500,
          125000,
          70000,
          120000,
          130001,
          145000,
          211500,
          130000,
          154000,
          95000,
          65488,
          130000,
          108800,
          151800,
          63831,
          175000,
          95000,
          60000,
          141525,
          185900,
          120000,
          80000,
          175000,
          120000,
          12767,
          55000,
          150000,
          210000,
          206699,
          105000,
          145000,
          156868,
          145000,
          152500,
          129300,
          75000,
          200000,
          240000,
          201000,
          160000,
          110000,
          111775,
          80000,
          215300,
          72200,
          171000,
          80000,
          183600,
          160000,
          220000,
          170000,
          153000,
          200000,
          120160,
          209100,
          185900,
          416000,
          155000,
          169000,
          216000,
          217000,
          155850,
          160000,
          405000,
          144000,
          120000,
          50000,
          75000,
          130000,
          87738,
          198440,
          90700,
          23000,
          126500,
          175950,
          182000,
          222200,
          225000,
          54685,
          70000,
          191200,
          135000,
          165000,
          162500,
          149040,
          90000,
          43096,
          140000,
          185000,
          150000,
          144000,
          240500,
          179775,
          145000,
          129000,
          65000,
          190000,
          140000,
          225000,
          61566,
          260000,
          81500,
          90000,
          215300,
          192500,
          100000,
          183000,
          17022,
          150000,
          134760,
          73546,
          116704,
          110000,
          46809,
          91237,
          82500,
          204500,
          45391,
          55000,
          85000,
          91000,
          80000,
          186000,
          119300,
          95386,
          57723,
          90320,
          210914,
          78000,
          135000,
          200000,
          150000,
          36000,
          67000,
          190000,
          153000,
          10000,
          129000,
          159500,
          192000,
          115934,
          126000,
          210550,
          171600,
          66837,
          159100,
          90000,
          203100,
          370000,
          48000,
          130000,
          188800,
          51753,
          248100,
          180000,
          187000,
          52533,
          125000,
          105000,
          209300,
          154000,
          192400,
          154600,
          120000,
          73546,
          74540,
          163800,
          188500,
          203300,
          175000,
          51064,
          90000,
          137500,
          132000,
          250000,
          142200,
          144000,
          137500,
          48289,
          135000,
          160000,
          113000,
          130000,
          196000,
          216000,
          70000,
          106500,
          124000,
          200000,
          125000,
          70000,
          150450,
          129000,
          289076,
          148000,
          65000,
          95000,
          81000,
          115447,
          122700,
          150000,
          48000,
          191200,
          95000,
          104000,
          28368,
          202900,
          204100,
          154600,
          119000,
          144000,
          140000,
          80000,
          143200,
          85000,
          52500,
          132100,
          191475,
          102000,
          150000,
          225000,
          247500,
          160000,
          12000,
          157750,
          250000,
          100000,
          141525,
          185900,
          129300,
          85000,
          67723,
          191200,
          21844,
          145900,
          120000,
          106800,
          128500,
          183500,
          160000,
          130000,
          100000,
          170000,
          50000,
          120000,
          156400,
          75000,
          247500,
          145000,
          132100,
          129300,
          88100,
          180000,
          129300,
          119500,
          197000,
          71897,
          160000,
          123000,
          104000,
          130000,
          135000,
          175000,
          105000,
          154600,
          185000,
          73742,
          90700,
          73880,
          149040,
          145000,
          299500,
          20000,
          70000,
          155000,
          129300,
          15966,
          65013,
          148000,
          142200,
          36643,
          150075,
          310000,
          191475,
          150000,
          167000,
          120000,
          94560,
          168400,
          109371,
          72500,
          167500,
          153088,
          130000,
          155000,
          170000,
          218000,
          178600,
          220000,
          154545,
          185900,
          141525,
          175000,
          182200,
          85000,
          140000,
          65141,
          58837,
          60938,
          127000,
          216000,
          93000,
          169200,
          191475,
          200100,
          120000,
          150000,
          120000,
          235000,
          95000,
          125000,
          140800,
          63810,
          35735,
          69741,
          142200,
          53416,
          155000,
          47899,
          161800,
          168100,
          173000,
          275300,
          185000,
          250000,
          96113,
          180000,
          30000,
          150000,
          272550,
          145828,
          48000,
          170000,
          129300,
          160000,
          120000,
          120000,
          110820,
          97500,
          110600,
          38631,
          30000,
          153667,
          120000,
          20000,
          115934,
          135000,
          250000,
          139000,
          95000,
          24000,
          190000,
          110000,
          140000,
          160000,
          175000,
          191475,
          110000,
          145000,
          125000,
          135000,
          166700,
          65000,
          10000,
          122000,
          237000,
          140000,
          206500,
          160000,
          24823,
          106800,
          206000,
          133000,
          180000,
          145000,
          55000,
          248700,
          189650,
          228000,
          93800,
          102663,
          89306,
          300000,
          99000,
          150000,
          186000,
          220000,
          122000,
          204500,
          60000,
          150000,
          87000,
          289800,
          172600,
          95000,
          175000,
          280000,
          150000,
          195000,
          222200,
          63000,
          110000,
          38000,
          329500,
          171600,
          155000,
          122900,
          116976,
          120000,
          22800,
          215000,
          205600,
          225000,
          135000,
          300000,
          155499,
          173762,
          63000,
          141525,
          175000,
          130000,
          141525,
          225000,
          210000,
          140000,
          140000,
          150000,
          220110,
          39925,
          185000,
          90000,
          160000,
          120000,
          133800,
          120000,
          179400,
          225000,
          105000,
          250000,
          237000,
          19609,
          100000,
          73546,
          120000,
          185900,
          230000,
          65488,
          221300,
          150000,
          250000,
          73546,
          153600,
          210000,
          80000,
          192600,
          154000,
          189650,
          235000,
          206000,
          180000,
          114000,
          139500,
          170500,
          185900,
          151410,
          131300,
          141525,
          200000,
          110000,
          95000,
          200000,
          207000,
          250000,
          183500,
          123600,
          132300,
          175000,
          191475,
          116000,
          105000,
          28399,
          109400,
          120000,
          48000,
          42533,
          93918,
          185000,
          94300,
          134000,
          163800,
          104000,
          165000,
          160000,
          152000,
          177000,
          175000,
          150000,
          175000,
          249500,
          100000,
          75000,
          167500,
          239000,
          210000,
          239000,
          184100,
          150000,
          172309,
          183500,
          191475,
          189500,
          231500,
          20000,
          200000,
          38631,
          81666,
          155000,
          205000,
          100706,
          199000,
          129300,
          95000,
          100000,
          115000,
          136850,
          165000,
          43096,
          204620,
          194000,
          205000,
          138750,
          70000,
          65000,
          309400,
          144000,
          297500,
          186000,
          145000,
          85000,
          140000,
          140250,
          50000,
          110600,
          173000,
          192000,
          92350,
          190000,
          112000,
          248100,
          60938,
          184000,
          166700,
          225000,
          134000,
          110000,
          284000,
          18053,
          102200,
          66265,
          64090,
          120000,
          100000,
          154000,
          42000,
          174000,
          17805,
          169000,
          175000,
          109400,
          140000,
          145000,
          120000,
          66100,
          123700,
          101228,
          110600,
          171250,
          206000,
          88256,
          191200,
          145000,
          152000,
          180000,
          110820,
          84053,
          55685,
          95000,
          160000,
          297300,
          63000,
          102100,
          190000,
          192000,
          160000,
          172200,
          69751,
          86193,
          68400,
          285800,
          108000,
          130000,
          80000,
          191475,
          130000,
          80000,
          185000,
          58000,
          105500,
          160000,
          50432,
          243000,
          223800,
          70000,
          245100,
          140100,
          130240,
          124000,
          172500,
          185900,
          200000,
          63000,
          170000,
          81500,
          160000,
          250000,
          153600,
          90320,
          60757,
          61566,
          99100,
          50000,
          147100,
          100000,
          190000,
          145000,
          145000,
          185000,
          95000,
          43809,
          200000,
          183310,
          154000,
          380000,
          73880,
          123000,
          146000,
          206000,
          50000,
          170000,
          35610,
          250000,
          30000,
          146000,
          67723,
          130000,
          195400,
          180000,
          99750,
          130000,
          272000,
          85000,
          80000,
          175000,
          156000,
          120000,
          100000,
          36773,
          140000,
          127467,
          75000,
          80000,
          314100,
          123000,
          17509,
          163625,
          52533,
          105700,
          63900,
          169200,
          140000,
          120000,
          59303,
          100000,
          7500,
          139000,
          109400,
          153600,
          63000,
          155000,
          229998,
          167000,
          197430,
          342300,
          90000,
          103294,
          200000,
          153300,
          252000,
          108000,
          124500,
          62726,
          172200,
          135000,
          130000,
          120000,
          225000,
          120000
         ],
         "xaxis": "x",
         "yaxis": "y"
        }
       ],
       "layout": {
        "barmode": "relative",
        "legend": {
         "tracegroupgap": 0
        },
        "template": {
         "data": {
          "bar": [
           {
            "error_x": {
             "color": "#2a3f5f"
            },
            "error_y": {
             "color": "#2a3f5f"
            },
            "marker": {
             "line": {
              "color": "#E5ECF6",
              "width": 0.5
             },
             "pattern": {
              "fillmode": "overlay",
              "size": 10,
              "solidity": 0.2
             }
            },
            "type": "bar"
           }
          ],
          "barpolar": [
           {
            "marker": {
             "line": {
              "color": "#E5ECF6",
              "width": 0.5
             },
             "pattern": {
              "fillmode": "overlay",
              "size": 10,
              "solidity": 0.2
             }
            },
            "type": "barpolar"
           }
          ],
          "carpet": [
           {
            "aaxis": {
             "endlinecolor": "#2a3f5f",
             "gridcolor": "white",
             "linecolor": "white",
             "minorgridcolor": "white",
             "startlinecolor": "#2a3f5f"
            },
            "baxis": {
             "endlinecolor": "#2a3f5f",
             "gridcolor": "white",
             "linecolor": "white",
             "minorgridcolor": "white",
             "startlinecolor": "#2a3f5f"
            },
            "type": "carpet"
           }
          ],
          "choropleth": [
           {
            "colorbar": {
             "outlinewidth": 0,
             "ticks": ""
            },
            "type": "choropleth"
           }
          ],
          "contour": [
           {
            "colorbar": {
             "outlinewidth": 0,
             "ticks": ""
            },
            "colorscale": [
             [
              0,
              "#0d0887"
             ],
             [
              0.1111111111111111,
              "#46039f"
             ],
             [
              0.2222222222222222,
              "#7201a8"
             ],
             [
              0.3333333333333333,
              "#9c179e"
             ],
             [
              0.4444444444444444,
              "#bd3786"
             ],
             [
              0.5555555555555556,
              "#d8576b"
             ],
             [
              0.6666666666666666,
              "#ed7953"
             ],
             [
              0.7777777777777778,
              "#fb9f3a"
             ],
             [
              0.8888888888888888,
              "#fdca26"
             ],
             [
              1,
              "#f0f921"
             ]
            ],
            "type": "contour"
           }
          ],
          "contourcarpet": [
           {
            "colorbar": {
             "outlinewidth": 0,
             "ticks": ""
            },
            "type": "contourcarpet"
           }
          ],
          "heatmap": [
           {
            "colorbar": {
             "outlinewidth": 0,
             "ticks": ""
            },
            "colorscale": [
             [
              0,
              "#0d0887"
             ],
             [
              0.1111111111111111,
              "#46039f"
             ],
             [
              0.2222222222222222,
              "#7201a8"
             ],
             [
              0.3333333333333333,
              "#9c179e"
             ],
             [
              0.4444444444444444,
              "#bd3786"
             ],
             [
              0.5555555555555556,
              "#d8576b"
             ],
             [
              0.6666666666666666,
              "#ed7953"
             ],
             [
              0.7777777777777778,
              "#fb9f3a"
             ],
             [
              0.8888888888888888,
              "#fdca26"
             ],
             [
              1,
              "#f0f921"
             ]
            ],
            "type": "heatmap"
           }
          ],
          "heatmapgl": [
           {
            "colorbar": {
             "outlinewidth": 0,
             "ticks": ""
            },
            "colorscale": [
             [
              0,
              "#0d0887"
             ],
             [
              0.1111111111111111,
              "#46039f"
             ],
             [
              0.2222222222222222,
              "#7201a8"
             ],
             [
              0.3333333333333333,
              "#9c179e"
             ],
             [
              0.4444444444444444,
              "#bd3786"
             ],
             [
              0.5555555555555556,
              "#d8576b"
             ],
             [
              0.6666666666666666,
              "#ed7953"
             ],
             [
              0.7777777777777778,
              "#fb9f3a"
             ],
             [
              0.8888888888888888,
              "#fdca26"
             ],
             [
              1,
              "#f0f921"
             ]
            ],
            "type": "heatmapgl"
           }
          ],
          "histogram": [
           {
            "marker": {
             "pattern": {
              "fillmode": "overlay",
              "size": 10,
              "solidity": 0.2
             }
            },
            "type": "histogram"
           }
          ],
          "histogram2d": [
           {
            "colorbar": {
             "outlinewidth": 0,
             "ticks": ""
            },
            "colorscale": [
             [
              0,
              "#0d0887"
             ],
             [
              0.1111111111111111,
              "#46039f"
             ],
             [
              0.2222222222222222,
              "#7201a8"
             ],
             [
              0.3333333333333333,
              "#9c179e"
             ],
             [
              0.4444444444444444,
              "#bd3786"
             ],
             [
              0.5555555555555556,
              "#d8576b"
             ],
             [
              0.6666666666666666,
              "#ed7953"
             ],
             [
              0.7777777777777778,
              "#fb9f3a"
             ],
             [
              0.8888888888888888,
              "#fdca26"
             ],
             [
              1,
              "#f0f921"
             ]
            ],
            "type": "histogram2d"
           }
          ],
          "histogram2dcontour": [
           {
            "colorbar": {
             "outlinewidth": 0,
             "ticks": ""
            },
            "colorscale": [
             [
              0,
              "#0d0887"
             ],
             [
              0.1111111111111111,
              "#46039f"
             ],
             [
              0.2222222222222222,
              "#7201a8"
             ],
             [
              0.3333333333333333,
              "#9c179e"
             ],
             [
              0.4444444444444444,
              "#bd3786"
             ],
             [
              0.5555555555555556,
              "#d8576b"
             ],
             [
              0.6666666666666666,
              "#ed7953"
             ],
             [
              0.7777777777777778,
              "#fb9f3a"
             ],
             [
              0.8888888888888888,
              "#fdca26"
             ],
             [
              1,
              "#f0f921"
             ]
            ],
            "type": "histogram2dcontour"
           }
          ],
          "mesh3d": [
           {
            "colorbar": {
             "outlinewidth": 0,
             "ticks": ""
            },
            "type": "mesh3d"
           }
          ],
          "parcoords": [
           {
            "line": {
             "colorbar": {
              "outlinewidth": 0,
              "ticks": ""
             }
            },
            "type": "parcoords"
           }
          ],
          "pie": [
           {
            "automargin": true,
            "type": "pie"
           }
          ],
          "scatter": [
           {
            "fillpattern": {
             "fillmode": "overlay",
             "size": 10,
             "solidity": 0.2
            },
            "type": "scatter"
           }
          ],
          "scatter3d": [
           {
            "line": {
             "colorbar": {
              "outlinewidth": 0,
              "ticks": ""
             }
            },
            "marker": {
             "colorbar": {
              "outlinewidth": 0,
              "ticks": ""
             }
            },
            "type": "scatter3d"
           }
          ],
          "scattercarpet": [
           {
            "marker": {
             "colorbar": {
              "outlinewidth": 0,
              "ticks": ""
             }
            },
            "type": "scattercarpet"
           }
          ],
          "scattergeo": [
           {
            "marker": {
             "colorbar": {
              "outlinewidth": 0,
              "ticks": ""
             }
            },
            "type": "scattergeo"
           }
          ],
          "scattergl": [
           {
            "marker": {
             "colorbar": {
              "outlinewidth": 0,
              "ticks": ""
             }
            },
            "type": "scattergl"
           }
          ],
          "scattermapbox": [
           {
            "marker": {
             "colorbar": {
              "outlinewidth": 0,
              "ticks": ""
             }
            },
            "type": "scattermapbox"
           }
          ],
          "scatterpolar": [
           {
            "marker": {
             "colorbar": {
              "outlinewidth": 0,
              "ticks": ""
             }
            },
            "type": "scatterpolar"
           }
          ],
          "scatterpolargl": [
           {
            "marker": {
             "colorbar": {
              "outlinewidth": 0,
              "ticks": ""
             }
            },
            "type": "scatterpolargl"
           }
          ],
          "scatterternary": [
           {
            "marker": {
             "colorbar": {
              "outlinewidth": 0,
              "ticks": ""
             }
            },
            "type": "scatterternary"
           }
          ],
          "surface": [
           {
            "colorbar": {
             "outlinewidth": 0,
             "ticks": ""
            },
            "colorscale": [
             [
              0,
              "#0d0887"
             ],
             [
              0.1111111111111111,
              "#46039f"
             ],
             [
              0.2222222222222222,
              "#7201a8"
             ],
             [
              0.3333333333333333,
              "#9c179e"
             ],
             [
              0.4444444444444444,
              "#bd3786"
             ],
             [
              0.5555555555555556,
              "#d8576b"
             ],
             [
              0.6666666666666666,
              "#ed7953"
             ],
             [
              0.7777777777777778,
              "#fb9f3a"
             ],
             [
              0.8888888888888888,
              "#fdca26"
             ],
             [
              1,
              "#f0f921"
             ]
            ],
            "type": "surface"
           }
          ],
          "table": [
           {
            "cells": {
             "fill": {
              "color": "#EBF0F8"
             },
             "line": {
              "color": "white"
             }
            },
            "header": {
             "fill": {
              "color": "#C8D4E3"
             },
             "line": {
              "color": "white"
             }
            },
            "type": "table"
           }
          ]
         },
         "layout": {
          "annotationdefaults": {
           "arrowcolor": "#2a3f5f",
           "arrowhead": 0,
           "arrowwidth": 1
          },
          "autotypenumbers": "strict",
          "coloraxis": {
           "colorbar": {
            "outlinewidth": 0,
            "ticks": ""
           }
          },
          "colorscale": {
           "diverging": [
            [
             0,
             "#8e0152"
            ],
            [
             0.1,
             "#c51b7d"
            ],
            [
             0.2,
             "#de77ae"
            ],
            [
             0.3,
             "#f1b6da"
            ],
            [
             0.4,
             "#fde0ef"
            ],
            [
             0.5,
             "#f7f7f7"
            ],
            [
             0.6,
             "#e6f5d0"
            ],
            [
             0.7,
             "#b8e186"
            ],
            [
             0.8,
             "#7fbc41"
            ],
            [
             0.9,
             "#4d9221"
            ],
            [
             1,
             "#276419"
            ]
           ],
           "sequential": [
            [
             0,
             "#0d0887"
            ],
            [
             0.1111111111111111,
             "#46039f"
            ],
            [
             0.2222222222222222,
             "#7201a8"
            ],
            [
             0.3333333333333333,
             "#9c179e"
            ],
            [
             0.4444444444444444,
             "#bd3786"
            ],
            [
             0.5555555555555556,
             "#d8576b"
            ],
            [
             0.6666666666666666,
             "#ed7953"
            ],
            [
             0.7777777777777778,
             "#fb9f3a"
            ],
            [
             0.8888888888888888,
             "#fdca26"
            ],
            [
             1,
             "#f0f921"
            ]
           ],
           "sequentialminus": [
            [
             0,
             "#0d0887"
            ],
            [
             0.1111111111111111,
             "#46039f"
            ],
            [
             0.2222222222222222,
             "#7201a8"
            ],
            [
             0.3333333333333333,
             "#9c179e"
            ],
            [
             0.4444444444444444,
             "#bd3786"
            ],
            [
             0.5555555555555556,
             "#d8576b"
            ],
            [
             0.6666666666666666,
             "#ed7953"
            ],
            [
             0.7777777777777778,
             "#fb9f3a"
            ],
            [
             0.8888888888888888,
             "#fdca26"
            ],
            [
             1,
             "#f0f921"
            ]
           ]
          },
          "colorway": [
           "#636efa",
           "#EF553B",
           "#00cc96",
           "#ab63fa",
           "#FFA15A",
           "#19d3f3",
           "#FF6692",
           "#B6E880",
           "#FF97FF",
           "#FECB52"
          ],
          "font": {
           "color": "#2a3f5f"
          },
          "geo": {
           "bgcolor": "white",
           "lakecolor": "white",
           "landcolor": "#E5ECF6",
           "showlakes": true,
           "showland": true,
           "subunitcolor": "white"
          },
          "hoverlabel": {
           "align": "left"
          },
          "hovermode": "closest",
          "mapbox": {
           "style": "light"
          },
          "paper_bgcolor": "white",
          "plot_bgcolor": "#E5ECF6",
          "polar": {
           "angularaxis": {
            "gridcolor": "white",
            "linecolor": "white",
            "ticks": ""
           },
           "bgcolor": "#E5ECF6",
           "radialaxis": {
            "gridcolor": "white",
            "linecolor": "white",
            "ticks": ""
           }
          },
          "scene": {
           "xaxis": {
            "backgroundcolor": "#E5ECF6",
            "gridcolor": "white",
            "gridwidth": 2,
            "linecolor": "white",
            "showbackground": true,
            "ticks": "",
            "zerolinecolor": "white"
           },
           "yaxis": {
            "backgroundcolor": "#E5ECF6",
            "gridcolor": "white",
            "gridwidth": 2,
            "linecolor": "white",
            "showbackground": true,
            "ticks": "",
            "zerolinecolor": "white"
           },
           "zaxis": {
            "backgroundcolor": "#E5ECF6",
            "gridcolor": "white",
            "gridwidth": 2,
            "linecolor": "white",
            "showbackground": true,
            "ticks": "",
            "zerolinecolor": "white"
           }
          },
          "shapedefaults": {
           "line": {
            "color": "#2a3f5f"
           }
          },
          "ternary": {
           "aaxis": {
            "gridcolor": "white",
            "linecolor": "white",
            "ticks": ""
           },
           "baxis": {
            "gridcolor": "white",
            "linecolor": "white",
            "ticks": ""
           },
           "bgcolor": "#E5ECF6",
           "caxis": {
            "gridcolor": "white",
            "linecolor": "white",
            "ticks": ""
           }
          },
          "title": {
           "x": 0.05
          },
          "xaxis": {
           "automargin": true,
           "gridcolor": "white",
           "linecolor": "white",
           "ticks": "",
           "title": {
            "standoff": 15
           },
           "zerolinecolor": "white",
           "zerolinewidth": 2
          },
          "yaxis": {
           "automargin": true,
           "gridcolor": "white",
           "linecolor": "white",
           "ticks": "",
           "title": {
            "standoff": 15
           },
           "zerolinecolor": "white",
           "zerolinewidth": 2
          }
         }
        },
        "title": {
         "text": "Distribution des salaires"
        },
        "xaxis": {
         "anchor": "y",
         "domain": [
          0,
          1
         ],
         "title": {
          "text": "Salaire en $"
         }
        },
        "yaxis": {
         "anchor": "x",
         "domain": [
          0,
          1
         ],
         "title": {
          "text": "count"
         }
        }
       }
      }
     },
     "metadata": {},
     "output_type": "display_data"
    }
   ],
   "source": [
    "fig = px.histogram(data, x=target, title='Distribution des salaires',\n",
    "                   labels={target: 'Salaire en $', 'count': 'Fréquence'})\n",
    "fig.show()"
   ]
  },
  {
   "cell_type": "markdown",
   "metadata": {},
   "source": [
    "Il y a une importante concentration de salaires autour des 100k - 150k USD, avec une fréquence plus faible à mesure que les salaires augmentent => la majorité des employés gagnent dans cette tranche"
   ]
  },
  {
   "cell_type": "code",
   "execution_count": 15,
   "metadata": {},
   "outputs": [
    {
     "data": {
      "text/plain": [
       "work_year             0\n",
       "experience_level      0\n",
       "employment_type       0\n",
       "job_title             0\n",
       "salary_in_usd         0\n",
       "employee_residence    0\n",
       "remote_ratio          0\n",
       "company_location      0\n",
       "company_size          0\n",
       "dtype: int64"
      ]
     },
     "execution_count": 15,
     "metadata": {},
     "output_type": "execute_result"
    }
   ],
   "source": [
    "data.isna().sum()"
   ]
  },
  {
   "cell_type": "markdown",
   "metadata": {},
   "source": [
    "<span style=\"color:red\">Il n'y a aucune valeur manquante dans le dataset</span>"
   ]
  },
  {
   "cell_type": "code",
   "execution_count": 16,
   "metadata": {},
   "outputs": [
    {
     "data": {
      "text/plain": [
       "np.True_"
      ]
     },
     "execution_count": 16,
     "metadata": {},
     "output_type": "execute_result"
    }
   ],
   "source": [
    "data.duplicated().max() # True => Iy a des duplicated values"
   ]
  },
  {
   "cell_type": "code",
   "execution_count": 17,
   "metadata": {},
   "outputs": [
    {
     "data": {
      "text/plain": [
       "np.int64(834)"
      ]
     },
     "execution_count": 17,
     "metadata": {},
     "output_type": "execute_result"
    }
   ],
   "source": [
    "data.duplicated().sum()"
   ]
  },
  {
   "cell_type": "markdown",
   "metadata": {},
   "source": [
    "<span style=\"color:red\">Il y a 834 doublons dans notre jeu de données il faut les gérer</span>"
   ]
  },
  {
   "cell_type": "code",
   "execution_count": 18,
   "metadata": {},
   "outputs": [
    {
     "data": {
      "image/png": "[encoded data removed]",
      "text/plain": [
       "<Figure size 1000x500 with 1 Axes>"
      ]
     },
     "metadata": {},
     "output_type": "display_data"
    }
   ],
   "source": [
    "text = ' '.join(data['job_title'])\n",
    "word_counts = Counter(text.split())\n",
    "word_counts['Data'] = 2000\n",
    "wordcloud = WordCloud(width=800, height=400, background_color='white').generate_from_frequencies(word_counts)\n",
    "plt.figure(figsize=(10, 5))\n",
    "plt.imshow(wordcloud, interpolation='bilinear')\n",
    "plt.axis('off')\n",
    "plt.show()"
   ]
  },
  {
   "cell_type": "markdown",
   "metadata": {},
   "source": [
    "Les mots \"Data\", \"Engineer\" et \"Scientist\" ressortent clairement, indiquant que ces postes sont les plus fréquents"
   ]
  },
  {
   "cell_type": "code",
   "execution_count": 19,
   "metadata": {},
   "outputs": [
    {
     "data": {
      "application/vnd.plotly.v1+json": {
       "config": {
        "plotlyServerURL": "https://plot.ly"
       },
       "data": [
        {
         "alignmentgroup": "True",
         "hovertemplate": "job_title=%{x}<br>salary_in_usd=%{y}<extra></extra>",
         "legendgroup": "Data Science Tech Lead",
         "marker": {
          "color": "#636efa",
          "pattern": {
           "shape": ""
          }
         },
         "name": "Data Science Tech Lead",
         "offsetgroup": "Data Science Tech Lead",
         "orientation": "v",
         "showlegend": true,
         "textposition": "auto",
         "type": "bar",
         "x": [
          "Data Science Tech Lead"
         ],
         "xaxis": "x",
         "y": [
          375000
         ],
         "yaxis": "y"
        },
        {
         "alignmentgroup": "True",
         "hovertemplate": "job_title=%{x}<br>salary_in_usd=%{y}<extra></extra>",
         "legendgroup": "Cloud Data Architect",
         "marker": {
          "color": "#EF553B",
          "pattern": {
           "shape": ""
          }
         },
         "name": "Cloud Data Architect",
         "offsetgroup": "Cloud Data Architect",
         "orientation": "v",
         "showlegend": true,
         "textposition": "auto",
         "type": "bar",
         "x": [
          "Cloud Data Architect"
         ],
         "xaxis": "x",
         "y": [
          250000
         ],
         "yaxis": "y"
        },
        {
         "alignmentgroup": "True",
         "hovertemplate": "job_title=%{x}<br>salary_in_usd=%{y}<extra></extra>",
         "legendgroup": "Data Analytics Lead",
         "marker": {
          "color": "#00cc96",
          "pattern": {
           "shape": ""
          }
         },
         "name": "Data Analytics Lead",
         "offsetgroup": "Data Analytics Lead",
         "orientation": "v",
         "showlegend": true,
         "textposition": "auto",
         "type": "bar",
         "x": [
          "Data Analytics Lead"
         ],
         "xaxis": "x",
         "y": [
          211254.5
         ],
         "yaxis": "y"
        },
        {
         "alignmentgroup": "True",
         "hovertemplate": "job_title=%{x}<br>salary_in_usd=%{y}<extra></extra>",
         "legendgroup": "Director of Data Science",
         "marker": {
          "color": "#ab63fa",
          "pattern": {
           "shape": ""
          }
         },
         "name": "Director of Data Science",
         "offsetgroup": "Director of Data Science",
         "orientation": "v",
         "showlegend": true,
         "textposition": "auto",
         "type": "bar",
         "x": [
          "Director of Data Science"
         ],
         "xaxis": "x",
         "y": [
          205957
         ],
         "yaxis": "y"
        },
        {
         "alignmentgroup": "True",
         "hovertemplate": "job_title=%{x}<br>salary_in_usd=%{y}<extra></extra>",
         "legendgroup": "Data Lead",
         "marker": {
          "color": "#FFA15A",
          "pattern": {
           "shape": ""
          }
         },
         "name": "Data Lead",
         "offsetgroup": "Data Lead",
         "orientation": "v",
         "showlegend": true,
         "textposition": "auto",
         "type": "bar",
         "x": [
          "Data Lead"
         ],
         "xaxis": "x",
         "y": [
          200000
         ],
         "yaxis": "y"
        },
        {
         "alignmentgroup": "True",
         "hovertemplate": "job_title=%{x}<br>salary_in_usd=%{y}<extra></extra>",
         "legendgroup": "Applied Scientist",
         "marker": {
          "color": "#19d3f3",
          "pattern": {
           "shape": ""
          }
         },
         "name": "Applied Scientist",
         "offsetgroup": "Applied Scientist",
         "orientation": "v",
         "showlegend": true,
         "textposition": "auto",
         "type": "bar",
         "x": [
          "Applied Scientist"
         ],
         "xaxis": "x",
         "y": [
          197021.14583333334
         ],
         "yaxis": "y"
        },
        {
         "alignmentgroup": "True",
         "hovertemplate": "job_title=%{x}<br>salary_in_usd=%{y}<extra></extra>",
         "legendgroup": "Head of Data",
         "marker": {
          "color": "#FF6692",
          "pattern": {
           "shape": ""
          }
         },
         "name": "Head of Data",
         "offsetgroup": "Head of Data",
         "orientation": "v",
         "showlegend": true,
         "textposition": "auto",
         "type": "bar",
         "x": [
          "Head of Data"
         ],
         "xaxis": "x",
         "y": [
          196506.875
         ],
         "yaxis": "y"
        },
        {
         "alignmentgroup": "True",
         "hovertemplate": "job_title=%{x}<br>salary_in_usd=%{y}<extra></extra>",
         "legendgroup": "Principal Data Scientist",
         "marker": {
          "color": "#B6E880",
          "pattern": {
           "shape": ""
          }
         },
         "name": "Principal Data Scientist",
         "offsetgroup": "Principal Data Scientist",
         "orientation": "v",
         "showlegend": true,
         "textposition": "auto",
         "type": "bar",
         "x": [
          "Principal Data Scientist"
         ],
         "xaxis": "x",
         "y": [
          195052.7142857143
         ],
         "yaxis": "y"
        },
        {
         "alignmentgroup": "True",
         "hovertemplate": "job_title=%{x}<br>salary_in_usd=%{y}<extra></extra>",
         "legendgroup": "Data Science Manager",
         "marker": {
          "color": "#FF97FF",
          "pattern": {
           "shape": ""
          }
         },
         "name": "Data Science Manager",
         "offsetgroup": "Data Science Manager",
         "orientation": "v",
         "showlegend": true,
         "textposition": "auto",
         "type": "bar",
         "x": [
          "Data Science Manager"
         ],
         "xaxis": "x",
         "y": [
          192636.25531914894
         ],
         "yaxis": "y"
        },
        {
         "alignmentgroup": "True",
         "hovertemplate": "job_title=%{x}<br>salary_in_usd=%{y}<extra></extra>",
         "legendgroup": "Principal Machine Learning Engineer",
         "marker": {
          "color": "#FECB52",
          "pattern": {
           "shape": ""
          }
         },
         "name": "Principal Machine Learning Engineer",
         "offsetgroup": "Principal Machine Learning Engineer",
         "orientation": "v",
         "showlegend": true,
         "textposition": "auto",
         "type": "bar",
         "x": [
          "Principal Machine Learning Engineer"
         ],
         "xaxis": "x",
         "y": [
          190000
         ],
         "yaxis": "y"
        },
        {
         "alignmentgroup": "True",
         "hovertemplate": "job_title=%{x}<br>salary_in_usd=%{y}<extra></extra>",
         "legendgroup": "Machine Learning Software Engineer",
         "marker": {
          "color": "#636efa",
          "pattern": {
           "shape": ""
          }
         },
         "name": "Machine Learning Software Engineer",
         "offsetgroup": "Machine Learning Software Engineer",
         "orientation": "v",
         "showlegend": true,
         "textposition": "auto",
         "type": "bar",
         "x": [
          "Machine Learning Software Engineer"
         ],
         "xaxis": "x",
         "y": [
          186975
         ],
         "yaxis": "y"
        },
        {
         "alignmentgroup": "True",
         "hovertemplate": "job_title=%{x}<br>salary_in_usd=%{y}<extra></extra>",
         "legendgroup": "Data Infrastructure Engineer",
         "marker": {
          "color": "#EF553B",
          "pattern": {
           "shape": ""
          }
         },
         "name": "Data Infrastructure Engineer",
         "offsetgroup": "Data Infrastructure Engineer",
         "orientation": "v",
         "showlegend": true,
         "textposition": "auto",
         "type": "bar",
         "x": [
          "Data Infrastructure Engineer"
         ],
         "xaxis": "x",
         "y": [
          176750
         ],
         "yaxis": "y"
        },
        {
         "alignmentgroup": "True",
         "hovertemplate": "job_title=%{x}<br>salary_in_usd=%{y}<extra></extra>",
         "legendgroup": "Machine Learning Manager",
         "marker": {
          "color": "#00cc96",
          "pattern": {
           "shape": ""
          }
         },
         "name": "Machine Learning Manager",
         "offsetgroup": "Machine Learning Manager",
         "orientation": "v",
         "showlegend": true,
         "textposition": "auto",
         "type": "bar",
         "x": [
          "Machine Learning Manager"
         ],
         "xaxis": "x",
         "y": [
          175000
         ],
         "yaxis": "y"
        },
        {
         "alignmentgroup": "True",
         "hovertemplate": "job_title=%{x}<br>salary_in_usd=%{y}<extra></extra>",
         "legendgroup": "Business Intelligence Engineer",
         "marker": {
          "color": "#ab63fa",
          "pattern": {
           "shape": ""
          }
         },
         "name": "Business Intelligence Engineer",
         "offsetgroup": "Business Intelligence Engineer",
         "orientation": "v",
         "showlegend": true,
         "textposition": "auto",
         "type": "bar",
         "x": [
          "Business Intelligence Engineer"
         ],
         "xaxis": "x",
         "y": [
          174150
         ],
         "yaxis": "y"
        },
        {
         "alignmentgroup": "True",
         "hovertemplate": "job_title=%{x}<br>salary_in_usd=%{y}<extra></extra>",
         "legendgroup": "Research Scientist",
         "marker": {
          "color": "#FFA15A",
          "pattern": {
           "shape": ""
          }
         },
         "name": "Research Scientist",
         "offsetgroup": "Research Scientist",
         "orientation": "v",
         "showlegend": true,
         "textposition": "auto",
         "type": "bar",
         "x": [
          "Research Scientist"
         ],
         "xaxis": "x",
         "y": [
          163934.07936507938
         ],
         "yaxis": "y"
        },
        {
         "alignmentgroup": "True",
         "hovertemplate": "job_title=%{x}<br>salary_in_usd=%{y}<extra></extra>",
         "legendgroup": "ML Engineer",
         "marker": {
          "color": "#19d3f3",
          "pattern": {
           "shape": ""
          }
         },
         "name": "ML Engineer",
         "offsetgroup": "ML Engineer",
         "orientation": "v",
         "showlegend": true,
         "textposition": "auto",
         "type": "bar",
         "x": [
          "ML Engineer"
         ],
         "xaxis": "x",
         "y": [
          161339.7037037037
         ],
         "yaxis": "y"
        },
        {
         "alignmentgroup": "True",
         "hovertemplate": "job_title=%{x}<br>salary_in_usd=%{y}<extra></extra>",
         "legendgroup": "Head of Data Science",
         "marker": {
          "color": "#FF6692",
          "pattern": {
           "shape": ""
          }
         },
         "name": "Head of Data Science",
         "offsetgroup": "Head of Data Science",
         "orientation": "v",
         "showlegend": true,
         "textposition": "auto",
         "type": "bar",
         "x": [
          "Head of Data Science"
         ],
         "xaxis": "x",
         "y": [
          160591.66666666666
         ],
         "yaxis": "y"
        },
        {
         "alignmentgroup": "True",
         "hovertemplate": "job_title=%{x}<br>salary_in_usd=%{y}<extra></extra>",
         "legendgroup": "Data Architect",
         "marker": {
          "color": "#B6E880",
          "pattern": {
           "shape": ""
          }
         },
         "name": "Data Architect",
         "offsetgroup": "Data Architect",
         "orientation": "v",
         "showlegend": true,
         "textposition": "auto",
         "type": "bar",
         "x": [
          "Data Architect"
         ],
         "xaxis": "x",
         "y": [
          160013.1891891892
         ],
         "yaxis": "y"
        },
        {
         "alignmentgroup": "True",
         "hovertemplate": "job_title=%{x}<br>salary_in_usd=%{y}<extra></extra>",
         "legendgroup": "Research Engineer",
         "marker": {
          "color": "#FF97FF",
          "pattern": {
           "shape": ""
          }
         },
         "name": "Research Engineer",
         "offsetgroup": "Research Engineer",
         "orientation": "v",
         "showlegend": true,
         "textposition": "auto",
         "type": "bar",
         "x": [
          "Research Engineer"
         ],
         "xaxis": "x",
         "y": [
          158823.82352941178
         ],
         "yaxis": "y"
        },
        {
         "alignmentgroup": "True",
         "hovertemplate": "job_title=%{x}<br>salary_in_usd=%{y}<extra></extra>",
         "legendgroup": "Machine Learning Scientist",
         "marker": {
          "color": "#FECB52",
          "pattern": {
           "shape": ""
          }
         },
         "name": "Machine Learning Scientist",
         "offsetgroup": "Machine Learning Scientist",
         "orientation": "v",
         "showlegend": true,
         "textposition": "auto",
         "type": "bar",
         "x": [
          "Machine Learning Scientist"
         ],
         "xaxis": "x",
         "y": [
          157600.95652173914
         ],
         "yaxis": "y"
        },
        {
         "alignmentgroup": "True",
         "hovertemplate": "job_title=%{x}<br>salary_in_usd=%{y}<extra></extra>",
         "legendgroup": "Machine Learning Engineer",
         "marker": {
          "color": "#636efa",
          "pattern": {
           "shape": ""
          }
         },
         "name": "Machine Learning Engineer",
         "offsetgroup": "Machine Learning Engineer",
         "orientation": "v",
         "showlegend": true,
         "textposition": "auto",
         "type": "bar",
         "x": [
          "Machine Learning Engineer"
         ],
         "xaxis": "x",
         "y": [
          157444.1373390558
         ],
         "yaxis": "y"
        },
        {
         "alignmentgroup": "True",
         "hovertemplate": "job_title=%{x}<br>salary_in_usd=%{y}<extra></extra>",
         "legendgroup": "Analytics Engineer",
         "marker": {
          "color": "#EF553B",
          "pattern": {
           "shape": ""
          }
         },
         "name": "Analytics Engineer",
         "offsetgroup": "Analytics Engineer",
         "orientation": "v",
         "showlegend": true,
         "textposition": "auto",
         "type": "bar",
         "x": [
          "Analytics Engineer"
         ],
         "xaxis": "x",
         "y": [
          150810.97530864197
         ],
         "yaxis": "y"
        },
        {
         "alignmentgroup": "True",
         "hovertemplate": "job_title=%{x}<br>salary_in_usd=%{y}<extra></extra>",
         "legendgroup": "AI Developer",
         "marker": {
          "color": "#00cc96",
          "pattern": {
           "shape": ""
          }
         },
         "name": "AI Developer",
         "offsetgroup": "AI Developer",
         "orientation": "v",
         "showlegend": true,
         "textposition": "auto",
         "type": "bar",
         "x": [
          "AI Developer"
         ],
         "xaxis": "x",
         "y": [
          147127.875
         ],
         "yaxis": "y"
        },
        {
         "alignmentgroup": "True",
         "hovertemplate": "job_title=%{x}<br>salary_in_usd=%{y}<extra></extra>",
         "legendgroup": "Data Modeler",
         "marker": {
          "color": "#ab63fa",
          "pattern": {
           "shape": ""
          }
         },
         "name": "Data Modeler",
         "offsetgroup": "Data Modeler",
         "orientation": "v",
         "showlegend": true,
         "textposition": "auto",
         "type": "bar",
         "x": [
          "Data Modeler"
         ],
         "xaxis": "x",
         "y": [
          147100
         ],
         "yaxis": "y"
        },
        {
         "alignmentgroup": "True",
         "hovertemplate": "job_title=%{x}<br>salary_in_usd=%{y}<extra></extra>",
         "legendgroup": "Computer Vision Engineer",
         "marker": {
          "color": "#FFA15A",
          "pattern": {
           "shape": ""
          }
         },
         "name": "Computer Vision Engineer",
         "offsetgroup": "Computer Vision Engineer",
         "orientation": "v",
         "showlegend": true,
         "textposition": "auto",
         "type": "bar",
         "x": [
          "Computer Vision Engineer"
         ],
         "xaxis": "x",
         "y": [
          144676.86666666667
         ],
         "yaxis": "y"
        },
        {
         "alignmentgroup": "True",
         "hovertemplate": "job_title=%{x}<br>salary_in_usd=%{y}<extra></extra>",
         "legendgroup": "Marketing Data Analyst",
         "marker": {
          "color": "#19d3f3",
          "pattern": {
           "shape": ""
          }
         },
         "name": "Marketing Data Analyst",
         "offsetgroup": "Marketing Data Analyst",
         "orientation": "v",
         "showlegend": true,
         "textposition": "auto",
         "type": "bar",
         "x": [
          "Marketing Data Analyst"
         ],
         "xaxis": "x",
         "y": [
          144327
         ],
         "yaxis": "y"
        },
        {
         "alignmentgroup": "True",
         "hovertemplate": "job_title=%{x}<br>salary_in_usd=%{y}<extra></extra>",
         "legendgroup": "Lead Data Engineer",
         "marker": {
          "color": "#FF6692",
          "pattern": {
           "shape": ""
          }
         },
         "name": "Lead Data Engineer",
         "offsetgroup": "Lead Data Engineer",
         "orientation": "v",
         "showlegend": true,
         "textposition": "auto",
         "type": "bar",
         "x": [
          "Lead Data Engineer"
         ],
         "xaxis": "x",
         "y": [
          144032
         ],
         "yaxis": "y"
        },
        {
         "alignmentgroup": "True",
         "hovertemplate": "job_title=%{x}<br>salary_in_usd=%{y}<extra></extra>",
         "legendgroup": "Data Scientist",
         "marker": {
          "color": "#B6E880",
          "pattern": {
           "shape": ""
          }
         },
         "name": "Data Scientist",
         "offsetgroup": "Data Scientist",
         "orientation": "v",
         "showlegend": true,
         "textposition": "auto",
         "type": "bar",
         "x": [
          "Data Scientist"
         ],
         "xaxis": "x",
         "y": [
          142807.56168359943
         ],
         "yaxis": "y"
        },
        {
         "alignmentgroup": "True",
         "hovertemplate": "job_title=%{x}<br>salary_in_usd=%{y}<extra></extra>",
         "legendgroup": "Data Analytics Manager",
         "marker": {
          "color": "#FF97FF",
          "pattern": {
           "shape": ""
          }
         },
         "name": "Data Analytics Manager",
         "offsetgroup": "Data Analytics Manager",
         "orientation": "v",
         "showlegend": true,
         "textposition": "auto",
         "type": "bar",
         "x": [
          "Data Analytics Manager"
         ],
         "xaxis": "x",
         "y": [
          142629.33333333334
         ],
         "yaxis": "y"
        },
        {
         "alignmentgroup": "True",
         "hovertemplate": "job_title=%{x}<br>salary_in_usd=%{y}<extra></extra>",
         "legendgroup": "Data Engineer",
         "marker": {
          "color": "#FECB52",
          "pattern": {
           "shape": ""
          }
         },
         "name": "Data Engineer",
         "offsetgroup": "Data Engineer",
         "orientation": "v",
         "showlegend": true,
         "textposition": "auto",
         "type": "bar",
         "x": [
          "Data Engineer"
         ],
         "xaxis": "x",
         "y": [
          142254.1803874092
         ],
         "yaxis": "y"
        },
        {
         "alignmentgroup": "True",
         "hovertemplate": "job_title=%{x}<br>salary_in_usd=%{y}<extra></extra>",
         "legendgroup": "NLP Engineer",
         "marker": {
          "color": "#636efa",
          "pattern": {
           "shape": ""
          }
         },
         "name": "NLP Engineer",
         "offsetgroup": "NLP Engineer",
         "orientation": "v",
         "showlegend": true,
         "textposition": "auto",
         "type": "bar",
         "x": [
          "NLP Engineer"
         ],
         "xaxis": "x",
         "y": [
          142026.4
         ],
         "yaxis": "y"
        },
        {
         "alignmentgroup": "True",
         "hovertemplate": "job_title=%{x}<br>salary_in_usd=%{y}<extra></extra>",
         "legendgroup": "Cloud Database Engineer",
         "marker": {
          "color": "#EF553B",
          "pattern": {
           "shape": ""
          }
         },
         "name": "Cloud Database Engineer",
         "offsetgroup": "Cloud Database Engineer",
         "orientation": "v",
         "showlegend": true,
         "textposition": "auto",
         "type": "bar",
         "x": [
          "Cloud Database Engineer"
         ],
         "xaxis": "x",
         "y": [
          138333.33333333334
         ],
         "yaxis": "y"
        },
        {
         "alignmentgroup": "True",
         "hovertemplate": "job_title=%{x}<br>salary_in_usd=%{y}<extra></extra>",
         "legendgroup": "Machine Learning Infrastructure Engineer",
         "marker": {
          "color": "#00cc96",
          "pattern": {
           "shape": ""
          }
         },
         "name": "Machine Learning Infrastructure Engineer",
         "offsetgroup": "Machine Learning Infrastructure Engineer",
         "orientation": "v",
         "showlegend": true,
         "textposition": "auto",
         "type": "bar",
         "x": [
          "Machine Learning Infrastructure Engineer"
         ],
         "xaxis": "x",
         "y": [
          136721
         ],
         "yaxis": "y"
        },
        {
         "alignmentgroup": "True",
         "hovertemplate": "job_title=%{x}<br>salary_in_usd=%{y}<extra></extra>",
         "legendgroup": "Data Scientist Lead",
         "marker": {
          "color": "#ab63fa",
          "pattern": {
           "shape": ""
          }
         },
         "name": "Data Scientist Lead",
         "offsetgroup": "Data Scientist Lead",
         "orientation": "v",
         "showlegend": true,
         "textposition": "auto",
         "type": "bar",
         "x": [
          "Data Scientist Lead"
         ],
         "xaxis": "x",
         "y": [
          136153
         ],
         "yaxis": "y"
        },
        {
         "alignmentgroup": "True",
         "hovertemplate": "job_title=%{x}<br>salary_in_usd=%{y}<extra></extra>",
         "legendgroup": "Data Science Lead",
         "marker": {
          "color": "#FFA15A",
          "pattern": {
           "shape": ""
          }
         },
         "name": "Data Science Lead",
         "offsetgroup": "Data Science Lead",
         "orientation": "v",
         "showlegend": true,
         "textposition": "auto",
         "type": "bar",
         "x": [
          "Data Science Lead"
         ],
         "xaxis": "x",
         "y": [
          134840.25
         ],
         "yaxis": "y"
        },
        {
         "alignmentgroup": "True",
         "hovertemplate": "job_title=%{x}<br>salary_in_usd=%{y}<extra></extra>",
         "legendgroup": "ETL Developer",
         "marker": {
          "color": "#19d3f3",
          "pattern": {
           "shape": ""
          }
         },
         "name": "ETL Developer",
         "offsetgroup": "ETL Developer",
         "orientation": "v",
         "showlegend": true,
         "textposition": "auto",
         "type": "bar",
         "x": [
          "ETL Developer"
         ],
         "xaxis": "x",
         "y": [
          131453.6
         ],
         "yaxis": "y"
        },
        {
         "alignmentgroup": "True",
         "hovertemplate": "job_title=%{x}<br>salary_in_usd=%{y}<extra></extra>",
         "legendgroup": "BI Developer",
         "marker": {
          "color": "#FF6692",
          "pattern": {
           "shape": ""
          }
         },
         "name": "BI Developer",
         "offsetgroup": "BI Developer",
         "orientation": "v",
         "showlegend": true,
         "textposition": "auto",
         "type": "bar",
         "x": [
          "BI Developer"
         ],
         "xaxis": "x",
         "y": [
          130800
         ],
         "yaxis": "y"
        },
        {
         "alignmentgroup": "True",
         "hovertemplate": "job_title=%{x}<br>salary_in_usd=%{y}<extra></extra>",
         "legendgroup": "MLOps Engineer",
         "marker": {
          "color": "#B6E880",
          "pattern": {
           "shape": ""
          }
         },
         "name": "MLOps Engineer",
         "offsetgroup": "MLOps Engineer",
         "orientation": "v",
         "showlegend": true,
         "textposition": "auto",
         "type": "bar",
         "x": [
          "MLOps Engineer"
         ],
         "xaxis": "x",
         "y": [
          130666.66666666667
         ],
         "yaxis": "y"
        },
        {
         "alignmentgroup": "True",
         "hovertemplate": "job_title=%{x}<br>salary_in_usd=%{y}<extra></extra>",
         "legendgroup": "Applied Data Scientist",
         "marker": {
          "color": "#FF97FF",
          "pattern": {
           "shape": ""
          }
         },
         "name": "Applied Data Scientist",
         "offsetgroup": "Applied Data Scientist",
         "orientation": "v",
         "showlegend": true,
         "textposition": "auto",
         "type": "bar",
         "x": [
          "Applied Data Scientist"
         ],
         "xaxis": "x",
         "y": [
          129128.125
         ],
         "yaxis": "y"
        },
        {
         "alignmentgroup": "True",
         "hovertemplate": "job_title=%{x}<br>salary_in_usd=%{y}<extra></extra>",
         "legendgroup": "Applied Machine Learning Scientist",
         "marker": {
          "color": "#FECB52",
          "pattern": {
           "shape": ""
          }
         },
         "name": "Applied Machine Learning Scientist",
         "offsetgroup": "Applied Machine Learning Scientist",
         "orientation": "v",
         "showlegend": true,
         "textposition": "auto",
         "type": "bar",
         "x": [
          "Applied Machine Learning Scientist"
         ],
         "xaxis": "x",
         "y": [
          128332.44444444444
         ],
         "yaxis": "y"
        },
        {
         "alignmentgroup": "True",
         "hovertemplate": "job_title=%{x}<br>salary_in_usd=%{y}<extra></extra>",
         "legendgroup": "Big Data Architect",
         "marker": {
          "color": "#636efa",
          "pattern": {
           "shape": ""
          }
         },
         "name": "Big Data Architect",
         "offsetgroup": "Big Data Architect",
         "orientation": "v",
         "showlegend": true,
         "textposition": "auto",
         "type": "bar",
         "x": [
          "Big Data Architect"
         ],
         "xaxis": "x",
         "y": [
          125802.5
         ],
         "yaxis": "y"
        },
        {
         "alignmentgroup": "True",
         "hovertemplate": "job_title=%{x}<br>salary_in_usd=%{y}<extra></extra>",
         "legendgroup": "AI Scientist",
         "marker": {
          "color": "#EF553B",
          "pattern": {
           "shape": ""
          }
         },
         "name": "AI Scientist",
         "offsetgroup": "AI Scientist",
         "orientation": "v",
         "showlegend": true,
         "textposition": "auto",
         "type": "bar",
         "x": [
          "AI Scientist"
         ],
         "xaxis": "x",
         "y": [
          124138.14285714286
         ],
         "yaxis": "y"
        },
        {
         "alignmentgroup": "True",
         "hovertemplate": "job_title=%{x}<br>salary_in_usd=%{y}<extra></extra>",
         "legendgroup": "Deep Learning Researcher",
         "marker": {
          "color": "#00cc96",
          "pattern": {
           "shape": ""
          }
         },
         "name": "Deep Learning Researcher",
         "offsetgroup": "Deep Learning Researcher",
         "orientation": "v",
         "showlegend": true,
         "textposition": "auto",
         "type": "bar",
         "x": [
          "Deep Learning Researcher"
         ],
         "xaxis": "x",
         "y": [
          123405
         ],
         "yaxis": "y"
        },
        {
         "alignmentgroup": "True",
         "hovertemplate": "job_title=%{x}<br>salary_in_usd=%{y}<extra></extra>",
         "legendgroup": "Data Specialist",
         "marker": {
          "color": "#ab63fa",
          "pattern": {
           "shape": ""
          }
         },
         "name": "Data Specialist",
         "offsetgroup": "Data Specialist",
         "orientation": "v",
         "showlegend": true,
         "textposition": "auto",
         "type": "bar",
         "x": [
          "Data Specialist"
         ],
         "xaxis": "x",
         "y": [
          122845.45454545454
         ],
         "yaxis": "y"
        },
        {
         "alignmentgroup": "True",
         "hovertemplate": "job_title=%{x}<br>salary_in_usd=%{y}<extra></extra>",
         "legendgroup": "Principal Data Analyst",
         "marker": {
          "color": "#FFA15A",
          "pattern": {
           "shape": ""
          }
         },
         "name": "Principal Data Analyst",
         "offsetgroup": "Principal Data Analyst",
         "orientation": "v",
         "showlegend": true,
         "textposition": "auto",
         "type": "bar",
         "x": [
          "Principal Data Analyst"
         ],
         "xaxis": "x",
         "y": [
          122500
         ],
         "yaxis": "y"
        },
        {
         "alignmentgroup": "True",
         "hovertemplate": "job_title=%{x}<br>salary_in_usd=%{y}<extra></extra>",
         "legendgroup": "Data Manager",
         "marker": {
          "color": "#19d3f3",
          "pattern": {
           "shape": ""
          }
         },
         "name": "Data Manager",
         "offsetgroup": "Data Manager",
         "orientation": "v",
         "showlegend": true,
         "textposition": "auto",
         "type": "bar",
         "x": [
          "Data Manager"
         ],
         "xaxis": "x",
         "y": [
          113791.48
         ],
         "yaxis": "y"
        },
        {
         "alignmentgroup": "True",
         "hovertemplate": "job_title=%{x}<br>salary_in_usd=%{y}<extra></extra>",
         "legendgroup": "Deep Learning Engineer",
         "marker": {
          "color": "#FF6692",
          "pattern": {
           "shape": ""
          }
         },
         "name": "Deep Learning Engineer",
         "offsetgroup": "Deep Learning Engineer",
         "orientation": "v",
         "showlegend": true,
         "textposition": "auto",
         "type": "bar",
         "x": [
          "Deep Learning Engineer"
         ],
         "xaxis": "x",
         "y": [
          111089.2
         ],
         "yaxis": "y"
        },
        {
         "alignmentgroup": "True",
         "hovertemplate": "job_title=%{x}<br>salary_in_usd=%{y}<extra></extra>",
         "legendgroup": "Data Operations Engineer",
         "marker": {
          "color": "#B6E880",
          "pattern": {
           "shape": ""
          }
         },
         "name": "Data Operations Engineer",
         "offsetgroup": "Data Operations Engineer",
         "orientation": "v",
         "showlegend": true,
         "textposition": "auto",
         "type": "bar",
         "x": [
          "Data Operations Engineer"
         ],
         "xaxis": "x",
         "y": [
          110808.33333333333
         ],
         "yaxis": "y"
        },
        {
         "alignmentgroup": "True",
         "hovertemplate": "job_title=%{x}<br>salary_in_usd=%{y}<extra></extra>",
         "legendgroup": "Data Analyst",
         "marker": {
          "color": "#FF97FF",
          "pattern": {
           "shape": ""
          }
         },
         "name": "Data Analyst",
         "offsetgroup": "Data Analyst",
         "orientation": "v",
         "showlegend": true,
         "textposition": "auto",
         "type": "bar",
         "x": [
          "Data Analyst"
         ],
         "xaxis": "x",
         "y": [
          109854.88683127573
         ],
         "yaxis": "y"
        },
        {
         "alignmentgroup": "True",
         "hovertemplate": "job_title=%{x}<br>salary_in_usd=%{y}<extra></extra>",
         "legendgroup": "Machine Learning Researcher",
         "marker": {
          "color": "#FECB52",
          "pattern": {
           "shape": ""
          }
         },
         "name": "Machine Learning Researcher",
         "offsetgroup": "Machine Learning Researcher",
         "orientation": "v",
         "showlegend": true,
         "textposition": "auto",
         "type": "bar",
         "x": [
          "Machine Learning Researcher"
         ],
         "xaxis": "x",
         "y": [
          105872.66666666667
         ],
         "yaxis": "y"
        },
        {
         "alignmentgroup": "True",
         "hovertemplate": "job_title=%{x}<br>salary_in_usd=%{y}<extra></extra>",
         "legendgroup": "Data Analytics Specialist",
         "marker": {
          "color": "#636efa",
          "pattern": {
           "shape": ""
          }
         },
         "name": "Data Analytics Specialist",
         "offsetgroup": "Data Analytics Specialist",
         "orientation": "v",
         "showlegend": true,
         "textposition": "auto",
         "type": "bar",
         "x": [
          "Data Analytics Specialist"
         ],
         "xaxis": "x",
         "y": [
          105000
         ],
         "yaxis": "y"
        },
        {
         "alignmentgroup": "True",
         "hovertemplate": "job_title=%{x}<br>salary_in_usd=%{y}<extra></extra>",
         "legendgroup": "Staff Data Scientist",
         "marker": {
          "color": "#EF553B",
          "pattern": {
           "shape": ""
          }
         },
         "name": "Staff Data Scientist",
         "offsetgroup": "Staff Data Scientist",
         "orientation": "v",
         "showlegend": true,
         "textposition": "auto",
         "type": "bar",
         "x": [
          "Staff Data Scientist"
         ],
         "xaxis": "x",
         "y": [
          105000
         ],
         "yaxis": "y"
        },
        {
         "alignmentgroup": "True",
         "hovertemplate": "job_title=%{x}<br>salary_in_usd=%{y}<extra></extra>",
         "legendgroup": "Lead Data Scientist",
         "marker": {
          "color": "#00cc96",
          "pattern": {
           "shape": ""
          }
         },
         "name": "Lead Data Scientist",
         "offsetgroup": "Lead Data Scientist",
         "orientation": "v",
         "showlegend": true,
         "textposition": "auto",
         "type": "bar",
         "x": [
          "Lead Data Scientist"
         ],
         "xaxis": "x",
         "y": [
          103122.5
         ],
         "yaxis": "y"
        },
        {
         "alignmentgroup": "True",
         "hovertemplate": "job_title=%{x}<br>salary_in_usd=%{y}<extra></extra>",
         "legendgroup": "Azure Data Engineer",
         "marker": {
          "color": "#ab63fa",
          "pattern": {
           "shape": ""
          }
         },
         "name": "Azure Data Engineer",
         "offsetgroup": "Azure Data Engineer",
         "orientation": "v",
         "showlegend": true,
         "textposition": "auto",
         "type": "bar",
         "x": [
          "Azure Data Engineer"
         ],
         "xaxis": "x",
         "y": [
          100000
         ],
         "yaxis": "y"
        },
        {
         "alignmentgroup": "True",
         "hovertemplate": "job_title=%{x}<br>salary_in_usd=%{y}<extra></extra>",
         "legendgroup": "Applied Machine Learning Engineer",
         "marker": {
          "color": "#FFA15A",
          "pattern": {
           "shape": ""
          }
         },
         "name": "Applied Machine Learning Engineer",
         "offsetgroup": "Applied Machine Learning Engineer",
         "orientation": "v",
         "showlegend": true,
         "textposition": "auto",
         "type": "bar",
         "x": [
          "Applied Machine Learning Engineer"
         ],
         "xaxis": "x",
         "y": [
          99875.5
         ],
         "yaxis": "y"
        },
        {
         "alignmentgroup": "True",
         "hovertemplate": "job_title=%{x}<br>salary_in_usd=%{y}<extra></extra>",
         "legendgroup": "Data Operations Analyst",
         "marker": {
          "color": "#19d3f3",
          "pattern": {
           "shape": ""
          }
         },
         "name": "Data Operations Analyst",
         "offsetgroup": "Data Operations Analyst",
         "orientation": "v",
         "showlegend": true,
         "textposition": "auto",
         "type": "bar",
         "x": [
          "Data Operations Analyst"
         ],
         "xaxis": "x",
         "y": [
          98750
         ],
         "yaxis": "y"
        },
        {
         "alignmentgroup": "True",
         "hovertemplate": "job_title=%{x}<br>salary_in_usd=%{y}<extra></extra>",
         "legendgroup": "Data Science Engineer",
         "marker": {
          "color": "#FF6692",
          "pattern": {
           "shape": ""
          }
         },
         "name": "Data Science Engineer",
         "offsetgroup": "Data Science Engineer",
         "orientation": "v",
         "showlegend": true,
         "textposition": "auto",
         "type": "bar",
         "x": [
          "Data Science Engineer"
         ],
         "xaxis": "x",
         "y": [
          93482
         ],
         "yaxis": "y"
        },
        {
         "alignmentgroup": "True",
         "hovertemplate": "job_title=%{x}<br>salary_in_usd=%{y}<extra></extra>",
         "legendgroup": "BI Analyst",
         "marker": {
          "color": "#B6E880",
          "pattern": {
           "shape": ""
          }
         },
         "name": "BI Analyst",
         "offsetgroup": "BI Analyst",
         "orientation": "v",
         "showlegend": true,
         "textposition": "auto",
         "type": "bar",
         "x": [
          "BI Analyst"
         ],
         "xaxis": "x",
         "y": [
          92666.66666666667
         ],
         "yaxis": "y"
        },
        {
         "alignmentgroup": "True",
         "hovertemplate": "job_title=%{x}<br>salary_in_usd=%{y}<extra></extra>",
         "legendgroup": "Computer Vision Software Engineer",
         "marker": {
          "color": "#FF97FF",
          "pattern": {
           "shape": ""
          }
         },
         "name": "Computer Vision Software Engineer",
         "offsetgroup": "Computer Vision Software Engineer",
         "orientation": "v",
         "showlegend": true,
         "textposition": "auto",
         "type": "bar",
         "x": [
          "Computer Vision Software Engineer"
         ],
         "xaxis": "x",
         "y": [
          92350
         ],
         "yaxis": "y"
        },
        {
         "alignmentgroup": "True",
         "hovertemplate": "job_title=%{x}<br>salary_in_usd=%{y}<extra></extra>",
         "legendgroup": "Financial Data Analyst",
         "marker": {
          "color": "#FECB52",
          "pattern": {
           "shape": ""
          }
         },
         "name": "Financial Data Analyst",
         "offsetgroup": "Financial Data Analyst",
         "orientation": "v",
         "showlegend": true,
         "textposition": "auto",
         "type": "bar",
         "x": [
          "Financial Data Analyst"
         ],
         "xaxis": "x",
         "y": [
          87500
         ],
         "yaxis": "y"
        },
        {
         "alignmentgroup": "True",
         "hovertemplate": "job_title=%{x}<br>salary_in_usd=%{y}<extra></extra>",
         "legendgroup": "Data Quality Analyst",
         "marker": {
          "color": "#636efa",
          "pattern": {
           "shape": ""
          }
         },
         "name": "Data Quality Analyst",
         "offsetgroup": "Data Quality Analyst",
         "orientation": "v",
         "showlegend": true,
         "textposition": "auto",
         "type": "bar",
         "x": [
          "Data Quality Analyst"
         ],
         "xaxis": "x",
         "y": [
          85311.42857142857
         ],
         "yaxis": "y"
        },
        {
         "alignmentgroup": "True",
         "hovertemplate": "job_title=%{x}<br>salary_in_usd=%{y}<extra></extra>",
         "legendgroup": "Lead Machine Learning Engineer",
         "marker": {
          "color": "#EF553B",
          "pattern": {
           "shape": ""
          }
         },
         "name": "Lead Machine Learning Engineer",
         "offsetgroup": "Lead Machine Learning Engineer",
         "orientation": "v",
         "showlegend": true,
         "textposition": "auto",
         "type": "bar",
         "x": [
          "Lead Machine Learning Engineer"
         ],
         "xaxis": "x",
         "y": [
          82927.66666666667
         ],
         "yaxis": "y"
        },
        {
         "alignmentgroup": "True",
         "hovertemplate": "job_title=%{x}<br>salary_in_usd=%{y}<extra></extra>",
         "legendgroup": "Data Science Consultant",
         "marker": {
          "color": "#00cc96",
          "pattern": {
           "shape": ""
          }
         },
         "name": "Data Science Consultant",
         "offsetgroup": "Data Science Consultant",
         "orientation": "v",
         "showlegend": true,
         "textposition": "auto",
         "type": "bar",
         "x": [
          "Data Science Consultant"
         ],
         "xaxis": "x",
         "y": [
          82722.45
         ],
         "yaxis": "y"
        },
        {
         "alignmentgroup": "True",
         "hovertemplate": "job_title=%{x}<br>salary_in_usd=%{y}<extra></extra>",
         "legendgroup": "Data Analytics Consultant",
         "marker": {
          "color": "#ab63fa",
          "pattern": {
           "shape": ""
          }
         },
         "name": "Data Analytics Consultant",
         "offsetgroup": "Data Analytics Consultant",
         "orientation": "v",
         "showlegend": true,
         "textposition": "auto",
         "type": "bar",
         "x": [
          "Data Analytics Consultant"
         ],
         "xaxis": "x",
         "y": [
          81500
         ],
         "yaxis": "y"
        },
        {
         "alignmentgroup": "True",
         "hovertemplate": "job_title=%{x}<br>salary_in_usd=%{y}<extra></extra>",
         "legendgroup": "Data Strategist",
         "marker": {
          "color": "#FFA15A",
          "pattern": {
           "shape": ""
          }
         },
         "name": "Data Strategist",
         "offsetgroup": "Data Strategist",
         "orientation": "v",
         "showlegend": true,
         "textposition": "auto",
         "type": "bar",
         "x": [
          "Data Strategist"
         ],
         "xaxis": "x",
         "y": [
          81000
         ],
         "yaxis": "y"
        },
        {
         "alignmentgroup": "True",
         "hovertemplate": "job_title=%{x}<br>salary_in_usd=%{y}<extra></extra>",
         "legendgroup": "Big Data Engineer",
         "marker": {
          "color": "#19d3f3",
          "pattern": {
           "shape": ""
          }
         },
         "name": "Big Data Engineer",
         "offsetgroup": "Big Data Engineer",
         "orientation": "v",
         "showlegend": true,
         "textposition": "auto",
         "type": "bar",
         "x": [
          "Big Data Engineer"
         ],
         "xaxis": "x",
         "y": [
          80129.33333333333
         ],
         "yaxis": "y"
        },
        {
         "alignmentgroup": "True",
         "hovertemplate": "job_title=%{x}<br>salary_in_usd=%{y}<extra></extra>",
         "legendgroup": "Head of Machine Learning",
         "marker": {
          "color": "#FF6692",
          "pattern": {
           "shape": ""
          }
         },
         "name": "Head of Machine Learning",
         "offsetgroup": "Head of Machine Learning",
         "orientation": "v",
         "showlegend": true,
         "textposition": "auto",
         "type": "bar",
         "x": [
          "Head of Machine Learning"
         ],
         "xaxis": "x",
         "y": [
          76309
         ],
         "yaxis": "y"
        },
        {
         "alignmentgroup": "True",
         "hovertemplate": "job_title=%{x}<br>salary_in_usd=%{y}<extra></extra>",
         "legendgroup": "ETL Engineer",
         "marker": {
          "color": "#B6E880",
          "pattern": {
           "shape": ""
          }
         },
         "name": "ETL Engineer",
         "offsetgroup": "ETL Engineer",
         "orientation": "v",
         "showlegend": true,
         "textposition": "auto",
         "type": "bar",
         "x": [
          "ETL Engineer"
         ],
         "xaxis": "x",
         "y": [
          71394.5
         ],
         "yaxis": "y"
        },
        {
         "alignmentgroup": "True",
         "hovertemplate": "job_title=%{x}<br>salary_in_usd=%{y}<extra></extra>",
         "legendgroup": "Machine Learning Developer",
         "marker": {
          "color": "#FF97FF",
          "pattern": {
           "shape": ""
          }
         },
         "name": "Machine Learning Developer",
         "offsetgroup": "Machine Learning Developer",
         "orientation": "v",
         "showlegend": true,
         "textposition": "auto",
         "type": "bar",
         "x": [
          "Machine Learning Developer"
         ],
         "xaxis": "x",
         "y": [
          70271.33333333333
         ],
         "yaxis": "y"
        },
        {
         "alignmentgroup": "True",
         "hovertemplate": "job_title=%{x}<br>salary_in_usd=%{y}<extra></extra>",
         "legendgroup": "Data Analytics Engineer",
         "marker": {
          "color": "#FECB52",
          "pattern": {
           "shape": ""
          }
         },
         "name": "Data Analytics Engineer",
         "offsetgroup": "Data Analytics Engineer",
         "orientation": "v",
         "showlegend": true,
         "textposition": "auto",
         "type": "bar",
         "x": [
          "Data Analytics Engineer"
         ],
         "xaxis": "x",
         "y": [
          69299.25
         ],
         "yaxis": "y"
        },
        {
         "alignmentgroup": "True",
         "hovertemplate": "job_title=%{x}<br>salary_in_usd=%{y}<extra></extra>",
         "legendgroup": "Lead Data Analyst",
         "marker": {
          "color": "#636efa",
          "pattern": {
           "shape": ""
          }
         },
         "name": "Lead Data Analyst",
         "offsetgroup": "Lead Data Analyst",
         "orientation": "v",
         "showlegend": true,
         "textposition": "auto",
         "type": "bar",
         "x": [
          "Lead Data Analyst"
         ],
         "xaxis": "x",
         "y": [
          69282.33333333333
         ],
         "yaxis": "y"
        },
        {
         "alignmentgroup": "True",
         "hovertemplate": "job_title=%{x}<br>salary_in_usd=%{y}<extra></extra>",
         "legendgroup": "Business Data Analyst",
         "marker": {
          "color": "#EF553B",
          "pattern": {
           "shape": ""
          }
         },
         "name": "Business Data Analyst",
         "offsetgroup": "Business Data Analyst",
         "orientation": "v",
         "showlegend": true,
         "textposition": "auto",
         "type": "bar",
         "x": [
          "Business Data Analyst"
         ],
         "xaxis": "x",
         "y": [
          68681
         ],
         "yaxis": "y"
        },
        {
         "alignmentgroup": "True",
         "hovertemplate": "job_title=%{x}<br>salary_in_usd=%{y}<extra></extra>",
         "legendgroup": "Data Management Specialist",
         "marker": {
          "color": "#00cc96",
          "pattern": {
           "shape": ""
          }
         },
         "name": "Data Management Specialist",
         "offsetgroup": "Data Management Specialist",
         "orientation": "v",
         "showlegend": true,
         "textposition": "auto",
         "type": "bar",
         "x": [
          "Data Management Specialist"
         ],
         "xaxis": "x",
         "y": [
          68293
         ],
         "yaxis": "y"
        },
        {
         "alignmentgroup": "True",
         "hovertemplate": "job_title=%{x}<br>salary_in_usd=%{y}<extra></extra>",
         "legendgroup": "BI Data Analyst",
         "marker": {
          "color": "#ab63fa",
          "pattern": {
           "shape": ""
          }
         },
         "name": "BI Data Analyst",
         "offsetgroup": "BI Data Analyst",
         "orientation": "v",
         "showlegend": true,
         "textposition": "auto",
         "type": "bar",
         "x": [
          "BI Data Analyst"
         ],
         "xaxis": "x",
         "y": [
          67422.75
         ],
         "yaxis": "y"
        },
        {
         "alignmentgroup": "True",
         "hovertemplate": "job_title=%{x}<br>salary_in_usd=%{y}<extra></extra>",
         "legendgroup": "Marketing Data Engineer",
         "marker": {
          "color": "#FFA15A",
          "pattern": {
           "shape": ""
          }
         },
         "name": "Marketing Data Engineer",
         "offsetgroup": "Marketing Data Engineer",
         "orientation": "v",
         "showlegend": true,
         "textposition": "auto",
         "type": "bar",
         "x": [
          "Marketing Data Engineer"
         ],
         "xaxis": "x",
         "y": [
          66970
         ],
         "yaxis": "y"
        },
        {
         "alignmentgroup": "True",
         "hovertemplate": "job_title=%{x}<br>salary_in_usd=%{y}<extra></extra>",
         "legendgroup": "Finance Data Analyst",
         "marker": {
          "color": "#19d3f3",
          "pattern": {
           "shape": ""
          }
         },
         "name": "Finance Data Analyst",
         "offsetgroup": "Finance Data Analyst",
         "orientation": "v",
         "showlegend": true,
         "textposition": "auto",
         "type": "bar",
         "x": [
          "Finance Data Analyst"
         ],
         "xaxis": "x",
         "y": [
          61896
         ],
         "yaxis": "y"
        },
        {
         "alignmentgroup": "True",
         "hovertemplate": "job_title=%{x}<br>salary_in_usd=%{y}<extra></extra>",
         "legendgroup": "AI Programmer",
         "marker": {
          "color": "#FF6692",
          "pattern": {
           "shape": ""
          }
         },
         "name": "AI Programmer",
         "offsetgroup": "AI Programmer",
         "orientation": "v",
         "showlegend": true,
         "textposition": "auto",
         "type": "bar",
         "x": [
          "AI Programmer"
         ],
         "xaxis": "x",
         "y": [
          55000
         ],
         "yaxis": "y"
        },
        {
         "alignmentgroup": "True",
         "hovertemplate": "job_title=%{x}<br>salary_in_usd=%{y}<extra></extra>",
         "legendgroup": "Software Data Engineer",
         "marker": {
          "color": "#B6E880",
          "pattern": {
           "shape": ""
          }
         },
         "name": "Software Data Engineer",
         "offsetgroup": "Software Data Engineer",
         "orientation": "v",
         "showlegend": true,
         "textposition": "auto",
         "type": "bar",
         "x": [
          "Software Data Engineer"
         ],
         "xaxis": "x",
         "y": [
          50000
         ],
         "yaxis": "y"
        },
        {
         "alignmentgroup": "True",
         "hovertemplate": "job_title=%{x}<br>salary_in_usd=%{y}<extra></extra>",
         "legendgroup": "Insight Analyst",
         "marker": {
          "color": "#FF97FF",
          "pattern": {
           "shape": ""
          }
         },
         "name": "Insight Analyst",
         "offsetgroup": "Insight Analyst",
         "orientation": "v",
         "showlegend": true,
         "textposition": "auto",
         "type": "bar",
         "x": [
          "Insight Analyst"
         ],
         "xaxis": "x",
         "y": [
          46786
         ],
         "yaxis": "y"
        },
        {
         "alignmentgroup": "True",
         "hovertemplate": "job_title=%{x}<br>salary_in_usd=%{y}<extra></extra>",
         "legendgroup": "Principal Data Architect",
         "marker": {
          "color": "#FECB52",
          "pattern": {
           "shape": ""
          }
         },
         "name": "Principal Data Architect",
         "offsetgroup": "Principal Data Architect",
         "orientation": "v",
         "showlegend": true,
         "textposition": "auto",
         "type": "bar",
         "x": [
          "Principal Data Architect"
         ],
         "xaxis": "x",
         "y": [
          38154
         ],
         "yaxis": "y"
        },
        {
         "alignmentgroup": "True",
         "hovertemplate": "job_title=%{x}<br>salary_in_usd=%{y}<extra></extra>",
         "legendgroup": "Compliance Data Analyst",
         "marker": {
          "color": "#636efa",
          "pattern": {
           "shape": ""
          }
         },
         "name": "Compliance Data Analyst",
         "offsetgroup": "Compliance Data Analyst",
         "orientation": "v",
         "showlegend": true,
         "textposition": "auto",
         "type": "bar",
         "x": [
          "Compliance Data Analyst"
         ],
         "xaxis": "x",
         "y": [
          30000
         ],
         "yaxis": "y"
        },
        {
         "alignmentgroup": "True",
         "hovertemplate": "job_title=%{x}<br>salary_in_usd=%{y}<extra></extra>",
         "legendgroup": "Autonomous Vehicle Technician",
         "marker": {
          "color": "#EF553B",
          "pattern": {
           "shape": ""
          }
         },
         "name": "Autonomous Vehicle Technician",
         "offsetgroup": "Autonomous Vehicle Technician",
         "orientation": "v",
         "showlegend": true,
         "textposition": "auto",
         "type": "bar",
         "x": [
          "Autonomous Vehicle Technician"
         ],
         "xaxis": "x",
         "y": [
          26277.5
         ],
         "yaxis": "y"
        },
        {
         "alignmentgroup": "True",
         "hovertemplate": "job_title=%{x}<br>salary_in_usd=%{y}<extra></extra>",
         "legendgroup": "3D Computer Vision Researcher",
         "marker": {
          "color": "#00cc96",
          "pattern": {
           "shape": ""
          }
         },
         "name": "3D Computer Vision Researcher",
         "offsetgroup": "3D Computer Vision Researcher",
         "orientation": "v",
         "showlegend": true,
         "textposition": "auto",
         "type": "bar",
         "x": [
          "3D Computer Vision Researcher"
         ],
         "xaxis": "x",
         "y": [
          21352.25
         ],
         "yaxis": "y"
        },
        {
         "alignmentgroup": "True",
         "hovertemplate": "job_title=%{x}<br>salary_in_usd=%{y}<extra></extra>",
         "legendgroup": "Machine Learning Research Engineer",
         "marker": {
          "color": "#ab63fa",
          "pattern": {
           "shape": ""
          }
         },
         "name": "Machine Learning Research Engineer",
         "offsetgroup": "Machine Learning Research Engineer",
         "orientation": "v",
         "showlegend": true,
         "textposition": "auto",
         "type": "bar",
         "x": [
          "Machine Learning Research Engineer"
         ],
         "xaxis": "x",
         "y": [
          20000
         ],
         "yaxis": "y"
        },
        {
         "alignmentgroup": "True",
         "hovertemplate": "job_title=%{x}<br>salary_in_usd=%{y}<extra></extra>",
         "legendgroup": "Staff Data Analyst",
         "marker": {
          "color": "#FFA15A",
          "pattern": {
           "shape": ""
          }
         },
         "name": "Staff Data Analyst",
         "offsetgroup": "Staff Data Analyst",
         "orientation": "v",
         "showlegend": true,
         "textposition": "auto",
         "type": "bar",
         "x": [
          "Staff Data Analyst"
         ],
         "xaxis": "x",
         "y": [
          15000
         ],
         "yaxis": "y"
        },
        {
         "alignmentgroup": "True",
         "hovertemplate": "job_title=%{x}<br>salary_in_usd=%{y}<extra></extra>",
         "legendgroup": "Product Data Analyst",
         "marker": {
          "color": "#19d3f3",
          "pattern": {
           "shape": ""
          }
         },
         "name": "Product Data Analyst",
         "offsetgroup": "Product Data Analyst",
         "orientation": "v",
         "showlegend": true,
         "textposition": "auto",
         "type": "bar",
         "x": [
          "Product Data Analyst"
         ],
         "xaxis": "x",
         "y": [
          14162
         ],
         "yaxis": "y"
        },
        {
         "alignmentgroup": "True",
         "hovertemplate": "job_title=%{x}<br>salary_in_usd=%{y}<extra></extra>",
         "legendgroup": "Product Data Scientist",
         "marker": {
          "color": "#FF6692",
          "pattern": {
           "shape": ""
          }
         },
         "name": "Product Data Scientist",
         "offsetgroup": "Product Data Scientist",
         "orientation": "v",
         "showlegend": true,
         "textposition": "auto",
         "type": "bar",
         "x": [
          "Product Data Scientist"
         ],
         "xaxis": "x",
         "y": [
          8000
         ],
         "yaxis": "y"
        },
        {
         "alignmentgroup": "True",
         "hovertemplate": "job_title=%{x}<br>salary_in_usd=%{y}<extra></extra>",
         "legendgroup": "Power BI Developer",
         "marker": {
          "color": "#B6E880",
          "pattern": {
           "shape": ""
          }
         },
         "name": "Power BI Developer",
         "offsetgroup": "Power BI Developer",
         "orientation": "v",
         "showlegend": true,
         "textposition": "auto",
         "type": "bar",
         "x": [
          "Power BI Developer"
         ],
         "xaxis": "x",
         "y": [
          5409
         ],
         "yaxis": "y"
        }
       ],
       "layout": {
        "barmode": "relative",
        "legend": {
         "title": {
          "text": "job_title"
         },
         "tracegroupgap": 0
        },
        "showlegend": false,
        "template": {
         "data": {
          "bar": [
           {
            "error_x": {
             "color": "#2a3f5f"
            },
            "error_y": {
             "color": "#2a3f5f"
            },
            "marker": {
             "line": {
              "color": "#E5ECF6",
              "width": 0.5
             },
             "pattern": {
              "fillmode": "overlay",
              "size": 10,
              "solidity": 0.2
             }
            },
            "type": "bar"
           }
          ],
          "barpolar": [
           {
            "marker": {
             "line": {
              "color": "#E5ECF6",
              "width": 0.5
             },
             "pattern": {
              "fillmode": "overlay",
              "size": 10,
              "solidity": 0.2
             }
            },
            "type": "barpolar"
           }
          ],
          "carpet": [
           {
            "aaxis": {
             "endlinecolor": "#2a3f5f",
             "gridcolor": "white",
             "linecolor": "white",
             "minorgridcolor": "white",
             "startlinecolor": "#2a3f5f"
            },
            "baxis": {
             "endlinecolor": "#2a3f5f",
             "gridcolor": "white",
             "linecolor": "white",
             "minorgridcolor": "white",
             "startlinecolor": "#2a3f5f"
            },
            "type": "carpet"
           }
          ],
          "choropleth": [
           {
            "colorbar": {
             "outlinewidth": 0,
             "ticks": ""
            },
            "type": "choropleth"
           }
          ],
          "contour": [
           {
            "colorbar": {
             "outlinewidth": 0,
             "ticks": ""
            },
            "colorscale": [
             [
              0,
              "#0d0887"
             ],
             [
              0.1111111111111111,
              "#46039f"
             ],
             [
              0.2222222222222222,
              "#7201a8"
             ],
             [
              0.3333333333333333,
              "#9c179e"
             ],
             [
              0.4444444444444444,
              "#bd3786"
             ],
             [
              0.5555555555555556,
              "#d8576b"
             ],
             [
              0.6666666666666666,
              "#ed7953"
             ],
             [
              0.7777777777777778,
              "#fb9f3a"
             ],
             [
              0.8888888888888888,
              "#fdca26"
             ],
             [
              1,
              "#f0f921"
             ]
            ],
            "type": "contour"
           }
          ],
          "contourcarpet": [
           {
            "colorbar": {
             "outlinewidth": 0,
             "ticks": ""
            },
            "type": "contourcarpet"
           }
          ],
          "heatmap": [
           {
            "colorbar": {
             "outlinewidth": 0,
             "ticks": ""
            },
            "colorscale": [
             [
              0,
              "#0d0887"
             ],
             [
              0.1111111111111111,
              "#46039f"
             ],
             [
              0.2222222222222222,
              "#7201a8"
             ],
             [
              0.3333333333333333,
              "#9c179e"
             ],
             [
              0.4444444444444444,
              "#bd3786"
             ],
             [
              0.5555555555555556,
              "#d8576b"
             ],
             [
              0.6666666666666666,
              "#ed7953"
             ],
             [
              0.7777777777777778,
              "#fb9f3a"
             ],
             [
              0.8888888888888888,
              "#fdca26"
             ],
             [
              1,
              "#f0f921"
             ]
            ],
            "type": "heatmap"
           }
          ],
          "heatmapgl": [
           {
            "colorbar": {
             "outlinewidth": 0,
             "ticks": ""
            },
            "colorscale": [
             [
              0,
              "#0d0887"
             ],
             [
              0.1111111111111111,
              "#46039f"
             ],
             [
              0.2222222222222222,
              "#7201a8"
             ],
             [
              0.3333333333333333,
              "#9c179e"
             ],
             [
              0.4444444444444444,
              "#bd3786"
             ],
             [
              0.5555555555555556,
              "#d8576b"
             ],
             [
              0.6666666666666666,
              "#ed7953"
             ],
             [
              0.7777777777777778,
              "#fb9f3a"
             ],
             [
              0.8888888888888888,
              "#fdca26"
             ],
             [
              1,
              "#f0f921"
             ]
            ],
            "type": "heatmapgl"
           }
          ],
          "histogram": [
           {
            "marker": {
             "pattern": {
              "fillmode": "overlay",
              "size": 10,
              "solidity": 0.2
             }
            },
            "type": "histogram"
           }
          ],
          "histogram2d": [
           {
            "colorbar": {
             "outlinewidth": 0,
             "ticks": ""
            },
            "colorscale": [
             [
              0,
              "#0d0887"
             ],
             [
              0.1111111111111111,
              "#46039f"
             ],
             [
              0.2222222222222222,
              "#7201a8"
             ],
             [
              0.3333333333333333,
              "#9c179e"
             ],
             [
              0.4444444444444444,
              "#bd3786"
             ],
             [
              0.5555555555555556,
              "#d8576b"
             ],
             [
              0.6666666666666666,
              "#ed7953"
             ],
             [
              0.7777777777777778,
              "#fb9f3a"
             ],
             [
              0.8888888888888888,
              "#fdca26"
             ],
             [
              1,
              "#f0f921"
             ]
            ],
            "type": "histogram2d"
           }
          ],
          "histogram2dcontour": [
           {
            "colorbar": {
             "outlinewidth": 0,
             "ticks": ""
            },
            "colorscale": [
             [
              0,
              "#0d0887"
             ],
             [
              0.1111111111111111,
              "#46039f"
             ],
             [
              0.2222222222222222,
              "#7201a8"
             ],
             [
              0.3333333333333333,
              "#9c179e"
             ],
             [
              0.4444444444444444,
              "#bd3786"
             ],
             [
              0.5555555555555556,
              "#d8576b"
             ],
             [
              0.6666666666666666,
              "#ed7953"
             ],
             [
              0.7777777777777778,
              "#fb9f3a"
             ],
             [
              0.8888888888888888,
              "#fdca26"
             ],
             [
              1,
              "#f0f921"
             ]
            ],
            "type": "histogram2dcontour"
           }
          ],
          "mesh3d": [
           {
            "colorbar": {
             "outlinewidth": 0,
             "ticks": ""
            },
            "type": "mesh3d"
           }
          ],
          "parcoords": [
           {
            "line": {
             "colorbar": {
              "outlinewidth": 0,
              "ticks": ""
             }
            },
            "type": "parcoords"
           }
          ],
          "pie": [
           {
            "automargin": true,
            "type": "pie"
           }
          ],
          "scatter": [
           {
            "fillpattern": {
             "fillmode": "overlay",
             "size": 10,
             "solidity": 0.2
            },
            "type": "scatter"
           }
          ],
          "scatter3d": [
           {
            "line": {
             "colorbar": {
              "outlinewidth": 0,
              "ticks": ""
             }
            },
            "marker": {
             "colorbar": {
              "outlinewidth": 0,
              "ticks": ""
             }
            },
            "type": "scatter3d"
           }
          ],
          "scattercarpet": [
           {
            "marker": {
             "colorbar": {
              "outlinewidth": 0,
              "ticks": ""
             }
            },
            "type": "scattercarpet"
           }
          ],
          "scattergeo": [
           {
            "marker": {
             "colorbar": {
              "outlinewidth": 0,
              "ticks": ""
             }
            },
            "type": "scattergeo"
           }
          ],
          "scattergl": [
           {
            "marker": {
             "colorbar": {
              "outlinewidth": 0,
              "ticks": ""
             }
            },
            "type": "scattergl"
           }
          ],
          "scattermapbox": [
           {
            "marker": {
             "colorbar": {
              "outlinewidth": 0,
              "ticks": ""
             }
            },
            "type": "scattermapbox"
           }
          ],
          "scatterpolar": [
           {
            "marker": {
             "colorbar": {
              "outlinewidth": 0,
              "ticks": ""
             }
            },
            "type": "scatterpolar"
           }
          ],
          "scatterpolargl": [
           {
            "marker": {
             "colorbar": {
              "outlinewidth": 0,
              "ticks": ""
             }
            },
            "type": "scatterpolargl"
           }
          ],
          "scatterternary": [
           {
            "marker": {
             "colorbar": {
              "outlinewidth": 0,
              "ticks": ""
             }
            },
            "type": "scatterternary"
           }
          ],
          "surface": [
           {
            "colorbar": {
             "outlinewidth": 0,
             "ticks": ""
            },
            "colorscale": [
             [
              0,
              "#0d0887"
             ],
             [
              0.1111111111111111,
              "#46039f"
             ],
             [
              0.2222222222222222,
              "#7201a8"
             ],
             [
              0.3333333333333333,
              "#9c179e"
             ],
             [
              0.4444444444444444,
              "#bd3786"
             ],
             [
              0.5555555555555556,
              "#d8576b"
             ],
             [
              0.6666666666666666,
              "#ed7953"
             ],
             [
              0.7777777777777778,
              "#fb9f3a"
             ],
             [
              0.8888888888888888,
              "#fdca26"
             ],
             [
              1,
              "#f0f921"
             ]
            ],
            "type": "surface"
           }
          ],
          "table": [
           {
            "cells": {
             "fill": {
              "color": "#EBF0F8"
             },
             "line": {
              "color": "white"
             }
            },
            "header": {
             "fill": {
              "color": "#C8D4E3"
             },
             "line": {
              "color": "white"
             }
            },
            "type": "table"
           }
          ]
         },
         "layout": {
          "annotationdefaults": {
           "arrowcolor": "#2a3f5f",
           "arrowhead": 0,
           "arrowwidth": 1
          },
          "autotypenumbers": "strict",
          "coloraxis": {
           "colorbar": {
            "outlinewidth": 0,
            "ticks": ""
           }
          },
          "colorscale": {
           "diverging": [
            [
             0,
             "#8e0152"
            ],
            [
             0.1,
             "#c51b7d"
            ],
            [
             0.2,
             "#de77ae"
            ],
            [
             0.3,
             "#f1b6da"
            ],
            [
             0.4,
             "#fde0ef"
            ],
            [
             0.5,
             "#f7f7f7"
            ],
            [
             0.6,
             "#e6f5d0"
            ],
            [
             0.7,
             "#b8e186"
            ],
            [
             0.8,
             "#7fbc41"
            ],
            [
             0.9,
             "#4d9221"
            ],
            [
             1,
             "#276419"
            ]
           ],
           "sequential": [
            [
             0,
             "#0d0887"
            ],
            [
             0.1111111111111111,
             "#46039f"
            ],
            [
             0.2222222222222222,
             "#7201a8"
            ],
            [
             0.3333333333333333,
             "#9c179e"
            ],
            [
             0.4444444444444444,
             "#bd3786"
            ],
            [
             0.5555555555555556,
             "#d8576b"
            ],
            [
             0.6666666666666666,
             "#ed7953"
            ],
            [
             0.7777777777777778,
             "#fb9f3a"
            ],
            [
             0.8888888888888888,
             "#fdca26"
            ],
            [
             1,
             "#f0f921"
            ]
           ],
           "sequentialminus": [
            [
             0,
             "#0d0887"
            ],
            [
             0.1111111111111111,
             "#46039f"
            ],
            [
             0.2222222222222222,
             "#7201a8"
            ],
            [
             0.3333333333333333,
             "#9c179e"
            ],
            [
             0.4444444444444444,
             "#bd3786"
            ],
            [
             0.5555555555555556,
             "#d8576b"
            ],
            [
             0.6666666666666666,
             "#ed7953"
            ],
            [
             0.7777777777777778,
             "#fb9f3a"
            ],
            [
             0.8888888888888888,
             "#fdca26"
            ],
            [
             1,
             "#f0f921"
            ]
           ]
          },
          "colorway": [
           "#636efa",
           "#EF553B",
           "#00cc96",
           "#ab63fa",
           "#FFA15A",
           "#19d3f3",
           "#FF6692",
           "#B6E880",
           "#FF97FF",
           "#FECB52"
          ],
          "font": {
           "color": "#2a3f5f"
          },
          "geo": {
           "bgcolor": "white",
           "lakecolor": "white",
           "landcolor": "#E5ECF6",
           "showlakes": true,
           "showland": true,
           "subunitcolor": "white"
          },
          "hoverlabel": {
           "align": "left"
          },
          "hovermode": "closest",
          "mapbox": {
           "style": "light"
          },
          "paper_bgcolor": "white",
          "plot_bgcolor": "#E5ECF6",
          "polar": {
           "angularaxis": {
            "gridcolor": "white",
            "linecolor": "white",
            "ticks": ""
           },
           "bgcolor": "#E5ECF6",
           "radialaxis": {
            "gridcolor": "white",
            "linecolor": "white",
            "ticks": ""
           }
          },
          "scene": {
           "xaxis": {
            "backgroundcolor": "#E5ECF6",
            "gridcolor": "white",
            "gridwidth": 2,
            "linecolor": "white",
            "showbackground": true,
            "ticks": "",
            "zerolinecolor": "white"
           },
           "yaxis": {
            "backgroundcolor": "#E5ECF6",
            "gridcolor": "white",
            "gridwidth": 2,
            "linecolor": "white",
            "showbackground": true,
            "ticks": "",
            "zerolinecolor": "white"
           },
           "zaxis": {
            "backgroundcolor": "#E5ECF6",
            "gridcolor": "white",
            "gridwidth": 2,
            "linecolor": "white",
            "showbackground": true,
            "ticks": "",
            "zerolinecolor": "white"
           }
          },
          "shapedefaults": {
           "line": {
            "color": "#2a3f5f"
           }
          },
          "ternary": {
           "aaxis": {
            "gridcolor": "white",
            "linecolor": "white",
            "ticks": ""
           },
           "baxis": {
            "gridcolor": "white",
            "linecolor": "white",
            "ticks": ""
           },
           "bgcolor": "#E5ECF6",
           "caxis": {
            "gridcolor": "white",
            "linecolor": "white",
            "ticks": ""
           }
          },
          "title": {
           "x": 0.05
          },
          "xaxis": {
           "automargin": true,
           "gridcolor": "white",
           "linecolor": "white",
           "ticks": "",
           "title": {
            "standoff": 15
           },
           "zerolinecolor": "white",
           "zerolinewidth": 2
          },
          "yaxis": {
           "automargin": true,
           "gridcolor": "white",
           "linecolor": "white",
           "ticks": "",
           "title": {
            "standoff": 15
           },
           "zerolinecolor": "white",
           "zerolinewidth": 2
          }
         }
        },
        "title": {
         "text": "Avg salary by job_title"
        },
        "xaxis": {
         "anchor": "y",
         "categoryarray": [
          "Data Science Tech Lead",
          "Cloud Data Architect",
          "Data Analytics Lead",
          "Director of Data Science",
          "Data Lead",
          "Applied Scientist",
          "Head of Data",
          "Principal Data Scientist",
          "Data Science Manager",
          "Principal Machine Learning Engineer",
          "Machine Learning Software Engineer",
          "Data Infrastructure Engineer",
          "Machine Learning Manager",
          "Business Intelligence Engineer",
          "Research Scientist",
          "ML Engineer",
          "Head of Data Science",
          "Data Architect",
          "Research Engineer",
          "Machine Learning Scientist",
          "Machine Learning Engineer",
          "Analytics Engineer",
          "AI Developer",
          "Data Modeler",
          "Computer Vision Engineer",
          "Marketing Data Analyst",
          "Lead Data Engineer",
          "Data Scientist",
          "Data Analytics Manager",
          "Data Engineer",
          "NLP Engineer",
          "Cloud Database Engineer",
          "Machine Learning Infrastructure Engineer",
          "Data Scientist Lead",
          "Data Science Lead",
          "ETL Developer",
          "BI Developer",
          "MLOps Engineer",
          "Applied Data Scientist",
          "Applied Machine Learning Scientist",
          "Big Data Architect",
          "AI Scientist",
          "Deep Learning Researcher",
          "Data Specialist",
          "Principal Data Analyst",
          "Data Manager",
          "Deep Learning Engineer",
          "Data Operations Engineer",
          "Data Analyst",
          "Machine Learning Researcher",
          "Data Analytics Specialist",
          "Staff Data Scientist",
          "Lead Data Scientist",
          "Azure Data Engineer",
          "Applied Machine Learning Engineer",
          "Data Operations Analyst",
          "Data Science Engineer",
          "BI Analyst",
          "Computer Vision Software Engineer",
          "Financial Data Analyst",
          "Data Quality Analyst",
          "Lead Machine Learning Engineer",
          "Data Science Consultant",
          "Data Analytics Consultant",
          "Data Strategist",
          "Big Data Engineer",
          "Head of Machine Learning",
          "ETL Engineer",
          "Machine Learning Developer",
          "Data Analytics Engineer",
          "Lead Data Analyst",
          "Business Data Analyst",
          "Data Management Specialist",
          "BI Data Analyst",
          "Marketing Data Engineer",
          "Finance Data Analyst",
          "AI Programmer",
          "Software Data Engineer",
          "Insight Analyst",
          "Principal Data Architect",
          "Compliance Data Analyst",
          "Autonomous Vehicle Technician",
          "3D Computer Vision Researcher",
          "Machine Learning Research Engineer",
          "Staff Data Analyst",
          "Product Data Analyst",
          "Product Data Scientist",
          "Power BI Developer"
         ],
         "categoryorder": "array",
         "domain": [
          0,
          1
         ],
         "title": {
          "text": "job_title"
         }
        },
        "yaxis": {
         "anchor": "x",
         "domain": [
          0,
          1
         ],
         "title": {
          "text": "salary_in_usd"
         }
        }
       }
      }
     },
     "metadata": {},
     "output_type": "display_data"
    }
   ],
   "source": [
    "bar = data.groupby('job_title')[target].mean().sort_values(ascending=False).reset_index()\n",
    "fig = px.bar(bar, x='job_title', y=target, color='job_title', title='Avg salary by job_title')\n",
    "fig.update_layout(showlegend=False)\n",
    "fig.show()"
   ]
  },
  {
   "cell_type": "code",
   "execution_count": 20,
   "metadata": {},
   "outputs": [
    {
     "data": {
      "text/html": [
       "<div>\n",
       "<style scoped>\n",
       "    .dataframe tbody tr th:only-of-type {\n",
       "        vertical-align: middle;\n",
       "    }\n",
       "\n",
       "    .dataframe tbody tr th {\n",
       "        vertical-align: top;\n",
       "    }\n",
       "\n",
       "    .dataframe thead th {\n",
       "        text-align: right;\n",
       "    }\n",
       "</style>\n",
       "<table border=\"1\" class=\"dataframe\">\n",
       "  <thead>\n",
       "    <tr style=\"text-align: right;\">\n",
       "      <th></th>\n",
       "      <th>ISO</th>\n",
       "      <th>Country</th>\n",
       "      <th>salary_in_usd</th>\n",
       "    </tr>\n",
       "  </thead>\n",
       "  <tbody>\n",
       "    <tr>\n",
       "      <th>0</th>\n",
       "      <td>ALB</td>\n",
       "      <td>Albania</td>\n",
       "      <td>10000.000000</td>\n",
       "    </tr>\n",
       "    <tr>\n",
       "      <th>1</th>\n",
       "      <td>ARE</td>\n",
       "      <td>United Arab Emirates</td>\n",
       "      <td>100000.000000</td>\n",
       "    </tr>\n",
       "    <tr>\n",
       "      <th>2</th>\n",
       "      <td>ARG</td>\n",
       "      <td>Argentina</td>\n",
       "      <td>25000.000000</td>\n",
       "    </tr>\n",
       "    <tr>\n",
       "      <th>3</th>\n",
       "      <td>AUS</td>\n",
       "      <td>Australia</td>\n",
       "      <td>80033.428571</td>\n",
       "    </tr>\n",
       "    <tr>\n",
       "      <th>4</th>\n",
       "      <td>AUT</td>\n",
       "      <td>Austria</td>\n",
       "      <td>84891.000000</td>\n",
       "    </tr>\n",
       "  </tbody>\n",
       "</table>\n",
       "</div>"
      ],
      "text/plain": [
       "   ISO               Country  salary_in_usd\n",
       "0  ALB               Albania   10000.000000\n",
       "1  ARE  United Arab Emirates  100000.000000\n",
       "2  ARG             Argentina   25000.000000\n",
       "3  AUS             Australia   80033.428571\n",
       "4  AUT               Austria   84891.000000"
      ]
     },
     "execution_count": 20,
     "metadata": {},
     "output_type": "execute_result"
    }
   ],
   "source": [
    "country_sal = data[['company_location', 'salary_in_usd']]\n",
    "inf = pd.read_csv('countries_iso_codes.csv')\n",
    "country_sal = pd.merge(country_sal, inf, how='left', left_on='company_location', right_on='ISO_2_Letter')\n",
    "country_sal = country_sal.drop(columns=['company_location', 'ISO_2_Letter'])\n",
    "country_sal.rename(columns={'ISO_3_Letter':'ISO'}, inplace=True)\n",
    "country_sal = country_sal[['ISO', 'Country', target]]\n",
    "country_sal = country_sal.groupby(['ISO', 'Country'])[target].mean().reset_index()\n",
    "country_sal.head()"
   ]
  },
  {
   "cell_type": "code",
   "execution_count": 21,
   "metadata": {},
   "outputs": [],
   "source": [
    "path = 'shp/ne_10m_admin_0_countries.shp'\n",
    "world = gpd.read_file(path)\n",
    "world = world[['ISO_A3', 'NAME', 'geometry']]\n",
    "world = world.set_index('ISO_A3').join(country_sal.set_index('ISO'))\n",
    "world = world.reset_index()[['ISO_A3', 'NAME', 'geometry', 'salary_in_usd']]\n",
    "def categorize(i):\n",
    "    if 0 <= i < 50000:\n",
    "        return '0 - 50K'\n",
    "    elif 50000 <= i < 100000:\n",
    "        return '50K - 100K'\n",
    "    elif 100000 <= i < 150000:\n",
    "        return '100K - 150K'\n",
    "    elif 150000 <= i:\n",
    "        return '150K +'\n",
    "    else:\n",
    "        return 'missing values'\n",
    "\n",
    "world['category'] = world['salary_in_usd'].apply(categorize)"
   ]
  },
  {
   "cell_type": "code",
   "execution_count": 22,
   "metadata": {},
   "outputs": [],
   "source": [
    "color_map = {\n",
    "    'missing values': '#d3d3d3',\n",
    "    '0 - 50K' : '#f9f7d1',\n",
    "    '50K - 100K' : '#a3d8b2',\n",
    "    '100K - 150K' : '#6fbfc6',\n",
    "    '150K +': '#2b7eaf'\n",
    "}"
   ]
  },
  {
   "cell_type": "code",
   "execution_count": 23,
   "metadata": {},
   "outputs": [
    {
     "data": {
      "application/vnd.plotly.v1+json": {
       "config": {
        "plotlyServerURL": "https://plot.ly"
       },
       "data": [
        {
         "colorscale": [
          [
           0,
           "#f9f7d1"
          ],
          [
           1,
           "#f9f7d1"
          ]
         ],
         "customdata": [
          [
           "Indonesia",
           34208,
           "0 - 50K"
          ],
          [
           "Malaysia",
           40000,
           "0 - 50K"
          ],
          [
           "Chile",
           40038,
           "0 - 50K"
          ],
          [
           "Bolivia",
           7500,
           "0 - 50K"
          ],
          [
           "Argentina",
           25000,
           "0 - 50K"
          ],
          [
           "India",
           33379.565217391304,
           "0 - 50K"
          ],
          [
           "Kenya",
           44636,
           "0 - 50K"
          ],
          [
           "Morocco",
           10000,
           "0 - 50K"
          ],
          [
           "Brazil",
           46966.666666666664,
           "0 - 50K"
          ],
          [
           "Czechia",
           17800.5,
           "0 - 50K"
          ],
          [
           "Luxembourg",
           36363,
           "0 - 50K"
          ],
          [
           "Albania",
           10000,
           "0 - 50K"
          ],
          [
           "Turkey",
           19395.666666666668,
           "0 - 50K"
          ],
          [
           "Hungary",
           26709.5,
           "0 - 50K"
          ],
          [
           "Greece",
           49918,
           "0 - 50K"
          ],
          [
           "Central African Rep.",
           48609,
           "0 - 50K"
          ],
          [
           "Italy",
           41297.75,
           "0 - 50K"
          ],
          [
           "Nigeria",
           47500,
           "0 - 50K"
          ],
          [
           "Pakistan",
           26000,
           "0 - 50K"
          ],
          [
           "Thailand",
           22226.5,
           "0 - 50K"
          ],
          [
           "Honduras",
           20000,
           "0 - 50K"
          ],
          [
           "Ghana",
           18500,
           "0 - 50K"
          ],
          [
           "Egypt",
           22800,
           "0 - 50K"
          ],
          [
           "Bahamas",
           45555,
           "0 - 50K"
          ],
          [
           "Malta",
           28369,
           "0 - 50K"
          ],
          [
           "Singapore",
           39434,
           "0 - 50K"
          ],
          [
           "Samoa",
           29351,
           "0 - 50K"
          ]
         ],
         "geo": "geo",
         "hovertemplate": "ISO_A3=%{location}<br>NAME=%{customdata[0]}<br>salary_in_usd=%{customdata[1]}<extra></extra>",
         "locations": [
          "IDN",
          "MYS",
          "CHL",
          "BOL",
          "ARG",
          "IND",
          "KEN",
          "MAR",
          "BRA",
          "CZE",
          "LUX",
          "ALB",
          "TUR",
          "HUN",
          "GRC",
          "CAF",
          "ITA",
          "NGA",
          "PAK",
          "THA",
          "HND",
          "GHA",
          "EGY",
          "BHS",
          "MLT",
          "SGP",
          "WSM"
         ],
         "name": "0 - 50K",
         "showlegend": true,
         "showscale": false,
         "type": "choropleth",
         "z": [
          1,
          1,
          1,
          1,
          1,
          1,
          1,
          1,
          1,
          1,
          1,
          1,
          1,
          1,
          1,
          1,
          1,
          1,
          1,
          1,
          1,
          1,
          1,
          1,
          1,
          1,
          1
         ]
        },
        {
         "colorscale": [
          [
           0,
           "#d3d3d3"
          ],
          [
           1,
           "#d3d3d3"
          ]
         ],
         "customdata": [
          [
           "Peru",
           null,
           "missing values"
          ],
          [
           "Dhekelia",
           null,
           "missing values"
          ],
          [
           "Cyprus",
           null,
           "missing values"
          ],
          [
           "Palestine",
           null,
           "missing values"
          ],
          [
           "Lebanon",
           null,
           "missing values"
          ],
          [
           "Ethiopia",
           null,
           "missing values"
          ],
          [
           "S. Sudan",
           null,
           "missing values"
          ],
          [
           "Somalia",
           null,
           "missing values"
          ],
          [
           "Malawi",
           null,
           "missing values"
          ],
          [
           "Tanzania",
           null,
           "missing values"
          ],
          [
           "Syria",
           null,
           "missing values"
          ],
          [
           "Somaliland",
           null,
           "missing values"
          ],
          [
           "France",
           null,
           "missing values"
          ],
          [
           "Suriname",
           null,
           "missing values"
          ],
          [
           "Guyana",
           null,
           "missing values"
          ],
          [
           "South Korea",
           null,
           "missing values"
          ],
          [
           "North Korea",
           null,
           "missing values"
          ],
          [
           "W. Sahara",
           null,
           "missing values"
          ],
          [
           "Nicaragua",
           null,
           "missing values"
          ],
          [
           "Congo",
           null,
           "missing values"
          ],
          [
           "Dem. Rep. Congo",
           null,
           "missing values"
          ],
          [
           "Bhutan",
           null,
           "missing values"
          ],
          [
           "Belarus",
           null,
           "missing values"
          ],
          [
           "Namibia",
           null,
           "missing values"
          ],
          [
           "South Africa",
           null,
           "missing values"
          ],
          [
           "St-Martin",
           null,
           "missing values"
          ],
          [
           "Sint Maarten",
           null,
           "missing values"
          ],
          [
           "Oman",
           null,
           "missing values"
          ],
          [
           "Uzbekistan",
           null,
           "missing values"
          ],
          [
           "Kazakhstan",
           null,
           "missing values"
          ],
          [
           "Tajikistan",
           null,
           "missing values"
          ],
          [
           "Uruguay",
           null,
           "missing values"
          ],
          [
           "Mongolia",
           null,
           "missing values"
          ],
          [
           "Estonia",
           null,
           "missing values"
          ],
          [
           "Norway",
           null,
           "missing values"
          ],
          [
           "Vietnam",
           null,
           "missing values"
          ],
          [
           "Cambodia",
           null,
           "missing values"
          ],
          [
           "Georgia",
           null,
           "missing values"
          ],
          [
           "North Macedonia",
           null,
           "missing values"
          ],
          [
           "Azerbaijan",
           null,
           "missing values"
          ],
          [
           "Kosovo",
           null,
           "missing values"
          ],
          [
           "Laos",
           null,
           "missing values"
          ],
          [
           "Kyrgyzstan",
           null,
           "missing values"
          ],
          [
           "Armenia",
           null,
           "missing values"
          ],
          [
           "Libya",
           null,
           "missing values"
          ],
          [
           "Tunisia",
           null,
           "missing values"
          ],
          [
           "Slovakia",
           null,
           "missing values"
          ],
          [
           "Zambia",
           null,
           "missing values"
          ],
          [
           "Sierra Leone",
           null,
           "missing values"
          ],
          [
           "Guinea",
           null,
           "missing values"
          ],
          [
           "Liberia",
           null,
           "missing values"
          ],
          [
           "Sudan",
           null,
           "missing values"
          ],
          [
           "Djibouti",
           null,
           "missing values"
          ],
          [
           "Eritrea",
           null,
           "missing values"
          ],
          [
           "Iraq",
           null,
           "missing values"
          ],
          [
           "Iran",
           null,
           "missing values"
          ],
          [
           "Liechtenstein",
           null,
           "missing values"
          ],
          [
           "CÃ´te d'Ivoire",
           null,
           "missing values"
          ],
          [
           "Serbia",
           null,
           "missing values"
          ],
          [
           "Mali",
           null,
           "missing values"
          ],
          [
           "Senegal",
           null,
           "missing values"
          ],
          [
           "Benin",
           null,
           "missing values"
          ],
          [
           "Angola",
           null,
           "missing values"
          ],
          [
           "Qatar",
           null,
           "missing values"
          ],
          [
           "Saudi Arabia",
           null,
           "missing values"
          ],
          [
           "Botswana",
           null,
           "missing values"
          ],
          [
           "Zimbabwe",
           null,
           "missing values"
          ],
          [
           "Bulgaria",
           null,
           "missing values"
          ],
          [
           "San Marino",
           null,
           "missing values"
          ],
          [
           "Haiti",
           null,
           "missing values"
          ],
          [
           "Dominican Rep.",
           null,
           "missing values"
          ],
          [
           "Chad",
           null,
           "missing values"
          ],
          [
           "Kuwait",
           null,
           "missing values"
          ],
          [
           "El Salvador",
           null,
           "missing values"
          ],
          [
           "Guatemala",
           null,
           "missing values"
          ],
          [
           "Timor-Leste",
           null,
           "missing values"
          ],
          [
           "Brunei",
           null,
           "missing values"
          ],
          [
           "Monaco",
           null,
           "missing values"
          ],
          [
           "Algeria",
           null,
           "missing values"
          ],
          [
           "Mozambique",
           null,
           "missing values"
          ],
          [
           "eSwatini",
           null,
           "missing values"
          ],
          [
           "Burundi",
           null,
           "missing values"
          ],
          [
           "Rwanda",
           null,
           "missing values"
          ],
          [
           "Myanmar",
           null,
           "missing values"
          ],
          [
           "Bangladesh",
           null,
           "missing values"
          ],
          [
           "Andorra",
           null,
           "missing values"
          ],
          [
           "Afghanistan",
           null,
           "missing values"
          ],
          [
           "Montenegro",
           null,
           "missing values"
          ],
          [
           "Bosnia and Herz.",
           null,
           "missing values"
          ],
          [
           "Uganda",
           null,
           "missing values"
          ],
          [
           "USNB Guantanamo Bay",
           null,
           "missing values"
          ],
          [
           "Cuba",
           null,
           "missing values"
          ],
          [
           "Ecuador",
           null,
           "missing values"
          ],
          [
           "Paraguay",
           null,
           "missing values"
          ],
          [
           "Brazilian I.",
           null,
           "missing values"
          ],
          [
           "Moldova",
           null,
           "missing values"
          ],
          [
           "Turkmenistan",
           null,
           "missing values"
          ],
          [
           "Jordan",
           null,
           "missing values"
          ],
          [
           "Nepal",
           null,
           "missing values"
          ],
          [
           "Lesotho",
           null,
           "missing values"
          ],
          [
           "Cameroon",
           null,
           "missing values"
          ],
          [
           "Gabon",
           null,
           "missing values"
          ],
          [
           "Niger",
           null,
           "missing values"
          ],
          [
           "Burkina Faso",
           null,
           "missing values"
          ],
          [
           "Togo",
           null,
           "missing values"
          ],
          [
           "Guinea-Bissau",
           null,
           "missing values"
          ],
          [
           "Gibraltar",
           null,
           "missing values"
          ],
          [
           "Belize",
           null,
           "missing values"
          ],
          [
           "Panama",
           null,
           "missing values"
          ],
          [
           "Venezuela",
           null,
           "missing values"
          ],
          [
           "Papua New Guinea",
           null,
           "missing values"
          ],
          [
           "Yemen",
           null,
           "missing values"
          ],
          [
           "Mauritania",
           null,
           "missing values"
          ],
          [
           "Eq. Guinea",
           null,
           "missing values"
          ],
          [
           "Gambia",
           null,
           "missing values"
          ],
          [
           "Vatican",
           null,
           "missing values"
          ],
          [
           "N. Cyprus",
           null,
           "missing values"
          ],
          [
           "Cyprus U.N. Buffer Zone",
           null,
           "missing values"
          ],
          [
           "Siachen Glacier",
           null,
           "missing values"
          ],
          [
           "Baikonur",
           null,
           "missing values"
          ],
          [
           "Akrotiri",
           null,
           "missing values"
          ],
          [
           "Southern Patagonian Ice Field",
           null,
           "missing values"
          ],
          [
           "Bir Tawil",
           null,
           "missing values"
          ],
          [
           "Antarctica",
           null,
           "missing values"
          ],
          [
           "Greenland",
           null,
           "missing values"
          ],
          [
           "Fiji",
           null,
           "missing values"
          ],
          [
           "New Caledonia",
           null,
           "missing values"
          ],
          [
           "Madagascar",
           null,
           "missing values"
          ],
          [
           "Philippines",
           null,
           "missing values"
          ],
          [
           "Sri Lanka",
           null,
           "missing values"
          ],
          [
           "CuraÃ§ao",
           null,
           "missing values"
          ],
          [
           "Aruba",
           null,
           "missing values"
          ],
          [
           "Turks and Caicos Is.",
           null,
           "missing values"
          ],
          [
           "Taiwan",
           null,
           "missing values"
          ],
          [
           "St. Pierre and Miquelon",
           null,
           "missing values"
          ],
          [
           "Iceland",
           null,
           "missing values"
          ],
          [
           "Pitcairn Is.",
           null,
           "missing values"
          ],
          [
           "Fr. Polynesia",
           null,
           "missing values"
          ],
          [
           "Fr. S. Antarctic Lands",
           null,
           "missing values"
          ],
          [
           "Seychelles",
           null,
           "missing values"
          ],
          [
           "Kiribati",
           null,
           "missing values"
          ],
          [
           "Marshall Is.",
           null,
           "missing values"
          ],
          [
           "Trinidad and Tobago",
           null,
           "missing values"
          ],
          [
           "Grenada",
           null,
           "missing values"
          ],
          [
           "St. Vin. and Gren.",
           null,
           "missing values"
          ],
          [
           "Barbados",
           null,
           "missing values"
          ],
          [
           "Saint Lucia",
           null,
           "missing values"
          ],
          [
           "Dominica",
           null,
           "missing values"
          ],
          [
           "U.S. Minor Outlying Is.",
           null,
           "missing values"
          ],
          [
           "Montserrat",
           null,
           "missing values"
          ],
          [
           "Antigua and Barb.",
           null,
           "missing values"
          ],
          [
           "St. Kitts and Nevis",
           null,
           "missing values"
          ],
          [
           "U.S. Virgin Is.",
           null,
           "missing values"
          ],
          [
           "St-BarthÃ©lemy",
           null,
           "missing values"
          ],
          [
           "Anguilla",
           null,
           "missing values"
          ],
          [
           "British Virgin Is.",
           null,
           "missing values"
          ],
          [
           "Jamaica",
           null,
           "missing values"
          ],
          [
           "Cayman Is.",
           null,
           "missing values"
          ],
          [
           "Bermuda",
           null,
           "missing values"
          ],
          [
           "Heard I. and McDonald Is.",
           null,
           "missing values"
          ],
          [
           "Saint Helena",
           null,
           "missing values"
          ],
          [
           "Mauritius",
           null,
           "missing values"
          ],
          [
           "Comoros",
           null,
           "missing values"
          ],
          [
           "SÃ£o TomÃ© and Principe",
           null,
           "missing values"
          ],
          [
           "Cabo Verde",
           null,
           "missing values"
          ],
          [
           "Jersey",
           null,
           "missing values"
          ],
          [
           "Guernsey",
           null,
           "missing values"
          ],
          [
           "Isle of Man",
           null,
           "missing values"
          ],
          [
           "Ãland",
           null,
           "missing values"
          ],
          [
           "Faeroe Is.",
           null,
           "missing values"
          ],
          [
           "Indian Ocean Ter.",
           null,
           "missing values"
          ],
          [
           "Br. Indian Ocean Ter.",
           null,
           "missing values"
          ],
          [
           "Norfolk Island",
           null,
           "missing values"
          ],
          [
           "Cook Is.",
           null,
           "missing values"
          ],
          [
           "Tonga",
           null,
           "missing values"
          ],
          [
           "Wallis and Futuna Is.",
           null,
           "missing values"
          ],
          [
           "Solomon Is.",
           null,
           "missing values"
          ],
          [
           "Tuvalu",
           null,
           "missing values"
          ],
          [
           "Maldives",
           null,
           "missing values"
          ],
          [
           "Nauru",
           null,
           "missing values"
          ],
          [
           "Micronesia",
           null,
           "missing values"
          ],
          [
           "S. Geo. and the Is.",
           null,
           "missing values"
          ],
          [
           "Falkland Is.",
           null,
           "missing values"
          ],
          [
           "Vanuatu",
           null,
           "missing values"
          ],
          [
           "Niue",
           null,
           "missing values"
          ],
          [
           "American Samoa",
           null,
           "missing values"
          ],
          [
           "Palau",
           null,
           "missing values"
          ],
          [
           "Guam",
           null,
           "missing values"
          ],
          [
           "N. Mariana Is.",
           null,
           "missing values"
          ],
          [
           "Bahrain",
           null,
           "missing values"
          ],
          [
           "Coral Sea Is.",
           null,
           "missing values"
          ],
          [
           "Spratly Is.",
           null,
           "missing values"
          ],
          [
           "Clipperton I.",
           null,
           "missing values"
          ],
          [
           "Macao",
           null,
           "missing values"
          ],
          [
           "Ashmore and Cartier Is.",
           null,
           "missing values"
          ],
          [
           "Bajo Nuevo Bank",
           null,
           "missing values"
          ],
          [
           "Serranilla Bank",
           null,
           "missing values"
          ],
          [
           "Scarborough Reef",
           null,
           "missing values"
          ]
         ],
         "geo": "geo",
         "hovertemplate": "ISO_A3=%{location}<br>NAME=%{customdata[0]}<br>salary_in_usd=%{customdata[1]}<extra></extra>",
         "locations": [
          "PER",
          "-99",
          "CYP",
          "PSE",
          "LBN",
          "ETH",
          "SSD",
          "SOM",
          "MWI",
          "TZA",
          "SYR",
          "-99",
          "-99",
          "SUR",
          "GUY",
          "KOR",
          "PRK",
          "ESH",
          "NIC",
          "COG",
          "COD",
          "BTN",
          "BLR",
          "NAM",
          "ZAF",
          "MAF",
          "SXM",
          "OMN",
          "UZB",
          "KAZ",
          "TJK",
          "URY",
          "MNG",
          "EST",
          "-99",
          "VNM",
          "KHM",
          "GEO",
          "MKD",
          "AZE",
          "-99",
          "LAO",
          "KGZ",
          "ARM",
          "LBY",
          "TUN",
          "SVK",
          "ZMB",
          "SLE",
          "GIN",
          "LBR",
          "SDN",
          "DJI",
          "ERI",
          "IRQ",
          "IRN",
          "LIE",
          "CIV",
          "SRB",
          "MLI",
          "SEN",
          "BEN",
          "AGO",
          "QAT",
          "SAU",
          "BWA",
          "ZWE",
          "BGR",
          "SMR",
          "HTI",
          "DOM",
          "TCD",
          "KWT",
          "SLV",
          "GTM",
          "TLS",
          "BRN",
          "MCO",
          "DZA",
          "MOZ",
          "SWZ",
          "BDI",
          "RWA",
          "MMR",
          "BGD",
          "AND",
          "AFG",
          "MNE",
          "BIH",
          "UGA",
          "-99",
          "CUB",
          "ECU",
          "PRY",
          "-99",
          "MDA",
          "TKM",
          "JOR",
          "NPL",
          "LSO",
          "CMR",
          "GAB",
          "NER",
          "BFA",
          "TGO",
          "GNB",
          "GIB",
          "BLZ",
          "PAN",
          "VEN",
          "PNG",
          "YEM",
          "MRT",
          "GNQ",
          "GMB",
          "VAT",
          "-99",
          "-99",
          "-99",
          "-99",
          "-99",
          "-99",
          "-99",
          "ATA",
          "GRL",
          "FJI",
          "NCL",
          "MDG",
          "PHL",
          "LKA",
          "CUW",
          "ABW",
          "TCA",
          "TWN",
          "SPM",
          "ISL",
          "PCN",
          "PYF",
          "ATF",
          "SYC",
          "KIR",
          "MHL",
          "TTO",
          "GRD",
          "VCT",
          "BRB",
          "LCA",
          "DMA",
          "UMI",
          "MSR",
          "ATG",
          "KNA",
          "VIR",
          "BLM",
          "AIA",
          "VGB",
          "JAM",
          "CYM",
          "BMU",
          "HMD",
          "SHN",
          "MUS",
          "COM",
          "STP",
          "CPV",
          "JEY",
          "GGY",
          "IMN",
          "ALA",
          "FRO",
          "-99",
          "IOT",
          "NFK",
          "COK",
          "TON",
          "WLF",
          "SLB",
          "TUV",
          "MDV",
          "NRU",
          "FSM",
          "SGS",
          "FLK",
          "VUT",
          "NIU",
          "ASM",
          "PLW",
          "GUM",
          "MNP",
          "BHR",
          "-99",
          "-99",
          "-99",
          "MAC",
          "-99",
          "-99",
          "-99",
          "-99"
         ],
         "name": "missing values",
         "showlegend": true,
         "showscale": false,
         "type": "choropleth",
         "z": [
          1,
          1,
          1,
          1,
          1,
          1,
          1,
          1,
          1,
          1,
          1,
          1,
          1,
          1,
          1,
          1,
          1,
          1,
          1,
          1,
          1,
          1,
          1,
          1,
          1,
          1,
          1,
          1,
          1,
          1,
          1,
          1,
          1,
          1,
          1,
          1,
          1,
          1,
          1,
          1,
          1,
          1,
          1,
          1,
          1,
          1,
          1,
          1,
          1,
          1,
          1,
          1,
          1,
          1,
          1,
          1,
          1,
          1,
          1,
          1,
          1,
          1,
          1,
          1,
          1,
          1,
          1,
          1,
          1,
          1,
          1,
          1,
          1,
          1,
          1,
          1,
          1,
          1,
          1,
          1,
          1,
          1,
          1,
          1,
          1,
          1,
          1,
          1,
          1,
          1,
          1,
          1,
          1,
          1,
          1,
          1,
          1,
          1,
          1,
          1,
          1,
          1,
          1,
          1,
          1,
          1,
          1,
          1,
          1,
          1,
          1,
          1,
          1,
          1,
          1,
          1,
          1,
          1,
          1,
          1,
          1,
          1,
          1,
          1,
          1,
          1,
          1,
          1,
          1,
          1,
          1,
          1,
          1,
          1,
          1,
          1,
          1,
          1,
          1,
          1,
          1,
          1,
          1,
          1,
          1,
          1,
          1,
          1,
          1,
          1,
          1,
          1,
          1,
          1,
          1,
          1,
          1,
          1,
          1,
          1,
          1,
          1,
          1,
          1,
          1,
          1,
          1,
          1,
          1,
          1,
          1,
          1,
          1,
          1,
          1,
          1,
          1,
          1,
          1,
          1,
          1,
          1,
          1,
          1,
          1,
          1,
          1,
          1,
          1,
          1,
          1,
          1,
          1,
          1,
          1,
          1,
          1,
          1
         ]
        },
        {
         "colorscale": [
          [
           0,
           "#6fbfc6"
          ],
          [
           1,
           "#6fbfc6"
          ]
         ],
         "customdata": [
          [
           "China",
           100000,
           "100K - 150K"
          ],
          [
           "Russia",
           140333.33333333334,
           "100K - 150K"
          ],
          [
           "Sweden",
           105000,
           "100K - 150K"
          ],
          [
           "United Arab Emirates",
           100000,
           "100K - 150K"
          ],
          [
           "Poland",
           100132,
           "100K - 150K"
          ],
          [
           "Ireland",
           118004.33333333333,
           "100K - 150K"
          ],
          [
           "Canada",
           129083.50684931508,
           "100K - 150K"
          ],
          [
           "Mexico",
           111358.71428571429,
           "100K - 150K"
          ],
          [
           "New Zealand",
           125000,
           "100K - 150K"
          ],
          [
           "Japan",
           124210.6,
           "100K - 150K"
          ]
         ],
         "geo": "geo",
         "hovertemplate": "ISO_A3=%{location}<br>NAME=%{customdata[0]}<br>salary_in_usd=%{customdata[1]}<extra></extra>",
         "locations": [
          "CHN",
          "RUS",
          "SWE",
          "ARE",
          "POL",
          "IRL",
          "CAN",
          "MEX",
          "NZL",
          "JPN"
         ],
         "name": "100K - 150K",
         "showlegend": true,
         "showscale": false,
         "type": "choropleth",
         "z": [
          1,
          1,
          1,
          1,
          1,
          1,
          1,
          1,
          1,
          1
         ]
        },
        {
         "colorscale": [
          [
           0,
           "#2b7eaf"
          ],
          [
           1,
           "#2b7eaf"
          ]
         ],
         "customdata": [
          [
           "Israel",
           271446.5,
           "150K +"
          ],
          [
           "United States of America",
           152578.41553637484,
           "150K +"
          ],
          [
           "Puerto Rico",
           167500,
           "150K +"
          ]
         ],
         "geo": "geo",
         "hovertemplate": "ISO_A3=%{location}<br>NAME=%{customdata[0]}<br>salary_in_usd=%{customdata[1]}<extra></extra>",
         "locations": [
          "ISR",
          "USA",
          "PRI"
         ],
         "name": "150K +",
         "showlegend": true,
         "showscale": false,
         "type": "choropleth",
         "z": [
          1,
          1,
          1
         ]
        },
        {
         "colorscale": [
          [
           0,
           "#a3d8b2"
          ],
          [
           1,
           "#a3d8b2"
          ]
         ],
         "customdata": [
          [
           "Costa Rica",
           50000,
           "50K - 100K"
          ],
          [
           "Ukraine",
           57850,
           "50K - 100K"
          ],
          [
           "Lithuania",
           94812,
           "50K - 100K"
          ],
          [
           "Germany",
           88538.55319148937,
           "50K - 100K"
          ],
          [
           "Latvia",
           51508,
           "50K - 100K"
          ],
          [
           "Finland",
           71669,
           "50K - 100K"
          ],
          [
           "Belgium",
           76864.75,
           "50K - 100K"
          ],
          [
           "Spain",
           60674.13114754098,
           "50K - 100K"
          ],
          [
           "Denmark",
           54386.333333333336,
           "50K - 100K"
          ],
          [
           "Romania",
           56827,
           "50K - 100K"
          ],
          [
           "United Kingdom",
           87636.38571428572,
           "50K - 100K"
          ],
          [
           "Austria",
           84891,
           "50K - 100K"
          ],
          [
           "Switzerland",
           88018.5,
           "50K - 100K"
          ],
          [
           "Netherlands",
           75716.4,
           "50K - 100K"
          ],
          [
           "Croatia",
           91142.5,
           "50K - 100K"
          ],
          [
           "Slovenia",
           62766.75,
           "50K - 100K"
          ],
          [
           "Colombia",
           64961,
           "50K - 100K"
          ],
          [
           "Portugal",
           53174.545454545456,
           "50K - 100K"
          ],
          [
           "Hong Kong",
           65062,
           "50K - 100K"
          ],
          [
           "Australia",
           80033.42857142857,
           "50K - 100K"
          ]
         ],
         "geo": "geo",
         "hovertemplate": "ISO_A3=%{location}<br>NAME=%{customdata[0]}<br>salary_in_usd=%{customdata[1]}<extra></extra>",
         "locations": [
          "CRI",
          "UKR",
          "LTU",
          "DEU",
          "LVA",
          "FIN",
          "BEL",
          "ESP",
          "DNK",
          "ROU",
          "GBR",
          "AUT",
          "CHE",
          "NLD",
          "HRV",
          "SVN",
          "COL",
          "PRT",
          "HKG",
          "AUS"
         ],
         "name": "50K - 100K",
         "showlegend": true,
         "showscale": false,
         "type": "choropleth",
         "z": [
          1,
          1,
          1,
          1,
          1,
          1,
          1,
          1,
          1,
          1,
          1,
          1,
          1,
          1,
          1,
          1,
          1,
          1,
          1,
          1
         ]
        }
       ],
       "layout": {
        "geo": {
         "center": {},
         "domain": {
          "x": [
           0,
           1
          ],
          "y": [
           0,
           1
          ]
         }
        },
        "legend": {
         "title": {
          "text": "catégories"
         },
         "tracegroupgap": 0
        },
        "margin": {
         "b": 0,
         "l": 0,
         "r": 0,
         "t": 0
        },
        "template": {
         "data": {
          "bar": [
           {
            "error_x": {
             "color": "#2a3f5f"
            },
            "error_y": {
             "color": "#2a3f5f"
            },
            "marker": {
             "line": {
              "color": "#E5ECF6",
              "width": 0.5
             },
             "pattern": {
              "fillmode": "overlay",
              "size": 10,
              "solidity": 0.2
             }
            },
            "type": "bar"
           }
          ],
          "barpolar": [
           {
            "marker": {
             "line": {
              "color": "#E5ECF6",
              "width": 0.5
             },
             "pattern": {
              "fillmode": "overlay",
              "size": 10,
              "solidity": 0.2
             }
            },
            "type": "barpolar"
           }
          ],
          "carpet": [
           {
            "aaxis": {
             "endlinecolor": "#2a3f5f",
             "gridcolor": "white",
             "linecolor": "white",
             "minorgridcolor": "white",
             "startlinecolor": "#2a3f5f"
            },
            "baxis": {
             "endlinecolor": "#2a3f5f",
             "gridcolor": "white",
             "linecolor": "white",
             "minorgridcolor": "white",
             "startlinecolor": "#2a3f5f"
            },
            "type": "carpet"
           }
          ],
          "choropleth": [
           {
            "colorbar": {
             "outlinewidth": 0,
             "ticks": ""
            },
            "type": "choropleth"
           }
          ],
          "contour": [
           {
            "colorbar": {
             "outlinewidth": 0,
             "ticks": ""
            },
            "colorscale": [
             [
              0,
              "#0d0887"
             ],
             [
              0.1111111111111111,
              "#46039f"
             ],
             [
              0.2222222222222222,
              "#7201a8"
             ],
             [
              0.3333333333333333,
              "#9c179e"
             ],
             [
              0.4444444444444444,
              "#bd3786"
             ],
             [
              0.5555555555555556,
              "#d8576b"
             ],
             [
              0.6666666666666666,
              "#ed7953"
             ],
             [
              0.7777777777777778,
              "#fb9f3a"
             ],
             [
              0.8888888888888888,
              "#fdca26"
             ],
             [
              1,
              "#f0f921"
             ]
            ],
            "type": "contour"
           }
          ],
          "contourcarpet": [
           {
            "colorbar": {
             "outlinewidth": 0,
             "ticks": ""
            },
            "type": "contourcarpet"
           }
          ],
          "heatmap": [
           {
            "colorbar": {
             "outlinewidth": 0,
             "ticks": ""
            },
            "colorscale": [
             [
              0,
              "#0d0887"
             ],
             [
              0.1111111111111111,
              "#46039f"
             ],
             [
              0.2222222222222222,
              "#7201a8"
             ],
             [
              0.3333333333333333,
              "#9c179e"
             ],
             [
              0.4444444444444444,
              "#bd3786"
             ],
             [
              0.5555555555555556,
              "#d8576b"
             ],
             [
              0.6666666666666666,
              "#ed7953"
             ],
             [
              0.7777777777777778,
              "#fb9f3a"
             ],
             [
              0.8888888888888888,
              "#fdca26"
             ],
             [
              1,
              "#f0f921"
             ]
            ],
            "type": "heatmap"
           }
          ],
          "heatmapgl": [
           {
            "colorbar": {
             "outlinewidth": 0,
             "ticks": ""
            },
            "colorscale": [
             [
              0,
              "#0d0887"
             ],
             [
              0.1111111111111111,
              "#46039f"
             ],
             [
              0.2222222222222222,
              "#7201a8"
             ],
             [
              0.3333333333333333,
              "#9c179e"
             ],
             [
              0.4444444444444444,
              "#bd3786"
             ],
             [
              0.5555555555555556,
              "#d8576b"
             ],
             [
              0.6666666666666666,
              "#ed7953"
             ],
             [
              0.7777777777777778,
              "#fb9f3a"
             ],
             [
              0.8888888888888888,
              "#fdca26"
             ],
             [
              1,
              "#f0f921"
             ]
            ],
            "type": "heatmapgl"
           }
          ],
          "histogram": [
           {
            "marker": {
             "pattern": {
              "fillmode": "overlay",
              "size": 10,
              "solidity": 0.2
             }
            },
            "type": "histogram"
           }
          ],
          "histogram2d": [
           {
            "colorbar": {
             "outlinewidth": 0,
             "ticks": ""
            },
            "colorscale": [
             [
              0,
              "#0d0887"
             ],
             [
              0.1111111111111111,
              "#46039f"
             ],
             [
              0.2222222222222222,
              "#7201a8"
             ],
             [
              0.3333333333333333,
              "#9c179e"
             ],
             [
              0.4444444444444444,
              "#bd3786"
             ],
             [
              0.5555555555555556,
              "#d8576b"
             ],
             [
              0.6666666666666666,
              "#ed7953"
             ],
             [
              0.7777777777777778,
              "#fb9f3a"
             ],
             [
              0.8888888888888888,
              "#fdca26"
             ],
             [
              1,
              "#f0f921"
             ]
            ],
            "type": "histogram2d"
           }
          ],
          "histogram2dcontour": [
           {
            "colorbar": {
             "outlinewidth": 0,
             "ticks": ""
            },
            "colorscale": [
             [
              0,
              "#0d0887"
             ],
             [
              0.1111111111111111,
              "#46039f"
             ],
             [
              0.2222222222222222,
              "#7201a8"
             ],
             [
              0.3333333333333333,
              "#9c179e"
             ],
             [
              0.4444444444444444,
              "#bd3786"
             ],
             [
              0.5555555555555556,
              "#d8576b"
             ],
             [
              0.6666666666666666,
              "#ed7953"
             ],
             [
              0.7777777777777778,
              "#fb9f3a"
             ],
             [
              0.8888888888888888,
              "#fdca26"
             ],
             [
              1,
              "#f0f921"
             ]
            ],
            "type": "histogram2dcontour"
           }
          ],
          "mesh3d": [
           {
            "colorbar": {
             "outlinewidth": 0,
             "ticks": ""
            },
            "type": "mesh3d"
           }
          ],
          "parcoords": [
           {
            "line": {
             "colorbar": {
              "outlinewidth": 0,
              "ticks": ""
             }
            },
            "type": "parcoords"
           }
          ],
          "pie": [
           {
            "automargin": true,
            "type": "pie"
           }
          ],
          "scatter": [
           {
            "fillpattern": {
             "fillmode": "overlay",
             "size": 10,
             "solidity": 0.2
            },
            "type": "scatter"
           }
          ],
          "scatter3d": [
           {
            "line": {
             "colorbar": {
              "outlinewidth": 0,
              "ticks": ""
             }
            },
            "marker": {
             "colorbar": {
              "outlinewidth": 0,
              "ticks": ""
             }
            },
            "type": "scatter3d"
           }
          ],
          "scattercarpet": [
           {
            "marker": {
             "colorbar": {
              "outlinewidth": 0,
              "ticks": ""
             }
            },
            "type": "scattercarpet"
           }
          ],
          "scattergeo": [
           {
            "marker": {
             "colorbar": {
              "outlinewidth": 0,
              "ticks": ""
             }
            },
            "type": "scattergeo"
           }
          ],
          "scattergl": [
           {
            "marker": {
             "colorbar": {
              "outlinewidth": 0,
              "ticks": ""
             }
            },
            "type": "scattergl"
           }
          ],
          "scattermapbox": [
           {
            "marker": {
             "colorbar": {
              "outlinewidth": 0,
              "ticks": ""
             }
            },
            "type": "scattermapbox"
           }
          ],
          "scatterpolar": [
           {
            "marker": {
             "colorbar": {
              "outlinewidth": 0,
              "ticks": ""
             }
            },
            "type": "scatterpolar"
           }
          ],
          "scatterpolargl": [
           {
            "marker": {
             "colorbar": {
              "outlinewidth": 0,
              "ticks": ""
             }
            },
            "type": "scatterpolargl"
           }
          ],
          "scatterternary": [
           {
            "marker": {
             "colorbar": {
              "outlinewidth": 0,
              "ticks": ""
             }
            },
            "type": "scatterternary"
           }
          ],
          "surface": [
           {
            "colorbar": {
             "outlinewidth": 0,
             "ticks": ""
            },
            "colorscale": [
             [
              0,
              "#0d0887"
             ],
             [
              0.1111111111111111,
              "#46039f"
             ],
             [
              0.2222222222222222,
              "#7201a8"
             ],
             [
              0.3333333333333333,
              "#9c179e"
             ],
             [
              0.4444444444444444,
              "#bd3786"
             ],
             [
              0.5555555555555556,
              "#d8576b"
             ],
             [
              0.6666666666666666,
              "#ed7953"
             ],
             [
              0.7777777777777778,
              "#fb9f3a"
             ],
             [
              0.8888888888888888,
              "#fdca26"
             ],
             [
              1,
              "#f0f921"
             ]
            ],
            "type": "surface"
           }
          ],
          "table": [
           {
            "cells": {
             "fill": {
              "color": "#EBF0F8"
             },
             "line": {
              "color": "white"
             }
            },
            "header": {
             "fill": {
              "color": "#C8D4E3"
             },
             "line": {
              "color": "white"
             }
            },
            "type": "table"
           }
          ]
         },
         "layout": {
          "annotationdefaults": {
           "arrowcolor": "#2a3f5f",
           "arrowhead": 0,
           "arrowwidth": 1
          },
          "autotypenumbers": "strict",
          "coloraxis": {
           "colorbar": {
            "outlinewidth": 0,
            "ticks": ""
           }
          },
          "colorscale": {
           "diverging": [
            [
             0,
             "#8e0152"
            ],
            [
             0.1,
             "#c51b7d"
            ],
            [
             0.2,
             "#de77ae"
            ],
            [
             0.3,
             "#f1b6da"
            ],
            [
             0.4,
             "#fde0ef"
            ],
            [
             0.5,
             "#f7f7f7"
            ],
            [
             0.6,
             "#e6f5d0"
            ],
            [
             0.7,
             "#b8e186"
            ],
            [
             0.8,
             "#7fbc41"
            ],
            [
             0.9,
             "#4d9221"
            ],
            [
             1,
             "#276419"
            ]
           ],
           "sequential": [
            [
             0,
             "#0d0887"
            ],
            [
             0.1111111111111111,
             "#46039f"
            ],
            [
             0.2222222222222222,
             "#7201a8"
            ],
            [
             0.3333333333333333,
             "#9c179e"
            ],
            [
             0.4444444444444444,
             "#bd3786"
            ],
            [
             0.5555555555555556,
             "#d8576b"
            ],
            [
             0.6666666666666666,
             "#ed7953"
            ],
            [
             0.7777777777777778,
             "#fb9f3a"
            ],
            [
             0.8888888888888888,
             "#fdca26"
            ],
            [
             1,
             "#f0f921"
            ]
           ],
           "sequentialminus": [
            [
             0,
             "#0d0887"
            ],
            [
             0.1111111111111111,
             "#46039f"
            ],
            [
             0.2222222222222222,
             "#7201a8"
            ],
            [
             0.3333333333333333,
             "#9c179e"
            ],
            [
             0.4444444444444444,
             "#bd3786"
            ],
            [
             0.5555555555555556,
             "#d8576b"
            ],
            [
             0.6666666666666666,
             "#ed7953"
            ],
            [
             0.7777777777777778,
             "#fb9f3a"
            ],
            [
             0.8888888888888888,
             "#fdca26"
            ],
            [
             1,
             "#f0f921"
            ]
           ]
          },
          "colorway": [
           "#636efa",
           "#EF553B",
           "#00cc96",
           "#ab63fa",
           "#FFA15A",
           "#19d3f3",
           "#FF6692",
           "#B6E880",
           "#FF97FF",
           "#FECB52"
          ],
          "font": {
           "color": "#2a3f5f"
          },
          "geo": {
           "bgcolor": "white",
           "lakecolor": "white",
           "landcolor": "#E5ECF6",
           "showlakes": true,
           "showland": true,
           "subunitcolor": "white"
          },
          "hoverlabel": {
           "align": "left"
          },
          "hovermode": "closest",
          "mapbox": {
           "style": "light"
          },
          "paper_bgcolor": "white",
          "plot_bgcolor": "#E5ECF6",
          "polar": {
           "angularaxis": {
            "gridcolor": "white",
            "linecolor": "white",
            "ticks": ""
           },
           "bgcolor": "#E5ECF6",
           "radialaxis": {
            "gridcolor": "white",
            "linecolor": "white",
            "ticks": ""
           }
          },
          "scene": {
           "xaxis": {
            "backgroundcolor": "#E5ECF6",
            "gridcolor": "white",
            "gridwidth": 2,
            "linecolor": "white",
            "showbackground": true,
            "ticks": "",
            "zerolinecolor": "white"
           },
           "yaxis": {
            "backgroundcolor": "#E5ECF6",
            "gridcolor": "white",
            "gridwidth": 2,
            "linecolor": "white",
            "showbackground": true,
            "ticks": "",
            "zerolinecolor": "white"
           },
           "zaxis": {
            "backgroundcolor": "#E5ECF6",
            "gridcolor": "white",
            "gridwidth": 2,
            "linecolor": "white",
            "showbackground": true,
            "ticks": "",
            "zerolinecolor": "white"
           }
          },
          "shapedefaults": {
           "line": {
            "color": "#2a3f5f"
           }
          },
          "ternary": {
           "aaxis": {
            "gridcolor": "white",
            "linecolor": "white",
            "ticks": ""
           },
           "baxis": {
            "gridcolor": "white",
            "linecolor": "white",
            "ticks": ""
           },
           "bgcolor": "#E5ECF6",
           "caxis": {
            "gridcolor": "white",
            "linecolor": "white",
            "ticks": ""
           }
          },
          "title": {
           "x": 0.05
          },
          "xaxis": {
           "automargin": true,
           "gridcolor": "white",
           "linecolor": "white",
           "ticks": "",
           "title": {
            "standoff": 15
           },
           "zerolinecolor": "white",
           "zerolinewidth": 2
          },
          "yaxis": {
           "automargin": true,
           "gridcolor": "white",
           "linecolor": "white",
           "ticks": "",
           "title": {
            "standoff": 15
           },
           "zerolinecolor": "white",
           "zerolinewidth": 2
          }
         }
        }
       }
      }
     },
     "metadata": {},
     "output_type": "display_data"
    }
   ],
   "source": [
    "world['color'] = world['category'].map(color_map)\n",
    "fig = px.choropleth(world, locations='ISO_A3', color='category', color_discrete_map= color_map,\n",
    "                    hover_data={'NAME': True,'salary_in_usd': True,'category': False}\n",
    ")\n",
    "\n",
    "fig.update_layout(\n",
    "    legend_title_text='catégories',\n",
    "    margin={\"r\":0,\"t\":0,\"l\":0,\"b\":0}\n",
    ")\n",
    "\n",
    "fig.show()"
   ]
  },
  {
   "cell_type": "code",
   "execution_count": 24,
   "metadata": {},
   "outputs": [
    {
     "data": {
      "image/png": "[encoded data removed]",
      "text/plain": [
       "<Figure size 1400x800 with 1 Axes>"
      ]
     },
     "metadata": {},
     "output_type": "display_data"
    }
   ],
   "source": [
    "world = world.dropna(subset='geometry')\n",
    "fig, ax = plt.subplots(figsize=(14, 8))\n",
    "legend_patches = []\n",
    "for cat, color in color_map.items():\n",
    "    subset = world[world['category'] == cat]\n",
    "    subset.plot(ax=ax, color=color, label=cat)\n",
    "    legend_patches.append(Patch(color=color, label=cat))\n",
    "\n",
    "fig.text(0.5, 1.03, 'Salary_in_usd par country', \n",
    "         fontsize=15, va='top', ha='center')\n",
    "\n",
    "plt.legend(handles=legend_patches, bbox_to_anchor=(1.1, 0.45),\n",
    "           loc='lower center', ncol=1, fontsize=12, \n",
    "           title='Expressed in US$',\n",
    "        title_fontsize=12, frameon=False)\n",
    "\n",
    "ax.axis('on')\n",
    "ax.grid(True, alpha=0.5)\n",
    "plt.tight_layout(rect=[0, 0, 1, 1])\n",
    "plt.show()"
   ]
  },
  {
   "cell_type": "code",
   "execution_count": 25,
   "metadata": {},
   "outputs": [
    {
     "data": {
      "application/vnd.plotly.v1+json": {
       "config": {
        "plotlyServerURL": "https://plot.ly"
       },
       "data": [
        {
         "alignmentgroup": "True",
         "hovertemplate": "jobs=%{y}<br>salary_in_usd=%{x}<extra></extra>",
         "legendgroup": "Others",
         "marker": {
          "color": "#636efa",
          "pattern": {
           "shape": ""
          }
         },
         "name": "Others",
         "offsetgroup": "Others",
         "orientation": "h",
         "showlegend": true,
         "textposition": "auto",
         "type": "bar",
         "x": [
          150416.0287769784
         ],
         "xaxis": "x",
         "y": [
          "Others"
         ],
         "yaxis": "y"
        },
        {
         "alignmentgroup": "True",
         "hovertemplate": "jobs=%{y}<br>salary_in_usd=%{x}<extra></extra>",
         "legendgroup": "Scientist",
         "marker": {
          "color": "#EF553B",
          "pattern": {
           "shape": ""
          }
         },
         "name": "Scientist",
         "offsetgroup": "Scientist",
         "orientation": "h",
         "showlegend": true,
         "textposition": "auto",
         "type": "bar",
         "x": [
          145878.58155230596
         ],
         "xaxis": "x",
         "y": [
          "Scientist"
         ],
         "yaxis": "y"
        },
        {
         "alignmentgroup": "True",
         "hovertemplate": "jobs=%{y}<br>salary_in_usd=%{x}<extra></extra>",
         "legendgroup": "Engineer",
         "marker": {
          "color": "#00cc96",
          "pattern": {
           "shape": ""
          }
         },
         "name": "Engineer",
         "offsetgroup": "Engineer",
         "orientation": "h",
         "showlegend": true,
         "textposition": "auto",
         "type": "bar",
         "x": [
          145136.62005649717
         ],
         "xaxis": "x",
         "y": [
          "Engineer"
         ],
         "yaxis": "y"
        },
        {
         "alignmentgroup": "True",
         "hovertemplate": "jobs=%{y}<br>salary_in_usd=%{x}<extra></extra>",
         "legendgroup": "Analyst",
         "marker": {
          "color": "#ab63fa",
          "pattern": {
           "shape": ""
          }
         },
         "name": "Analyst",
         "offsetgroup": "Analyst",
         "orientation": "h",
         "showlegend": true,
         "textposition": "auto",
         "type": "bar",
         "x": [
          107599.12678571428
         ],
         "xaxis": "x",
         "y": [
          "Analyst"
         ],
         "yaxis": "y"
        }
       ],
       "layout": {
        "barmode": "relative",
        "legend": {
         "title": {
          "text": "jobs"
         },
         "tracegroupgap": 0
        },
        "template": {
         "data": {
          "bar": [
           {
            "error_x": {
             "color": "#2a3f5f"
            },
            "error_y": {
             "color": "#2a3f5f"
            },
            "marker": {
             "line": {
              "color": "#E5ECF6",
              "width": 0.5
             },
             "pattern": {
              "fillmode": "overlay",
              "size": 10,
              "solidity": 0.2
             }
            },
            "type": "bar"
           }
          ],
          "barpolar": [
           {
            "marker": {
             "line": {
              "color": "#E5ECF6",
              "width": 0.5
             },
             "pattern": {
              "fillmode": "overlay",
              "size": 10,
              "solidity": 0.2
             }
            },
            "type": "barpolar"
           }
          ],
          "carpet": [
           {
            "aaxis": {
             "endlinecolor": "#2a3f5f",
             "gridcolor": "white",
             "linecolor": "white",
             "minorgridcolor": "white",
             "startlinecolor": "#2a3f5f"
            },
            "baxis": {
             "endlinecolor": "#2a3f5f",
             "gridcolor": "white",
             "linecolor": "white",
             "minorgridcolor": "white",
             "startlinecolor": "#2a3f5f"
            },
            "type": "carpet"
           }
          ],
          "choropleth": [
           {
            "colorbar": {
             "outlinewidth": 0,
             "ticks": ""
            },
            "type": "choropleth"
           }
          ],
          "contour": [
           {
            "colorbar": {
             "outlinewidth": 0,
             "ticks": ""
            },
            "colorscale": [
             [
              0,
              "#0d0887"
             ],
             [
              0.1111111111111111,
              "#46039f"
             ],
             [
              0.2222222222222222,
              "#7201a8"
             ],
             [
              0.3333333333333333,
              "#9c179e"
             ],
             [
              0.4444444444444444,
              "#bd3786"
             ],
             [
              0.5555555555555556,
              "#d8576b"
             ],
             [
              0.6666666666666666,
              "#ed7953"
             ],
             [
              0.7777777777777778,
              "#fb9f3a"
             ],
             [
              0.8888888888888888,
              "#fdca26"
             ],
             [
              1,
              "#f0f921"
             ]
            ],
            "type": "contour"
           }
          ],
          "contourcarpet": [
           {
            "colorbar": {
             "outlinewidth": 0,
             "ticks": ""
            },
            "type": "contourcarpet"
           }
          ],
          "heatmap": [
           {
            "colorbar": {
             "outlinewidth": 0,
             "ticks": ""
            },
            "colorscale": [
             [
              0,
              "#0d0887"
             ],
             [
              0.1111111111111111,
              "#46039f"
             ],
             [
              0.2222222222222222,
              "#7201a8"
             ],
             [
              0.3333333333333333,
              "#9c179e"
             ],
             [
              0.4444444444444444,
              "#bd3786"
             ],
             [
              0.5555555555555556,
              "#d8576b"
             ],
             [
              0.6666666666666666,
              "#ed7953"
             ],
             [
              0.7777777777777778,
              "#fb9f3a"
             ],
             [
              0.8888888888888888,
              "#fdca26"
             ],
             [
              1,
              "#f0f921"
             ]
            ],
            "type": "heatmap"
           }
          ],
          "heatmapgl": [
           {
            "colorbar": {
             "outlinewidth": 0,
             "ticks": ""
            },
            "colorscale": [
             [
              0,
              "#0d0887"
             ],
             [
              0.1111111111111111,
              "#46039f"
             ],
             [
              0.2222222222222222,
              "#7201a8"
             ],
             [
              0.3333333333333333,
              "#9c179e"
             ],
             [
              0.4444444444444444,
              "#bd3786"
             ],
             [
              0.5555555555555556,
              "#d8576b"
             ],
             [
              0.6666666666666666,
              "#ed7953"
             ],
             [
              0.7777777777777778,
              "#fb9f3a"
             ],
             [
              0.8888888888888888,
              "#fdca26"
             ],
             [
              1,
              "#f0f921"
             ]
            ],
            "type": "heatmapgl"
           }
          ],
          "histogram": [
           {
            "marker": {
             "pattern": {
              "fillmode": "overlay",
              "size": 10,
              "solidity": 0.2
             }
            },
            "type": "histogram"
           }
          ],
          "histogram2d": [
           {
            "colorbar": {
             "outlinewidth": 0,
             "ticks": ""
            },
            "colorscale": [
             [
              0,
              "#0d0887"
             ],
             [
              0.1111111111111111,
              "#46039f"
             ],
             [
              0.2222222222222222,
              "#7201a8"
             ],
             [
              0.3333333333333333,
              "#9c179e"
             ],
             [
              0.4444444444444444,
              "#bd3786"
             ],
             [
              0.5555555555555556,
              "#d8576b"
             ],
             [
              0.6666666666666666,
              "#ed7953"
             ],
             [
              0.7777777777777778,
              "#fb9f3a"
             ],
             [
              0.8888888888888888,
              "#fdca26"
             ],
             [
              1,
              "#f0f921"
             ]
            ],
            "type": "histogram2d"
           }
          ],
          "histogram2dcontour": [
           {
            "colorbar": {
             "outlinewidth": 0,
             "ticks": ""
            },
            "colorscale": [
             [
              0,
              "#0d0887"
             ],
             [
              0.1111111111111111,
              "#46039f"
             ],
             [
              0.2222222222222222,
              "#7201a8"
             ],
             [
              0.3333333333333333,
              "#9c179e"
             ],
             [
              0.4444444444444444,
              "#bd3786"
             ],
             [
              0.5555555555555556,
              "#d8576b"
             ],
             [
              0.6666666666666666,
              "#ed7953"
             ],
             [
              0.7777777777777778,
              "#fb9f3a"
             ],
             [
              0.8888888888888888,
              "#fdca26"
             ],
             [
              1,
              "#f0f921"
             ]
            ],
            "type": "histogram2dcontour"
           }
          ],
          "mesh3d": [
           {
            "colorbar": {
             "outlinewidth": 0,
             "ticks": ""
            },
            "type": "mesh3d"
           }
          ],
          "parcoords": [
           {
            "line": {
             "colorbar": {
              "outlinewidth": 0,
              "ticks": ""
             }
            },
            "type": "parcoords"
           }
          ],
          "pie": [
           {
            "automargin": true,
            "type": "pie"
           }
          ],
          "scatter": [
           {
            "fillpattern": {
             "fillmode": "overlay",
             "size": 10,
             "solidity": 0.2
            },
            "type": "scatter"
           }
          ],
          "scatter3d": [
           {
            "line": {
             "colorbar": {
              "outlinewidth": 0,
              "ticks": ""
             }
            },
            "marker": {
             "colorbar": {
              "outlinewidth": 0,
              "ticks": ""
             }
            },
            "type": "scatter3d"
           }
          ],
          "scattercarpet": [
           {
            "marker": {
             "colorbar": {
              "outlinewidth": 0,
              "ticks": ""
             }
            },
            "type": "scattercarpet"
           }
          ],
          "scattergeo": [
           {
            "marker": {
             "colorbar": {
              "outlinewidth": 0,
              "ticks": ""
             }
            },
            "type": "scattergeo"
           }
          ],
          "scattergl": [
           {
            "marker": {
             "colorbar": {
              "outlinewidth": 0,
              "ticks": ""
             }
            },
            "type": "scattergl"
           }
          ],
          "scattermapbox": [
           {
            "marker": {
             "colorbar": {
              "outlinewidth": 0,
              "ticks": ""
             }
            },
            "type": "scattermapbox"
           }
          ],
          "scatterpolar": [
           {
            "marker": {
             "colorbar": {
              "outlinewidth": 0,
              "ticks": ""
             }
            },
            "type": "scatterpolar"
           }
          ],
          "scatterpolargl": [
           {
            "marker": {
             "colorbar": {
              "outlinewidth": 0,
              "ticks": ""
             }
            },
            "type": "scatterpolargl"
           }
          ],
          "scatterternary": [
           {
            "marker": {
             "colorbar": {
              "outlinewidth": 0,
              "ticks": ""
             }
            },
            "type": "scatterternary"
           }
          ],
          "surface": [
           {
            "colorbar": {
             "outlinewidth": 0,
             "ticks": ""
            },
            "colorscale": [
             [
              0,
              "#0d0887"
             ],
             [
              0.1111111111111111,
              "#46039f"
             ],
             [
              0.2222222222222222,
              "#7201a8"
             ],
             [
              0.3333333333333333,
              "#9c179e"
             ],
             [
              0.4444444444444444,
              "#bd3786"
             ],
             [
              0.5555555555555556,
              "#d8576b"
             ],
             [
              0.6666666666666666,
              "#ed7953"
             ],
             [
              0.7777777777777778,
              "#fb9f3a"
             ],
             [
              0.8888888888888888,
              "#fdca26"
             ],
             [
              1,
              "#f0f921"
             ]
            ],
            "type": "surface"
           }
          ],
          "table": [
           {
            "cells": {
             "fill": {
              "color": "#EBF0F8"
             },
             "line": {
              "color": "white"
             }
            },
            "header": {
             "fill": {
              "color": "#C8D4E3"
             },
             "line": {
              "color": "white"
             }
            },
            "type": "table"
           }
          ]
         },
         "layout": {
          "annotationdefaults": {
           "arrowcolor": "#2a3f5f",
           "arrowhead": 0,
           "arrowwidth": 1
          },
          "autotypenumbers": "strict",
          "coloraxis": {
           "colorbar": {
            "outlinewidth": 0,
            "ticks": ""
           }
          },
          "colorscale": {
           "diverging": [
            [
             0,
             "#8e0152"
            ],
            [
             0.1,
             "#c51b7d"
            ],
            [
             0.2,
             "#de77ae"
            ],
            [
             0.3,
             "#f1b6da"
            ],
            [
             0.4,
             "#fde0ef"
            ],
            [
             0.5,
             "#f7f7f7"
            ],
            [
             0.6,
             "#e6f5d0"
            ],
            [
             0.7,
             "#b8e186"
            ],
            [
             0.8,
             "#7fbc41"
            ],
            [
             0.9,
             "#4d9221"
            ],
            [
             1,
             "#276419"
            ]
           ],
           "sequential": [
            [
             0,
             "#0d0887"
            ],
            [
             0.1111111111111111,
             "#46039f"
            ],
            [
             0.2222222222222222,
             "#7201a8"
            ],
            [
             0.3333333333333333,
             "#9c179e"
            ],
            [
             0.4444444444444444,
             "#bd3786"
            ],
            [
             0.5555555555555556,
             "#d8576b"
            ],
            [
             0.6666666666666666,
             "#ed7953"
            ],
            [
             0.7777777777777778,
             "#fb9f3a"
            ],
            [
             0.8888888888888888,
             "#fdca26"
            ],
            [
             1,
             "#f0f921"
            ]
           ],
           "sequentialminus": [
            [
             0,
             "#0d0887"
            ],
            [
             0.1111111111111111,
             "#46039f"
            ],
            [
             0.2222222222222222,
             "#7201a8"
            ],
            [
             0.3333333333333333,
             "#9c179e"
            ],
            [
             0.4444444444444444,
             "#bd3786"
            ],
            [
             0.5555555555555556,
             "#d8576b"
            ],
            [
             0.6666666666666666,
             "#ed7953"
            ],
            [
             0.7777777777777778,
             "#fb9f3a"
            ],
            [
             0.8888888888888888,
             "#fdca26"
            ],
            [
             1,
             "#f0f921"
            ]
           ]
          },
          "colorway": [
           "#636efa",
           "#EF553B",
           "#00cc96",
           "#ab63fa",
           "#FFA15A",
           "#19d3f3",
           "#FF6692",
           "#B6E880",
           "#FF97FF",
           "#FECB52"
          ],
          "font": {
           "color": "#2a3f5f"
          },
          "geo": {
           "bgcolor": "white",
           "lakecolor": "white",
           "landcolor": "#E5ECF6",
           "showlakes": true,
           "showland": true,
           "subunitcolor": "white"
          },
          "hoverlabel": {
           "align": "left"
          },
          "hovermode": "closest",
          "mapbox": {
           "style": "light"
          },
          "paper_bgcolor": "white",
          "plot_bgcolor": "#E5ECF6",
          "polar": {
           "angularaxis": {
            "gridcolor": "white",
            "linecolor": "white",
            "ticks": ""
           },
           "bgcolor": "#E5ECF6",
           "radialaxis": {
            "gridcolor": "white",
            "linecolor": "white",
            "ticks": ""
           }
          },
          "scene": {
           "xaxis": {
            "backgroundcolor": "#E5ECF6",
            "gridcolor": "white",
            "gridwidth": 2,
            "linecolor": "white",
            "showbackground": true,
            "ticks": "",
            "zerolinecolor": "white"
           },
           "yaxis": {
            "backgroundcolor": "#E5ECF6",
            "gridcolor": "white",
            "gridwidth": 2,
            "linecolor": "white",
            "showbackground": true,
            "ticks": "",
            "zerolinecolor": "white"
           },
           "zaxis": {
            "backgroundcolor": "#E5ECF6",
            "gridcolor": "white",
            "gridwidth": 2,
            "linecolor": "white",
            "showbackground": true,
            "ticks": "",
            "zerolinecolor": "white"
           }
          },
          "shapedefaults": {
           "line": {
            "color": "#2a3f5f"
           }
          },
          "ternary": {
           "aaxis": {
            "gridcolor": "white",
            "linecolor": "white",
            "ticks": ""
           },
           "baxis": {
            "gridcolor": "white",
            "linecolor": "white",
            "ticks": ""
           },
           "bgcolor": "#E5ECF6",
           "caxis": {
            "gridcolor": "white",
            "linecolor": "white",
            "ticks": ""
           }
          },
          "title": {
           "x": 0.05
          },
          "xaxis": {
           "automargin": true,
           "gridcolor": "white",
           "linecolor": "white",
           "ticks": "",
           "title": {
            "standoff": 15
           },
           "zerolinecolor": "white",
           "zerolinewidth": 2
          },
          "yaxis": {
           "automargin": true,
           "gridcolor": "white",
           "linecolor": "white",
           "ticks": "",
           "title": {
            "standoff": 15
           },
           "zerolinecolor": "white",
           "zerolinewidth": 2
          }
         }
        },
        "title": {
         "text": "salary_in_usd by jobs"
        },
        "xaxis": {
         "anchor": "y",
         "domain": [
          0,
          1
         ],
         "title": {
          "text": "salary_in_usd"
         }
        },
        "yaxis": {
         "anchor": "x",
         "categoryarray": [
          "Analyst",
          "Engineer",
          "Scientist",
          "Others"
         ],
         "categoryorder": "array",
         "domain": [
          0,
          1
         ],
         "title": {
          "text": "jobs"
         }
        }
       }
      }
     },
     "metadata": {},
     "output_type": "display_data"
    }
   ],
   "source": [
    "job_keywords = {\n",
    "    'Engineer': ['Engineer', 'Developer', 'Architect', 'ETL', 'MLOps', 'Infrastructure'],\n",
    "    'Analyst': ['Analyst', 'BI', 'Data Analytics', 'Financial'],\n",
    "    'Scientist': ['Scientist', 'Research', 'Machine Learning', 'AI', 'Deep Learning'],\n",
    "    'Others': ['Manager', 'Head', 'Lead', 'Consultant', 'Specialist']\n",
    "}\n",
    "def categorize_job(title):\n",
    "    for category, keywords in job_keywords.items():\n",
    "        if any(keyword.lower() in title.lower() for keyword in keywords):\n",
    "            return category\n",
    "    return 'Others'\n",
    "data['jobs'] = data['job_title'].apply(categorize_job)\n",
    "\n",
    "jobs = data.groupby('jobs')[target].mean().reset_index().sort_values(by=target, ascending=False)\n",
    "fig = px.bar(jobs, x= target, y='jobs', color='jobs', title='salary_in_usd by jobs')\n",
    "fig.show()"
   ]
  },
  {
   "cell_type": "code",
   "execution_count": 26,
   "metadata": {},
   "outputs": [
    {
     "data": {
      "application/vnd.plotly.v1+json": {
       "config": {
        "plotlyServerURL": "https://plot.ly"
       },
       "data": [
        {
         "alignmentgroup": "True",
         "hovertemplate": "experience_level=%{x}<br>salary_in_usd=%{y}<extra></extra>",
         "legendgroup": "EN",
         "marker": {
          "color": "#636efa",
          "pattern": {
           "shape": ""
          }
         },
         "name": "EN",
         "offsetgroup": "EN",
         "orientation": "v",
         "showlegend": true,
         "textposition": "auto",
         "type": "bar",
         "x": [
          "EN"
         ],
         "xaxis": "x",
         "y": [
          79880.67768595042
         ],
         "yaxis": "y"
        },
        {
         "alignmentgroup": "True",
         "hovertemplate": "experience_level=%{x}<br>salary_in_usd=%{y}<extra></extra>",
         "legendgroup": "EX",
         "marker": {
          "color": "#EF553B",
          "pattern": {
           "shape": ""
          }
         },
         "name": "EX",
         "offsetgroup": "EX",
         "orientation": "v",
         "showlegend": true,
         "textposition": "auto",
         "type": "bar",
         "x": [
          "EX"
         ],
         "xaxis": "x",
         "y": [
          193029.90526315788
         ],
         "yaxis": "y"
        },
        {
         "alignmentgroup": "True",
         "hovertemplate": "experience_level=%{x}<br>salary_in_usd=%{y}<extra></extra>",
         "legendgroup": "MI",
         "marker": {
          "color": "#00cc96",
          "pattern": {
           "shape": ""
          }
         },
         "name": "MI",
         "offsetgroup": "MI",
         "orientation": "v",
         "showlegend": true,
         "textposition": "auto",
         "type": "bar",
         "x": [
          "MI"
         ],
         "xaxis": "x",
         "y": [
          106109.37539432176
         ],
         "yaxis": "y"
        },
        {
         "alignmentgroup": "True",
         "hovertemplate": "experience_level=%{x}<br>salary_in_usd=%{y}<extra></extra>",
         "legendgroup": "SE",
         "marker": {
          "color": "#ab63fa",
          "pattern": {
           "shape": ""
          }
         },
         "name": "SE",
         "offsetgroup": "SE",
         "orientation": "v",
         "showlegend": true,
         "textposition": "auto",
         "type": "bar",
         "x": [
          "SE"
         ],
         "xaxis": "x",
         "y": [
          153182.75602557795
         ],
         "yaxis": "y"
        }
       ],
       "layout": {
        "barmode": "relative",
        "legend": {
         "title": {
          "text": "experience_level"
         },
         "tracegroupgap": 0
        },
        "template": {
         "data": {
          "bar": [
           {
            "error_x": {
             "color": "#2a3f5f"
            },
            "error_y": {
             "color": "#2a3f5f"
            },
            "marker": {
             "line": {
              "color": "#E5ECF6",
              "width": 0.5
             },
             "pattern": {
              "fillmode": "overlay",
              "size": 10,
              "solidity": 0.2
             }
            },
            "type": "bar"
           }
          ],
          "barpolar": [
           {
            "marker": {
             "line": {
              "color": "#E5ECF6",
              "width": 0.5
             },
             "pattern": {
              "fillmode": "overlay",
              "size": 10,
              "solidity": 0.2
             }
            },
            "type": "barpolar"
           }
          ],
          "carpet": [
           {
            "aaxis": {
             "endlinecolor": "#2a3f5f",
             "gridcolor": "white",
             "linecolor": "white",
             "minorgridcolor": "white",
             "startlinecolor": "#2a3f5f"
            },
            "baxis": {
             "endlinecolor": "#2a3f5f",
             "gridcolor": "white",
             "linecolor": "white",
             "minorgridcolor": "white",
             "startlinecolor": "#2a3f5f"
            },
            "type": "carpet"
           }
          ],
          "choropleth": [
           {
            "colorbar": {
             "outlinewidth": 0,
             "ticks": ""
            },
            "type": "choropleth"
           }
          ],
          "contour": [
           {
            "colorbar": {
             "outlinewidth": 0,
             "ticks": ""
            },
            "colorscale": [
             [
              0,
              "#0d0887"
             ],
             [
              0.1111111111111111,
              "#46039f"
             ],
             [
              0.2222222222222222,
              "#7201a8"
             ],
             [
              0.3333333333333333,
              "#9c179e"
             ],
             [
              0.4444444444444444,
              "#bd3786"
             ],
             [
              0.5555555555555556,
              "#d8576b"
             ],
             [
              0.6666666666666666,
              "#ed7953"
             ],
             [
              0.7777777777777778,
              "#fb9f3a"
             ],
             [
              0.8888888888888888,
              "#fdca26"
             ],
             [
              1,
              "#f0f921"
             ]
            ],
            "type": "contour"
           }
          ],
          "contourcarpet": [
           {
            "colorbar": {
             "outlinewidth": 0,
             "ticks": ""
            },
            "type": "contourcarpet"
           }
          ],
          "heatmap": [
           {
            "colorbar": {
             "outlinewidth": 0,
             "ticks": ""
            },
            "colorscale": [
             [
              0,
              "#0d0887"
             ],
             [
              0.1111111111111111,
              "#46039f"
             ],
             [
              0.2222222222222222,
              "#7201a8"
             ],
             [
              0.3333333333333333,
              "#9c179e"
             ],
             [
              0.4444444444444444,
              "#bd3786"
             ],
             [
              0.5555555555555556,
              "#d8576b"
             ],
             [
              0.6666666666666666,
              "#ed7953"
             ],
             [
              0.7777777777777778,
              "#fb9f3a"
             ],
             [
              0.8888888888888888,
              "#fdca26"
             ],
             [
              1,
              "#f0f921"
             ]
            ],
            "type": "heatmap"
           }
          ],
          "heatmapgl": [
           {
            "colorbar": {
             "outlinewidth": 0,
             "ticks": ""
            },
            "colorscale": [
             [
              0,
              "#0d0887"
             ],
             [
              0.1111111111111111,
              "#46039f"
             ],
             [
              0.2222222222222222,
              "#7201a8"
             ],
             [
              0.3333333333333333,
              "#9c179e"
             ],
             [
              0.4444444444444444,
              "#bd3786"
             ],
             [
              0.5555555555555556,
              "#d8576b"
             ],
             [
              0.6666666666666666,
              "#ed7953"
             ],
             [
              0.7777777777777778,
              "#fb9f3a"
             ],
             [
              0.8888888888888888,
              "#fdca26"
             ],
             [
              1,
              "#f0f921"
             ]
            ],
            "type": "heatmapgl"
           }
          ],
          "histogram": [
           {
            "marker": {
             "pattern": {
              "fillmode": "overlay",
              "size": 10,
              "solidity": 0.2
             }
            },
            "type": "histogram"
           }
          ],
          "histogram2d": [
           {
            "colorbar": {
             "outlinewidth": 0,
             "ticks": ""
            },
            "colorscale": [
             [
              0,
              "#0d0887"
             ],
             [
              0.1111111111111111,
              "#46039f"
             ],
             [
              0.2222222222222222,
              "#7201a8"
             ],
             [
              0.3333333333333333,
              "#9c179e"
             ],
             [
              0.4444444444444444,
              "#bd3786"
             ],
             [
              0.5555555555555556,
              "#d8576b"
             ],
             [
              0.6666666666666666,
              "#ed7953"
             ],
             [
              0.7777777777777778,
              "#fb9f3a"
             ],
             [
              0.8888888888888888,
              "#fdca26"
             ],
             [
              1,
              "#f0f921"
             ]
            ],
            "type": "histogram2d"
           }
          ],
          "histogram2dcontour": [
           {
            "colorbar": {
             "outlinewidth": 0,
             "ticks": ""
            },
            "colorscale": [
             [
              0,
              "#0d0887"
             ],
             [
              0.1111111111111111,
              "#46039f"
             ],
             [
              0.2222222222222222,
              "#7201a8"
             ],
             [
              0.3333333333333333,
              "#9c179e"
             ],
             [
              0.4444444444444444,
              "#bd3786"
             ],
             [
              0.5555555555555556,
              "#d8576b"
             ],
             [
              0.6666666666666666,
              "#ed7953"
             ],
             [
              0.7777777777777778,
              "#fb9f3a"
             ],
             [
              0.8888888888888888,
              "#fdca26"
             ],
             [
              1,
              "#f0f921"
             ]
            ],
            "type": "histogram2dcontour"
           }
          ],
          "mesh3d": [
           {
            "colorbar": {
             "outlinewidth": 0,
             "ticks": ""
            },
            "type": "mesh3d"
           }
          ],
          "parcoords": [
           {
            "line": {
             "colorbar": {
              "outlinewidth": 0,
              "ticks": ""
             }
            },
            "type": "parcoords"
           }
          ],
          "pie": [
           {
            "automargin": true,
            "type": "pie"
           }
          ],
          "scatter": [
           {
            "fillpattern": {
             "fillmode": "overlay",
             "size": 10,
             "solidity": 0.2
            },
            "type": "scatter"
           }
          ],
          "scatter3d": [
           {
            "line": {
             "colorbar": {
              "outlinewidth": 0,
              "ticks": ""
             }
            },
            "marker": {
             "colorbar": {
              "outlinewidth": 0,
              "ticks": ""
             }
            },
            "type": "scatter3d"
           }
          ],
          "scattercarpet": [
           {
            "marker": {
             "colorbar": {
              "outlinewidth": 0,
              "ticks": ""
             }
            },
            "type": "scattercarpet"
           }
          ],
          "scattergeo": [
           {
            "marker": {
             "colorbar": {
              "outlinewidth": 0,
              "ticks": ""
             }
            },
            "type": "scattergeo"
           }
          ],
          "scattergl": [
           {
            "marker": {
             "colorbar": {
              "outlinewidth": 0,
              "ticks": ""
             }
            },
            "type": "scattergl"
           }
          ],
          "scattermapbox": [
           {
            "marker": {
             "colorbar": {
              "outlinewidth": 0,
              "ticks": ""
             }
            },
            "type": "scattermapbox"
           }
          ],
          "scatterpolar": [
           {
            "marker": {
             "colorbar": {
              "outlinewidth": 0,
              "ticks": ""
             }
            },
            "type": "scatterpolar"
           }
          ],
          "scatterpolargl": [
           {
            "marker": {
             "colorbar": {
              "outlinewidth": 0,
              "ticks": ""
             }
            },
            "type": "scatterpolargl"
           }
          ],
          "scatterternary": [
           {
            "marker": {
             "colorbar": {
              "outlinewidth": 0,
              "ticks": ""
             }
            },
            "type": "scatterternary"
           }
          ],
          "surface": [
           {
            "colorbar": {
             "outlinewidth": 0,
             "ticks": ""
            },
            "colorscale": [
             [
              0,
              "#0d0887"
             ],
             [
              0.1111111111111111,
              "#46039f"
             ],
             [
              0.2222222222222222,
              "#7201a8"
             ],
             [
              0.3333333333333333,
              "#9c179e"
             ],
             [
              0.4444444444444444,
              "#bd3786"
             ],
             [
              0.5555555555555556,
              "#d8576b"
             ],
             [
              0.6666666666666666,
              "#ed7953"
             ],
             [
              0.7777777777777778,
              "#fb9f3a"
             ],
             [
              0.8888888888888888,
              "#fdca26"
             ],
             [
              1,
              "#f0f921"
             ]
            ],
            "type": "surface"
           }
          ],
          "table": [
           {
            "cells": {
             "fill": {
              "color": "#EBF0F8"
             },
             "line": {
              "color": "white"
             }
            },
            "header": {
             "fill": {
              "color": "#C8D4E3"
             },
             "line": {
              "color": "white"
             }
            },
            "type": "table"
           }
          ]
         },
         "layout": {
          "annotationdefaults": {
           "arrowcolor": "#2a3f5f",
           "arrowhead": 0,
           "arrowwidth": 1
          },
          "autotypenumbers": "strict",
          "coloraxis": {
           "colorbar": {
            "outlinewidth": 0,
            "ticks": ""
           }
          },
          "colorscale": {
           "diverging": [
            [
             0,
             "#8e0152"
            ],
            [
             0.1,
             "#c51b7d"
            ],
            [
             0.2,
             "#de77ae"
            ],
            [
             0.3,
             "#f1b6da"
            ],
            [
             0.4,
             "#fde0ef"
            ],
            [
             0.5,
             "#f7f7f7"
            ],
            [
             0.6,
             "#e6f5d0"
            ],
            [
             0.7,
             "#b8e186"
            ],
            [
             0.8,
             "#7fbc41"
            ],
            [
             0.9,
             "#4d9221"
            ],
            [
             1,
             "#276419"
            ]
           ],
           "sequential": [
            [
             0,
             "#0d0887"
            ],
            [
             0.1111111111111111,
             "#46039f"
            ],
            [
             0.2222222222222222,
             "#7201a8"
            ],
            [
             0.3333333333333333,
             "#9c179e"
            ],
            [
             0.4444444444444444,
             "#bd3786"
            ],
            [
             0.5555555555555556,
             "#d8576b"
            ],
            [
             0.6666666666666666,
             "#ed7953"
            ],
            [
             0.7777777777777778,
             "#fb9f3a"
            ],
            [
             0.8888888888888888,
             "#fdca26"
            ],
            [
             1,
             "#f0f921"
            ]
           ],
           "sequentialminus": [
            [
             0,
             "#0d0887"
            ],
            [
             0.1111111111111111,
             "#46039f"
            ],
            [
             0.2222222222222222,
             "#7201a8"
            ],
            [
             0.3333333333333333,
             "#9c179e"
            ],
            [
             0.4444444444444444,
             "#bd3786"
            ],
            [
             0.5555555555555556,
             "#d8576b"
            ],
            [
             0.6666666666666666,
             "#ed7953"
            ],
            [
             0.7777777777777778,
             "#fb9f3a"
            ],
            [
             0.8888888888888888,
             "#fdca26"
            ],
            [
             1,
             "#f0f921"
            ]
           ]
          },
          "colorway": [
           "#636efa",
           "#EF553B",
           "#00cc96",
           "#ab63fa",
           "#FFA15A",
           "#19d3f3",
           "#FF6692",
           "#B6E880",
           "#FF97FF",
           "#FECB52"
          ],
          "font": {
           "color": "#2a3f5f"
          },
          "geo": {
           "bgcolor": "white",
           "lakecolor": "white",
           "landcolor": "#E5ECF6",
           "showlakes": true,
           "showland": true,
           "subunitcolor": "white"
          },
          "hoverlabel": {
           "align": "left"
          },
          "hovermode": "closest",
          "mapbox": {
           "style": "light"
          },
          "paper_bgcolor": "white",
          "plot_bgcolor": "#E5ECF6",
          "polar": {
           "angularaxis": {
            "gridcolor": "white",
            "linecolor": "white",
            "ticks": ""
           },
           "bgcolor": "#E5ECF6",
           "radialaxis": {
            "gridcolor": "white",
            "linecolor": "white",
            "ticks": ""
           }
          },
          "scene": {
           "xaxis": {
            "backgroundcolor": "#E5ECF6",
            "gridcolor": "white",
            "gridwidth": 2,
            "linecolor": "white",
            "showbackground": true,
            "ticks": "",
            "zerolinecolor": "white"
           },
           "yaxis": {
            "backgroundcolor": "#E5ECF6",
            "gridcolor": "white",
            "gridwidth": 2,
            "linecolor": "white",
            "showbackground": true,
            "ticks": "",
            "zerolinecolor": "white"
           },
           "zaxis": {
            "backgroundcolor": "#E5ECF6",
            "gridcolor": "white",
            "gridwidth": 2,
            "linecolor": "white",
            "showbackground": true,
            "ticks": "",
            "zerolinecolor": "white"
           }
          },
          "shapedefaults": {
           "line": {
            "color": "#2a3f5f"
           }
          },
          "ternary": {
           "aaxis": {
            "gridcolor": "white",
            "linecolor": "white",
            "ticks": ""
           },
           "baxis": {
            "gridcolor": "white",
            "linecolor": "white",
            "ticks": ""
           },
           "bgcolor": "#E5ECF6",
           "caxis": {
            "gridcolor": "white",
            "linecolor": "white",
            "ticks": ""
           }
          },
          "title": {
           "x": 0.05
          },
          "xaxis": {
           "automargin": true,
           "gridcolor": "white",
           "linecolor": "white",
           "ticks": "",
           "title": {
            "standoff": 15
           },
           "zerolinecolor": "white",
           "zerolinewidth": 2
          },
          "yaxis": {
           "automargin": true,
           "gridcolor": "white",
           "linecolor": "white",
           "ticks": "",
           "title": {
            "standoff": 15
           },
           "zerolinecolor": "white",
           "zerolinewidth": 2
          }
         }
        },
        "title": {
         "text": "salary_in_usd by experience_level"
        },
        "xaxis": {
         "anchor": "y",
         "categoryarray": [
          "EN",
          "EX",
          "MI",
          "SE"
         ],
         "categoryorder": "array",
         "domain": [
          0,
          1
         ],
         "title": {
          "text": "experience_level"
         }
        },
        "yaxis": {
         "anchor": "x",
         "domain": [
          0,
          1
         ],
         "title": {
          "text": "salary_in_usd"
         }
        }
       }
      }
     },
     "metadata": {},
     "output_type": "display_data"
    }
   ],
   "source": [
    "exp = data.groupby('experience_level')[target].mean().reset_index()\n",
    "fig = px.bar(exp, x= 'experience_level', y=target, color='experience_level', title='salary_in_usd by experience_level')\n",
    "fig.show()"
   ]
  },
  {
   "cell_type": "markdown",
   "metadata": {},
   "source": [
    "## Resume"
   ]
  },
  {
   "cell_type": "markdown",
   "metadata": {},
   "source": [
    "Au final :\n",
    "- No missing data\n",
    "- No duplicate data\n",
    "- No outliers\n",
    "\n",
    "Donc il faut :\n",
    "- Delete duplicates\n",
    "- Cat variable encoding (target encoding et get_dummies)\n",
    "- Data scaling"
   ]
  }
 ],
 "metadata": {
  "kernelspec": {
   "display_name": "mypyvenv",
   "language": "python",
   "name": "python3"
  },
  "language_info": {
   "codemirror_mode": {
    "name": "ipython",
    "version": 3
   },
   "file_extension": ".py",
   "mimetype": "text/x-python",
   "name": "python",
   "nbconvert_exporter": "python",
   "pygments_lexer": "ipython3",
   "version": "3.11.9"
  }
 },
 "nbformat": 4,
 "nbformat_minor": 2
}
